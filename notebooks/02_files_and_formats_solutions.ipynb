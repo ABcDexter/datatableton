{
 "cells": [
  {
   "cell_type": "markdown",
   "id": "documented-bottom",
   "metadata": {
    "_cell_guid": "b1076dfc-b9ad-4769-8c92-a6c4dae69d19",
    "_uuid": "8f2839f25d086af736a60e9eeb907d3b93b6e0e5",
    "papermill": {
     "duration": 0.023659,
     "end_time": "2021-07-07T05:56:41.154217",
     "exception": false,
     "start_time": "2021-07-07T05:56:41.130558",
     "status": "completed"
    },
    "tags": []
   },
   "source": [
    "<center>\n",
    "    <h1>DatatableTon</h1>\n",
    "    💯 datatable exercises\n",
    "    <br>\n",
    "    <br>\n",
    "    <a href='https://github.com/vopani/datatableton/blob/master/LICENSE'>\n",
    "        <img src='https://img.shields.io/badge/license-Apache%202.0-blue.svg?logo=apache'>\n",
    "    </a>\n",
    "    <a href='https://github.com/vopani/datatableton'>\n",
    "        <img src='https://img.shields.io/github/stars/vopani/datatableton?color=yellowgreen&logo=github'>\n",
    "    </a>\n",
    "    <a href='https://twitter.com/vopani'>\n",
    "        <img src='https://img.shields.io/twitter/follow/vopani'>\n",
    "    </a>\n",
    "</center>"
   ]
  },
  {
   "cell_type": "markdown",
   "id": "prepared-humor",
   "metadata": {
    "papermill": {
     "duration": 0.022046,
     "end_time": "2021-07-07T05:56:41.198896",
     "exception": false,
     "start_time": "2021-07-07T05:56:41.176850",
     "status": "completed"
    },
    "tags": []
   },
   "source": [
    "<center>\n",
    "    This is Set 2: Files and Formats (Exercises 11-20) of <b>DatatableTon</b>: <i>💯 datatable exercises</i>\n",
    "    <br>\n",
    "    You can find all the exercises and solutions on <a href=\"https://github.com/vopani/datatableton#exercises-\">GitHub</a>\n",
    "</center>"
   ]
  },
  {
   "cell_type": "markdown",
   "id": "curious-situation",
   "metadata": {
    "papermill": {
     "duration": 0.022162,
     "end_time": "2021-07-07T05:56:41.243547",
     "exception": false,
     "start_time": "2021-07-07T05:56:41.221385",
     "status": "completed"
    },
    "tags": []
   },
   "source": [
    "**Pre-requisites**"
   ]
  },
  {
   "cell_type": "code",
   "execution_count": 1,
   "id": "dominican-humanitarian",
   "metadata": {
    "_kg_hide-output": true,
    "execution": {
     "iopub.execute_input": "2021-07-07T05:56:41.294143Z",
     "iopub.status.busy": "2021-07-07T05:56:41.292356Z",
     "iopub.status.idle": "2021-07-07T05:57:23.623166Z",
     "shell.execute_reply": "2021-07-07T05:57:23.622399Z",
     "shell.execute_reply.started": "2021-07-07T05:45:14.989410Z"
    },
    "papermill": {
     "duration": 42.357435,
     "end_time": "2021-07-07T05:57:23.623321",
     "exception": false,
     "start_time": "2021-07-07T05:56:41.265886",
     "status": "completed"
    },
    "tags": []
   },
   "outputs": [
    {
     "name": "stdout",
     "output_type": "stream",
     "text": [
      "Requirement already satisfied: datatable in /opt/conda/lib/python3.7/site-packages (0.11.1)\r\n",
      "Collecting datatable\r\n",
      "  Downloading datatable-1.0.0-cp37-cp37m-manylinux_2_12_x86_64.whl (96.9 MB)\r\n",
      "\u001b[K     |████████████████████████████████| 96.9 MB 145 kB/s \r\n",
      "\u001b[?25hInstalling collected packages: datatable\r\n",
      "  Attempting uninstall: datatable\r\n",
      "    Found existing installation: datatable 0.11.1\r\n",
      "    Uninstalling datatable-0.11.1:\r\n",
      "      Successfully uninstalled datatable-0.11.1\r\n",
      "Successfully installed datatable-1.0.0\r\n",
      "Requirement already satisfied: numpy in /opt/conda/lib/python3.7/site-packages (1.19.5)\r\n",
      "Requirement already satisfied: pandas in /opt/conda/lib/python3.7/site-packages (1.2.3)\r\n",
      "Requirement already satisfied: python-dateutil>=2.7.3 in /opt/conda/lib/python3.7/site-packages (from pandas) (2.8.1)\r\n",
      "Requirement already satisfied: pytz>=2017.3 in /opt/conda/lib/python3.7/site-packages (from pandas) (2021.1)\r\n",
      "Requirement already satisfied: numpy>=1.16.5 in /opt/conda/lib/python3.7/site-packages (from pandas) (1.19.5)\r\n",
      "Requirement already satisfied: six>=1.5 in /opt/conda/lib/python3.7/site-packages (from python-dateutil>=2.7.3->pandas) (1.15.0)\r\n",
      "Requirement already satisfied: pyarrow in /opt/conda/lib/python3.7/site-packages (3.0.0)\r\n",
      "Requirement already satisfied: numpy>=1.16.6 in /opt/conda/lib/python3.7/site-packages (from pyarrow) (1.19.5)\r\n",
      "--2021-07-07 05:57:22--  https://raw.githubusercontent.com/vopani/datatableton/main/data/sample.zip\r\n",
      "Resolving raw.githubusercontent.com (raw.githubusercontent.com)... 185.199.108.133, 185.199.111.133, 185.199.110.133, ...\r\n",
      "Connecting to raw.githubusercontent.com (raw.githubusercontent.com)|185.199.108.133|:443... connected.\r\n",
      "HTTP request sent, awaiting response... 200 OK\r\n",
      "Length: 1911 (1.9K) [application/zip]\r\n",
      "Saving to: ‘sample.zip’\r\n",
      "\r\n",
      "sample.zip          100%[===================>]   1.87K  --.-KB/s    in 0s      \r\n",
      "\r\n",
      "2021-07-07 05:57:23 (30.4 MB/s) - ‘sample.zip’ saved [1911/1911]\r\n",
      "\r\n"
     ]
    }
   ],
   "source": [
    "!pip install datatable --upgrade\n",
    "!pip install numpy\n",
    "!pip install pandas\n",
    "!pip install pyarrow\n",
    "!wget https://raw.githubusercontent.com/vopani/datatableton/main/data/sample.zip"
   ]
  },
  {
   "cell_type": "code",
   "execution_count": 2,
   "id": "reported-qualification",
   "metadata": {
    "execution": {
     "iopub.execute_input": "2021-07-07T05:57:23.847331Z",
     "iopub.status.busy": "2021-07-07T05:57:23.846680Z",
     "iopub.status.idle": "2021-07-07T05:57:23.907844Z",
     "shell.execute_reply": "2021-07-07T05:57:23.908464Z",
     "shell.execute_reply.started": "2021-07-07T05:46:46.878823Z"
    },
    "papermill": {
     "duration": 0.179715,
     "end_time": "2021-07-07T05:57:23.908639",
     "exception": false,
     "start_time": "2021-07-07T05:57:23.728924",
     "status": "completed"
    },
    "tags": []
   },
   "outputs": [
    {
     "data": {
      "text/html": [
       "<style type='text/css'>\n",
       ".datatable table.frame { margin-bottom: 0; }\n",
       ".datatable table.frame thead { border-bottom: none; }\n",
       ".datatable table.frame tr.coltypes td {  color: #FFFFFF;  line-height: 6px;  padding: 0 0.5em;}\n",
       ".datatable .bool    { background: #DDDD99; }\n",
       ".datatable .object  { background: #565656; }\n",
       ".datatable .int     { background: #5D9E5D; }\n",
       ".datatable .float   { background: #4040CC; }\n",
       ".datatable .str     { background: #CC4040; }\n",
       ".datatable .time    { background: #40CC40; }\n",
       ".datatable .row_index {  background: var(--jp-border-color3);  border-right: 1px solid var(--jp-border-color0);  color: var(--jp-ui-font-color3);  font-size: 9px;}\n",
       ".datatable .frame tbody td { text-align: left; }\n",
       ".datatable .frame tr.coltypes .row_index {  background: var(--jp-border-color0);}\n",
       ".datatable th:nth-child(2) { padding-left: 12px; }\n",
       ".datatable .hellipsis {  color: var(--jp-cell-editor-border-color);}\n",
       ".datatable .vellipsis {  background: var(--jp-layout-color0);  color: var(--jp-cell-editor-border-color);}\n",
       ".datatable .na {  color: var(--jp-cell-editor-border-color);  font-size: 80%;}\n",
       ".datatable .sp {  opacity: 0.25;}\n",
       ".datatable .footer { font-size: 9px; }\n",
       ".datatable .frame_dimensions {  background: var(--jp-border-color3);  border-top: 1px solid var(--jp-border-color0);  color: var(--jp-ui-font-color3);  display: inline-block;  opacity: 0.6;  padding: 1px 10px 1px 5px;}\n",
       "</style>\n"
      ],
      "text/plain": [
       "<IPython.core.display.HTML object>"
      ]
     },
     "metadata": {},
     "output_type": "display_data"
    }
   ],
   "source": [
    "import datatable as dt\n",
    "import numpy as np\n",
    "import pandas as pd\n",
    "import pyarrow as pa\n",
    "\n",
    "dtable = dt.Frame(f1=range(10), f2=['Y', 'O', 'U', 'C', 'A', 'N', 'D', 'O', 'I', 'T'])\n",
    "dframe = pd.DataFrame({'v1': range(11), 'v2': ['N', 'E', 'V', 'E', 'R', 'G', 'I', 'V', 'E', 'U', 'P']})\n",
    "nparray = np.array([[0, 'C'], [1, 'O'], [2, 'D'], [3, 'E']])\n",
    "patable = pa.Table.from_pandas(dframe)\n",
    "dlist = [range(4), ['D', 'A', 'T', 'A']]\n",
    "ddict = {'x': range(6), 'y': ['P', 'Y', 'T', 'H', 'O', 'N']}\n",
    "dtup = [(0, 'L'), (1, 'E'), (2, 'A'), (3, 'R'), (4, 'N')]"
   ]
  },
  {
   "cell_type": "markdown",
   "id": "quality-ranch",
   "metadata": {
    "papermill": {
     "duration": 0.102358,
     "end_time": "2021-07-07T05:57:24.113518",
     "exception": false,
     "start_time": "2021-07-07T05:57:24.011160",
     "status": "completed"
    },
    "tags": []
   },
   "source": [
    "**Exercise 11: Write `dtable` to a csv named `data.csv`, to a compressed gz csv named `data.gz`, to a jay named `data.jay`**"
   ]
  },
  {
   "cell_type": "code",
   "execution_count": 3,
   "id": "billion-naples",
   "metadata": {
    "execution": {
     "iopub.execute_input": "2021-07-07T05:57:24.330919Z",
     "iopub.status.busy": "2021-07-07T05:57:24.330388Z",
     "iopub.status.idle": "2021-07-07T05:57:24.333216Z",
     "shell.execute_reply": "2021-07-07T05:57:24.333572Z",
     "shell.execute_reply.started": "2021-07-07T05:22:18.851028Z"
    },
    "papermill": {
     "duration": 0.114317,
     "end_time": "2021-07-07T05:57:24.333703",
     "exception": false,
     "start_time": "2021-07-07T05:57:24.219386",
     "status": "completed"
    },
    "tags": []
   },
   "outputs": [],
   "source": [
    "dtable.to_csv('data.csv')\n",
    "dtable.to_csv('data.gz', compression='gzip')\n",
    "dtable.to_jay('data.jay')"
   ]
  },
  {
   "cell_type": "markdown",
   "id": "coordinate-panic",
   "metadata": {
    "papermill": {
     "duration": 0.105475,
     "end_time": "2021-07-07T05:57:24.543304",
     "exception": false,
     "start_time": "2021-07-07T05:57:24.437829",
     "status": "completed"
    },
    "tags": []
   },
   "source": [
    "**Exercise 12: Read `data.csv` and assign it to `data_csv`, read `data.gz` and assign it to `data_gz`, read `data.jay` and assign it to `data_jay`**"
   ]
  },
  {
   "cell_type": "code",
   "execution_count": 4,
   "id": "unlikely-trainer",
   "metadata": {
    "execution": {
     "iopub.execute_input": "2021-07-07T05:57:24.760265Z",
     "iopub.status.busy": "2021-07-07T05:57:24.759271Z",
     "iopub.status.idle": "2021-07-07T05:57:24.767844Z",
     "shell.execute_reply": "2021-07-07T05:57:24.767350Z",
     "shell.execute_reply.started": "2021-07-07T05:22:42.781489Z"
    },
    "papermill": {
     "duration": 0.11745,
     "end_time": "2021-07-07T05:57:24.767985",
     "exception": false,
     "start_time": "2021-07-07T05:57:24.650535",
     "status": "completed"
    },
    "tags": []
   },
   "outputs": [
    {
     "data": {
      "text/html": [
       "<div class='datatable'>\n",
       "  <table class='frame'>\n",
       "  <thead>\n",
       "    <tr class='colnames'><td class='row_index'></td><th>f1</th><th>f2</th></tr>\n",
       "    <tr class='coltypes'><td class='row_index'></td><td class='int' title='int32'>&#x25AA;&#x25AA;&#x25AA;&#x25AA;</td><td class='str' title='str32'>&#x25AA;&#x25AA;&#x25AA;&#x25AA;</td></tr>\n",
       "  </thead>\n",
       "  <tbody>\n",
       "    <tr><td class='row_index'>0</td><td>0</td><td>Y</td></tr>\n",
       "    <tr><td class='row_index'>1</td><td>1</td><td>O</td></tr>\n",
       "    <tr><td class='row_index'>2</td><td>2</td><td>U</td></tr>\n",
       "    <tr><td class='row_index'>3</td><td>3</td><td>C</td></tr>\n",
       "    <tr><td class='row_index'>4</td><td>4</td><td>A</td></tr>\n",
       "    <tr><td class='row_index'>5</td><td>5</td><td>N</td></tr>\n",
       "    <tr><td class='row_index'>6</td><td>6</td><td>D</td></tr>\n",
       "    <tr><td class='row_index'>7</td><td>7</td><td>O</td></tr>\n",
       "    <tr><td class='row_index'>8</td><td>8</td><td>I</td></tr>\n",
       "    <tr><td class='row_index'>9</td><td>9</td><td>T</td></tr>\n",
       "  </tbody>\n",
       "  </table>\n",
       "  <div class='footer'>\n",
       "    <div class='frame_dimensions'>10 rows &times; 2 columns</div>\n",
       "  </div>\n",
       "</div>\n"
      ],
      "text/plain": [
       "<Frame#7ff38621f8d0 10x2>"
      ]
     },
     "execution_count": 4,
     "metadata": {},
     "output_type": "execute_result"
    }
   ],
   "source": [
    "data_csv = dt.fread('data.csv')\n",
    "data_csv"
   ]
  },
  {
   "cell_type": "code",
   "execution_count": 5,
   "id": "professional-replica",
   "metadata": {
    "execution": {
     "iopub.execute_input": "2021-07-07T05:57:24.989563Z",
     "iopub.status.busy": "2021-07-07T05:57:24.988686Z",
     "iopub.status.idle": "2021-07-07T05:57:24.992347Z",
     "shell.execute_reply": "2021-07-07T05:57:24.992790Z",
     "shell.execute_reply.started": "2021-07-07T05:22:49.213597Z"
    },
    "papermill": {
     "duration": 0.117205,
     "end_time": "2021-07-07T05:57:24.992960",
     "exception": false,
     "start_time": "2021-07-07T05:57:24.875755",
     "status": "completed"
    },
    "tags": []
   },
   "outputs": [
    {
     "data": {
      "text/html": [
       "<div class='datatable'>\n",
       "  <table class='frame'>\n",
       "  <thead>\n",
       "    <tr class='colnames'><td class='row_index'></td><th>f1</th><th>f2</th></tr>\n",
       "    <tr class='coltypes'><td class='row_index'></td><td class='int' title='int32'>&#x25AA;&#x25AA;&#x25AA;&#x25AA;</td><td class='str' title='str32'>&#x25AA;&#x25AA;&#x25AA;&#x25AA;</td></tr>\n",
       "  </thead>\n",
       "  <tbody>\n",
       "    <tr><td class='row_index'>0</td><td>0</td><td>Y</td></tr>\n",
       "    <tr><td class='row_index'>1</td><td>1</td><td>O</td></tr>\n",
       "    <tr><td class='row_index'>2</td><td>2</td><td>U</td></tr>\n",
       "    <tr><td class='row_index'>3</td><td>3</td><td>C</td></tr>\n",
       "    <tr><td class='row_index'>4</td><td>4</td><td>A</td></tr>\n",
       "    <tr><td class='row_index'>5</td><td>5</td><td>N</td></tr>\n",
       "    <tr><td class='row_index'>6</td><td>6</td><td>D</td></tr>\n",
       "    <tr><td class='row_index'>7</td><td>7</td><td>O</td></tr>\n",
       "    <tr><td class='row_index'>8</td><td>8</td><td>I</td></tr>\n",
       "    <tr><td class='row_index'>9</td><td>9</td><td>T</td></tr>\n",
       "  </tbody>\n",
       "  </table>\n",
       "  <div class='footer'>\n",
       "    <div class='frame_dimensions'>10 rows &times; 2 columns</div>\n",
       "  </div>\n",
       "</div>\n"
      ],
      "text/plain": [
       "<Frame#7ff386184900 10x2>"
      ]
     },
     "execution_count": 5,
     "metadata": {},
     "output_type": "execute_result"
    }
   ],
   "source": [
    "data_gz = dt.fread('data.gz')\n",
    "data_gz"
   ]
  },
  {
   "cell_type": "code",
   "execution_count": 6,
   "id": "pleased-fitting",
   "metadata": {
    "execution": {
     "iopub.execute_input": "2021-07-07T05:57:25.217029Z",
     "iopub.status.busy": "2021-07-07T05:57:25.216179Z",
     "iopub.status.idle": "2021-07-07T05:57:25.220404Z",
     "shell.execute_reply": "2021-07-07T05:57:25.219768Z",
     "shell.execute_reply.started": "2021-07-07T05:22:57.635942Z"
    },
    "papermill": {
     "duration": 0.117457,
     "end_time": "2021-07-07T05:57:25.220523",
     "exception": false,
     "start_time": "2021-07-07T05:57:25.103066",
     "status": "completed"
    },
    "tags": []
   },
   "outputs": [
    {
     "data": {
      "text/html": [
       "<div class='datatable'>\n",
       "  <table class='frame'>\n",
       "  <thead>\n",
       "    <tr class='colnames'><td class='row_index'></td><th>f1</th><th>f2</th></tr>\n",
       "    <tr class='coltypes'><td class='row_index'></td><td class='int' title='int32'>&#x25AA;&#x25AA;&#x25AA;&#x25AA;</td><td class='str' title='str32'>&#x25AA;&#x25AA;&#x25AA;&#x25AA;</td></tr>\n",
       "  </thead>\n",
       "  <tbody>\n",
       "    <tr><td class='row_index'>0</td><td>0</td><td>Y</td></tr>\n",
       "    <tr><td class='row_index'>1</td><td>1</td><td>O</td></tr>\n",
       "    <tr><td class='row_index'>2</td><td>2</td><td>U</td></tr>\n",
       "    <tr><td class='row_index'>3</td><td>3</td><td>C</td></tr>\n",
       "    <tr><td class='row_index'>4</td><td>4</td><td>A</td></tr>\n",
       "    <tr><td class='row_index'>5</td><td>5</td><td>N</td></tr>\n",
       "    <tr><td class='row_index'>6</td><td>6</td><td>D</td></tr>\n",
       "    <tr><td class='row_index'>7</td><td>7</td><td>O</td></tr>\n",
       "    <tr><td class='row_index'>8</td><td>8</td><td>I</td></tr>\n",
       "    <tr><td class='row_index'>9</td><td>9</td><td>T</td></tr>\n",
       "  </tbody>\n",
       "  </table>\n",
       "  <div class='footer'>\n",
       "    <div class='frame_dimensions'>10 rows &times; 2 columns</div>\n",
       "  </div>\n",
       "</div>\n"
      ],
      "text/plain": [
       "<Frame#7ff3861843c0 10x2>"
      ]
     },
     "execution_count": 6,
     "metadata": {},
     "output_type": "execute_result"
    }
   ],
   "source": [
    "data_jay = dt.fread('data.jay')\n",
    "data_jay"
   ]
  },
  {
   "cell_type": "markdown",
   "id": "actual-captain",
   "metadata": {
    "papermill": {
     "duration": 0.10583,
     "end_time": "2021-07-07T05:57:25.434491",
     "exception": false,
     "start_time": "2021-07-07T05:57:25.328661",
     "status": "completed"
    },
    "tags": []
   },
   "source": [
    "**Exercise 13: Read data from this URL: [https://raw.githubusercontent.com/vopani/datatableton/main/data/sample.csv](https://raw.githubusercontent.com/vopani/datatableton/main/data/sample.csv) and assign it to `data_url`**"
   ]
  },
  {
   "cell_type": "code",
   "execution_count": 7,
   "id": "aggressive-cover",
   "metadata": {
    "execution": {
     "iopub.execute_input": "2021-07-07T05:57:25.654329Z",
     "iopub.status.busy": "2021-07-07T05:57:25.653693Z",
     "iopub.status.idle": "2021-07-07T05:57:26.293167Z",
     "shell.execute_reply": "2021-07-07T05:57:26.292585Z",
     "shell.execute_reply.started": "2021-07-07T05:23:13.049299Z"
    },
    "papermill": {
     "duration": 0.752585,
     "end_time": "2021-07-07T05:57:26.293295",
     "exception": false,
     "start_time": "2021-07-07T05:57:25.540710",
     "status": "completed"
    },
    "tags": []
   },
   "outputs": [
    {
     "data": {
      "text/html": [
       "<div class='datatable'>\n",
       "  <table class='frame'>\n",
       "  <thead>\n",
       "    <tr class='colnames'><td class='row_index'></td><th>id</th><th>f1</th><th>f2</th><th>f3</th><th>target</th></tr>\n",
       "    <tr class='coltypes'><td class='row_index'></td><td class='int' title='int32'>&#x25AA;&#x25AA;&#x25AA;&#x25AA;</td><td class='float' title='float64'>&#x25AA;&#x25AA;&#x25AA;&#x25AA;&#x25AA;&#x25AA;&#x25AA;&#x25AA;</td><td class='str' title='str32'>&#x25AA;&#x25AA;&#x25AA;&#x25AA;</td><td class='int' title='int32'>&#x25AA;&#x25AA;&#x25AA;&#x25AA;</td><td class='bool' title='bool8'>&#x25AA;</td></tr>\n",
       "  </thead>\n",
       "  <tbody>\n",
       "    <tr><td class='row_index'>0</td><td>1</td><td>0.2</td><td>A</td><td>&minus;2</td><td>1</td></tr>\n",
       "    <tr><td class='row_index'>1</td><td>2</td><td>0.3</td><td>A</td><td>1</td><td>0</td></tr>\n",
       "    <tr><td class='row_index'>2</td><td>3</td><td>0.5</td><td>C</td><td>0</td><td>0</td></tr>\n",
       "    <tr><td class='row_index'>3</td><td>4</td><td>0.2</td><td>B</td><td>0</td><td>1</td></tr>\n",
       "    <tr><td class='row_index'>4</td><td>5</td><td>0.9</td><td>A</td><td>&minus;3</td><td>0</td></tr>\n",
       "    <tr><td class='row_index'>5</td><td>6</td><td>0.5</td><td>B</td><td>3</td><td>1</td></tr>\n",
       "    <tr><td class='row_index'>6</td><td>7</td><td>0.3</td><td>B</td><td>2</td><td>0</td></tr>\n",
       "    <tr><td class='row_index'>7</td><td>8</td><td>0.8</td><td>C</td><td>0</td><td>0</td></tr>\n",
       "    <tr><td class='row_index'>8</td><td>9</td><td>0.1</td><td>A</td><td>&minus;1</td><td>1</td></tr>\n",
       "  </tbody>\n",
       "  </table>\n",
       "  <div class='footer'>\n",
       "    <div class='frame_dimensions'>9 rows &times; 5 columns</div>\n",
       "  </div>\n",
       "</div>\n"
      ],
      "text/plain": [
       "<Frame#7ff386184750 9x5>"
      ]
     },
     "execution_count": 7,
     "metadata": {},
     "output_type": "execute_result"
    }
   ],
   "source": [
    "data_url = dt.fread(url='https://raw.githubusercontent.com/vopani/datatableton/main/data/sample.csv')\n",
    "data_url"
   ]
  },
  {
   "cell_type": "markdown",
   "id": "mediterranean-malawi",
   "metadata": {
    "papermill": {
     "duration": 0.111054,
     "end_time": "2021-07-07T05:57:26.512812",
     "exception": false,
     "start_time": "2021-07-07T05:57:26.401758",
     "status": "completed"
    },
    "tags": []
   },
   "source": [
    "**Exercise 14: Read `users.csv` from `sample.zip` and assign it to `data_zip`**"
   ]
  },
  {
   "cell_type": "code",
   "execution_count": 8,
   "id": "crucial-tragedy",
   "metadata": {
    "execution": {
     "iopub.execute_input": "2021-07-07T05:57:26.734900Z",
     "iopub.status.busy": "2021-07-07T05:57:26.734277Z",
     "iopub.status.idle": "2021-07-07T05:57:26.740190Z",
     "shell.execute_reply": "2021-07-07T05:57:26.740629Z",
     "shell.execute_reply.started": "2021-07-07T05:50:40.679037Z"
    },
    "papermill": {
     "duration": 0.116119,
     "end_time": "2021-07-07T05:57:26.740800",
     "exception": false,
     "start_time": "2021-07-07T05:57:26.624681",
     "status": "completed"
    },
    "tags": []
   },
   "outputs": [
    {
     "data": {
      "text/html": [
       "<div class='datatable'>\n",
       "  <table class='frame'>\n",
       "  <thead>\n",
       "    <tr class='colnames'><td class='row_index'></td><th>User</th><th>Region</th></tr>\n",
       "    <tr class='coltypes'><td class='row_index'></td><td class='str' title='str32'>&#x25AA;&#x25AA;&#x25AA;&#x25AA;</td><td class='str' title='str32'>&#x25AA;&#x25AA;&#x25AA;&#x25AA;</td></tr>\n",
       "  </thead>\n",
       "  <tbody>\n",
       "    <tr><td class='row_index'>0</td><td>U1</td><td>West</td></tr>\n",
       "    <tr><td class='row_index'>1</td><td>U2</td><td>East</td></tr>\n",
       "    <tr><td class='row_index'>2</td><td>U3</td><td>Central</td></tr>\n",
       "    <tr><td class='row_index'>3</td><td>U4</td><td>South</td></tr>\n",
       "    <tr><td class='row_index'>4</td><td>U5</td><td>West</td></tr>\n",
       "    <tr><td class='row_index'>5</td><td>U6</td><td>East</td></tr>\n",
       "    <tr><td class='row_index'>6</td><td>U7</td><td>Central</td></tr>\n",
       "    <tr><td class='row_index'>7</td><td>U8</td><td>South</td></tr>\n",
       "    <tr><td class='row_index'>8</td><td>U9</td><td>West</td></tr>\n",
       "  </tbody>\n",
       "  </table>\n",
       "  <div class='footer'>\n",
       "    <div class='frame_dimensions'>9 rows &times; 2 columns</div>\n",
       "  </div>\n",
       "</div>\n"
      ],
      "text/plain": [
       "<Frame#7ff386241ae0 9x2>"
      ]
     },
     "execution_count": 8,
     "metadata": {},
     "output_type": "execute_result"
    }
   ],
   "source": [
    "data_zip = dt.fread('sample.zip/users.csv')\n",
    "data_zip"
   ]
  },
  {
   "cell_type": "markdown",
   "id": "healthy-month",
   "metadata": {
    "papermill": {
     "duration": 0.105229,
     "end_time": "2021-07-07T05:57:26.954130",
     "exception": false,
     "start_time": "2021-07-07T05:57:26.848901",
     "status": "completed"
    },
    "tags": []
   },
   "source": [
    "**Exercise 15: Create a dt.Frame `data_pd` from the pd.DataFrame `dframe` and create a pd.DataFrame `pd_data` from the dt.Frame `data_pd`**"
   ]
  },
  {
   "cell_type": "code",
   "execution_count": 9,
   "id": "accurate-remove",
   "metadata": {
    "execution": {
     "iopub.execute_input": "2021-07-07T05:57:27.170949Z",
     "iopub.status.busy": "2021-07-07T05:57:27.170149Z",
     "iopub.status.idle": "2021-07-07T05:57:27.174093Z",
     "shell.execute_reply": "2021-07-07T05:57:27.173647Z",
     "shell.execute_reply.started": "2021-07-07T05:23:43.701758Z"
    },
    "papermill": {
     "duration": 0.115515,
     "end_time": "2021-07-07T05:57:27.174214",
     "exception": false,
     "start_time": "2021-07-07T05:57:27.058699",
     "status": "completed"
    },
    "tags": []
   },
   "outputs": [
    {
     "data": {
      "text/html": [
       "<div class='datatable'>\n",
       "  <table class='frame'>\n",
       "  <thead>\n",
       "    <tr class='colnames'><td class='row_index'></td><th>v1</th><th>v2</th></tr>\n",
       "    <tr class='coltypes'><td class='row_index'></td><td class='int' title='int64'>&#x25AA;&#x25AA;&#x25AA;&#x25AA;&#x25AA;&#x25AA;&#x25AA;&#x25AA;</td><td class='str' title='str32'>&#x25AA;&#x25AA;&#x25AA;&#x25AA;</td></tr>\n",
       "  </thead>\n",
       "  <tbody>\n",
       "    <tr><td class='row_index'>0</td><td>0</td><td>N</td></tr>\n",
       "    <tr><td class='row_index'>1</td><td>1</td><td>E</td></tr>\n",
       "    <tr><td class='row_index'>2</td><td>2</td><td>V</td></tr>\n",
       "    <tr><td class='row_index'>3</td><td>3</td><td>E</td></tr>\n",
       "    <tr><td class='row_index'>4</td><td>4</td><td>R</td></tr>\n",
       "    <tr><td class='row_index'>5</td><td>5</td><td>G</td></tr>\n",
       "    <tr><td class='row_index'>6</td><td>6</td><td>I</td></tr>\n",
       "    <tr><td class='row_index'>7</td><td>7</td><td>V</td></tr>\n",
       "    <tr><td class='row_index'>8</td><td>8</td><td>E</td></tr>\n",
       "    <tr><td class='row_index'>9</td><td>9</td><td>U</td></tr>\n",
       "    <tr><td class='row_index'>10</td><td>10</td><td>P</td></tr>\n",
       "  </tbody>\n",
       "  </table>\n",
       "  <div class='footer'>\n",
       "    <div class='frame_dimensions'>11 rows &times; 2 columns</div>\n",
       "  </div>\n",
       "</div>\n"
      ],
      "text/plain": [
       "<Frame#7ff386184a20 11x2>"
      ]
     },
     "execution_count": 9,
     "metadata": {},
     "output_type": "execute_result"
    }
   ],
   "source": [
    "data_pd = dt.Frame(dframe)\n",
    "data_pd"
   ]
  },
  {
   "cell_type": "code",
   "execution_count": 10,
   "id": "european-elimination",
   "metadata": {
    "execution": {
     "iopub.execute_input": "2021-07-07T05:57:27.396371Z",
     "iopub.status.busy": "2021-07-07T05:57:27.395731Z",
     "iopub.status.idle": "2021-07-07T05:57:27.409118Z",
     "shell.execute_reply": "2021-07-07T05:57:27.408620Z",
     "shell.execute_reply.started": "2021-07-07T05:23:52.178275Z"
    },
    "papermill": {
     "duration": 0.129668,
     "end_time": "2021-07-07T05:57:27.409255",
     "exception": false,
     "start_time": "2021-07-07T05:57:27.279587",
     "status": "completed"
    },
    "tags": []
   },
   "outputs": [
    {
     "data": {
      "text/html": [
       "<div>\n",
       "<style scoped>\n",
       "    .dataframe tbody tr th:only-of-type {\n",
       "        vertical-align: middle;\n",
       "    }\n",
       "\n",
       "    .dataframe tbody tr th {\n",
       "        vertical-align: top;\n",
       "    }\n",
       "\n",
       "    .dataframe thead th {\n",
       "        text-align: right;\n",
       "    }\n",
       "</style>\n",
       "<table border=\"1\" class=\"dataframe\">\n",
       "  <thead>\n",
       "    <tr style=\"text-align: right;\">\n",
       "      <th></th>\n",
       "      <th>v1</th>\n",
       "      <th>v2</th>\n",
       "    </tr>\n",
       "  </thead>\n",
       "  <tbody>\n",
       "    <tr>\n",
       "      <th>0</th>\n",
       "      <td>0</td>\n",
       "      <td>N</td>\n",
       "    </tr>\n",
       "    <tr>\n",
       "      <th>1</th>\n",
       "      <td>1</td>\n",
       "      <td>E</td>\n",
       "    </tr>\n",
       "    <tr>\n",
       "      <th>2</th>\n",
       "      <td>2</td>\n",
       "      <td>V</td>\n",
       "    </tr>\n",
       "    <tr>\n",
       "      <th>3</th>\n",
       "      <td>3</td>\n",
       "      <td>E</td>\n",
       "    </tr>\n",
       "    <tr>\n",
       "      <th>4</th>\n",
       "      <td>4</td>\n",
       "      <td>R</td>\n",
       "    </tr>\n",
       "    <tr>\n",
       "      <th>5</th>\n",
       "      <td>5</td>\n",
       "      <td>G</td>\n",
       "    </tr>\n",
       "    <tr>\n",
       "      <th>6</th>\n",
       "      <td>6</td>\n",
       "      <td>I</td>\n",
       "    </tr>\n",
       "    <tr>\n",
       "      <th>7</th>\n",
       "      <td>7</td>\n",
       "      <td>V</td>\n",
       "    </tr>\n",
       "    <tr>\n",
       "      <th>8</th>\n",
       "      <td>8</td>\n",
       "      <td>E</td>\n",
       "    </tr>\n",
       "    <tr>\n",
       "      <th>9</th>\n",
       "      <td>9</td>\n",
       "      <td>U</td>\n",
       "    </tr>\n",
       "    <tr>\n",
       "      <th>10</th>\n",
       "      <td>10</td>\n",
       "      <td>P</td>\n",
       "    </tr>\n",
       "  </tbody>\n",
       "</table>\n",
       "</div>"
      ],
      "text/plain": [
       "    v1 v2\n",
       "0    0  N\n",
       "1    1  E\n",
       "2    2  V\n",
       "3    3  E\n",
       "4    4  R\n",
       "5    5  G\n",
       "6    6  I\n",
       "7    7  V\n",
       "8    8  E\n",
       "9    9  U\n",
       "10  10  P"
      ]
     },
     "execution_count": 10,
     "metadata": {},
     "output_type": "execute_result"
    }
   ],
   "source": [
    "pd_data = data_pd.to_pandas()\n",
    "pd_data"
   ]
  },
  {
   "cell_type": "markdown",
   "id": "whole-affairs",
   "metadata": {
    "papermill": {
     "duration": 0.106564,
     "end_time": "2021-07-07T05:57:27.624873",
     "exception": false,
     "start_time": "2021-07-07T05:57:27.518309",
     "status": "completed"
    },
    "tags": []
   },
   "source": [
    "**Exercise 16: Create a dt.Frame `data_np` from the np.array `nparray` and create a np.array `np_data` from the dt.Frame `data_np`**"
   ]
  },
  {
   "cell_type": "code",
   "execution_count": 11,
   "id": "finished-engine",
   "metadata": {
    "execution": {
     "iopub.execute_input": "2021-07-07T05:57:27.842436Z",
     "iopub.status.busy": "2021-07-07T05:57:27.841805Z",
     "iopub.status.idle": "2021-07-07T05:57:27.844534Z",
     "shell.execute_reply": "2021-07-07T05:57:27.845079Z",
     "shell.execute_reply.started": "2021-07-07T05:26:15.290352Z"
    },
    "papermill": {
     "duration": 0.113924,
     "end_time": "2021-07-07T05:57:27.845234",
     "exception": false,
     "start_time": "2021-07-07T05:57:27.731310",
     "status": "completed"
    },
    "tags": []
   },
   "outputs": [
    {
     "data": {
      "text/html": [
       "<div class='datatable'>\n",
       "  <table class='frame'>\n",
       "  <thead>\n",
       "    <tr class='colnames'><td class='row_index'></td><th>C0</th><th>C1</th></tr>\n",
       "    <tr class='coltypes'><td class='row_index'></td><td class='str' title='str32'>&#x25AA;&#x25AA;&#x25AA;&#x25AA;</td><td class='str' title='str32'>&#x25AA;&#x25AA;&#x25AA;&#x25AA;</td></tr>\n",
       "  </thead>\n",
       "  <tbody>\n",
       "    <tr><td class='row_index'>0</td><td>0</td><td>C</td></tr>\n",
       "    <tr><td class='row_index'>1</td><td>1</td><td>O</td></tr>\n",
       "    <tr><td class='row_index'>2</td><td>2</td><td>D</td></tr>\n",
       "    <tr><td class='row_index'>3</td><td>3</td><td>E</td></tr>\n",
       "  </tbody>\n",
       "  </table>\n",
       "  <div class='footer'>\n",
       "    <div class='frame_dimensions'>4 rows &times; 2 columns</div>\n",
       "  </div>\n",
       "</div>\n"
      ],
      "text/plain": [
       "<Frame#7ff386184480 4x2>"
      ]
     },
     "execution_count": 11,
     "metadata": {},
     "output_type": "execute_result"
    }
   ],
   "source": [
    "data_np = dt.Frame(nparray)\n",
    "data_np"
   ]
  },
  {
   "cell_type": "code",
   "execution_count": 12,
   "id": "buried-baptist",
   "metadata": {
    "execution": {
     "iopub.execute_input": "2021-07-07T05:57:28.068286Z",
     "iopub.status.busy": "2021-07-07T05:57:28.067668Z",
     "iopub.status.idle": "2021-07-07T05:57:28.071180Z",
     "shell.execute_reply": "2021-07-07T05:57:28.071605Z",
     "shell.execute_reply.started": "2021-07-07T05:26:18.103124Z"
    },
    "papermill": {
     "duration": 0.116143,
     "end_time": "2021-07-07T05:57:28.071781",
     "exception": false,
     "start_time": "2021-07-07T05:57:27.955638",
     "status": "completed"
    },
    "tags": []
   },
   "outputs": [
    {
     "data": {
      "text/plain": [
       "array([['0', 'C'],\n",
       "       ['1', 'O'],\n",
       "       ['2', 'D'],\n",
       "       ['3', 'E']], dtype=object)"
      ]
     },
     "execution_count": 12,
     "metadata": {},
     "output_type": "execute_result"
    }
   ],
   "source": [
    "np_data = data_np.to_numpy()\n",
    "np_data"
   ]
  },
  {
   "cell_type": "markdown",
   "id": "electric-remove",
   "metadata": {
    "papermill": {
     "duration": 0.108401,
     "end_time": "2021-07-07T05:57:28.287878",
     "exception": false,
     "start_time": "2021-07-07T05:57:28.179477",
     "status": "completed"
    },
    "tags": []
   },
   "source": [
    "**Exercise 17: Create a dt.Frame `data_ls` from the list `dlist` and create a list `ls_data` from the dt.Frame `data_ls`**"
   ]
  },
  {
   "cell_type": "code",
   "execution_count": 13,
   "id": "indian-stable",
   "metadata": {
    "execution": {
     "iopub.execute_input": "2021-07-07T05:57:28.532424Z",
     "iopub.status.busy": "2021-07-07T05:57:28.531780Z",
     "iopub.status.idle": "2021-07-07T05:57:28.535659Z",
     "shell.execute_reply": "2021-07-07T05:57:28.535076Z",
     "shell.execute_reply.started": "2021-07-07T05:27:16.069474Z"
    },
    "papermill": {
     "duration": 0.132877,
     "end_time": "2021-07-07T05:57:28.535785",
     "exception": false,
     "start_time": "2021-07-07T05:57:28.402908",
     "status": "completed"
    },
    "tags": []
   },
   "outputs": [
    {
     "data": {
      "text/html": [
       "<div class='datatable'>\n",
       "  <table class='frame'>\n",
       "  <thead>\n",
       "    <tr class='colnames'><td class='row_index'></td><th>C0</th><th>C1</th></tr>\n",
       "    <tr class='coltypes'><td class='row_index'></td><td class='int' title='int32'>&#x25AA;&#x25AA;&#x25AA;&#x25AA;</td><td class='str' title='str32'>&#x25AA;&#x25AA;&#x25AA;&#x25AA;</td></tr>\n",
       "  </thead>\n",
       "  <tbody>\n",
       "    <tr><td class='row_index'>0</td><td>0</td><td>D</td></tr>\n",
       "    <tr><td class='row_index'>1</td><td>1</td><td>A</td></tr>\n",
       "    <tr><td class='row_index'>2</td><td>2</td><td>T</td></tr>\n",
       "    <tr><td class='row_index'>3</td><td>3</td><td>A</td></tr>\n",
       "  </tbody>\n",
       "  </table>\n",
       "  <div class='footer'>\n",
       "    <div class='frame_dimensions'>4 rows &times; 2 columns</div>\n",
       "  </div>\n",
       "</div>\n"
      ],
      "text/plain": [
       "<Frame#7ff384af8960 4x2>"
      ]
     },
     "execution_count": 13,
     "metadata": {},
     "output_type": "execute_result"
    }
   ],
   "source": [
    "data_ls = dt.Frame(dlist)\n",
    "data_ls"
   ]
  },
  {
   "cell_type": "code",
   "execution_count": 14,
   "id": "warming-arthritis",
   "metadata": {
    "execution": {
     "iopub.execute_input": "2021-07-07T05:57:28.993255Z",
     "iopub.status.busy": "2021-07-07T05:57:28.992652Z",
     "iopub.status.idle": "2021-07-07T05:57:28.998027Z",
     "shell.execute_reply": "2021-07-07T05:57:28.997538Z",
     "shell.execute_reply.started": "2021-07-07T05:27:22.597448Z"
    },
    "papermill": {
     "duration": 0.116765,
     "end_time": "2021-07-07T05:57:28.998154",
     "exception": false,
     "start_time": "2021-07-07T05:57:28.881389",
     "status": "completed"
    },
    "tags": []
   },
   "outputs": [
    {
     "data": {
      "text/plain": [
       "[[0, 1, 2, 3], ['D', 'A', 'T', 'A']]"
      ]
     },
     "execution_count": 14,
     "metadata": {},
     "output_type": "execute_result"
    }
   ],
   "source": [
    "ls_data = data_ls.to_list()\n",
    "ls_data"
   ]
  },
  {
   "cell_type": "markdown",
   "id": "opening-luther",
   "metadata": {
    "papermill": {
     "duration": 0.107776,
     "end_time": "2021-07-07T05:57:29.212769",
     "exception": false,
     "start_time": "2021-07-07T05:57:29.104993",
     "status": "completed"
    },
    "tags": []
   },
   "source": [
    "**Exercise 18: Create a dt.Frame `data_dc` from the dictionary `ddict` and create a dictionary `dc_data` from the dt.Frame `data_dc`**"
   ]
  },
  {
   "cell_type": "code",
   "execution_count": 15,
   "id": "colored-batch",
   "metadata": {
    "execution": {
     "iopub.execute_input": "2021-07-07T05:57:29.438793Z",
     "iopub.status.busy": "2021-07-07T05:57:29.438002Z",
     "iopub.status.idle": "2021-07-07T05:57:29.441544Z",
     "shell.execute_reply": "2021-07-07T05:57:29.441057Z",
     "shell.execute_reply.started": "2021-07-07T05:27:42.476661Z"
    },
    "papermill": {
     "duration": 0.11804,
     "end_time": "2021-07-07T05:57:29.441673",
     "exception": false,
     "start_time": "2021-07-07T05:57:29.323633",
     "status": "completed"
    },
    "tags": []
   },
   "outputs": [
    {
     "data": {
      "text/html": [
       "<div class='datatable'>\n",
       "  <table class='frame'>\n",
       "  <thead>\n",
       "    <tr class='colnames'><td class='row_index'></td><th>x</th><th>y</th></tr>\n",
       "    <tr class='coltypes'><td class='row_index'></td><td class='int' title='int32'>&#x25AA;&#x25AA;&#x25AA;&#x25AA;</td><td class='str' title='str32'>&#x25AA;&#x25AA;&#x25AA;&#x25AA;</td></tr>\n",
       "  </thead>\n",
       "  <tbody>\n",
       "    <tr><td class='row_index'>0</td><td>0</td><td>P</td></tr>\n",
       "    <tr><td class='row_index'>1</td><td>1</td><td>Y</td></tr>\n",
       "    <tr><td class='row_index'>2</td><td>2</td><td>T</td></tr>\n",
       "    <tr><td class='row_index'>3</td><td>3</td><td>H</td></tr>\n",
       "    <tr><td class='row_index'>4</td><td>4</td><td>O</td></tr>\n",
       "    <tr><td class='row_index'>5</td><td>5</td><td>N</td></tr>\n",
       "  </tbody>\n",
       "  </table>\n",
       "  <div class='footer'>\n",
       "    <div class='frame_dimensions'>6 rows &times; 2 columns</div>\n",
       "  </div>\n",
       "</div>\n"
      ],
      "text/plain": [
       "<Frame#7ff384af8de0 6x2>"
      ]
     },
     "execution_count": 15,
     "metadata": {},
     "output_type": "execute_result"
    }
   ],
   "source": [
    "data_dc = dt.Frame(ddict)\n",
    "data_dc"
   ]
  },
  {
   "cell_type": "code",
   "execution_count": 16,
   "id": "informational-bridge",
   "metadata": {
    "execution": {
     "iopub.execute_input": "2021-07-07T05:57:29.667548Z",
     "iopub.status.busy": "2021-07-07T05:57:29.666775Z",
     "iopub.status.idle": "2021-07-07T05:57:29.670620Z",
     "shell.execute_reply": "2021-07-07T05:57:29.670056Z",
     "shell.execute_reply.started": "2021-07-07T05:27:52.810435Z"
    },
    "papermill": {
     "duration": 0.119119,
     "end_time": "2021-07-07T05:57:29.670742",
     "exception": false,
     "start_time": "2021-07-07T05:57:29.551623",
     "status": "completed"
    },
    "tags": []
   },
   "outputs": [
    {
     "data": {
      "text/plain": [
       "{'x': [0, 1, 2, 3, 4, 5], 'y': ['P', 'Y', 'T', 'H', 'O', 'N']}"
      ]
     },
     "execution_count": 16,
     "metadata": {},
     "output_type": "execute_result"
    }
   ],
   "source": [
    "dc_data = data_dc.to_dict()\n",
    "dc_data"
   ]
  },
  {
   "cell_type": "markdown",
   "id": "removed-poultry",
   "metadata": {
    "papermill": {
     "duration": 0.11164,
     "end_time": "2021-07-07T05:57:29.893393",
     "exception": false,
     "start_time": "2021-07-07T05:57:29.781753",
     "status": "completed"
    },
    "tags": []
   },
   "source": [
    "**Exercise 19: Create a dt.Frame `data_tp` from the tuples `dtup` and create tuples `tp_data` from the dt.Frame `data_tp`**"
   ]
  },
  {
   "cell_type": "code",
   "execution_count": 17,
   "id": "incoming-parcel",
   "metadata": {
    "execution": {
     "iopub.execute_input": "2021-07-07T05:57:30.118537Z",
     "iopub.status.busy": "2021-07-07T05:57:30.117935Z",
     "iopub.status.idle": "2021-07-07T05:57:30.122343Z",
     "shell.execute_reply": "2021-07-07T05:57:30.122873Z",
     "shell.execute_reply.started": "2021-07-07T05:28:08.679901Z"
    },
    "papermill": {
     "duration": 0.118253,
     "end_time": "2021-07-07T05:57:30.123043",
     "exception": false,
     "start_time": "2021-07-07T05:57:30.004790",
     "status": "completed"
    },
    "tags": []
   },
   "outputs": [
    {
     "data": {
      "text/html": [
       "<div class='datatable'>\n",
       "  <table class='frame'>\n",
       "  <thead>\n",
       "    <tr class='colnames'><td class='row_index'></td><th>C0</th><th>C1</th></tr>\n",
       "    <tr class='coltypes'><td class='row_index'></td><td class='int' title='int32'>&#x25AA;&#x25AA;&#x25AA;&#x25AA;</td><td class='str' title='str32'>&#x25AA;&#x25AA;&#x25AA;&#x25AA;</td></tr>\n",
       "  </thead>\n",
       "  <tbody>\n",
       "    <tr><td class='row_index'>0</td><td>0</td><td>L</td></tr>\n",
       "    <tr><td class='row_index'>1</td><td>1</td><td>E</td></tr>\n",
       "    <tr><td class='row_index'>2</td><td>2</td><td>A</td></tr>\n",
       "    <tr><td class='row_index'>3</td><td>3</td><td>R</td></tr>\n",
       "    <tr><td class='row_index'>4</td><td>4</td><td>N</td></tr>\n",
       "  </tbody>\n",
       "  </table>\n",
       "  <div class='footer'>\n",
       "    <div class='frame_dimensions'>5 rows &times; 2 columns</div>\n",
       "  </div>\n",
       "</div>\n"
      ],
      "text/plain": [
       "<Frame#7ff384af8b10 5x2>"
      ]
     },
     "execution_count": 17,
     "metadata": {},
     "output_type": "execute_result"
    }
   ],
   "source": [
    "data_tp = dt.Frame(dtup)\n",
    "data_tp"
   ]
  },
  {
   "cell_type": "code",
   "execution_count": 18,
   "id": "capable-marker",
   "metadata": {
    "execution": {
     "iopub.execute_input": "2021-07-07T05:57:30.349157Z",
     "iopub.status.busy": "2021-07-07T05:57:30.348534Z",
     "iopub.status.idle": "2021-07-07T05:57:30.354536Z",
     "shell.execute_reply": "2021-07-07T05:57:30.354080Z",
     "shell.execute_reply.started": "2021-07-07T05:28:14.754753Z"
    },
    "papermill": {
     "duration": 0.120339,
     "end_time": "2021-07-07T05:57:30.354659",
     "exception": false,
     "start_time": "2021-07-07T05:57:30.234320",
     "status": "completed"
    },
    "tags": []
   },
   "outputs": [
    {
     "data": {
      "text/plain": [
       "[(0, 'L'), (1, 'E'), (2, 'A'), (3, 'R'), (4, 'N')]"
      ]
     },
     "execution_count": 18,
     "metadata": {},
     "output_type": "execute_result"
    }
   ],
   "source": [
    "tp_data = data_tp.to_tuples()\n",
    "tp_data"
   ]
  },
  {
   "cell_type": "markdown",
   "id": "compound-temperature",
   "metadata": {
    "papermill": {
     "duration": 0.111078,
     "end_time": "2021-07-07T05:57:30.575145",
     "exception": false,
     "start_time": "2021-07-07T05:57:30.464067",
     "status": "completed"
    },
    "tags": []
   },
   "source": [
    "**Exercise 20: Create a dt.Frame `data_pa` from the pyarrow.Table `patable` and create a pyarrow.Table `pa_data` from the dt.Frame `data_pa`**"
   ]
  },
  {
   "cell_type": "code",
   "execution_count": 19,
   "id": "accepted-methodology",
   "metadata": {
    "execution": {
     "iopub.execute_input": "2021-07-07T05:57:30.803200Z",
     "iopub.status.busy": "2021-07-07T05:57:30.802373Z",
     "iopub.status.idle": "2021-07-07T05:57:30.808783Z",
     "shell.execute_reply": "2021-07-07T05:57:30.808336Z",
     "shell.execute_reply.started": "2021-07-07T05:28:31.791920Z"
    },
    "papermill": {
     "duration": 0.121663,
     "end_time": "2021-07-07T05:57:30.808929",
     "exception": false,
     "start_time": "2021-07-07T05:57:30.687266",
     "status": "completed"
    },
    "tags": []
   },
   "outputs": [
    {
     "data": {
      "text/html": [
       "<div class='datatable'>\n",
       "  <table class='frame'>\n",
       "  <thead>\n",
       "    <tr class='colnames'><td class='row_index'></td><th>v1</th><th>v2</th></tr>\n",
       "    <tr class='coltypes'><td class='row_index'></td><td class='int' title='int64'>&#x25AA;&#x25AA;&#x25AA;&#x25AA;&#x25AA;&#x25AA;&#x25AA;&#x25AA;</td><td class='str' title='str32'>&#x25AA;&#x25AA;&#x25AA;&#x25AA;</td></tr>\n",
       "  </thead>\n",
       "  <tbody>\n",
       "    <tr><td class='row_index'>0</td><td>0</td><td>N</td></tr>\n",
       "    <tr><td class='row_index'>1</td><td>1</td><td>E</td></tr>\n",
       "    <tr><td class='row_index'>2</td><td>2</td><td>V</td></tr>\n",
       "    <tr><td class='row_index'>3</td><td>3</td><td>E</td></tr>\n",
       "    <tr><td class='row_index'>4</td><td>4</td><td>R</td></tr>\n",
       "    <tr><td class='row_index'>5</td><td>5</td><td>G</td></tr>\n",
       "    <tr><td class='row_index'>6</td><td>6</td><td>I</td></tr>\n",
       "    <tr><td class='row_index'>7</td><td>7</td><td>V</td></tr>\n",
       "    <tr><td class='row_index'>8</td><td>8</td><td>E</td></tr>\n",
       "    <tr><td class='row_index'>9</td><td>9</td><td>U</td></tr>\n",
       "    <tr><td class='row_index'>10</td><td>10</td><td>P</td></tr>\n",
       "  </tbody>\n",
       "  </table>\n",
       "  <div class='footer'>\n",
       "    <div class='frame_dimensions'>11 rows &times; 2 columns</div>\n",
       "  </div>\n",
       "</div>\n"
      ],
      "text/plain": [
       "<Frame#7ff384af8fc0 11x2>"
      ]
     },
     "execution_count": 19,
     "metadata": {},
     "output_type": "execute_result"
    }
   ],
   "source": [
    "data_pa = dt.Frame(patable)\n",
    "data_pa"
   ]
  },
  {
   "cell_type": "code",
   "execution_count": 20,
   "id": "matched-favorite",
   "metadata": {
    "execution": {
     "iopub.execute_input": "2021-07-07T05:57:31.033511Z",
     "iopub.status.busy": "2021-07-07T05:57:31.032579Z",
     "iopub.status.idle": "2021-07-07T05:57:31.037573Z",
     "shell.execute_reply": "2021-07-07T05:57:31.037052Z",
     "shell.execute_reply.started": "2021-07-07T05:28:37.932489Z"
    },
    "papermill": {
     "duration": 0.118305,
     "end_time": "2021-07-07T05:57:31.037702",
     "exception": false,
     "start_time": "2021-07-07T05:57:30.919397",
     "status": "completed"
    },
    "tags": []
   },
   "outputs": [
    {
     "data": {
      "text/plain": [
       "pyarrow.Table\n",
       "v1: int64\n",
       "v2: string"
      ]
     },
     "execution_count": 20,
     "metadata": {},
     "output_type": "execute_result"
    }
   ],
   "source": [
    "pa_data = data_pa.to_arrow()\n",
    "pa_data"
   ]
  },
  {
   "cell_type": "markdown",
   "id": "forbidden-sense",
   "metadata": {
    "papermill": {
     "duration": 0.110732,
     "end_time": "2021-07-07T05:57:31.257690",
     "exception": false,
     "start_time": "2021-07-07T05:57:31.146958",
     "status": "completed"
    },
    "tags": []
   },
   "source": [
    "<center>\n",
    "    This completes Set 2: Files and Formats (Exercises 11-20) of <b>DatatableTon</b>: <i>💯 datatable exercises</i>\n",
    "    <br>\n",
    "    Set 3 is coming soon!\n",
    "    <br>\n",
    "    <br>\n",
    "    You can find all the exercises and solutions on <a href=\"https://github.com/vopani/datatableton#exercises-\">GitHub</a>\n",
    "</center>"
   ]
  }
 ],
 "metadata": {
  "kernelspec": {
   "display_name": "Python 3",
   "language": "python",
   "name": "python3"
  },
  "language_info": {
   "codemirror_mode": {
    "name": "ipython",
    "version": 3
   },
   "file_extension": ".py",
   "mimetype": "text/x-python",
   "name": "python",
   "nbconvert_exporter": "python",
   "pygments_lexer": "ipython3",
   "version": "3.7.10"
  },
  "papermill": {
   "default_parameters": {},
   "duration": 58.829069,
   "end_time": "2021-07-07T05:57:32.636240",
   "environment_variables": {},
   "exception": null,
   "input_path": "__notebook__.ipynb",
   "output_path": "__notebook__.ipynb",
   "parameters": {},
   "start_time": "2021-07-07T05:56:33.807171",
   "version": "2.3.3"
  }
 },
 "nbformat": 4,
 "nbformat_minor": 5
}
