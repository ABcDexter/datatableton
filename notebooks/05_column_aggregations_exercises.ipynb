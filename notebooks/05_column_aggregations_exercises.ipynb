{
 "cells": [
  {
   "cell_type": "markdown",
   "id": "48b8b1d9",
   "metadata": {
    "_cell_guid": "b1076dfc-b9ad-4769-8c92-a6c4dae69d19",
    "_uuid": "8f2839f25d086af736a60e9eeb907d3b93b6e0e5",
    "papermill": {
     "duration": 0.020927,
     "end_time": "2021-07-15T18:13:24.189648",
     "exception": false,
     "start_time": "2021-07-15T18:13:24.168721",
     "status": "completed"
    },
    "tags": []
   },
   "source": [
    "<center>\n",
    "    <h1>DatatableTon</h1>\n",
    "    💯 datatable exercises\n",
    "    <br>\n",
    "    <br>\n",
    "    <a href='https://github.com/vopani/datatableton/blob/master/LICENSE'>\n",
    "        <img src='https://img.shields.io/badge/license-Apache%202.0-blue.svg?logo=apache'>\n",
    "    </a>\n",
    "    <a href='https://github.com/vopani/datatableton'>\n",
    "        <img src='https://img.shields.io/github/stars/vopani/datatableton?color=yellowgreen&logo=github'>\n",
    "    </a>\n",
    "    <a href='https://twitter.com/vopani'>\n",
    "        <img src='https://img.shields.io/twitter/follow/vopani'>\n",
    "    </a>\n",
    "</center>"
   ]
  },
  {
   "cell_type": "markdown",
   "id": "42e7710e",
   "metadata": {
    "papermill": {
     "duration": 0.019441,
     "end_time": "2021-07-15T18:13:24.229503",
     "exception": false,
     "start_time": "2021-07-15T18:13:24.210062",
     "status": "completed"
    },
    "tags": []
   },
   "source": [
    "<center>\n",
    "    This is Set 5: Column Aggregations (Exercises 41-50) of <b>DatatableTon</b>: <i>💯 datatable exercises</i>\n",
    "    <br>\n",
    "    You can find all the exercises and solutions on <a href=\"https://github.com/vopani/datatableton#exercises-\">GitHub</a>\n",
    "</center>"
   ]
  },
  {
   "cell_type": "markdown",
   "id": "d368841c",
   "metadata": {
    "papermill": {
     "duration": 0.018809,
     "end_time": "2021-07-15T18:13:24.267513",
     "exception": false,
     "start_time": "2021-07-15T18:13:24.248704",
     "status": "completed"
    },
    "tags": []
   },
   "source": [
    "**Prerequisites**\n",
    "* The `datatable` package should be upgraded to the latest version (or v1.0.0+).\n",
    "* The sample dataset [wine](https://scikit-learn.org/stable/modules/generated/sklearn.datasets.load_wine.html) from sklearn will be used for the exercises."
   ]
  },
  {
   "cell_type": "code",
   "execution_count": 1,
   "id": "98a2ada4",
   "metadata": {
    "_kg_hide-output": true,
    "execution": {
     "iopub.execute_input": "2021-07-15T18:13:24.312452Z",
     "iopub.status.busy": "2021-07-15T18:13:24.310530Z",
     "iopub.status.idle": "2021-07-15T18:14:09.221554Z",
     "shell.execute_reply": "2021-07-15T18:14:09.222113Z",
     "shell.execute_reply.started": "2021-07-15T18:00:49.903147Z"
    },
    "papermill": {
     "duration": 44.935843,
     "end_time": "2021-07-15T18:14:09.222456",
     "exception": false,
     "start_time": "2021-07-15T18:13:24.286613",
     "status": "completed"
    },
    "tags": []
   },
   "outputs": [
    {
     "name": "stdout",
     "output_type": "stream",
     "text": [
      "Requirement already satisfied: pip in /opt/conda/lib/python3.7/site-packages (21.1.2)\r\n",
      "Collecting pip\r\n",
      "  Downloading pip-21.1.3-py3-none-any.whl (1.5 MB)\r\n",
      "\u001b[K     |████████████████████████████████| 1.5 MB 1.2 MB/s \r\n",
      "\u001b[?25hInstalling collected packages: pip\r\n",
      "  Attempting uninstall: pip\r\n",
      "    Found existing installation: pip 21.1.2\r\n",
      "    Uninstalling pip-21.1.2:\r\n",
      "      Successfully uninstalled pip-21.1.2\r\n",
      "Successfully installed pip-21.1.3\r\n",
      "\u001b[33mWARNING: Running pip as root will break packages and permissions. You should install packages reliably by using venv: https://pip.pypa.io/warnings/venv\u001b[0m\r\n",
      "Requirement already satisfied: datatable in /opt/conda/lib/python3.7/site-packages (1.0.0)\r\n",
      "\u001b[33mWARNING: Running pip as the 'root' user can result in broken permissions and conflicting behaviour with the system package manager. It is recommended to use a virtual environment instead: https://pip.pypa.io/warnings/venv\u001b[0m\r\n",
      "Requirement already satisfied: scikit-learn in /opt/conda/lib/python3.7/site-packages (0.23.2)\r\n",
      "Requirement already satisfied: numpy>=1.13.3 in /opt/conda/lib/python3.7/site-packages (from scikit-learn) (1.19.5)\r\n",
      "Requirement already satisfied: joblib>=0.11 in /opt/conda/lib/python3.7/site-packages (from scikit-learn) (1.0.1)\r\n",
      "Requirement already satisfied: threadpoolctl>=2.0.0 in /opt/conda/lib/python3.7/site-packages (from scikit-learn) (2.1.0)\r\n",
      "Requirement already satisfied: scipy>=0.19.1 in /opt/conda/lib/python3.7/site-packages (from scikit-learn) (1.6.3)\r\n",
      "\u001b[33mWARNING: Running pip as the 'root' user can result in broken permissions and conflicting behaviour with the system package manager. It is recommended to use a virtual environment instead: https://pip.pypa.io/warnings/venv\u001b[0m\r\n"
     ]
    }
   ],
   "source": [
    "!python3 -m pip install -U pip\n",
    "!python3 -m pip install -U datatable\n",
    "!python3 -m pip install scikit-learn"
   ]
  },
  {
   "cell_type": "code",
   "execution_count": 2,
   "id": "b868586c",
   "metadata": {
    "execution": {
     "iopub.execute_input": "2021-07-15T18:14:09.281709Z",
     "iopub.status.busy": "2021-07-15T18:14:09.281056Z",
     "iopub.status.idle": "2021-07-15T18:14:10.548047Z",
     "shell.execute_reply": "2021-07-15T18:14:10.547419Z",
     "shell.execute_reply.started": "2021-07-15T18:01:29.329039Z"
    },
    "papermill": {
     "duration": 1.299611,
     "end_time": "2021-07-15T18:14:10.548211",
     "exception": false,
     "start_time": "2021-07-15T18:14:09.248600",
     "status": "completed"
    },
    "tags": []
   },
   "outputs": [
    {
     "data": {
      "text/html": [
       "<style type='text/css'>\n",
       ".datatable table.frame { margin-bottom: 0; }\n",
       ".datatable table.frame thead { border-bottom: none; }\n",
       ".datatable table.frame tr.coltypes td {  color: #FFFFFF;  line-height: 6px;  padding: 0 0.5em;}\n",
       ".datatable .bool    { background: #DDDD99; }\n",
       ".datatable .object  { background: #565656; }\n",
       ".datatable .int     { background: #5D9E5D; }\n",
       ".datatable .float   { background: #4040CC; }\n",
       ".datatable .str     { background: #CC4040; }\n",
       ".datatable .time    { background: #40CC40; }\n",
       ".datatable .row_index {  background: var(--jp-border-color3);  border-right: 1px solid var(--jp-border-color0);  color: var(--jp-ui-font-color3);  font-size: 9px;}\n",
       ".datatable .frame tbody td { text-align: left; }\n",
       ".datatable .frame tr.coltypes .row_index {  background: var(--jp-border-color0);}\n",
       ".datatable th:nth-child(2) { padding-left: 12px; }\n",
       ".datatable .hellipsis {  color: var(--jp-cell-editor-border-color);}\n",
       ".datatable .vellipsis {  background: var(--jp-layout-color0);  color: var(--jp-cell-editor-border-color);}\n",
       ".datatable .na {  color: var(--jp-cell-editor-border-color);  font-size: 80%;}\n",
       ".datatable .sp {  opacity: 0.25;}\n",
       ".datatable .footer { font-size: 9px; }\n",
       ".datatable .frame_dimensions {  background: var(--jp-border-color3);  border-top: 1px solid var(--jp-border-color0);  color: var(--jp-ui-font-color3);  display: inline-block;  opacity: 0.6;  padding: 1px 10px 1px 5px;}\n",
       "</style>\n"
      ],
      "text/plain": [
       "<IPython.core.display.HTML object>"
      ]
     },
     "metadata": {},
     "output_type": "display_data"
    },
    {
     "data": {
      "text/html": [
       "<div class='datatable'>\n",
       "  <table class='frame'>\n",
       "  <thead>\n",
       "    <tr class='colnames'><td class='row_index'></td><th>alcohol</th><th>malic_acid</th><th>ash</th><th>alcalinity_of_ash</th><th>magnesium</th><th>total_phenols</th><th>flavanoids</th><th>nonflavanoid_phenols</th><th>proanthocyanins</th><th>color_intensity</th><th>hue</th><th>od280/od315_of_diluted_wines</th><th>proline</th><th>target</th></tr>\n",
       "    <tr class='coltypes'><td class='row_index'></td><td class='float' title='float64'>&#x25AA;&#x25AA;&#x25AA;&#x25AA;&#x25AA;&#x25AA;&#x25AA;&#x25AA;</td><td class='float' title='float64'>&#x25AA;&#x25AA;&#x25AA;&#x25AA;&#x25AA;&#x25AA;&#x25AA;&#x25AA;</td><td class='float' title='float64'>&#x25AA;&#x25AA;&#x25AA;&#x25AA;&#x25AA;&#x25AA;&#x25AA;&#x25AA;</td><td class='float' title='float64'>&#x25AA;&#x25AA;&#x25AA;&#x25AA;&#x25AA;&#x25AA;&#x25AA;&#x25AA;</td><td class='float' title='float64'>&#x25AA;&#x25AA;&#x25AA;&#x25AA;&#x25AA;&#x25AA;&#x25AA;&#x25AA;</td><td class='float' title='float64'>&#x25AA;&#x25AA;&#x25AA;&#x25AA;&#x25AA;&#x25AA;&#x25AA;&#x25AA;</td><td class='float' title='float64'>&#x25AA;&#x25AA;&#x25AA;&#x25AA;&#x25AA;&#x25AA;&#x25AA;&#x25AA;</td><td class='float' title='float64'>&#x25AA;&#x25AA;&#x25AA;&#x25AA;&#x25AA;&#x25AA;&#x25AA;&#x25AA;</td><td class='float' title='float64'>&#x25AA;&#x25AA;&#x25AA;&#x25AA;&#x25AA;&#x25AA;&#x25AA;&#x25AA;</td><td class='float' title='float64'>&#x25AA;&#x25AA;&#x25AA;&#x25AA;&#x25AA;&#x25AA;&#x25AA;&#x25AA;</td><td class='float' title='float64'>&#x25AA;&#x25AA;&#x25AA;&#x25AA;&#x25AA;&#x25AA;&#x25AA;&#x25AA;</td><td class='float' title='float64'>&#x25AA;&#x25AA;&#x25AA;&#x25AA;&#x25AA;&#x25AA;&#x25AA;&#x25AA;</td><td class='float' title='float64'>&#x25AA;&#x25AA;&#x25AA;&#x25AA;&#x25AA;&#x25AA;&#x25AA;&#x25AA;</td><td class='int' title='int64'>&#x25AA;&#x25AA;&#x25AA;&#x25AA;&#x25AA;&#x25AA;&#x25AA;&#x25AA;</td></tr>\n",
       "  </thead>\n",
       "  <tbody>\n",
       "    <tr><td class='row_index'>0</td><td>14.23</td><td>1.71</td><td>2.43</td><td>15.6</td><td>127</td><td>2.8</td><td>3.06</td><td>0.28</td><td>2.29</td><td>5.64</td><td>1.04</td><td>3.92</td><td>1065</td><td>0</td></tr>\n",
       "    <tr><td class='row_index'>1</td><td>13.2</td><td>1.78</td><td>2.14</td><td>11.2</td><td>100</td><td>2.65</td><td>2.76</td><td>0.26</td><td>1.28</td><td>4.38</td><td>1.05</td><td>3.4</td><td>1050</td><td>0</td></tr>\n",
       "    <tr><td class='row_index'>2</td><td>13.16</td><td>2.36</td><td>2.67</td><td>18.6</td><td>101</td><td>2.8</td><td>3.24</td><td>0.3</td><td>2.81</td><td>5.68</td><td>1.03</td><td>3.17</td><td>1185</td><td>0</td></tr>\n",
       "    <tr><td class='row_index'>3</td><td>14.37</td><td>1.95</td><td>2.5</td><td>16.8</td><td>113</td><td>3.85</td><td>3.49</td><td>0.24</td><td>2.18</td><td>7.8</td><td>0.86</td><td>3.45</td><td>1480</td><td>0</td></tr>\n",
       "    <tr><td class='row_index'>4</td><td>13.24</td><td>2.59</td><td>2.87</td><td>21</td><td>118</td><td>2.8</td><td>2.69</td><td>0.39</td><td>1.82</td><td>4.32</td><td>1.04</td><td>2.93</td><td>735</td><td>0</td></tr>\n",
       "    <tr><td class='row_index'>5</td><td>14.2</td><td>1.76</td><td>2.45</td><td>15.2</td><td>112</td><td>3.27</td><td>3.39</td><td>0.34</td><td>1.97</td><td>6.75</td><td>1.05</td><td>2.85</td><td>1450</td><td>0</td></tr>\n",
       "    <tr><td class='row_index'>6</td><td>14.39</td><td>1.87</td><td>2.45</td><td>14.6</td><td>96</td><td>2.5</td><td>2.52</td><td>0.3</td><td>1.98</td><td>5.25</td><td>1.02</td><td>3.58</td><td>1290</td><td>0</td></tr>\n",
       "    <tr><td class='row_index'>7</td><td>14.06</td><td>2.15</td><td>2.61</td><td>17.6</td><td>121</td><td>2.6</td><td>2.51</td><td>0.31</td><td>1.25</td><td>5.05</td><td>1.06</td><td>3.58</td><td>1295</td><td>0</td></tr>\n",
       "    <tr><td class='row_index'>8</td><td>14.83</td><td>1.64</td><td>2.17</td><td>14</td><td>97</td><td>2.8</td><td>2.98</td><td>0.29</td><td>1.98</td><td>5.2</td><td>1.08</td><td>2.85</td><td>1045</td><td>0</td></tr>\n",
       "    <tr><td class='row_index'>9</td><td>13.86</td><td>1.35</td><td>2.27</td><td>16</td><td>98</td><td>2.98</td><td>3.15</td><td>0.22</td><td>1.85</td><td>7.22</td><td>1.01</td><td>3.55</td><td>1045</td><td>0</td></tr>\n",
       "  </tbody>\n",
       "  </table>\n",
       "  <div class='footer'>\n",
       "    <div class='frame_dimensions'>10 rows &times; 14 columns</div>\n",
       "  </div>\n",
       "</div>\n"
      ],
      "text/plain": [
       "<Frame#7f6d6ed751e0 10x14>"
      ]
     },
     "execution_count": 2,
     "metadata": {},
     "output_type": "execute_result"
    }
   ],
   "source": [
    "import datatable as dt\n",
    "from sklearn.datasets import load_wine\n",
    "\n",
    "data=dt.Frame(load_wine(as_frame=True).frame)\n",
    "data.head()"
   ]
  },
  {
   "cell_type": "markdown",
   "id": "019a978e",
   "metadata": {
    "papermill": {
     "duration": 0.026782,
     "end_time": "2021-07-15T18:14:10.602069",
     "exception": false,
     "start_time": "2021-07-15T18:14:10.575287",
     "status": "completed"
    },
    "tags": []
   },
   "source": [
    "**Exercise 41: Calculate the sum of column `ash` in `data`**"
   ]
  },
  {
   "cell_type": "code",
   "execution_count": null,
   "id": "e259ba24",
   "metadata": {
    "execution": {
     "iopub.execute_input": "2021-07-15T18:08:28.783241Z",
     "iopub.status.busy": "2021-07-15T18:08:28.782719Z",
     "iopub.status.idle": "2021-07-15T18:08:28.787714Z",
     "shell.execute_reply": "2021-07-15T18:08:28.787282Z",
     "shell.execute_reply.started": "2021-07-15T18:01:30.387942Z"
    },
    "papermill": {
     "duration": 0.030985,
     "end_time": "2021-07-15T18:14:10.660199",
     "exception": false,
     "start_time": "2021-07-15T18:14:10.629214",
     "status": "completed"
    },
    "tags": []
   },
   "outputs": [],
   "source": []
  },
  {
   "cell_type": "markdown",
   "id": "1582e4c0",
   "metadata": {
    "papermill": {
     "duration": 0.026596,
     "end_time": "2021-07-15T18:14:10.717848",
     "exception": false,
     "start_time": "2021-07-15T18:14:10.691252",
     "status": "completed"
    },
    "tags": []
   },
   "source": [
    "**Exercise 42: Calculate the average value of each column in `data`**"
   ]
  },
  {
   "cell_type": "code",
   "execution_count": null,
   "id": "5e606be2",
   "metadata": {
    "execution": {
     "iopub.execute_input": "2021-07-15T18:08:28.915922Z",
     "iopub.status.busy": "2021-07-15T18:08:28.915281Z",
     "iopub.status.idle": "2021-07-15T18:08:28.917878Z",
     "shell.execute_reply": "2021-07-15T18:08:28.916413Z",
     "shell.execute_reply.started": "2021-07-15T18:01:30.396605Z"
    },
    "papermill": {
     "duration": 0.02628,
     "end_time": "2021-07-15T18:14:10.772464",
     "exception": false,
     "start_time": "2021-07-15T18:14:10.746184",
     "status": "completed"
    },
    "tags": []
   },
   "outputs": [],
   "source": []
  },
  {
   "cell_type": "markdown",
   "id": "e3059d5e",
   "metadata": {
    "papermill": {
     "duration": 0.026959,
     "end_time": "2021-07-15T18:14:10.826204",
     "exception": false,
     "start_time": "2021-07-15T18:14:10.799245",
     "status": "completed"
    },
    "tags": []
   },
   "source": [
    "**Exercise 43: Calculate the minimum value and maximum value of each column in `data` where `target` is 1**"
   ]
  },
  {
   "cell_type": "code",
   "execution_count": null,
   "id": "d6d23887",
   "metadata": {
    "execution": {
     "iopub.execute_input": "2021-07-15T18:08:29.025432Z",
     "iopub.status.busy": "2021-07-15T18:08:29.024906Z",
     "iopub.status.idle": "2021-07-15T18:08:29.028274Z",
     "shell.execute_reply": "2021-07-15T18:08:29.028647Z",
     "shell.execute_reply.started": "2021-07-15T18:01:30.420130Z"
    },
    "papermill": {
     "duration": 0.026107,
     "end_time": "2021-07-15T18:14:10.878610",
     "exception": false,
     "start_time": "2021-07-15T18:14:10.852503",
     "status": "completed"
    },
    "tags": []
   },
   "outputs": [],
   "source": []
  },
  {
   "cell_type": "code",
   "execution_count": null,
   "id": "61d448c3",
   "metadata": {
    "execution": {
     "iopub.execute_input": "2021-07-15T18:08:29.090301Z",
     "iopub.status.busy": "2021-07-15T18:08:29.089774Z",
     "iopub.status.idle": "2021-07-15T18:08:29.093112Z",
     "shell.execute_reply": "2021-07-15T18:08:29.093485Z",
     "shell.execute_reply.started": "2021-07-15T18:01:30.433621Z"
    },
    "papermill": {
     "duration": 0.027,
     "end_time": "2021-07-15T18:14:10.931953",
     "exception": false,
     "start_time": "2021-07-15T18:14:10.904953",
     "status": "completed"
    },
    "tags": []
   },
   "outputs": [],
   "source": []
  },
  {
   "cell_type": "markdown",
   "id": "5ed80eeb",
   "metadata": {
    "papermill": {
     "duration": 0.026173,
     "end_time": "2021-07-15T18:14:10.985280",
     "exception": false,
     "start_time": "2021-07-15T18:14:10.959107",
     "status": "completed"
    },
    "tags": []
   },
   "source": [
    "**Exercise 44: Calculate the median value of columns `flavanoids`, `hue` and `magnesium` in `data`**"
   ]
  },
  {
   "cell_type": "code",
   "execution_count": null,
   "id": "34f59a51",
   "metadata": {
    "execution": {
     "iopub.execute_input": "2021-07-15T18:08:29.201209Z",
     "iopub.status.busy": "2021-07-15T18:08:29.200516Z",
     "iopub.status.idle": "2021-07-15T18:08:29.203151Z",
     "shell.execute_reply": "2021-07-15T18:08:29.201665Z",
     "shell.execute_reply.started": "2021-07-15T18:01:30.447166Z"
    },
    "papermill": {
     "duration": 0.026736,
     "end_time": "2021-07-15T18:14:11.038459",
     "exception": false,
     "start_time": "2021-07-15T18:14:11.011723",
     "status": "completed"
    },
    "tags": []
   },
   "outputs": [],
   "source": []
  },
  {
   "cell_type": "markdown",
   "id": "8bf17842",
   "metadata": {
    "papermill": {
     "duration": 0.026268,
     "end_time": "2021-07-15T18:14:11.094963",
     "exception": false,
     "start_time": "2021-07-15T18:14:11.068695",
     "status": "completed"
    },
    "tags": []
   },
   "source": [
    "**Exercise 45: Calculate the mode of columns `alcohol` and `proline` in `data`**"
   ]
  },
  {
   "cell_type": "code",
   "execution_count": null,
   "id": "ba27d7d3",
   "metadata": {
    "execution": {
     "iopub.execute_input": "2021-07-15T18:08:29.316100Z",
     "iopub.status.busy": "2021-07-15T18:08:29.315426Z",
     "iopub.status.idle": "2021-07-15T18:08:29.318066Z",
     "shell.execute_reply": "2021-07-15T18:08:29.316574Z",
     "shell.execute_reply.started": "2021-07-15T18:01:43.963242Z"
    },
    "papermill": {
     "duration": 0.02627,
     "end_time": "2021-07-15T18:14:11.147775",
     "exception": false,
     "start_time": "2021-07-15T18:14:11.121505",
     "status": "completed"
    },
    "tags": []
   },
   "outputs": [],
   "source": []
  },
  {
   "cell_type": "markdown",
   "id": "880c8f26",
   "metadata": {
    "papermill": {
     "duration": 0.031366,
     "end_time": "2021-07-15T18:14:11.208262",
     "exception": false,
     "start_time": "2021-07-15T18:14:11.176896",
     "status": "completed"
    },
    "tags": []
   },
   "source": [
    "**Exercise 46: Calculate the standard deviation, skewness and excess kurtosis of each column in `data`**"
   ]
  },
  {
   "cell_type": "code",
   "execution_count": null,
   "id": "f14b7093",
   "metadata": {
    "execution": {
     "iopub.execute_input": "2021-07-15T18:08:29.427833Z",
     "iopub.status.busy": "2021-07-15T18:08:29.427266Z",
     "iopub.status.idle": "2021-07-15T18:08:29.429796Z",
     "shell.execute_reply": "2021-07-15T18:08:29.430222Z",
     "shell.execute_reply.started": "2021-07-15T18:01:49.729164Z"
    },
    "papermill": {
     "duration": 0.027496,
     "end_time": "2021-07-15T18:14:11.263483",
     "exception": false,
     "start_time": "2021-07-15T18:14:11.235987",
     "status": "completed"
    },
    "tags": []
   },
   "outputs": [],
   "source": []
  },
  {
   "cell_type": "code",
   "execution_count": null,
   "id": "3c538c11",
   "metadata": {
    "execution": {
     "iopub.execute_input": "2021-07-15T18:08:29.482792Z",
     "iopub.status.busy": "2021-07-15T18:08:29.482184Z",
     "iopub.status.idle": "2021-07-15T18:08:29.487617Z",
     "shell.execute_reply": "2021-07-15T18:08:29.488012Z",
     "shell.execute_reply.started": "2021-07-15T18:01:50.511123Z"
    },
    "papermill": {
     "duration": 0.030532,
     "end_time": "2021-07-15T18:14:11.324846",
     "exception": false,
     "start_time": "2021-07-15T18:14:11.294314",
     "status": "completed"
    },
    "tags": []
   },
   "outputs": [],
   "source": []
  },
  {
   "cell_type": "code",
   "execution_count": null,
   "id": "1d9c57a9",
   "metadata": {
    "execution": {
     "iopub.execute_input": "2021-07-15T18:08:29.549432Z",
     "iopub.status.busy": "2021-07-15T18:08:29.548957Z",
     "iopub.status.idle": "2021-07-15T18:08:29.552087Z",
     "shell.execute_reply": "2021-07-15T18:08:29.551634Z",
     "shell.execute_reply.started": "2021-07-15T18:01:51.137565Z"
    },
    "papermill": {
     "duration": 0.026836,
     "end_time": "2021-07-15T18:14:11.378270",
     "exception": false,
     "start_time": "2021-07-15T18:14:11.351434",
     "status": "completed"
    },
    "tags": []
   },
   "outputs": [],
   "source": []
  },
  {
   "cell_type": "markdown",
   "id": "4175ab46",
   "metadata": {
    "papermill": {
     "duration": 0.026213,
     "end_time": "2021-07-15T18:14:11.431237",
     "exception": false,
     "start_time": "2021-07-15T18:14:11.405024",
     "status": "completed"
    },
    "tags": []
   },
   "source": [
    "**Exercise 47: Calculate the number of unique values in each column of `data`**"
   ]
  },
  {
   "cell_type": "code",
   "execution_count": null,
   "id": "a10e66a7",
   "metadata": {
    "execution": {
     "iopub.execute_input": "2021-07-15T18:08:29.664543Z",
     "iopub.status.busy": "2021-07-15T18:08:29.656607Z",
     "iopub.status.idle": "2021-07-15T18:08:29.671476Z",
     "shell.execute_reply": "2021-07-15T18:08:29.671881Z",
     "shell.execute_reply.started": "2021-07-15T18:02:28.068775Z"
    },
    "papermill": {
     "duration": 0.02662,
     "end_time": "2021-07-15T18:14:11.485299",
     "exception": false,
     "start_time": "2021-07-15T18:14:11.458679",
     "status": "completed"
    },
    "tags": []
   },
   "outputs": [],
   "source": []
  },
  {
   "cell_type": "markdown",
   "id": "c95b4ed4",
   "metadata": {
    "papermill": {
     "duration": 0.026616,
     "end_time": "2021-07-15T18:14:11.538881",
     "exception": false,
     "start_time": "2021-07-15T18:14:11.512265",
     "status": "completed"
    },
    "tags": []
   },
   "source": [
    "**Exercise 48: Calculate the covariance between columns `alcohol` and `color_intensity` in `data`**"
   ]
  },
  {
   "cell_type": "code",
   "execution_count": null,
   "id": "8615f37d",
   "metadata": {
    "execution": {
     "iopub.execute_input": "2021-07-15T18:08:29.787779Z",
     "iopub.status.busy": "2021-07-15T18:08:29.787123Z",
     "iopub.status.idle": "2021-07-15T18:08:29.792056Z",
     "shell.execute_reply": "2021-07-15T18:08:29.791568Z",
     "shell.execute_reply.started": "2021-07-15T18:02:47.522887Z"
    },
    "papermill": {
     "duration": 0.026653,
     "end_time": "2021-07-15T18:14:11.592385",
     "exception": false,
     "start_time": "2021-07-15T18:14:11.565732",
     "status": "completed"
    },
    "tags": []
   },
   "outputs": [],
   "source": []
  },
  {
   "cell_type": "markdown",
   "id": "473cbf04",
   "metadata": {
    "papermill": {
     "duration": 0.026689,
     "end_time": "2021-07-15T18:14:11.647331",
     "exception": false,
     "start_time": "2021-07-15T18:14:11.620642",
     "status": "completed"
    },
    "tags": []
   },
   "source": [
    "**Exercise 49: Calculate the correlation between columns `hue` and `color_intensity` in `data`**"
   ]
  },
  {
   "cell_type": "code",
   "execution_count": null,
   "id": "3ebd9397",
   "metadata": {
    "execution": {
     "iopub.execute_input": "2021-07-15T18:08:29.899443Z",
     "iopub.status.busy": "2021-07-15T18:08:29.898800Z",
     "iopub.status.idle": "2021-07-15T18:08:29.903317Z",
     "shell.execute_reply": "2021-07-15T18:08:29.902820Z",
     "shell.execute_reply.started": "2021-07-15T18:02:55.436783Z"
    },
    "papermill": {
     "duration": 0.027165,
     "end_time": "2021-07-15T18:14:11.701539",
     "exception": false,
     "start_time": "2021-07-15T18:14:11.674374",
     "status": "completed"
    },
    "tags": []
   },
   "outputs": [],
   "source": []
  },
  {
   "cell_type": "markdown",
   "id": "2e7f793f",
   "metadata": {
    "papermill": {
     "duration": 0.027292,
     "end_time": "2021-07-15T18:14:11.755672",
     "exception": false,
     "start_time": "2021-07-15T18:14:11.728380",
     "status": "completed"
    },
    "tags": []
   },
   "source": [
    "**Exercise 50: Calculate the correlation matrix between all pairs of columns in `data` and assign it to `corr_matrix`**"
   ]
  },
  {
   "cell_type": "code",
   "execution_count": null,
   "id": "1b6a3ca9",
   "metadata": {
    "execution": {
     "iopub.execute_input": "2021-07-15T18:08:30.020496Z",
     "iopub.status.busy": "2021-07-15T18:08:30.019049Z",
     "iopub.status.idle": "2021-07-15T18:08:30.025481Z",
     "shell.execute_reply": "2021-07-15T18:08:30.024928Z",
     "shell.execute_reply.started": "2021-07-15T18:06:32.207309Z"
    },
    "papermill": {
     "duration": 0.026567,
     "end_time": "2021-07-15T18:14:11.809262",
     "exception": false,
     "start_time": "2021-07-15T18:14:11.782695",
     "status": "completed"
    },
    "tags": []
   },
   "outputs": [],
   "source": []
  },
  {
   "cell_type": "markdown",
   "id": "dec86d21",
   "metadata": {
    "papermill": {
     "duration": 0.026758,
     "end_time": "2021-07-15T18:14:11.862912",
     "exception": false,
     "start_time": "2021-07-15T18:14:11.836154",
     "status": "completed"
    },
    "tags": []
   },
   "source": [
    "<center>\n",
    "    ✅ This completes Set 5: Column Aggregations (Exercises 41-50) of <b>DatatableTon</b>: <i>💯 datatable exercises</i>\n",
    "    <br>\n",
    "    Set 6 is coming soon!\n",
    "    <br>\n",
    "    <br>\n",
    "    You can find all the exercises and solutions on <a href=\"https://github.com/vopani/datatableton#exercises-\">GitHub</a>\n",
    "</center>"
   ]
  }
 ],
 "metadata": {
  "kernelspec": {
   "display_name": "Python 3",
   "language": "python",
   "name": "python3"
  },
  "language_info": {
   "codemirror_mode": {
    "name": "ipython",
    "version": 3
   },
   "file_extension": ".py",
   "mimetype": "text/x-python",
   "name": "python",
   "nbconvert_exporter": "python",
   "pygments_lexer": "ipython3",
   "version": "3.7.10"
  },
  "papermill": {
   "default_parameters": {},
   "duration": 59.936867,
   "end_time": "2021-07-15T18:14:13.609035",
   "environment_variables": {},
   "exception": null,
   "input_path": "__notebook__.ipynb",
   "output_path": "__notebook__.ipynb",
   "parameters": {},
   "start_time": "2021-07-15T18:13:13.672168",
   "version": "2.3.3"
  }
 },
 "nbformat": 4,
 "nbformat_minor": 5
}
