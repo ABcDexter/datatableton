{
 "cells": [
  {
   "cell_type": "markdown",
   "id": "86f70196",
   "metadata": {
    "_cell_guid": "b1076dfc-b9ad-4769-8c92-a6c4dae69d19",
    "_uuid": "8f2839f25d086af736a60e9eeb907d3b93b6e0e5",
    "papermill": {
     "duration": 0.019614,
     "end_time": "2021-07-13T06:23:39.569621",
     "exception": false,
     "start_time": "2021-07-13T06:23:39.550007",
     "status": "completed"
    },
    "tags": []
   },
   "source": [
    "<center>\n",
    "    <h1>DatatableTon</h1>\n",
    "    💯 datatable exercises\n",
    "    <br>\n",
    "    <br>\n",
    "    <a href='https://github.com/vopani/datatableton/blob/master/LICENSE'>\n",
    "        <img src='https://img.shields.io/badge/license-Apache%202.0-blue.svg?logo=apache'>\n",
    "    </a>\n",
    "    <a href='https://github.com/vopani/datatableton'>\n",
    "        <img src='https://img.shields.io/github/stars/vopani/datatableton?color=yellowgreen&logo=github'>\n",
    "    </a>\n",
    "    <a href='https://twitter.com/vopani'>\n",
    "        <img src='https://img.shields.io/twitter/follow/vopani'>\n",
    "    </a>\n",
    "</center>"
   ]
  },
  {
   "cell_type": "markdown",
   "id": "514d2a95",
   "metadata": {
    "papermill": {
     "duration": 0.019151,
     "end_time": "2021-07-13T06:23:39.609034",
     "exception": false,
     "start_time": "2021-07-13T06:23:39.589883",
     "status": "completed"
    },
    "tags": []
   },
   "source": [
    "<center>\n",
    "    This is Set 4: Frame Operations (Exercises 31-40) of <b>DatatableTon</b>: <i>💯 datatable exercises</i>\n",
    "    <br>\n",
    "    You can find all the exercises and solutions on <a href=\"https://github.com/vopani/datatableton#exercises-\">GitHub</a>\n",
    "</center>"
   ]
  },
  {
   "cell_type": "markdown",
   "id": "876fac46",
   "metadata": {
    "papermill": {
     "duration": 0.017891,
     "end_time": "2021-07-13T06:23:39.645512",
     "exception": false,
     "start_time": "2021-07-13T06:23:39.627621",
     "status": "completed"
    },
    "tags": []
   },
   "source": [
    "**Prerequisites**\n",
    "* The `datatable` package should be upgraded to the latest version (or v1.0.0+).\n",
    "* The sample dataset [titanic.csv](https://www.openml.org/d/40945) will be used for the exercises."
   ]
  },
  {
   "cell_type": "code",
   "execution_count": 1,
   "id": "2dfd53b1",
   "metadata": {
    "_kg_hide-output": true,
    "execution": {
     "iopub.execute_input": "2021-07-13T06:23:39.696869Z",
     "iopub.status.busy": "2021-07-13T06:23:39.696140Z",
     "iopub.status.idle": "2021-07-13T06:24:17.692773Z",
     "shell.execute_reply": "2021-07-13T06:24:17.691856Z",
     "shell.execute_reply.started": "2021-07-13T05:58:15.965858Z"
    },
    "papermill": {
     "duration": 38.029293,
     "end_time": "2021-07-13T06:24:17.692963",
     "exception": false,
     "start_time": "2021-07-13T06:23:39.663670",
     "status": "completed"
    },
    "tags": []
   },
   "outputs": [
    {
     "name": "stdout",
     "output_type": "stream",
     "text": [
      "Requirement already satisfied: pip in /opt/conda/lib/python3.7/site-packages (21.1.2)\r\n",
      "Collecting pip\r\n",
      "  Downloading pip-21.1.3-py3-none-any.whl (1.5 MB)\r\n",
      "\u001b[K     |████████████████████████████████| 1.5 MB 1.1 MB/s \r\n",
      "\u001b[?25hInstalling collected packages: pip\r\n",
      "  Attempting uninstall: pip\r\n",
      "    Found existing installation: pip 21.1.2\r\n",
      "    Uninstalling pip-21.1.2:\r\n",
      "      Successfully uninstalled pip-21.1.2\r\n",
      "Successfully installed pip-21.1.3\r\n",
      "\u001b[33mWARNING: Running pip as root will break packages and permissions. You should install packages reliably by using venv: https://pip.pypa.io/warnings/venv\u001b[0m\r\n",
      "Requirement already satisfied: datatable in /opt/conda/lib/python3.7/site-packages (1.0.0)\r\n",
      "\u001b[33mWARNING: Running pip as the 'root' user can result in broken permissions and conflicting behaviour with the system package manager. It is recommended to use a virtual environment instead: https://pip.pypa.io/warnings/venv\u001b[0m\r\n",
      "--2021-07-13 06:24:16--  https://www.openml.org/data/get_csv/16826755/titanic.csv\r\n",
      "Resolving www.openml.org (www.openml.org)... 131.155.11.11\r\n",
      "Connecting to www.openml.org (www.openml.org)|131.155.11.11|:443... connected.\r\n",
      "HTTP request sent, awaiting response... 200 OK\r\n",
      "Length: unspecified [text/plain]\r\n",
      "Saving to: ‘titanic.csv’\r\n",
      "\r\n",
      "titanic.csv             [  <=>               ] 114.98K   276KB/s    in 0.4s    \r\n",
      "\r\n",
      "2021-07-13 06:24:17 (276 KB/s) - ‘titanic.csv’ saved [117743]\r\n",
      "\r\n"
     ]
    }
   ],
   "source": [
    "!python3 -m pip install -U pip\n",
    "!python3 -m pip install -U datatable\n",
    "!wget https://www.openml.org/data/get_csv/16826755/titanic.csv"
   ]
  },
  {
   "cell_type": "code",
   "execution_count": 2,
   "id": "4b8ce33b",
   "metadata": {
    "execution": {
     "iopub.execute_input": "2021-07-13T06:24:17.749269Z",
     "iopub.status.busy": "2021-07-13T06:24:17.748637Z",
     "iopub.status.idle": "2021-07-13T06:24:18.036107Z",
     "shell.execute_reply": "2021-07-13T06:24:18.035499Z",
     "shell.execute_reply.started": "2021-07-13T05:58:26.396318Z"
    },
    "papermill": {
     "duration": 0.318141,
     "end_time": "2021-07-13T06:24:18.036255",
     "exception": false,
     "start_time": "2021-07-13T06:24:17.718114",
     "status": "completed"
    },
    "tags": []
   },
   "outputs": [
    {
     "data": {
      "text/html": [
       "<style type='text/css'>\n",
       ".datatable table.frame { margin-bottom: 0; }\n",
       ".datatable table.frame thead { border-bottom: none; }\n",
       ".datatable table.frame tr.coltypes td {  color: #FFFFFF;  line-height: 6px;  padding: 0 0.5em;}\n",
       ".datatable .bool    { background: #DDDD99; }\n",
       ".datatable .object  { background: #565656; }\n",
       ".datatable .int     { background: #5D9E5D; }\n",
       ".datatable .float   { background: #4040CC; }\n",
       ".datatable .str     { background: #CC4040; }\n",
       ".datatable .time    { background: #40CC40; }\n",
       ".datatable .row_index {  background: var(--jp-border-color3);  border-right: 1px solid var(--jp-border-color0);  color: var(--jp-ui-font-color3);  font-size: 9px;}\n",
       ".datatable .frame tbody td { text-align: left; }\n",
       ".datatable .frame tr.coltypes .row_index {  background: var(--jp-border-color0);}\n",
       ".datatable th:nth-child(2) { padding-left: 12px; }\n",
       ".datatable .hellipsis {  color: var(--jp-cell-editor-border-color);}\n",
       ".datatable .vellipsis {  background: var(--jp-layout-color0);  color: var(--jp-cell-editor-border-color);}\n",
       ".datatable .na {  color: var(--jp-cell-editor-border-color);  font-size: 80%;}\n",
       ".datatable .sp {  opacity: 0.25;}\n",
       ".datatable .footer { font-size: 9px; }\n",
       ".datatable .frame_dimensions {  background: var(--jp-border-color3);  border-top: 1px solid var(--jp-border-color0);  color: var(--jp-ui-font-color3);  display: inline-block;  opacity: 0.6;  padding: 1px 10px 1px 5px;}\n",
       "</style>\n"
      ],
      "text/plain": [
       "<IPython.core.display.HTML object>"
      ]
     },
     "metadata": {},
     "output_type": "display_data"
    },
    {
     "data": {
      "text/html": [
       "<div class='datatable'>\n",
       "  <table class='frame'>\n",
       "  <thead>\n",
       "    <tr class='colnames'><td class='row_index'></td><th>pclass</th><th>survived</th><th>name</th><th>sex</th><th>age</th><th>sibsp</th><th>parch</th><th>ticket</th><th>fare</th><th>cabin</th><th>embarked</th><th>boat</th><th>body</th><th>home.dest</th></tr>\n",
       "    <tr class='coltypes'><td class='row_index'></td><td class='int' title='int32'>&#x25AA;&#x25AA;&#x25AA;&#x25AA;</td><td class='bool' title='bool8'>&#x25AA;</td><td class='str' title='str32'>&#x25AA;&#x25AA;&#x25AA;&#x25AA;</td><td class='str' title='str32'>&#x25AA;&#x25AA;&#x25AA;&#x25AA;</td><td class='str' title='str32'>&#x25AA;&#x25AA;&#x25AA;&#x25AA;</td><td class='int' title='int32'>&#x25AA;&#x25AA;&#x25AA;&#x25AA;</td><td class='int' title='int32'>&#x25AA;&#x25AA;&#x25AA;&#x25AA;</td><td class='str' title='str32'>&#x25AA;&#x25AA;&#x25AA;&#x25AA;</td><td class='str' title='str32'>&#x25AA;&#x25AA;&#x25AA;&#x25AA;</td><td class='str' title='str32'>&#x25AA;&#x25AA;&#x25AA;&#x25AA;</td><td class='str' title='str32'>&#x25AA;&#x25AA;&#x25AA;&#x25AA;</td><td class='str' title='str32'>&#x25AA;&#x25AA;&#x25AA;&#x25AA;</td><td class='str' title='str32'>&#x25AA;&#x25AA;&#x25AA;&#x25AA;</td><td class='str' title='str32'>&#x25AA;&#x25AA;&#x25AA;&#x25AA;</td></tr>\n",
       "  </thead>\n",
       "  <tbody>\n",
       "    <tr><td class='row_index'>0</td><td>1</td><td>1</td><td>Allen, Miss. Elisabeth Walton</td><td>female</td><td>29</td><td>0</td><td>0</td><td>24160</td><td>211.3375</td><td>B5</td><td>S</td><td>2</td><td>?</td><td>St Louis, MO</td></tr>\n",
       "    <tr><td class='row_index'>1</td><td>1</td><td>1</td><td>Allison, Master. Hudson Trevor</td><td>male</td><td>0.9167</td><td>1</td><td>2</td><td>113781</td><td>151.55</td><td>C22 C26</td><td>S</td><td>11</td><td>?</td><td>Montreal, PQ / Chesterville, ON</td></tr>\n",
       "    <tr><td class='row_index'>2</td><td>1</td><td>0</td><td>Allison, Miss. Helen Loraine</td><td>female</td><td>2</td><td>1</td><td>2</td><td>113781</td><td>151.55</td><td>C22 C26</td><td>S</td><td>?</td><td>?</td><td>Montreal, PQ / Chesterville, ON</td></tr>\n",
       "    <tr><td class='row_index'>3</td><td>1</td><td>0</td><td>Allison, Mr. Hudson Joshua Creighton</td><td>male</td><td>30</td><td>1</td><td>2</td><td>113781</td><td>151.55</td><td>C22 C26</td><td>S</td><td>?</td><td>135</td><td>Montreal, PQ / Chesterville, ON</td></tr>\n",
       "    <tr><td class='row_index'>4</td><td>1</td><td>0</td><td>Allison, Mrs. Hudson J C (Bessie Waldo Daniels)</td><td>female</td><td>25</td><td>1</td><td>2</td><td>113781</td><td>151.55</td><td>C22 C26</td><td>S</td><td>?</td><td>?</td><td>Montreal, PQ / Chesterville, ON</td></tr>\n",
       "    <tr><td class='row_index'>5</td><td>1</td><td>1</td><td>Anderson, Mr. Harry</td><td>male</td><td>48</td><td>0</td><td>0</td><td>19952</td><td>26.55</td><td>E12</td><td>S</td><td>3</td><td>?</td><td>New York, NY</td></tr>\n",
       "    <tr><td class='row_index'>6</td><td>1</td><td>1</td><td>Andrews, Miss. Kornelia Theodosia</td><td>female</td><td>63</td><td>1</td><td>0</td><td>13502</td><td>77.9583</td><td>D7</td><td>S</td><td>10</td><td>?</td><td>Hudson, NY</td></tr>\n",
       "    <tr><td class='row_index'>7</td><td>1</td><td>0</td><td>Andrews, Mr. Thomas Jr</td><td>male</td><td>39</td><td>0</td><td>0</td><td>112050</td><td>0</td><td>A36</td><td>S</td><td>?</td><td>?</td><td>Belfast, NI</td></tr>\n",
       "    <tr><td class='row_index'>8</td><td>1</td><td>1</td><td>Appleton, Mrs. Edward Dale (Charlotte Lamson)</td><td>female</td><td>53</td><td>2</td><td>0</td><td>11769</td><td>51.4792</td><td>C101</td><td>S</td><td>D</td><td>?</td><td>Bayside, Queens, NY</td></tr>\n",
       "    <tr><td class='row_index'>9</td><td>1</td><td>0</td><td>Artagaveytia, Mr. Ramon</td><td>male</td><td>71</td><td>0</td><td>0</td><td>PC 17609</td><td>49.5042</td><td>?</td><td>C</td><td>?</td><td>22</td><td>Montevideo, Uruguay</td></tr>\n",
       "  </tbody>\n",
       "  </table>\n",
       "  <div class='footer'>\n",
       "    <div class='frame_dimensions'>10 rows &times; 14 columns</div>\n",
       "  </div>\n",
       "</div>\n"
      ],
      "text/plain": [
       "<Frame#7f1657af0db0 10x14>"
      ]
     },
     "execution_count": 2,
     "metadata": {},
     "output_type": "execute_result"
    }
   ],
   "source": [
    "import datatable as dt\n",
    "\n",
    "data = dt.fread('titanic.csv')\n",
    "data.head()"
   ]
  },
  {
   "cell_type": "markdown",
   "id": "158a0bcd",
   "metadata": {
    "execution": {
     "iopub.execute_input": "2021-07-12T10:35:52.5097Z",
     "iopub.status.busy": "2021-07-12T10:35:52.509278Z",
     "iopub.status.idle": "2021-07-12T10:35:52.517897Z",
     "shell.execute_reply": "2021-07-12T10:35:52.51596Z",
     "shell.execute_reply.started": "2021-07-12T10:35:52.509666Z"
    },
    "papermill": {
     "duration": 0.026032,
     "end_time": "2021-07-13T06:24:18.088726",
     "exception": false,
     "start_time": "2021-07-13T06:24:18.062694",
     "status": "completed"
    },
    "tags": []
   },
   "source": [
    "**Exercise 31: Print all the column names and column types of `data` in `column-name : column-type` format**"
   ]
  },
  {
   "cell_type": "code",
   "execution_count": 3,
   "id": "e7e4ae6e",
   "metadata": {
    "execution": {
     "iopub.execute_input": "2021-07-13T06:24:18.148518Z",
     "iopub.status.busy": "2021-07-13T06:24:18.147458Z",
     "iopub.status.idle": "2021-07-13T06:24:18.154554Z",
     "shell.execute_reply": "2021-07-13T06:24:18.153858Z",
     "shell.execute_reply.started": "2021-07-13T05:58:26.63898Z"
    },
    "papermill": {
     "duration": 0.039791,
     "end_time": "2021-07-13T06:24:18.154721",
     "exception": false,
     "start_time": "2021-07-13T06:24:18.114930",
     "status": "completed"
    },
    "tags": []
   },
   "outputs": [
    {
     "name": "stdout",
     "output_type": "stream",
     "text": [
      "pclass : int32\n",
      "survived : bool8\n",
      "name : str32\n",
      "sex : str32\n",
      "age : str32\n",
      "sibsp : int32\n",
      "parch : int32\n",
      "ticket : str32\n",
      "fare : str32\n",
      "cabin : str32\n",
      "embarked : str32\n",
      "boat : str32\n",
      "body : str32\n",
      "home.dest : str32\n"
     ]
    }
   ],
   "source": [
    "for i in range(data.ncols):\n",
    "    print(f'{data.names[i]} : {data.types[i].name}')"
   ]
  },
  {
   "cell_type": "markdown",
   "id": "eebfc749",
   "metadata": {
    "papermill": {
     "duration": 0.036199,
     "end_time": "2021-07-13T06:24:18.228937",
     "exception": false,
     "start_time": "2021-07-13T06:24:18.192738",
     "status": "completed"
    },
    "tags": []
   },
   "source": [
    "**Exercise 32: Convert the type of column `age` in `data` from `str32` to `float`**"
   ]
  },
  {
   "cell_type": "code",
   "execution_count": 4,
   "id": "09e91333",
   "metadata": {
    "execution": {
     "iopub.execute_input": "2021-07-13T06:24:18.295586Z",
     "iopub.status.busy": "2021-07-13T06:24:18.290865Z",
     "iopub.status.idle": "2021-07-13T06:24:18.299171Z",
     "shell.execute_reply": "2021-07-13T06:24:18.299720Z",
     "shell.execute_reply.started": "2021-07-13T05:58:32.942534Z"
    },
    "papermill": {
     "duration": 0.038681,
     "end_time": "2021-07-13T06:24:18.299902",
     "exception": false,
     "start_time": "2021-07-13T06:24:18.261221",
     "status": "completed"
    },
    "tags": []
   },
   "outputs": [
    {
     "data": {
      "text/plain": [
       "'float64'"
      ]
     },
     "execution_count": 4,
     "metadata": {},
     "output_type": "execute_result"
    }
   ],
   "source": [
    "data['age'] = dt.as_type(dt.f.age, float)\n",
    "data['age'].types[0].name"
   ]
  },
  {
   "cell_type": "markdown",
   "id": "2a55f70e",
   "metadata": {
    "papermill": {
     "duration": 0.027322,
     "end_time": "2021-07-13T06:24:18.361183",
     "exception": false,
     "start_time": "2021-07-13T06:24:18.333861",
     "status": "completed"
    },
    "tags": []
   },
   "source": [
    "**Exercise 33: Rename the column `home.dest` in `data` to `address`**"
   ]
  },
  {
   "cell_type": "code",
   "execution_count": 5,
   "id": "59d7bd6b",
   "metadata": {
    "execution": {
     "iopub.execute_input": "2021-07-13T06:24:18.420370Z",
     "iopub.status.busy": "2021-07-13T06:24:18.419437Z",
     "iopub.status.idle": "2021-07-13T06:24:18.426139Z",
     "shell.execute_reply": "2021-07-13T06:24:18.426699Z",
     "shell.execute_reply.started": "2021-07-13T05:58:34.027487Z"
    },
    "papermill": {
     "duration": 0.037865,
     "end_time": "2021-07-13T06:24:18.426875",
     "exception": false,
     "start_time": "2021-07-13T06:24:18.389010",
     "status": "completed"
    },
    "tags": []
   },
   "outputs": [
    {
     "data": {
      "text/plain": [
       "('pclass',\n",
       " 'survived',\n",
       " 'name',\n",
       " 'sex',\n",
       " 'age',\n",
       " 'sibsp',\n",
       " 'parch',\n",
       " 'ticket',\n",
       " 'fare',\n",
       " 'cabin',\n",
       " 'embarked',\n",
       " 'boat',\n",
       " 'body',\n",
       " 'address')"
      ]
     },
     "execution_count": 5,
     "metadata": {},
     "output_type": "execute_result"
    }
   ],
   "source": [
    "data.names = {'home.dest': 'address'}\n",
    "data.names"
   ]
  },
  {
   "cell_type": "markdown",
   "id": "4fec9869",
   "metadata": {
    "papermill": {
     "duration": 0.035919,
     "end_time": "2021-07-13T06:24:18.498485",
     "exception": false,
     "start_time": "2021-07-13T06:24:18.462566",
     "status": "completed"
    },
    "tags": []
   },
   "source": [
    "**Exercise 34: Sort `data` in descending order of `fare`**"
   ]
  },
  {
   "cell_type": "code",
   "execution_count": 6,
   "id": "a1838029",
   "metadata": {
    "execution": {
     "iopub.execute_input": "2021-07-13T06:24:18.570226Z",
     "iopub.status.busy": "2021-07-13T06:24:18.569274Z",
     "iopub.status.idle": "2021-07-13T06:24:18.808078Z",
     "shell.execute_reply": "2021-07-13T06:24:18.808780Z",
     "shell.execute_reply.started": "2021-07-13T05:59:43.688133Z"
    },
    "papermill": {
     "duration": 0.278382,
     "end_time": "2021-07-13T06:24:18.808983",
     "exception": false,
     "start_time": "2021-07-13T06:24:18.530601",
     "status": "completed"
    },
    "tags": []
   },
   "outputs": [
    {
     "data": {
      "text/html": [
       "<div class='datatable'>\n",
       "  <table class='frame'>\n",
       "  <thead>\n",
       "    <tr class='colnames'><td class='row_index'></td><th>pclass</th><th>survived</th><th>name</th><th>sex</th><th>age</th><th>sibsp</th><th>parch</th><th>ticket</th><th>fare</th><th>cabin</th><th>embarked</th><th>boat</th><th>body</th><th>address</th></tr>\n",
       "    <tr class='coltypes'><td class='row_index'></td><td class='int' title='int32'>&#x25AA;&#x25AA;&#x25AA;&#x25AA;</td><td class='bool' title='bool8'>&#x25AA;</td><td class='str' title='str32'>&#x25AA;&#x25AA;&#x25AA;&#x25AA;</td><td class='str' title='str32'>&#x25AA;&#x25AA;&#x25AA;&#x25AA;</td><td class='float' title='float64'>&#x25AA;&#x25AA;&#x25AA;&#x25AA;&#x25AA;&#x25AA;&#x25AA;&#x25AA;</td><td class='int' title='int32'>&#x25AA;&#x25AA;&#x25AA;&#x25AA;</td><td class='int' title='int32'>&#x25AA;&#x25AA;&#x25AA;&#x25AA;</td><td class='str' title='str32'>&#x25AA;&#x25AA;&#x25AA;&#x25AA;</td><td class='str' title='str32'>&#x25AA;&#x25AA;&#x25AA;&#x25AA;</td><td class='str' title='str32'>&#x25AA;&#x25AA;&#x25AA;&#x25AA;</td><td class='str' title='str32'>&#x25AA;&#x25AA;&#x25AA;&#x25AA;</td><td class='str' title='str32'>&#x25AA;&#x25AA;&#x25AA;&#x25AA;</td><td class='str' title='str32'>&#x25AA;&#x25AA;&#x25AA;&#x25AA;</td><td class='str' title='str32'>&#x25AA;&#x25AA;&#x25AA;&#x25AA;</td></tr>\n",
       "  </thead>\n",
       "  <tbody>\n",
       "    <tr><td class='row_index'>0</td><td>3</td><td>0</td><td>Storey, Mr. Thomas</td><td>male</td><td>60.5</td><td>0</td><td>0</td><td>3701</td><td>?</td><td>?</td><td>S</td><td>?</td><td>261</td><td>?</td></tr>\n",
       "    <tr><td class='row_index'>1</td><td>1</td><td>1</td><td>Cardeza, Mr. Thomas Drake Martinez</td><td>male</td><td>36</td><td>0</td><td>1</td><td>PC 17755</td><td>512.3292</td><td>B51 B53 B55</td><td>C</td><td>3</td><td>?</td><td>Austria-Hungary / Germantown, Philadelphia, PA</td></tr>\n",
       "    <tr><td class='row_index'>2</td><td>1</td><td>1</td><td>Cardeza, Mrs. James Warburton Martinez (Charlotte &#133;</td><td>female</td><td>58</td><td>0</td><td>1</td><td>PC 17755</td><td>512.3292</td><td>B51 B53 B55</td><td>C</td><td>3</td><td>?</td><td>Germantown, Philadelphia, PA</td></tr>\n",
       "    <tr><td class='row_index'>3</td><td>1</td><td>1</td><td>Lesurer, Mr. Gustave J</td><td>male</td><td>35</td><td>0</td><td>0</td><td>PC 17755</td><td>512.3292</td><td>B101</td><td>C</td><td>3</td><td>?</td><td>?</td></tr>\n",
       "    <tr><td class='row_index'>4</td><td>1</td><td>1</td><td>Ward, Miss. Anna</td><td>female</td><td>35</td><td>0</td><td>0</td><td>PC 17755</td><td>512.3292</td><td>?</td><td>C</td><td>3</td><td>?</td><td>?</td></tr>\n",
       "    <tr><td class='row_index'>5</td><td>1</td><td>1</td><td>Fortune, Miss. Alice Elizabeth</td><td>female</td><td>24</td><td>3</td><td>2</td><td>19950</td><td>263</td><td>C23 C25 C27</td><td>S</td><td>10</td><td>?</td><td>Winnipeg, MB</td></tr>\n",
       "    <tr><td class='row_index'>6</td><td>1</td><td>1</td><td>Fortune, Miss. Ethel Flora</td><td>female</td><td>28</td><td>3</td><td>2</td><td>19950</td><td>263</td><td>C23 C25 C27</td><td>S</td><td>10</td><td>?</td><td>Winnipeg, MB</td></tr>\n",
       "    <tr><td class='row_index'>7</td><td>1</td><td>1</td><td>Fortune, Miss. Mabel Helen</td><td>female</td><td>23</td><td>3</td><td>2</td><td>19950</td><td>263</td><td>C23 C25 C27</td><td>S</td><td>10</td><td>?</td><td>Winnipeg, MB</td></tr>\n",
       "    <tr><td class='row_index'>8</td><td>1</td><td>0</td><td>Fortune, Mr. Charles Alexander</td><td>male</td><td>19</td><td>3</td><td>2</td><td>19950</td><td>263</td><td>C23 C25 C27</td><td>S</td><td>?</td><td>?</td><td>Winnipeg, MB</td></tr>\n",
       "    <tr><td class='row_index'>9</td><td>1</td><td>0</td><td>Fortune, Mr. Mark</td><td>male</td><td>64</td><td>1</td><td>4</td><td>19950</td><td>263</td><td>C23 C25 C27</td><td>S</td><td>?</td><td>?</td><td>Winnipeg, MB</td></tr>\n",
       "  </tbody>\n",
       "  </table>\n",
       "  <div class='footer'>\n",
       "    <div class='frame_dimensions'>10 rows &times; 14 columns</div>\n",
       "  </div>\n",
       "</div>\n"
      ],
      "text/plain": [
       "<Frame#7f164ad35d50 10x14>"
      ]
     },
     "execution_count": 6,
     "metadata": {},
     "output_type": "execute_result"
    }
   ],
   "source": [
    "data = data.sort(-dt.as_type(dt.f.fare, float))\n",
    "data.head()"
   ]
  },
  {
   "cell_type": "markdown",
   "id": "49b27117",
   "metadata": {
    "papermill": {
     "duration": 0.027769,
     "end_time": "2021-07-13T06:24:18.890078",
     "exception": false,
     "start_time": "2021-07-13T06:24:18.862309",
     "status": "completed"
    },
    "tags": []
   },
   "source": [
    "**Exercise 35: Create a column `deck` in `data` containing only the first character of `cabin`**"
   ]
  },
  {
   "cell_type": "code",
   "execution_count": 7,
   "id": "1783289e",
   "metadata": {
    "execution": {
     "iopub.execute_input": "2021-07-13T06:24:18.953012Z",
     "iopub.status.busy": "2021-07-13T06:24:18.951978Z",
     "iopub.status.idle": "2021-07-13T06:24:18.955947Z",
     "shell.execute_reply": "2021-07-13T06:24:18.956694Z",
     "shell.execute_reply.started": "2021-07-13T04:28:11.055227Z"
    },
    "papermill": {
     "duration": 0.038904,
     "end_time": "2021-07-13T06:24:18.956963",
     "exception": false,
     "start_time": "2021-07-13T06:24:18.918059",
     "status": "completed"
    },
    "tags": []
   },
   "outputs": [
    {
     "data": {
      "text/html": [
       "<div class='datatable'>\n",
       "  <table class='frame'>\n",
       "  <thead>\n",
       "    <tr class='colnames'><td class='row_index'></td><th>pclass</th><th>survived</th><th>name</th><th>sex</th><th>age</th><th>sibsp</th><th>parch</th><th>ticket</th><th>fare</th><th>cabin</th><th>embarked</th><th>boat</th><th>body</th><th>address</th><th>deck</th></tr>\n",
       "    <tr class='coltypes'><td class='row_index'></td><td class='int' title='int32'>&#x25AA;&#x25AA;&#x25AA;&#x25AA;</td><td class='bool' title='bool8'>&#x25AA;</td><td class='str' title='str32'>&#x25AA;&#x25AA;&#x25AA;&#x25AA;</td><td class='str' title='str32'>&#x25AA;&#x25AA;&#x25AA;&#x25AA;</td><td class='float' title='float64'>&#x25AA;&#x25AA;&#x25AA;&#x25AA;&#x25AA;&#x25AA;&#x25AA;&#x25AA;</td><td class='int' title='int32'>&#x25AA;&#x25AA;&#x25AA;&#x25AA;</td><td class='int' title='int32'>&#x25AA;&#x25AA;&#x25AA;&#x25AA;</td><td class='str' title='str32'>&#x25AA;&#x25AA;&#x25AA;&#x25AA;</td><td class='str' title='str32'>&#x25AA;&#x25AA;&#x25AA;&#x25AA;</td><td class='str' title='str32'>&#x25AA;&#x25AA;&#x25AA;&#x25AA;</td><td class='str' title='str32'>&#x25AA;&#x25AA;&#x25AA;&#x25AA;</td><td class='str' title='str32'>&#x25AA;&#x25AA;&#x25AA;&#x25AA;</td><td class='str' title='str32'>&#x25AA;&#x25AA;&#x25AA;&#x25AA;</td><td class='str' title='str32'>&#x25AA;&#x25AA;&#x25AA;&#x25AA;</td><td class='str' title='str32'>&#x25AA;&#x25AA;&#x25AA;&#x25AA;</td></tr>\n",
       "  </thead>\n",
       "  <tbody>\n",
       "    <tr><td class='row_index'>0</td><td>3</td><td>0</td><td>Storey, Mr. Thomas</td><td>male</td><td>60.5</td><td>0</td><td>0</td><td>3701</td><td>?</td><td>?</td><td>S</td><td>?</td><td>261</td><td>?</td><td>?</td></tr>\n",
       "    <tr><td class='row_index'>1</td><td>1</td><td>1</td><td>Cardeza, Mr. Thomas Drake Martinez</td><td>male</td><td>36</td><td>0</td><td>1</td><td>PC 17755</td><td>512.3292</td><td>B51 B53 B55</td><td>C</td><td>3</td><td>?</td><td>Austria-Hungary / Germantown, Philadelphia, PA</td><td>B</td></tr>\n",
       "    <tr><td class='row_index'>2</td><td>1</td><td>1</td><td>Cardeza, Mrs. James Warburton Martinez (Charlotte &#133;</td><td>female</td><td>58</td><td>0</td><td>1</td><td>PC 17755</td><td>512.3292</td><td>B51 B53 B55</td><td>C</td><td>3</td><td>?</td><td>Germantown, Philadelphia, PA</td><td>B</td></tr>\n",
       "    <tr><td class='row_index'>3</td><td>1</td><td>1</td><td>Lesurer, Mr. Gustave J</td><td>male</td><td>35</td><td>0</td><td>0</td><td>PC 17755</td><td>512.3292</td><td>B101</td><td>C</td><td>3</td><td>?</td><td>?</td><td>B</td></tr>\n",
       "    <tr><td class='row_index'>4</td><td>1</td><td>1</td><td>Ward, Miss. Anna</td><td>female</td><td>35</td><td>0</td><td>0</td><td>PC 17755</td><td>512.3292</td><td>?</td><td>C</td><td>3</td><td>?</td><td>?</td><td>?</td></tr>\n",
       "    <tr><td class='row_index'>5</td><td>1</td><td>1</td><td>Fortune, Miss. Alice Elizabeth</td><td>female</td><td>24</td><td>3</td><td>2</td><td>19950</td><td>263</td><td>C23 C25 C27</td><td>S</td><td>10</td><td>?</td><td>Winnipeg, MB</td><td>C</td></tr>\n",
       "    <tr><td class='row_index'>6</td><td>1</td><td>1</td><td>Fortune, Miss. Ethel Flora</td><td>female</td><td>28</td><td>3</td><td>2</td><td>19950</td><td>263</td><td>C23 C25 C27</td><td>S</td><td>10</td><td>?</td><td>Winnipeg, MB</td><td>C</td></tr>\n",
       "    <tr><td class='row_index'>7</td><td>1</td><td>1</td><td>Fortune, Miss. Mabel Helen</td><td>female</td><td>23</td><td>3</td><td>2</td><td>19950</td><td>263</td><td>C23 C25 C27</td><td>S</td><td>10</td><td>?</td><td>Winnipeg, MB</td><td>C</td></tr>\n",
       "    <tr><td class='row_index'>8</td><td>1</td><td>0</td><td>Fortune, Mr. Charles Alexander</td><td>male</td><td>19</td><td>3</td><td>2</td><td>19950</td><td>263</td><td>C23 C25 C27</td><td>S</td><td>?</td><td>?</td><td>Winnipeg, MB</td><td>C</td></tr>\n",
       "    <tr><td class='row_index'>9</td><td>1</td><td>0</td><td>Fortune, Mr. Mark</td><td>male</td><td>64</td><td>1</td><td>4</td><td>19950</td><td>263</td><td>C23 C25 C27</td><td>S</td><td>?</td><td>?</td><td>Winnipeg, MB</td><td>C</td></tr>\n",
       "  </tbody>\n",
       "  </table>\n",
       "  <div class='footer'>\n",
       "    <div class='frame_dimensions'>10 rows &times; 15 columns</div>\n",
       "  </div>\n",
       "</div>\n"
      ],
      "text/plain": [
       "<Frame#7f164ad35ed0 10x15>"
      ]
     },
     "execution_count": 7,
     "metadata": {},
     "output_type": "execute_result"
    }
   ],
   "source": [
    "data['deck'] = dt.str.slice(dt.f.cabin, None, 1)\n",
    "data.head()"
   ]
  },
  {
   "cell_type": "markdown",
   "id": "3bfeb8b1",
   "metadata": {
    "papermill": {
     "duration": 0.032239,
     "end_time": "2021-07-13T06:24:19.024216",
     "exception": false,
     "start_time": "2021-07-13T06:24:18.991977",
     "status": "completed"
    },
    "tags": []
   },
   "source": [
    "**Exercise 36: Create a column `family` in `data` which is the sum of two columns `sibsp` and `parch`**"
   ]
  },
  {
   "cell_type": "code",
   "execution_count": 8,
   "id": "c64b67d2",
   "metadata": {
    "execution": {
     "iopub.execute_input": "2021-07-13T06:24:19.088449Z",
     "iopub.status.busy": "2021-07-13T06:24:19.087695Z",
     "iopub.status.idle": "2021-07-13T06:24:19.090982Z",
     "shell.execute_reply": "2021-07-13T06:24:19.091485Z",
     "shell.execute_reply.started": "2021-07-13T04:28:36.35308Z"
    },
    "papermill": {
     "duration": 0.038893,
     "end_time": "2021-07-13T06:24:19.091700",
     "exception": false,
     "start_time": "2021-07-13T06:24:19.052807",
     "status": "completed"
    },
    "tags": []
   },
   "outputs": [
    {
     "data": {
      "text/html": [
       "<div class='datatable'>\n",
       "  <table class='frame'>\n",
       "  <thead>\n",
       "    <tr class='colnames'><td class='row_index'></td><th>pclass</th><th>survived</th><th>name</th><th>sex</th><th>age</th><th>sibsp</th><th>parch</th><th>ticket</th><th>fare</th><th>cabin</th><th class='vellipsis'>&hellip;</th><th>boat</th><th>body</th><th>address</th><th>deck</th><th>family</th></tr>\n",
       "    <tr class='coltypes'><td class='row_index'></td><td class='int' title='int32'>&#x25AA;&#x25AA;&#x25AA;&#x25AA;</td><td class='bool' title='bool8'>&#x25AA;</td><td class='str' title='str32'>&#x25AA;&#x25AA;&#x25AA;&#x25AA;</td><td class='str' title='str32'>&#x25AA;&#x25AA;&#x25AA;&#x25AA;</td><td class='float' title='float64'>&#x25AA;&#x25AA;&#x25AA;&#x25AA;&#x25AA;&#x25AA;&#x25AA;&#x25AA;</td><td class='int' title='int32'>&#x25AA;&#x25AA;&#x25AA;&#x25AA;</td><td class='int' title='int32'>&#x25AA;&#x25AA;&#x25AA;&#x25AA;</td><td class='str' title='str32'>&#x25AA;&#x25AA;&#x25AA;&#x25AA;</td><td class='str' title='str32'>&#x25AA;&#x25AA;&#x25AA;&#x25AA;</td><td class='str' title='str32'>&#x25AA;&#x25AA;&#x25AA;&#x25AA;</td><td></td><td class='str' title='str32'>&#x25AA;&#x25AA;&#x25AA;&#x25AA;</td><td class='str' title='str32'>&#x25AA;&#x25AA;&#x25AA;&#x25AA;</td><td class='str' title='str32'>&#x25AA;&#x25AA;&#x25AA;&#x25AA;</td><td class='str' title='str32'>&#x25AA;&#x25AA;&#x25AA;&#x25AA;</td><td class='int' title='int32'>&#x25AA;&#x25AA;&#x25AA;&#x25AA;</td></tr>\n",
       "  </thead>\n",
       "  <tbody>\n",
       "    <tr><td class='row_index'>0</td><td>3</td><td>0</td><td>Storey, Mr. Thomas</td><td>male</td><td>60.5</td><td>0</td><td>0</td><td>3701</td><td>?</td><td>?</td><td class=vellipsis>&hellip;</td><td>?</td><td>261</td><td>?</td><td>?</td><td>0</td></tr>\n",
       "    <tr><td class='row_index'>1</td><td>1</td><td>1</td><td>Cardeza, Mr. Thomas Drake Martinez</td><td>male</td><td>36</td><td>0</td><td>1</td><td>PC 17755</td><td>512.3292</td><td>B51 B53 B55</td><td class=vellipsis>&hellip;</td><td>3</td><td>?</td><td>Austria-Hungary / Germantown, Philadelphia, PA</td><td>B</td><td>1</td></tr>\n",
       "    <tr><td class='row_index'>2</td><td>1</td><td>1</td><td>Cardeza, Mrs. James Warburton Martinez (Charlotte &#133;</td><td>female</td><td>58</td><td>0</td><td>1</td><td>PC 17755</td><td>512.3292</td><td>B51 B53 B55</td><td class=vellipsis>&hellip;</td><td>3</td><td>?</td><td>Germantown, Philadelphia, PA</td><td>B</td><td>1</td></tr>\n",
       "    <tr><td class='row_index'>3</td><td>1</td><td>1</td><td>Lesurer, Mr. Gustave J</td><td>male</td><td>35</td><td>0</td><td>0</td><td>PC 17755</td><td>512.3292</td><td>B101</td><td class=vellipsis>&hellip;</td><td>3</td><td>?</td><td>?</td><td>B</td><td>0</td></tr>\n",
       "    <tr><td class='row_index'>4</td><td>1</td><td>1</td><td>Ward, Miss. Anna</td><td>female</td><td>35</td><td>0</td><td>0</td><td>PC 17755</td><td>512.3292</td><td>?</td><td class=vellipsis>&hellip;</td><td>3</td><td>?</td><td>?</td><td>?</td><td>0</td></tr>\n",
       "    <tr><td class='row_index'>5</td><td>1</td><td>1</td><td>Fortune, Miss. Alice Elizabeth</td><td>female</td><td>24</td><td>3</td><td>2</td><td>19950</td><td>263</td><td>C23 C25 C27</td><td class=vellipsis>&hellip;</td><td>10</td><td>?</td><td>Winnipeg, MB</td><td>C</td><td>5</td></tr>\n",
       "    <tr><td class='row_index'>6</td><td>1</td><td>1</td><td>Fortune, Miss. Ethel Flora</td><td>female</td><td>28</td><td>3</td><td>2</td><td>19950</td><td>263</td><td>C23 C25 C27</td><td class=vellipsis>&hellip;</td><td>10</td><td>?</td><td>Winnipeg, MB</td><td>C</td><td>5</td></tr>\n",
       "    <tr><td class='row_index'>7</td><td>1</td><td>1</td><td>Fortune, Miss. Mabel Helen</td><td>female</td><td>23</td><td>3</td><td>2</td><td>19950</td><td>263</td><td>C23 C25 C27</td><td class=vellipsis>&hellip;</td><td>10</td><td>?</td><td>Winnipeg, MB</td><td>C</td><td>5</td></tr>\n",
       "    <tr><td class='row_index'>8</td><td>1</td><td>0</td><td>Fortune, Mr. Charles Alexander</td><td>male</td><td>19</td><td>3</td><td>2</td><td>19950</td><td>263</td><td>C23 C25 C27</td><td class=vellipsis>&hellip;</td><td>?</td><td>?</td><td>Winnipeg, MB</td><td>C</td><td>5</td></tr>\n",
       "    <tr><td class='row_index'>9</td><td>1</td><td>0</td><td>Fortune, Mr. Mark</td><td>male</td><td>64</td><td>1</td><td>4</td><td>19950</td><td>263</td><td>C23 C25 C27</td><td class=vellipsis>&hellip;</td><td>?</td><td>?</td><td>Winnipeg, MB</td><td>C</td><td>5</td></tr>\n",
       "  </tbody>\n",
       "  </table>\n",
       "  <div class='footer'>\n",
       "    <div class='frame_dimensions'>10 rows &times; 16 columns</div>\n",
       "  </div>\n",
       "</div>\n"
      ],
      "text/plain": [
       "<Frame#7f164ad35ea0 10x16>"
      ]
     },
     "execution_count": 8,
     "metadata": {},
     "output_type": "execute_result"
    }
   ],
   "source": [
    "data['family'] = dt.f.sibsp + dt.f.parch\n",
    "data.head()"
   ]
  },
  {
   "cell_type": "markdown",
   "id": "9bbf8566",
   "metadata": {
    "papermill": {
     "duration": 0.029826,
     "end_time": "2021-07-13T06:24:19.150960",
     "exception": false,
     "start_time": "2021-07-13T06:24:19.121134",
     "status": "completed"
    },
    "tags": []
   },
   "source": [
    "**Exercise 37: Create a column `total_passengers` in `data` which is the sum of `family` and the passenger included and round the values of column `age` in `data` to the nearest integer, both together using a single inplace operation**"
   ]
  },
  {
   "cell_type": "code",
   "execution_count": 9,
   "id": "81b49e43",
   "metadata": {
    "execution": {
     "iopub.execute_input": "2021-07-13T06:24:19.213535Z",
     "iopub.status.busy": "2021-07-13T06:24:19.212852Z",
     "iopub.status.idle": "2021-07-13T06:24:19.219491Z",
     "shell.execute_reply": "2021-07-13T06:24:19.219969Z",
     "shell.execute_reply.started": "2021-07-13T04:28:58.075163Z"
    },
    "papermill": {
     "duration": 0.039474,
     "end_time": "2021-07-13T06:24:19.220165",
     "exception": false,
     "start_time": "2021-07-13T06:24:19.180691",
     "status": "completed"
    },
    "tags": []
   },
   "outputs": [
    {
     "data": {
      "text/html": [
       "<div class='datatable'>\n",
       "  <table class='frame'>\n",
       "  <thead>\n",
       "    <tr class='colnames'><td class='row_index'></td><th>pclass</th><th>survived</th><th>name</th><th>sex</th><th>age</th><th>sibsp</th><th>parch</th><th>ticket</th><th>fare</th><th>cabin</th><th class='vellipsis'>&hellip;</th><th>body</th><th>address</th><th>deck</th><th>family</th><th>total_passengers</th></tr>\n",
       "    <tr class='coltypes'><td class='row_index'></td><td class='int' title='int32'>&#x25AA;&#x25AA;&#x25AA;&#x25AA;</td><td class='bool' title='bool8'>&#x25AA;</td><td class='str' title='str32'>&#x25AA;&#x25AA;&#x25AA;&#x25AA;</td><td class='str' title='str32'>&#x25AA;&#x25AA;&#x25AA;&#x25AA;</td><td class='int' title='int64'>&#x25AA;&#x25AA;&#x25AA;&#x25AA;&#x25AA;&#x25AA;&#x25AA;&#x25AA;</td><td class='int' title='int32'>&#x25AA;&#x25AA;&#x25AA;&#x25AA;</td><td class='int' title='int32'>&#x25AA;&#x25AA;&#x25AA;&#x25AA;</td><td class='str' title='str32'>&#x25AA;&#x25AA;&#x25AA;&#x25AA;</td><td class='str' title='str32'>&#x25AA;&#x25AA;&#x25AA;&#x25AA;</td><td class='str' title='str32'>&#x25AA;&#x25AA;&#x25AA;&#x25AA;</td><td></td><td class='str' title='str32'>&#x25AA;&#x25AA;&#x25AA;&#x25AA;</td><td class='str' title='str32'>&#x25AA;&#x25AA;&#x25AA;&#x25AA;</td><td class='str' title='str32'>&#x25AA;&#x25AA;&#x25AA;&#x25AA;</td><td class='int' title='int32'>&#x25AA;&#x25AA;&#x25AA;&#x25AA;</td><td class='int' title='int32'>&#x25AA;&#x25AA;&#x25AA;&#x25AA;</td></tr>\n",
       "  </thead>\n",
       "  <tbody>\n",
       "    <tr><td class='row_index'>0</td><td>3</td><td>0</td><td>Storey, Mr. Thomas</td><td>male</td><td>60</td><td>0</td><td>0</td><td>3701</td><td>?</td><td>?</td><td class=vellipsis>&hellip;</td><td>261</td><td>?</td><td>?</td><td>0</td><td>1</td></tr>\n",
       "    <tr><td class='row_index'>1</td><td>1</td><td>1</td><td>Cardeza, Mr. Thomas Drake Martinez</td><td>male</td><td>36</td><td>0</td><td>1</td><td>PC 17755</td><td>512.3292</td><td>B51 B53 B55</td><td class=vellipsis>&hellip;</td><td>?</td><td>Austria-Hungary / Germantown, Philadelphia, PA</td><td>B</td><td>1</td><td>2</td></tr>\n",
       "    <tr><td class='row_index'>2</td><td>1</td><td>1</td><td>Cardeza, Mrs. James Warburton Martinez (Charlotte &#133;</td><td>female</td><td>58</td><td>0</td><td>1</td><td>PC 17755</td><td>512.3292</td><td>B51 B53 B55</td><td class=vellipsis>&hellip;</td><td>?</td><td>Germantown, Philadelphia, PA</td><td>B</td><td>1</td><td>2</td></tr>\n",
       "    <tr><td class='row_index'>3</td><td>1</td><td>1</td><td>Lesurer, Mr. Gustave J</td><td>male</td><td>35</td><td>0</td><td>0</td><td>PC 17755</td><td>512.3292</td><td>B101</td><td class=vellipsis>&hellip;</td><td>?</td><td>?</td><td>B</td><td>0</td><td>1</td></tr>\n",
       "    <tr><td class='row_index'>4</td><td>1</td><td>1</td><td>Ward, Miss. Anna</td><td>female</td><td>35</td><td>0</td><td>0</td><td>PC 17755</td><td>512.3292</td><td>?</td><td class=vellipsis>&hellip;</td><td>?</td><td>?</td><td>?</td><td>0</td><td>1</td></tr>\n",
       "    <tr><td class='row_index'>5</td><td>1</td><td>1</td><td>Fortune, Miss. Alice Elizabeth</td><td>female</td><td>24</td><td>3</td><td>2</td><td>19950</td><td>263</td><td>C23 C25 C27</td><td class=vellipsis>&hellip;</td><td>?</td><td>Winnipeg, MB</td><td>C</td><td>5</td><td>6</td></tr>\n",
       "    <tr><td class='row_index'>6</td><td>1</td><td>1</td><td>Fortune, Miss. Ethel Flora</td><td>female</td><td>28</td><td>3</td><td>2</td><td>19950</td><td>263</td><td>C23 C25 C27</td><td class=vellipsis>&hellip;</td><td>?</td><td>Winnipeg, MB</td><td>C</td><td>5</td><td>6</td></tr>\n",
       "    <tr><td class='row_index'>7</td><td>1</td><td>1</td><td>Fortune, Miss. Mabel Helen</td><td>female</td><td>23</td><td>3</td><td>2</td><td>19950</td><td>263</td><td>C23 C25 C27</td><td class=vellipsis>&hellip;</td><td>?</td><td>Winnipeg, MB</td><td>C</td><td>5</td><td>6</td></tr>\n",
       "    <tr><td class='row_index'>8</td><td>1</td><td>0</td><td>Fortune, Mr. Charles Alexander</td><td>male</td><td>19</td><td>3</td><td>2</td><td>19950</td><td>263</td><td>C23 C25 C27</td><td class=vellipsis>&hellip;</td><td>?</td><td>Winnipeg, MB</td><td>C</td><td>5</td><td>6</td></tr>\n",
       "    <tr><td class='row_index'>9</td><td>1</td><td>0</td><td>Fortune, Mr. Mark</td><td>male</td><td>64</td><td>1</td><td>4</td><td>19950</td><td>263</td><td>C23 C25 C27</td><td class=vellipsis>&hellip;</td><td>?</td><td>Winnipeg, MB</td><td>C</td><td>5</td><td>6</td></tr>\n",
       "  </tbody>\n",
       "  </table>\n",
       "  <div class='footer'>\n",
       "    <div class='frame_dimensions'>10 rows &times; 17 columns</div>\n",
       "  </div>\n",
       "</div>\n"
      ],
      "text/plain": [
       "<Frame#7f1649f0c060 10x17>"
      ]
     },
     "execution_count": 9,
     "metadata": {},
     "output_type": "execute_result"
    }
   ],
   "source": [
    "data[:, dt.update(total_passengers = dt.f.family + 1, age = dt.math.round(dt.f.age))]\n",
    "data.head()"
   ]
  },
  {
   "cell_type": "markdown",
   "id": "673a238f",
   "metadata": {
    "papermill": {
     "duration": 0.029423,
     "end_time": "2021-07-13T06:24:19.280180",
     "exception": false,
     "start_time": "2021-07-13T06:24:19.250757",
     "status": "completed"
    },
    "tags": []
   },
   "source": [
    "**Exercise 38: Delete the used columns `sibsp` and `parch` and the outlier rows first and last from `data`**"
   ]
  },
  {
   "cell_type": "code",
   "execution_count": 10,
   "id": "f828d306",
   "metadata": {
    "execution": {
     "iopub.execute_input": "2021-07-13T06:24:19.343107Z",
     "iopub.status.busy": "2021-07-13T06:24:19.342468Z",
     "iopub.status.idle": "2021-07-13T06:24:19.348001Z",
     "shell.execute_reply": "2021-07-13T06:24:19.348518Z",
     "shell.execute_reply.started": "2021-07-13T06:01:00.084112Z"
    },
    "papermill": {
     "duration": 0.038924,
     "end_time": "2021-07-13T06:24:19.348716",
     "exception": false,
     "start_time": "2021-07-13T06:24:19.309792",
     "status": "completed"
    },
    "tags": []
   },
   "outputs": [
    {
     "data": {
      "text/html": [
       "<div class='datatable'>\n",
       "  <table class='frame'>\n",
       "  <thead>\n",
       "    <tr class='colnames'><td class='row_index'></td><th>pclass</th><th>survived</th><th>name</th><th>sex</th><th>age</th><th>ticket</th><th>fare</th><th>cabin</th><th>embarked</th><th>boat</th><th>body</th><th>address</th><th>deck</th><th>family</th><th>total_passengers</th></tr>\n",
       "    <tr class='coltypes'><td class='row_index'></td><td class='int' title='int32'>&#x25AA;&#x25AA;&#x25AA;&#x25AA;</td><td class='bool' title='bool8'>&#x25AA;</td><td class='str' title='str32'>&#x25AA;&#x25AA;&#x25AA;&#x25AA;</td><td class='str' title='str32'>&#x25AA;&#x25AA;&#x25AA;&#x25AA;</td><td class='int' title='int64'>&#x25AA;&#x25AA;&#x25AA;&#x25AA;&#x25AA;&#x25AA;&#x25AA;&#x25AA;</td><td class='str' title='str32'>&#x25AA;&#x25AA;&#x25AA;&#x25AA;</td><td class='str' title='str32'>&#x25AA;&#x25AA;&#x25AA;&#x25AA;</td><td class='str' title='str32'>&#x25AA;&#x25AA;&#x25AA;&#x25AA;</td><td class='str' title='str32'>&#x25AA;&#x25AA;&#x25AA;&#x25AA;</td><td class='str' title='str32'>&#x25AA;&#x25AA;&#x25AA;&#x25AA;</td><td class='str' title='str32'>&#x25AA;&#x25AA;&#x25AA;&#x25AA;</td><td class='str' title='str32'>&#x25AA;&#x25AA;&#x25AA;&#x25AA;</td><td class='str' title='str32'>&#x25AA;&#x25AA;&#x25AA;&#x25AA;</td><td class='int' title='int32'>&#x25AA;&#x25AA;&#x25AA;&#x25AA;</td><td class='int' title='int32'>&#x25AA;&#x25AA;&#x25AA;&#x25AA;</td></tr>\n",
       "  </thead>\n",
       "  <tbody>\n",
       "    <tr><td class='row_index'>0</td><td>3</td><td>0</td><td>Storey, Mr. Thomas</td><td>male</td><td>60</td><td>3701</td><td>?</td><td>?</td><td>S</td><td>?</td><td>261</td><td>?</td><td>?</td><td>0</td><td>1</td></tr>\n",
       "    <tr><td class='row_index'>1</td><td>1</td><td>1</td><td>Cardeza, Mr. Thomas Drake Martinez</td><td>male</td><td>36</td><td>PC 17755</td><td>512.3292</td><td>B51 B53 B55</td><td>C</td><td>3</td><td>?</td><td>Austria-Hungary / Germantown, Philadelphia, PA</td><td>B</td><td>1</td><td>2</td></tr>\n",
       "    <tr><td class='row_index'>2</td><td>1</td><td>1</td><td>Cardeza, Mrs. James Warburton Martinez (Charlotte &#133;</td><td>female</td><td>58</td><td>PC 17755</td><td>512.3292</td><td>B51 B53 B55</td><td>C</td><td>3</td><td>?</td><td>Germantown, Philadelphia, PA</td><td>B</td><td>1</td><td>2</td></tr>\n",
       "    <tr><td class='row_index'>3</td><td>1</td><td>1</td><td>Lesurer, Mr. Gustave J</td><td>male</td><td>35</td><td>PC 17755</td><td>512.3292</td><td>B101</td><td>C</td><td>3</td><td>?</td><td>?</td><td>B</td><td>0</td><td>1</td></tr>\n",
       "    <tr><td class='row_index'>4</td><td>1</td><td>1</td><td>Ward, Miss. Anna</td><td>female</td><td>35</td><td>PC 17755</td><td>512.3292</td><td>?</td><td>C</td><td>3</td><td>?</td><td>?</td><td>?</td><td>0</td><td>1</td></tr>\n",
       "    <tr><td class='row_index'>5</td><td>1</td><td>1</td><td>Fortune, Miss. Alice Elizabeth</td><td>female</td><td>24</td><td>19950</td><td>263</td><td>C23 C25 C27</td><td>S</td><td>10</td><td>?</td><td>Winnipeg, MB</td><td>C</td><td>5</td><td>6</td></tr>\n",
       "    <tr><td class='row_index'>6</td><td>1</td><td>1</td><td>Fortune, Miss. Ethel Flora</td><td>female</td><td>28</td><td>19950</td><td>263</td><td>C23 C25 C27</td><td>S</td><td>10</td><td>?</td><td>Winnipeg, MB</td><td>C</td><td>5</td><td>6</td></tr>\n",
       "    <tr><td class='row_index'>7</td><td>1</td><td>1</td><td>Fortune, Miss. Mabel Helen</td><td>female</td><td>23</td><td>19950</td><td>263</td><td>C23 C25 C27</td><td>S</td><td>10</td><td>?</td><td>Winnipeg, MB</td><td>C</td><td>5</td><td>6</td></tr>\n",
       "    <tr><td class='row_index'>8</td><td>1</td><td>0</td><td>Fortune, Mr. Charles Alexander</td><td>male</td><td>19</td><td>19950</td><td>263</td><td>C23 C25 C27</td><td>S</td><td>?</td><td>?</td><td>Winnipeg, MB</td><td>C</td><td>5</td><td>6</td></tr>\n",
       "    <tr><td class='row_index'>9</td><td>1</td><td>0</td><td>Fortune, Mr. Mark</td><td>male</td><td>64</td><td>19950</td><td>263</td><td>C23 C25 C27</td><td>S</td><td>?</td><td>?</td><td>Winnipeg, MB</td><td>C</td><td>5</td><td>6</td></tr>\n",
       "  </tbody>\n",
       "  </table>\n",
       "  <div class='footer'>\n",
       "    <div class='frame_dimensions'>10 rows &times; 15 columns</div>\n",
       "  </div>\n",
       "</div>\n"
      ],
      "text/plain": [
       "<Frame#7f164ad35c00 10x15>"
      ]
     },
     "execution_count": 10,
     "metadata": {},
     "output_type": "execute_result"
    }
   ],
   "source": [
    "del data[:, ['sibsp', 'parch']]\n",
    "data.head()"
   ]
  },
  {
   "cell_type": "code",
   "execution_count": 11,
   "id": "2502fd62",
   "metadata": {
    "execution": {
     "iopub.execute_input": "2021-07-13T06:24:19.413889Z",
     "iopub.status.busy": "2021-07-13T06:24:19.411526Z",
     "iopub.status.idle": "2021-07-13T06:24:19.421761Z",
     "shell.execute_reply": "2021-07-13T06:24:19.422273Z",
     "shell.execute_reply.started": "2021-07-13T06:01:01.120639Z"
    },
    "papermill": {
     "duration": 0.043841,
     "end_time": "2021-07-13T06:24:19.422521",
     "exception": false,
     "start_time": "2021-07-13T06:24:19.378680",
     "status": "completed"
    },
    "tags": []
   },
   "outputs": [
    {
     "data": {
      "text/html": [
       "<div class='datatable'>\n",
       "  <table class='frame'>\n",
       "  <thead>\n",
       "    <tr class='colnames'><td class='row_index'></td><th>pclass</th><th>survived</th><th>name</th><th>sex</th><th>age</th><th>ticket</th><th>fare</th><th>cabin</th><th>embarked</th><th>boat</th><th>body</th><th>address</th><th>deck</th><th>family</th><th>total_passengers</th></tr>\n",
       "    <tr class='coltypes'><td class='row_index'></td><td class='int' title='int32'>&#x25AA;&#x25AA;&#x25AA;&#x25AA;</td><td class='bool' title='bool8'>&#x25AA;</td><td class='str' title='str32'>&#x25AA;&#x25AA;&#x25AA;&#x25AA;</td><td class='str' title='str32'>&#x25AA;&#x25AA;&#x25AA;&#x25AA;</td><td class='int' title='int64'>&#x25AA;&#x25AA;&#x25AA;&#x25AA;&#x25AA;&#x25AA;&#x25AA;&#x25AA;</td><td class='str' title='str32'>&#x25AA;&#x25AA;&#x25AA;&#x25AA;</td><td class='str' title='str32'>&#x25AA;&#x25AA;&#x25AA;&#x25AA;</td><td class='str' title='str32'>&#x25AA;&#x25AA;&#x25AA;&#x25AA;</td><td class='str' title='str32'>&#x25AA;&#x25AA;&#x25AA;&#x25AA;</td><td class='str' title='str32'>&#x25AA;&#x25AA;&#x25AA;&#x25AA;</td><td class='str' title='str32'>&#x25AA;&#x25AA;&#x25AA;&#x25AA;</td><td class='str' title='str32'>&#x25AA;&#x25AA;&#x25AA;&#x25AA;</td><td class='str' title='str32'>&#x25AA;&#x25AA;&#x25AA;&#x25AA;</td><td class='int' title='int32'>&#x25AA;&#x25AA;&#x25AA;&#x25AA;</td><td class='int' title='int32'>&#x25AA;&#x25AA;&#x25AA;&#x25AA;</td></tr>\n",
       "  </thead>\n",
       "  <tbody>\n",
       "    <tr><td class='row_index'>0</td><td>1</td><td>1</td><td>Cardeza, Mr. Thomas Drake Martinez</td><td>male</td><td>36</td><td>PC 17755</td><td>512.3292</td><td>B51 B53 B55</td><td>C</td><td>3</td><td>?</td><td>Austria-Hungary / Germantown, Philadelphia, PA</td><td>B</td><td>1</td><td>2</td></tr>\n",
       "    <tr><td class='row_index'>1</td><td>1</td><td>1</td><td>Cardeza, Mrs. James Warburton Martinez (Charlotte &#133;</td><td>female</td><td>58</td><td>PC 17755</td><td>512.3292</td><td>B51 B53 B55</td><td>C</td><td>3</td><td>?</td><td>Germantown, Philadelphia, PA</td><td>B</td><td>1</td><td>2</td></tr>\n",
       "    <tr><td class='row_index'>2</td><td>1</td><td>1</td><td>Lesurer, Mr. Gustave J</td><td>male</td><td>35</td><td>PC 17755</td><td>512.3292</td><td>B101</td><td>C</td><td>3</td><td>?</td><td>?</td><td>B</td><td>0</td><td>1</td></tr>\n",
       "    <tr><td class='row_index'>3</td><td>1</td><td>1</td><td>Ward, Miss. Anna</td><td>female</td><td>35</td><td>PC 17755</td><td>512.3292</td><td>?</td><td>C</td><td>3</td><td>?</td><td>?</td><td>?</td><td>0</td><td>1</td></tr>\n",
       "    <tr><td class='row_index'>4</td><td>1</td><td>1</td><td>Fortune, Miss. Alice Elizabeth</td><td>female</td><td>24</td><td>19950</td><td>263</td><td>C23 C25 C27</td><td>S</td><td>10</td><td>?</td><td>Winnipeg, MB</td><td>C</td><td>5</td><td>6</td></tr>\n",
       "    <tr><td class='row_index'>5</td><td>1</td><td>1</td><td>Fortune, Miss. Ethel Flora</td><td>female</td><td>28</td><td>19950</td><td>263</td><td>C23 C25 C27</td><td>S</td><td>10</td><td>?</td><td>Winnipeg, MB</td><td>C</td><td>5</td><td>6</td></tr>\n",
       "    <tr><td class='row_index'>6</td><td>1</td><td>1</td><td>Fortune, Miss. Mabel Helen</td><td>female</td><td>23</td><td>19950</td><td>263</td><td>C23 C25 C27</td><td>S</td><td>10</td><td>?</td><td>Winnipeg, MB</td><td>C</td><td>5</td><td>6</td></tr>\n",
       "    <tr><td class='row_index'>7</td><td>1</td><td>0</td><td>Fortune, Mr. Charles Alexander</td><td>male</td><td>19</td><td>19950</td><td>263</td><td>C23 C25 C27</td><td>S</td><td>?</td><td>?</td><td>Winnipeg, MB</td><td>C</td><td>5</td><td>6</td></tr>\n",
       "    <tr><td class='row_index'>8</td><td>1</td><td>0</td><td>Fortune, Mr. Mark</td><td>male</td><td>64</td><td>19950</td><td>263</td><td>C23 C25 C27</td><td>S</td><td>?</td><td>?</td><td>Winnipeg, MB</td><td>C</td><td>5</td><td>6</td></tr>\n",
       "    <tr><td class='row_index'>9</td><td>1</td><td>1</td><td>Fortune, Mrs. Mark (Mary McDougald)</td><td>female</td><td>60</td><td>19950</td><td>263</td><td>C23 C25 C27</td><td>S</td><td>10</td><td>?</td><td>Winnipeg, MB</td><td>C</td><td>5</td><td>6</td></tr>\n",
       "  </tbody>\n",
       "  </table>\n",
       "  <div class='footer'>\n",
       "    <div class='frame_dimensions'>10 rows &times; 15 columns</div>\n",
       "  </div>\n",
       "</div>\n"
      ],
      "text/plain": [
       "<Frame#7f164ad35c30 10x15>"
      ]
     },
     "execution_count": 11,
     "metadata": {},
     "output_type": "execute_result"
    }
   ],
   "source": [
    "del data[[0, -1], :]\n",
    "data.head()"
   ]
  },
  {
   "cell_type": "markdown",
   "id": "316252bc",
   "metadata": {
    "papermill": {
     "duration": 0.03313,
     "end_time": "2021-07-13T06:24:19.493359",
     "exception": false,
     "start_time": "2021-07-13T06:24:19.460229",
     "status": "completed"
    },
    "tags": []
   },
   "source": [
    "**Exercise 39: Replace all `'?'` values with `NA` or `null` as missing values in `data`**"
   ]
  },
  {
   "cell_type": "code",
   "execution_count": 12,
   "id": "349a0b4b",
   "metadata": {
    "execution": {
     "iopub.execute_input": "2021-07-13T06:24:19.561938Z",
     "iopub.status.busy": "2021-07-13T06:24:19.560977Z",
     "iopub.status.idle": "2021-07-13T06:24:19.565987Z",
     "shell.execute_reply": "2021-07-13T06:24:19.565340Z",
     "shell.execute_reply.started": "2021-07-13T06:01:04.01253Z"
    },
    "papermill": {
     "duration": 0.042611,
     "end_time": "2021-07-13T06:24:19.566126",
     "exception": false,
     "start_time": "2021-07-13T06:24:19.523515",
     "status": "completed"
    },
    "tags": []
   },
   "outputs": [
    {
     "data": {
      "text/html": [
       "<div class='datatable'>\n",
       "  <table class='frame'>\n",
       "  <thead>\n",
       "    <tr class='colnames'><td class='row_index'></td><th>pclass</th><th>survived</th><th>name</th><th>sex</th><th>age</th><th>ticket</th><th>fare</th><th>cabin</th><th>embarked</th><th>boat</th><th>body</th><th>address</th><th>deck</th><th>family</th><th>total_passengers</th></tr>\n",
       "    <tr class='coltypes'><td class='row_index'></td><td class='int' title='int32'>&#x25AA;&#x25AA;&#x25AA;&#x25AA;</td><td class='bool' title='bool8'>&#x25AA;</td><td class='str' title='str32'>&#x25AA;&#x25AA;&#x25AA;&#x25AA;</td><td class='str' title='str32'>&#x25AA;&#x25AA;&#x25AA;&#x25AA;</td><td class='int' title='int64'>&#x25AA;&#x25AA;&#x25AA;&#x25AA;&#x25AA;&#x25AA;&#x25AA;&#x25AA;</td><td class='str' title='str32'>&#x25AA;&#x25AA;&#x25AA;&#x25AA;</td><td class='str' title='str32'>&#x25AA;&#x25AA;&#x25AA;&#x25AA;</td><td class='str' title='str32'>&#x25AA;&#x25AA;&#x25AA;&#x25AA;</td><td class='str' title='str32'>&#x25AA;&#x25AA;&#x25AA;&#x25AA;</td><td class='str' title='str32'>&#x25AA;&#x25AA;&#x25AA;&#x25AA;</td><td class='str' title='str32'>&#x25AA;&#x25AA;&#x25AA;&#x25AA;</td><td class='str' title='str32'>&#x25AA;&#x25AA;&#x25AA;&#x25AA;</td><td class='str' title='str32'>&#x25AA;&#x25AA;&#x25AA;&#x25AA;</td><td class='int' title='int32'>&#x25AA;&#x25AA;&#x25AA;&#x25AA;</td><td class='int' title='int32'>&#x25AA;&#x25AA;&#x25AA;&#x25AA;</td></tr>\n",
       "  </thead>\n",
       "  <tbody>\n",
       "    <tr><td class='row_index'>0</td><td>1</td><td>1</td><td>Cardeza, Mr. Thomas Drake Martinez</td><td>male</td><td>36</td><td>PC 17755</td><td>512.3292</td><td>B51 B53 B55</td><td>C</td><td>3</td><td><span class=na>NA</span></td><td>Austria-Hungary / Germantown, Philadelphia, PA</td><td>B</td><td>1</td><td>2</td></tr>\n",
       "    <tr><td class='row_index'>1</td><td>1</td><td>1</td><td>Cardeza, Mrs. James Warburton Martinez (Charlotte &#133;</td><td>female</td><td>58</td><td>PC 17755</td><td>512.3292</td><td>B51 B53 B55</td><td>C</td><td>3</td><td><span class=na>NA</span></td><td>Germantown, Philadelphia, PA</td><td>B</td><td>1</td><td>2</td></tr>\n",
       "    <tr><td class='row_index'>2</td><td>1</td><td>1</td><td>Lesurer, Mr. Gustave J</td><td>male</td><td>35</td><td>PC 17755</td><td>512.3292</td><td>B101</td><td>C</td><td>3</td><td><span class=na>NA</span></td><td><span class=na>NA</span></td><td>B</td><td>0</td><td>1</td></tr>\n",
       "    <tr><td class='row_index'>3</td><td>1</td><td>1</td><td>Ward, Miss. Anna</td><td>female</td><td>35</td><td>PC 17755</td><td>512.3292</td><td><span class=na>NA</span></td><td>C</td><td>3</td><td><span class=na>NA</span></td><td><span class=na>NA</span></td><td><span class=na>NA</span></td><td>0</td><td>1</td></tr>\n",
       "    <tr><td class='row_index'>4</td><td>1</td><td>1</td><td>Fortune, Miss. Alice Elizabeth</td><td>female</td><td>24</td><td>19950</td><td>263</td><td>C23 C25 C27</td><td>S</td><td>10</td><td><span class=na>NA</span></td><td>Winnipeg, MB</td><td>C</td><td>5</td><td>6</td></tr>\n",
       "    <tr><td class='row_index'>5</td><td>1</td><td>1</td><td>Fortune, Miss. Ethel Flora</td><td>female</td><td>28</td><td>19950</td><td>263</td><td>C23 C25 C27</td><td>S</td><td>10</td><td><span class=na>NA</span></td><td>Winnipeg, MB</td><td>C</td><td>5</td><td>6</td></tr>\n",
       "    <tr><td class='row_index'>6</td><td>1</td><td>1</td><td>Fortune, Miss. Mabel Helen</td><td>female</td><td>23</td><td>19950</td><td>263</td><td>C23 C25 C27</td><td>S</td><td>10</td><td><span class=na>NA</span></td><td>Winnipeg, MB</td><td>C</td><td>5</td><td>6</td></tr>\n",
       "    <tr><td class='row_index'>7</td><td>1</td><td>0</td><td>Fortune, Mr. Charles Alexander</td><td>male</td><td>19</td><td>19950</td><td>263</td><td>C23 C25 C27</td><td>S</td><td><span class=na>NA</span></td><td><span class=na>NA</span></td><td>Winnipeg, MB</td><td>C</td><td>5</td><td>6</td></tr>\n",
       "    <tr><td class='row_index'>8</td><td>1</td><td>0</td><td>Fortune, Mr. Mark</td><td>male</td><td>64</td><td>19950</td><td>263</td><td>C23 C25 C27</td><td>S</td><td><span class=na>NA</span></td><td><span class=na>NA</span></td><td>Winnipeg, MB</td><td>C</td><td>5</td><td>6</td></tr>\n",
       "    <tr><td class='row_index'>9</td><td>1</td><td>1</td><td>Fortune, Mrs. Mark (Mary McDougald)</td><td>female</td><td>60</td><td>19950</td><td>263</td><td>C23 C25 C27</td><td>S</td><td>10</td><td><span class=na>NA</span></td><td>Winnipeg, MB</td><td>C</td><td>5</td><td>6</td></tr>\n",
       "  </tbody>\n",
       "  </table>\n",
       "  <div class='footer'>\n",
       "    <div class='frame_dimensions'>10 rows &times; 15 columns</div>\n",
       "  </div>\n",
       "</div>\n"
      ],
      "text/plain": [
       "<Frame#7f164ad35ae0 10x15>"
      ]
     },
     "execution_count": 12,
     "metadata": {},
     "output_type": "execute_result"
    }
   ],
   "source": [
    "data.replace('?', None)\n",
    "data.head()"
   ]
  },
  {
   "cell_type": "markdown",
   "id": "1f664af6",
   "metadata": {
    "papermill": {
     "duration": 0.030279,
     "end_time": "2021-07-13T06:24:19.626945",
     "exception": false,
     "start_time": "2021-07-13T06:24:19.596666",
     "status": "completed"
    },
    "tags": []
   },
   "source": [
    "**Exercise 40: Impute all the missing values in `data` with `-1` for numeric columns and `'unknown'` for string columns**"
   ]
  },
  {
   "cell_type": "code",
   "execution_count": 13,
   "id": "73d44059",
   "metadata": {
    "execution": {
     "iopub.execute_input": "2021-07-13T06:24:19.695640Z",
     "iopub.status.busy": "2021-07-13T06:24:19.694887Z",
     "iopub.status.idle": "2021-07-13T06:24:19.703040Z",
     "shell.execute_reply": "2021-07-13T06:24:19.703579Z",
     "shell.execute_reply.started": "2021-07-13T04:29:25.784011Z"
    },
    "papermill": {
     "duration": 0.046214,
     "end_time": "2021-07-13T06:24:19.703786",
     "exception": false,
     "start_time": "2021-07-13T06:24:19.657572",
     "status": "completed"
    },
    "tags": []
   },
   "outputs": [
    {
     "data": {
      "text/html": [
       "<div class='datatable'>\n",
       "  <table class='frame'>\n",
       "  <thead>\n",
       "    <tr class='colnames'><td class='row_index'></td><th>pclass</th><th>survived</th><th>name</th><th>sex</th><th>age</th><th>ticket</th><th>fare</th><th>cabin</th><th>embarked</th><th>boat</th><th>body</th><th>address</th><th>deck</th><th>family</th><th>total_passengers</th></tr>\n",
       "    <tr class='coltypes'><td class='row_index'></td><td class='int' title='int32'>&#x25AA;&#x25AA;&#x25AA;&#x25AA;</td><td class='bool' title='bool8'>&#x25AA;</td><td class='str' title='str32'>&#x25AA;&#x25AA;&#x25AA;&#x25AA;</td><td class='str' title='str32'>&#x25AA;&#x25AA;&#x25AA;&#x25AA;</td><td class='int' title='int64'>&#x25AA;&#x25AA;&#x25AA;&#x25AA;&#x25AA;&#x25AA;&#x25AA;&#x25AA;</td><td class='str' title='str32'>&#x25AA;&#x25AA;&#x25AA;&#x25AA;</td><td class='str' title='str32'>&#x25AA;&#x25AA;&#x25AA;&#x25AA;</td><td class='str' title='str32'>&#x25AA;&#x25AA;&#x25AA;&#x25AA;</td><td class='str' title='str32'>&#x25AA;&#x25AA;&#x25AA;&#x25AA;</td><td class='str' title='str32'>&#x25AA;&#x25AA;&#x25AA;&#x25AA;</td><td class='str' title='str32'>&#x25AA;&#x25AA;&#x25AA;&#x25AA;</td><td class='str' title='str32'>&#x25AA;&#x25AA;&#x25AA;&#x25AA;</td><td class='str' title='str32'>&#x25AA;&#x25AA;&#x25AA;&#x25AA;</td><td class='int' title='int32'>&#x25AA;&#x25AA;&#x25AA;&#x25AA;</td><td class='int' title='int32'>&#x25AA;&#x25AA;&#x25AA;&#x25AA;</td></tr>\n",
       "  </thead>\n",
       "  <tbody>\n",
       "    <tr><td class='row_index'>0</td><td>1</td><td>1</td><td>Cardeza, Mr. Thomas Drake Martinez</td><td>male</td><td>36</td><td>PC 17755</td><td>512.3292</td><td>B51 B53 B55</td><td>C</td><td>3</td><td>unknown</td><td>Austria-Hungary / Germantown, Philadelphia, PA</td><td>B</td><td>1</td><td>2</td></tr>\n",
       "    <tr><td class='row_index'>1</td><td>1</td><td>1</td><td>Cardeza, Mrs. James Warburton Martinez (Charlotte &#133;</td><td>female</td><td>58</td><td>PC 17755</td><td>512.3292</td><td>B51 B53 B55</td><td>C</td><td>3</td><td>unknown</td><td>Germantown, Philadelphia, PA</td><td>B</td><td>1</td><td>2</td></tr>\n",
       "    <tr><td class='row_index'>2</td><td>1</td><td>1</td><td>Lesurer, Mr. Gustave J</td><td>male</td><td>35</td><td>PC 17755</td><td>512.3292</td><td>B101</td><td>C</td><td>3</td><td>unknown</td><td>unknown</td><td>B</td><td>0</td><td>1</td></tr>\n",
       "    <tr><td class='row_index'>3</td><td>1</td><td>1</td><td>Ward, Miss. Anna</td><td>female</td><td>35</td><td>PC 17755</td><td>512.3292</td><td>unknown</td><td>C</td><td>3</td><td>unknown</td><td>unknown</td><td>unknown</td><td>0</td><td>1</td></tr>\n",
       "    <tr><td class='row_index'>4</td><td>1</td><td>1</td><td>Fortune, Miss. Alice Elizabeth</td><td>female</td><td>24</td><td>19950</td><td>263</td><td>C23 C25 C27</td><td>S</td><td>10</td><td>unknown</td><td>Winnipeg, MB</td><td>C</td><td>5</td><td>6</td></tr>\n",
       "    <tr><td class='row_index'>5</td><td>1</td><td>1</td><td>Fortune, Miss. Ethel Flora</td><td>female</td><td>28</td><td>19950</td><td>263</td><td>C23 C25 C27</td><td>S</td><td>10</td><td>unknown</td><td>Winnipeg, MB</td><td>C</td><td>5</td><td>6</td></tr>\n",
       "    <tr><td class='row_index'>6</td><td>1</td><td>1</td><td>Fortune, Miss. Mabel Helen</td><td>female</td><td>23</td><td>19950</td><td>263</td><td>C23 C25 C27</td><td>S</td><td>10</td><td>unknown</td><td>Winnipeg, MB</td><td>C</td><td>5</td><td>6</td></tr>\n",
       "    <tr><td class='row_index'>7</td><td>1</td><td>0</td><td>Fortune, Mr. Charles Alexander</td><td>male</td><td>19</td><td>19950</td><td>263</td><td>C23 C25 C27</td><td>S</td><td>unknown</td><td>unknown</td><td>Winnipeg, MB</td><td>C</td><td>5</td><td>6</td></tr>\n",
       "    <tr><td class='row_index'>8</td><td>1</td><td>0</td><td>Fortune, Mr. Mark</td><td>male</td><td>64</td><td>19950</td><td>263</td><td>C23 C25 C27</td><td>S</td><td>unknown</td><td>unknown</td><td>Winnipeg, MB</td><td>C</td><td>5</td><td>6</td></tr>\n",
       "    <tr><td class='row_index'>9</td><td>1</td><td>1</td><td>Fortune, Mrs. Mark (Mary McDougald)</td><td>female</td><td>60</td><td>19950</td><td>263</td><td>C23 C25 C27</td><td>S</td><td>10</td><td>unknown</td><td>Winnipeg, MB</td><td>C</td><td>5</td><td>6</td></tr>\n",
       "  </tbody>\n",
       "  </table>\n",
       "  <div class='footer'>\n",
       "    <div class='frame_dimensions'>10 rows &times; 15 columns</div>\n",
       "  </div>\n",
       "</div>\n"
      ],
      "text/plain": [
       "<Frame#7f164b570360 10x15>"
      ]
     },
     "execution_count": 13,
     "metadata": {},
     "output_type": "execute_result"
    }
   ],
   "source": [
    "data.replace({dt.math.nan: -1.0, None: 'unknown'})\n",
    "data.head()"
   ]
  },
  {
   "cell_type": "markdown",
   "id": "033bcfee",
   "metadata": {
    "papermill": {
     "duration": 0.032133,
     "end_time": "2021-07-13T06:24:19.773815",
     "exception": false,
     "start_time": "2021-07-13T06:24:19.741682",
     "status": "completed"
    },
    "tags": []
   },
   "source": [
    "<center>\n",
    "    ✅ This completes Set 4: Frame Operations (Exercises 31-40) of <b>DatatableTon</b>: <i>💯 datatable exercises</i>\n",
    "    <br>\n",
    "    Set 5 is coming soon!\n",
    "    <br>\n",
    "    <br>\n",
    "    You can find all the exercises and solutions on <a href=\"https://github.com/vopani/datatableton#exercises-\">GitHub</a>\n",
    "</center>"
   ]
  }
 ],
 "metadata": {
  "kernelspec": {
   "display_name": "Python 3",
   "language": "python",
   "name": "python3"
  },
  "language_info": {
   "codemirror_mode": {
    "name": "ipython",
    "version": 3
   },
   "file_extension": ".py",
   "mimetype": "text/x-python",
   "name": "python",
   "nbconvert_exporter": "python",
   "pygments_lexer": "ipython3",
   "version": "3.7.10"
  },
  "papermill": {
   "default_parameters": {},
   "duration": 50.928486,
   "end_time": "2021-07-13T06:24:21.486190",
   "environment_variables": {},
   "exception": null,
   "input_path": "__notebook__.ipynb",
   "output_path": "__notebook__.ipynb",
   "parameters": {},
   "start_time": "2021-07-13T06:23:30.557704",
   "version": "2.3.3"
  }
 },
 "nbformat": 4,
 "nbformat_minor": 5
}
