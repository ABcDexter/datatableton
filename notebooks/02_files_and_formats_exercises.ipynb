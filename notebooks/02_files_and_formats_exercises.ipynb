{
 "cells": [
  {
   "cell_type": "markdown",
   "id": "sixth-nelson",
   "metadata": {
    "_cell_guid": "b1076dfc-b9ad-4769-8c92-a6c4dae69d19",
    "_uuid": "8f2839f25d086af736a60e9eeb907d3b93b6e0e5",
    "papermill": {
     "duration": 0.024172,
     "end_time": "2021-07-07T06:01:35.263160",
     "exception": false,
     "start_time": "2021-07-07T06:01:35.238988",
     "status": "completed"
    },
    "tags": []
   },
   "source": [
    "<center>\n",
    "    <h1>DatatableTon</h1>\n",
    "    💯 datatable exercises\n",
    "    <br>\n",
    "    <br>\n",
    "    <a href='https://github.com/vopani/datatableton/blob/master/LICENSE'>\n",
    "        <img src='https://img.shields.io/badge/license-Apache%202.0-blue.svg?logo=apache'>\n",
    "    </a>\n",
    "    <a href='https://github.com/vopani/datatableton'>\n",
    "        <img src='https://img.shields.io/github/stars/vopani/datatableton?color=yellowgreen&logo=github'>\n",
    "    </a>\n",
    "    <a href='https://twitter.com/vopani'>\n",
    "        <img src='https://img.shields.io/twitter/follow/vopani'>\n",
    "    </a>\n",
    "</center>"
   ]
  },
  {
   "cell_type": "markdown",
   "id": "eight-impression",
   "metadata": {
    "papermill": {
     "duration": 0.022424,
     "end_time": "2021-07-07T06:01:35.308417",
     "exception": false,
     "start_time": "2021-07-07T06:01:35.285993",
     "status": "completed"
    },
    "tags": []
   },
   "source": [
    "<center>\n",
    "    This is Set 2: Files and Formats (Exercises 11-20) of <b>DatatableTon</b>: <i>💯 datatable exercises</i>\n",
    "    <br>\n",
    "    You can find all the exercises and solutions on <a href=\"https://github.com/vopani/datatableton#exercises-\">GitHub</a>\n",
    "</center>"
   ]
  },
  {
   "cell_type": "markdown",
   "id": "undefined-chrome",
   "metadata": {
    "papermill": {
     "duration": 0.022997,
     "end_time": "2021-07-07T06:01:35.354338",
     "exception": false,
     "start_time": "2021-07-07T06:01:35.331341",
     "status": "completed"
    },
    "tags": []
   },
   "source": [
    "**Pre-requisites**"
   ]
  },
  {
   "cell_type": "code",
   "execution_count": 1,
   "id": "varying-comparison",
   "metadata": {
    "_kg_hide-output": true,
    "execution": {
     "iopub.execute_input": "2021-07-07T06:01:35.405555Z",
     "iopub.status.busy": "2021-07-07T06:01:35.404351Z",
     "iopub.status.idle": "2021-07-07T06:02:13.082976Z",
     "shell.execute_reply": "2021-07-07T06:02:13.083459Z",
     "shell.execute_reply.started": "2021-07-07T05:45:14.989410Z"
    },
    "papermill": {
     "duration": 37.705145,
     "end_time": "2021-07-07T06:02:13.083762",
     "exception": false,
     "start_time": "2021-07-07T06:01:35.378617",
     "status": "completed"
    },
    "tags": []
   },
   "outputs": [
    {
     "name": "stdout",
     "output_type": "stream",
     "text": [
      "Requirement already satisfied: datatable in /opt/conda/lib/python3.7/site-packages (0.11.1)\r\n",
      "Collecting datatable\r\n",
      "  Downloading datatable-1.0.0-cp37-cp37m-manylinux_2_12_x86_64.whl (96.9 MB)\r\n",
      "\u001b[K     |████████████████████████████████| 96.9 MB 23.6 MB/s \r\n",
      "\u001b[?25hInstalling collected packages: datatable\r\n",
      "  Attempting uninstall: datatable\r\n",
      "    Found existing installation: datatable 0.11.1\r\n",
      "    Uninstalling datatable-0.11.1:\r\n",
      "      Successfully uninstalled datatable-0.11.1\r\n",
      "Successfully installed datatable-1.0.0\r\n",
      "Requirement already satisfied: numpy in /opt/conda/lib/python3.7/site-packages (1.19.5)\r\n",
      "Requirement already satisfied: pandas in /opt/conda/lib/python3.7/site-packages (1.2.2)\r\n",
      "Requirement already satisfied: python-dateutil>=2.7.3 in /opt/conda/lib/python3.7/site-packages (from pandas) (2.8.1)\r\n",
      "Requirement already satisfied: pytz>=2017.3 in /opt/conda/lib/python3.7/site-packages (from pandas) (2021.1)\r\n",
      "Requirement already satisfied: numpy>=1.16.5 in /opt/conda/lib/python3.7/site-packages (from pandas) (1.19.5)\r\n",
      "Requirement already satisfied: six>=1.5 in /opt/conda/lib/python3.7/site-packages (from python-dateutil>=2.7.3->pandas) (1.15.0)\r\n",
      "Requirement already satisfied: pyarrow in /opt/conda/lib/python3.7/site-packages (3.0.0)\r\n",
      "Requirement already satisfied: numpy>=1.16.6 in /opt/conda/lib/python3.7/site-packages (from pyarrow) (1.19.5)\r\n",
      "--2021-07-07 06:02:12--  https://raw.githubusercontent.com/vopani/datatableton/main/data/sample.zip\r\n",
      "Resolving raw.githubusercontent.com (raw.githubusercontent.com)... 185.199.109.133, 185.199.108.133, 185.199.111.133, ...\r\n",
      "Connecting to raw.githubusercontent.com (raw.githubusercontent.com)|185.199.109.133|:443... connected.\r\n",
      "HTTP request sent, awaiting response... 200 OK\r\n",
      "Length: 1911 (1.9K) [application/zip]\r\n",
      "Saving to: ‘sample.zip’\r\n",
      "\r\n",
      "sample.zip          100%[===================>]   1.87K  --.-KB/s    in 0s      \r\n",
      "\r\n",
      "2021-07-07 06:02:12 (33.4 MB/s) - ‘sample.zip’ saved [1911/1911]\r\n",
      "\r\n"
     ]
    }
   ],
   "source": [
    "!pip install datatable --upgrade\n",
    "!pip install numpy\n",
    "!pip install pandas\n",
    "!pip install pyarrow\n",
    "!wget https://raw.githubusercontent.com/vopani/datatableton/main/data/sample.zip"
   ]
  },
  {
   "cell_type": "code",
   "execution_count": 2,
   "id": "prescription-milan",
   "metadata": {
    "execution": {
     "iopub.execute_input": "2021-07-07T06:02:13.276865Z",
     "iopub.status.busy": "2021-07-07T06:02:13.276153Z",
     "iopub.status.idle": "2021-07-07T06:02:13.331300Z",
     "shell.execute_reply": "2021-07-07T06:02:13.330635Z",
     "shell.execute_reply.started": "2021-07-07T05:46:46.878823Z"
    },
    "papermill": {
     "duration": 0.15499,
     "end_time": "2021-07-07T06:02:13.331439",
     "exception": false,
     "start_time": "2021-07-07T06:02:13.176449",
     "status": "completed"
    },
    "tags": []
   },
   "outputs": [
    {
     "data": {
      "text/html": [
       "<style type='text/css'>\n",
       ".datatable table.frame { margin-bottom: 0; }\n",
       ".datatable table.frame thead { border-bottom: none; }\n",
       ".datatable table.frame tr.coltypes td {  color: #FFFFFF;  line-height: 6px;  padding: 0 0.5em;}\n",
       ".datatable .bool    { background: #DDDD99; }\n",
       ".datatable .object  { background: #565656; }\n",
       ".datatable .int     { background: #5D9E5D; }\n",
       ".datatable .float   { background: #4040CC; }\n",
       ".datatable .str     { background: #CC4040; }\n",
       ".datatable .time    { background: #40CC40; }\n",
       ".datatable .row_index {  background: var(--jp-border-color3);  border-right: 1px solid var(--jp-border-color0);  color: var(--jp-ui-font-color3);  font-size: 9px;}\n",
       ".datatable .frame tbody td { text-align: left; }\n",
       ".datatable .frame tr.coltypes .row_index {  background: var(--jp-border-color0);}\n",
       ".datatable th:nth-child(2) { padding-left: 12px; }\n",
       ".datatable .hellipsis {  color: var(--jp-cell-editor-border-color);}\n",
       ".datatable .vellipsis {  background: var(--jp-layout-color0);  color: var(--jp-cell-editor-border-color);}\n",
       ".datatable .na {  color: var(--jp-cell-editor-border-color);  font-size: 80%;}\n",
       ".datatable .sp {  opacity: 0.25;}\n",
       ".datatable .footer { font-size: 9px; }\n",
       ".datatable .frame_dimensions {  background: var(--jp-border-color3);  border-top: 1px solid var(--jp-border-color0);  color: var(--jp-ui-font-color3);  display: inline-block;  opacity: 0.6;  padding: 1px 10px 1px 5px;}\n",
       "</style>\n"
      ],
      "text/plain": [
       "<IPython.core.display.HTML object>"
      ]
     },
     "metadata": {},
     "output_type": "display_data"
    }
   ],
   "source": [
    "import datatable as dt\n",
    "import numpy as np\n",
    "import pandas as pd\n",
    "import pyarrow as pa\n",
    "\n",
    "dtable = dt.Frame(f1=range(10), f2=['Y', 'O', 'U', 'C', 'A', 'N', 'D', 'O', 'I', 'T'])\n",
    "dframe = pd.DataFrame({'v1': range(11), 'v2': ['N', 'E', 'V', 'E', 'R', 'G', 'I', 'V', 'E', 'U', 'P']})\n",
    "nparray = np.array([[0, 'C'], [1, 'O'], [2, 'D'], [3, 'E']])\n",
    "patable = pa.Table.from_pandas(dframe)\n",
    "dlist = [range(4), ['D', 'A', 'T', 'A']]\n",
    "ddict = {'x': range(6), 'y': ['P', 'Y', 'T', 'H', 'O', 'N']}\n",
    "dtup = [(0, 'L'), (1, 'E'), (2, 'A'), (3, 'R'), (4, 'N')]"
   ]
  },
  {
   "cell_type": "markdown",
   "id": "experienced-limitation",
   "metadata": {
    "papermill": {
     "duration": 0.092322,
     "end_time": "2021-07-07T06:02:13.516733",
     "exception": false,
     "start_time": "2021-07-07T06:02:13.424411",
     "status": "completed"
    },
    "tags": []
   },
   "source": [
    "**Exercise 11: Write `dtable` to a csv named `data.csv`, to a compressed gz csv named `data.gz`, to a jay named `data.jay`**"
   ]
  },
  {
   "cell_type": "code",
   "execution_count": null,
   "id": "occasional-plain",
   "metadata": {
    "execution": {
     "iopub.execute_input": "2021-07-07T05:57:24.330919Z",
     "iopub.status.busy": "2021-07-07T05:57:24.330388Z",
     "iopub.status.idle": "2021-07-07T05:57:24.333216Z",
     "shell.execute_reply": "2021-07-07T05:57:24.333572Z",
     "shell.execute_reply.started": "2021-07-07T05:22:18.851028Z"
    },
    "papermill": {
     "duration": 0.092258,
     "end_time": "2021-07-07T06:02:13.700704",
     "exception": false,
     "start_time": "2021-07-07T06:02:13.608446",
     "status": "completed"
    },
    "tags": []
   },
   "outputs": [],
   "source": []
  },
  {
   "cell_type": "markdown",
   "id": "seven-settlement",
   "metadata": {
    "papermill": {
     "duration": 0.092214,
     "end_time": "2021-07-07T06:02:13.885513",
     "exception": false,
     "start_time": "2021-07-07T06:02:13.793299",
     "status": "completed"
    },
    "tags": []
   },
   "source": [
    "**Exercise 12: Read `data.csv` and assign it to `data_csv`, read `data.gz` and assign it to `data_gz`, read `data.jay` and assign it to `data_jay`**"
   ]
  },
  {
   "cell_type": "code",
   "execution_count": null,
   "id": "paperback-reality",
   "metadata": {
    "execution": {
     "iopub.execute_input": "2021-07-07T05:57:24.760265Z",
     "iopub.status.busy": "2021-07-07T05:57:24.759271Z",
     "iopub.status.idle": "2021-07-07T05:57:24.767844Z",
     "shell.execute_reply": "2021-07-07T05:57:24.767350Z",
     "shell.execute_reply.started": "2021-07-07T05:22:42.781489Z"
    },
    "papermill": {
     "duration": 0.09274,
     "end_time": "2021-07-07T06:02:14.070369",
     "exception": false,
     "start_time": "2021-07-07T06:02:13.977629",
     "status": "completed"
    },
    "tags": []
   },
   "outputs": [],
   "source": []
  },
  {
   "cell_type": "code",
   "execution_count": null,
   "id": "inside-lease",
   "metadata": {
    "execution": {
     "iopub.execute_input": "2021-07-07T05:57:24.989563Z",
     "iopub.status.busy": "2021-07-07T05:57:24.988686Z",
     "iopub.status.idle": "2021-07-07T05:57:24.992347Z",
     "shell.execute_reply": "2021-07-07T05:57:24.992790Z",
     "shell.execute_reply.started": "2021-07-07T05:22:49.213597Z"
    },
    "papermill": {
     "duration": 0.09133,
     "end_time": "2021-07-07T06:02:14.254458",
     "exception": false,
     "start_time": "2021-07-07T06:02:14.163128",
     "status": "completed"
    },
    "tags": []
   },
   "outputs": [],
   "source": []
  },
  {
   "cell_type": "code",
   "execution_count": null,
   "id": "beneficial-kingston",
   "metadata": {
    "execution": {
     "iopub.execute_input": "2021-07-07T05:57:25.217029Z",
     "iopub.status.busy": "2021-07-07T05:57:25.216179Z",
     "iopub.status.idle": "2021-07-07T05:57:25.220404Z",
     "shell.execute_reply": "2021-07-07T05:57:25.219768Z",
     "shell.execute_reply.started": "2021-07-07T05:22:57.635942Z"
    },
    "papermill": {
     "duration": 0.091812,
     "end_time": "2021-07-07T06:02:14.437812",
     "exception": false,
     "start_time": "2021-07-07T06:02:14.346000",
     "status": "completed"
    },
    "tags": []
   },
   "outputs": [],
   "source": []
  },
  {
   "cell_type": "markdown",
   "id": "growing-intensity",
   "metadata": {
    "papermill": {
     "duration": 0.091112,
     "end_time": "2021-07-07T06:02:14.620180",
     "exception": false,
     "start_time": "2021-07-07T06:02:14.529068",
     "status": "completed"
    },
    "tags": []
   },
   "source": [
    "**Exercise 13: Read data from this URL: [https://raw.githubusercontent.com/vopani/datatableton/main/data/sample.csv](https://raw.githubusercontent.com/vopani/datatableton/main/data/sample.csv) and assign it to `data_url`**"
   ]
  },
  {
   "cell_type": "code",
   "execution_count": null,
   "id": "warming-logistics",
   "metadata": {
    "execution": {
     "iopub.execute_input": "2021-07-07T05:57:25.654329Z",
     "iopub.status.busy": "2021-07-07T05:57:25.653693Z",
     "iopub.status.idle": "2021-07-07T05:57:26.293167Z",
     "shell.execute_reply": "2021-07-07T05:57:26.292585Z",
     "shell.execute_reply.started": "2021-07-07T05:23:13.049299Z"
    },
    "papermill": {
     "duration": 0.090855,
     "end_time": "2021-07-07T06:02:14.802840",
     "exception": false,
     "start_time": "2021-07-07T06:02:14.711985",
     "status": "completed"
    },
    "tags": []
   },
   "outputs": [],
   "source": []
  },
  {
   "cell_type": "markdown",
   "id": "coordinated-gibraltar",
   "metadata": {
    "papermill": {
     "duration": 0.09171,
     "end_time": "2021-07-07T06:02:14.985790",
     "exception": false,
     "start_time": "2021-07-07T06:02:14.894080",
     "status": "completed"
    },
    "tags": []
   },
   "source": [
    "**Exercise 14: Read `users.csv` from `sample.zip` and assign it to `data_zip`**"
   ]
  },
  {
   "cell_type": "code",
   "execution_count": null,
   "id": "collectible-hartford",
   "metadata": {
    "execution": {
     "iopub.execute_input": "2021-07-07T05:57:26.734900Z",
     "iopub.status.busy": "2021-07-07T05:57:26.734277Z",
     "iopub.status.idle": "2021-07-07T05:57:26.740190Z",
     "shell.execute_reply": "2021-07-07T05:57:26.740629Z",
     "shell.execute_reply.started": "2021-07-07T05:50:40.679037Z"
    },
    "papermill": {
     "duration": 0.091164,
     "end_time": "2021-07-07T06:02:15.171005",
     "exception": false,
     "start_time": "2021-07-07T06:02:15.079841",
     "status": "completed"
    },
    "tags": []
   },
   "outputs": [],
   "source": []
  },
  {
   "cell_type": "markdown",
   "id": "velvet-title",
   "metadata": {
    "papermill": {
     "duration": 0.090188,
     "end_time": "2021-07-07T06:02:15.352444",
     "exception": false,
     "start_time": "2021-07-07T06:02:15.262256",
     "status": "completed"
    },
    "tags": []
   },
   "source": [
    "**Exercise 15: Create a dt.Frame `data_pd` from the pd.DataFrame `dframe` and create a pd.DataFrame `pd_data` from the dt.Frame `data_pd`**"
   ]
  },
  {
   "cell_type": "code",
   "execution_count": null,
   "id": "golden-antenna",
   "metadata": {
    "execution": {
     "iopub.execute_input": "2021-07-07T05:57:27.170949Z",
     "iopub.status.busy": "2021-07-07T05:57:27.170149Z",
     "iopub.status.idle": "2021-07-07T05:57:27.174093Z",
     "shell.execute_reply": "2021-07-07T05:57:27.173647Z",
     "shell.execute_reply.started": "2021-07-07T05:23:43.701758Z"
    },
    "papermill": {
     "duration": 0.090908,
     "end_time": "2021-07-07T06:02:15.534785",
     "exception": false,
     "start_time": "2021-07-07T06:02:15.443877",
     "status": "completed"
    },
    "tags": []
   },
   "outputs": [],
   "source": []
  },
  {
   "cell_type": "code",
   "execution_count": null,
   "id": "olympic-parts",
   "metadata": {
    "execution": {
     "iopub.execute_input": "2021-07-07T05:57:27.396371Z",
     "iopub.status.busy": "2021-07-07T05:57:27.395731Z",
     "iopub.status.idle": "2021-07-07T05:57:27.409118Z",
     "shell.execute_reply": "2021-07-07T05:57:27.408620Z",
     "shell.execute_reply.started": "2021-07-07T05:23:52.178275Z"
    },
    "papermill": {
     "duration": 0.090565,
     "end_time": "2021-07-07T06:02:15.716551",
     "exception": false,
     "start_time": "2021-07-07T06:02:15.625986",
     "status": "completed"
    },
    "tags": []
   },
   "outputs": [],
   "source": []
  },
  {
   "cell_type": "markdown",
   "id": "civilian-joseph",
   "metadata": {
    "papermill": {
     "duration": 0.090414,
     "end_time": "2021-07-07T06:02:15.898933",
     "exception": false,
     "start_time": "2021-07-07T06:02:15.808519",
     "status": "completed"
    },
    "tags": []
   },
   "source": [
    "**Exercise 16: Create a dt.Frame `data_np` from the np.array `nparray` and create a np.array `np_data` from the dt.Frame `data_np`**"
   ]
  },
  {
   "cell_type": "code",
   "execution_count": null,
   "id": "fitted-glucose",
   "metadata": {
    "execution": {
     "iopub.execute_input": "2021-07-07T05:57:27.842436Z",
     "iopub.status.busy": "2021-07-07T05:57:27.841805Z",
     "iopub.status.idle": "2021-07-07T05:57:27.844534Z",
     "shell.execute_reply": "2021-07-07T05:57:27.845079Z",
     "shell.execute_reply.started": "2021-07-07T05:26:15.290352Z"
    },
    "papermill": {
     "duration": 0.091881,
     "end_time": "2021-07-07T06:02:16.082448",
     "exception": false,
     "start_time": "2021-07-07T06:02:15.990567",
     "status": "completed"
    },
    "tags": []
   },
   "outputs": [],
   "source": []
  },
  {
   "cell_type": "code",
   "execution_count": null,
   "id": "eligible-legend",
   "metadata": {
    "execution": {
     "iopub.execute_input": "2021-07-07T05:57:28.068286Z",
     "iopub.status.busy": "2021-07-07T05:57:28.067668Z",
     "iopub.status.idle": "2021-07-07T05:57:28.071180Z",
     "shell.execute_reply": "2021-07-07T05:57:28.071605Z",
     "shell.execute_reply.started": "2021-07-07T05:26:18.103124Z"
    },
    "papermill": {
     "duration": 0.090771,
     "end_time": "2021-07-07T06:02:16.265241",
     "exception": false,
     "start_time": "2021-07-07T06:02:16.174470",
     "status": "completed"
    },
    "tags": []
   },
   "outputs": [],
   "source": []
  },
  {
   "cell_type": "markdown",
   "id": "modular-grill",
   "metadata": {
    "papermill": {
     "duration": 0.090672,
     "end_time": "2021-07-07T06:02:16.462259",
     "exception": false,
     "start_time": "2021-07-07T06:02:16.371587",
     "status": "completed"
    },
    "tags": []
   },
   "source": [
    "**Exercise 17: Create a dt.Frame `data_ls` from the list `dlist` and create a list `ls_data` from the dt.Frame `data_ls`**"
   ]
  },
  {
   "cell_type": "code",
   "execution_count": null,
   "id": "double-creator",
   "metadata": {
    "execution": {
     "iopub.execute_input": "2021-07-07T05:57:28.532424Z",
     "iopub.status.busy": "2021-07-07T05:57:28.531780Z",
     "iopub.status.idle": "2021-07-07T05:57:28.535659Z",
     "shell.execute_reply": "2021-07-07T05:57:28.535076Z",
     "shell.execute_reply.started": "2021-07-07T05:27:16.069474Z"
    },
    "papermill": {
     "duration": 0.09037,
     "end_time": "2021-07-07T06:02:16.643537",
     "exception": false,
     "start_time": "2021-07-07T06:02:16.553167",
     "status": "completed"
    },
    "tags": []
   },
   "outputs": [],
   "source": []
  },
  {
   "cell_type": "code",
   "execution_count": null,
   "id": "rocky-procurement",
   "metadata": {
    "execution": {
     "iopub.execute_input": "2021-07-07T05:57:28.993255Z",
     "iopub.status.busy": "2021-07-07T05:57:28.992652Z",
     "iopub.status.idle": "2021-07-07T05:57:28.998027Z",
     "shell.execute_reply": "2021-07-07T05:57:28.997538Z",
     "shell.execute_reply.started": "2021-07-07T05:27:22.597448Z"
    },
    "papermill": {
     "duration": 0.090178,
     "end_time": "2021-07-07T06:02:16.824517",
     "exception": false,
     "start_time": "2021-07-07T06:02:16.734339",
     "status": "completed"
    },
    "tags": []
   },
   "outputs": [],
   "source": []
  },
  {
   "cell_type": "markdown",
   "id": "celtic-enhancement",
   "metadata": {
    "papermill": {
     "duration": 0.092129,
     "end_time": "2021-07-07T06:02:17.007450",
     "exception": false,
     "start_time": "2021-07-07T06:02:16.915321",
     "status": "completed"
    },
    "tags": []
   },
   "source": [
    "**Exercise 18: Create a dt.Frame `data_dc` from the dictionary `ddict` and create a dictionary `dc_data` from the dt.Frame `data_dc`**"
   ]
  },
  {
   "cell_type": "code",
   "execution_count": null,
   "id": "alleged-academy",
   "metadata": {
    "execution": {
     "iopub.execute_input": "2021-07-07T05:57:29.438793Z",
     "iopub.status.busy": "2021-07-07T05:57:29.438002Z",
     "iopub.status.idle": "2021-07-07T05:57:29.441544Z",
     "shell.execute_reply": "2021-07-07T05:57:29.441057Z",
     "shell.execute_reply.started": "2021-07-07T05:27:42.476661Z"
    },
    "papermill": {
     "duration": 0.090855,
     "end_time": "2021-07-07T06:02:17.190434",
     "exception": false,
     "start_time": "2021-07-07T06:02:17.099579",
     "status": "completed"
    },
    "tags": []
   },
   "outputs": [],
   "source": []
  },
  {
   "cell_type": "code",
   "execution_count": null,
   "id": "helpful-sector",
   "metadata": {
    "execution": {
     "iopub.execute_input": "2021-07-07T05:57:29.667548Z",
     "iopub.status.busy": "2021-07-07T05:57:29.666775Z",
     "iopub.status.idle": "2021-07-07T05:57:29.670620Z",
     "shell.execute_reply": "2021-07-07T05:57:29.670056Z",
     "shell.execute_reply.started": "2021-07-07T05:27:52.810435Z"
    },
    "papermill": {
     "duration": 0.09086,
     "end_time": "2021-07-07T06:02:17.372339",
     "exception": false,
     "start_time": "2021-07-07T06:02:17.281479",
     "status": "completed"
    },
    "tags": []
   },
   "outputs": [],
   "source": []
  },
  {
   "cell_type": "markdown",
   "id": "natural-national",
   "metadata": {
    "papermill": {
     "duration": 0.090869,
     "end_time": "2021-07-07T06:02:17.554206",
     "exception": false,
     "start_time": "2021-07-07T06:02:17.463337",
     "status": "completed"
    },
    "tags": []
   },
   "source": [
    "**Exercise 19: Create a dt.Frame `data_tp` from the tuples `dtup` and create tuples `tp_data` from the dt.Frame `data_tp`**"
   ]
  },
  {
   "cell_type": "code",
   "execution_count": null,
   "id": "blond-entrance",
   "metadata": {
    "execution": {
     "iopub.execute_input": "2021-07-07T05:57:30.118537Z",
     "iopub.status.busy": "2021-07-07T05:57:30.117935Z",
     "iopub.status.idle": "2021-07-07T05:57:30.122343Z",
     "shell.execute_reply": "2021-07-07T05:57:30.122873Z",
     "shell.execute_reply.started": "2021-07-07T05:28:08.679901Z"
    },
    "papermill": {
     "duration": 0.090899,
     "end_time": "2021-07-07T06:02:17.738993",
     "exception": false,
     "start_time": "2021-07-07T06:02:17.648094",
     "status": "completed"
    },
    "tags": []
   },
   "outputs": [],
   "source": []
  },
  {
   "cell_type": "code",
   "execution_count": null,
   "id": "constitutional-wednesday",
   "metadata": {
    "execution": {
     "iopub.execute_input": "2021-07-07T05:57:30.349157Z",
     "iopub.status.busy": "2021-07-07T05:57:30.348534Z",
     "iopub.status.idle": "2021-07-07T05:57:30.354536Z",
     "shell.execute_reply": "2021-07-07T05:57:30.354080Z",
     "shell.execute_reply.started": "2021-07-07T05:28:14.754753Z"
    },
    "papermill": {
     "duration": 0.091275,
     "end_time": "2021-07-07T06:02:17.921596",
     "exception": false,
     "start_time": "2021-07-07T06:02:17.830321",
     "status": "completed"
    },
    "tags": []
   },
   "outputs": [],
   "source": []
  },
  {
   "cell_type": "markdown",
   "id": "creative-tumor",
   "metadata": {
    "papermill": {
     "duration": 0.452669,
     "end_time": "2021-07-07T06:02:18.467034",
     "exception": false,
     "start_time": "2021-07-07T06:02:18.014365",
     "status": "completed"
    },
    "tags": []
   },
   "source": [
    "**Exercise 20: Create a dt.Frame `data_pa` from the pyarrow.Table `patable` and create a pyarrow.Table `pa_data` from the dt.Frame `data_pa`**"
   ]
  },
  {
   "cell_type": "code",
   "execution_count": null,
   "id": "legislative-toner",
   "metadata": {
    "execution": {
     "iopub.execute_input": "2021-07-07T05:57:30.803200Z",
     "iopub.status.busy": "2021-07-07T05:57:30.802373Z",
     "iopub.status.idle": "2021-07-07T05:57:30.808783Z",
     "shell.execute_reply": "2021-07-07T05:57:30.808336Z",
     "shell.execute_reply.started": "2021-07-07T05:28:31.791920Z"
    },
    "papermill": {
     "duration": 0.092058,
     "end_time": "2021-07-07T06:02:18.650968",
     "exception": false,
     "start_time": "2021-07-07T06:02:18.558910",
     "status": "completed"
    },
    "tags": []
   },
   "outputs": [],
   "source": []
  },
  {
   "cell_type": "code",
   "execution_count": null,
   "id": "alternate-crime",
   "metadata": {
    "execution": {
     "iopub.execute_input": "2021-07-07T05:57:31.033511Z",
     "iopub.status.busy": "2021-07-07T05:57:31.032579Z",
     "iopub.status.idle": "2021-07-07T05:57:31.037573Z",
     "shell.execute_reply": "2021-07-07T05:57:31.037052Z",
     "shell.execute_reply.started": "2021-07-07T05:28:37.932489Z"
    },
    "papermill": {
     "duration": 0.091629,
     "end_time": "2021-07-07T06:02:18.835182",
     "exception": false,
     "start_time": "2021-07-07T06:02:18.743553",
     "status": "completed"
    },
    "tags": []
   },
   "outputs": [],
   "source": []
  },
  {
   "cell_type": "markdown",
   "id": "coral-drink",
   "metadata": {
    "papermill": {
     "duration": 0.091293,
     "end_time": "2021-07-07T06:02:19.018575",
     "exception": false,
     "start_time": "2021-07-07T06:02:18.927282",
     "status": "completed"
    },
    "tags": []
   },
   "source": [
    "<center>\n",
    "    This completes Set 2: Files and Formats (Exercises 11-20) of <b>DatatableTon</b>: <i>💯 datatable exercises</i>\n",
    "    <br>\n",
    "    Set 3 is coming soon!\n",
    "    <br>\n",
    "    <br>\n",
    "    You can find all the exercises and solutions on <a href=\"https://github.com/vopani/datatableton#exercises-\">GitHub</a>\n",
    "</center>"
   ]
  }
 ],
 "metadata": {
  "kernelspec": {
   "display_name": "Python 3",
   "language": "python",
   "name": "python3"
  },
  "language_info": {
   "codemirror_mode": {
    "name": "ipython",
    "version": 3
   },
   "file_extension": ".py",
   "mimetype": "text/x-python",
   "name": "python",
   "nbconvert_exporter": "python",
   "pygments_lexer": "ipython3",
   "version": "3.7.9"
  },
  "papermill": {
   "default_parameters": {},
   "duration": 50.550978,
   "end_time": "2021-07-07T06:02:19.721178",
   "environment_variables": {},
   "exception": null,
   "input_path": "__notebook__.ipynb",
   "output_path": "__notebook__.ipynb",
   "parameters": {},
   "start_time": "2021-07-07T06:01:29.170200",
   "version": "2.3.2"
  }
 },
 "nbformat": 4,
 "nbformat_minor": 5
}
