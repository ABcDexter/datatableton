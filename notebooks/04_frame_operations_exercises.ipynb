{
 "cells": [
  {
   "cell_type": "markdown",
   "id": "3f701f80",
   "metadata": {
    "_cell_guid": "b1076dfc-b9ad-4769-8c92-a6c4dae69d19",
    "_uuid": "8f2839f25d086af736a60e9eeb907d3b93b6e0e5",
    "papermill": {
     "duration": 0.015914,
     "end_time": "2021-07-13T06:23:54.676462",
     "exception": false,
     "start_time": "2021-07-13T06:23:54.660548",
     "status": "completed"
    },
    "tags": []
   },
   "source": [
    "<center>\n",
    "    <h1>DatatableTon</h1>\n",
    "    💯 datatable exercises\n",
    "    <br>\n",
    "    <br>\n",
    "    <a href='https://github.com/vopani/datatableton/blob/master/LICENSE'>\n",
    "        <img src='https://img.shields.io/badge/license-Apache%202.0-blue.svg?logo=apache'>\n",
    "    </a>\n",
    "    <a href='https://github.com/vopani/datatableton'>\n",
    "        <img src='https://img.shields.io/github/stars/vopani/datatableton?color=yellowgreen&logo=github'>\n",
    "    </a>\n",
    "    <a href='https://twitter.com/vopani'>\n",
    "        <img src='https://img.shields.io/twitter/follow/vopani'>\n",
    "    </a>\n",
    "</center>"
   ]
  },
  {
   "cell_type": "markdown",
   "id": "63f82903",
   "metadata": {
    "papermill": {
     "duration": 0.0163,
     "end_time": "2021-07-13T06:23:54.711361",
     "exception": false,
     "start_time": "2021-07-13T06:23:54.695061",
     "status": "completed"
    },
    "tags": []
   },
   "source": [
    "<center>\n",
    "    This is Set 4: Frame Operations (Exercises 31-40) of <b>DatatableTon</b>: <i>💯 datatable exercises</i>\n",
    "    <br>\n",
    "    You can find all the exercises and solutions on <a href=\"https://github.com/vopani/datatableton#exercises-\">GitHub</a>\n",
    "</center>"
   ]
  },
  {
   "cell_type": "markdown",
   "id": "93937502",
   "metadata": {
    "papermill": {
     "duration": 0.015154,
     "end_time": "2021-07-13T06:23:54.744583",
     "exception": false,
     "start_time": "2021-07-13T06:23:54.729429",
     "status": "completed"
    },
    "tags": []
   },
   "source": [
    "**Prerequisites**\n",
    "* The `datatable` package should be upgraded to the latest version (or v1.0.0+).\n",
    "* The sample dataset [titanic.csv](https://www.openml.org/d/40945) will be used for the exercises."
   ]
  },
  {
   "cell_type": "code",
   "execution_count": 1,
   "id": "0c42dce0",
   "metadata": {
    "_kg_hide-output": true,
    "execution": {
     "iopub.execute_input": "2021-07-13T06:23:54.785369Z",
     "iopub.status.busy": "2021-07-13T06:23:54.784389Z",
     "iopub.status.idle": "2021-07-13T06:24:31.232683Z",
     "shell.execute_reply": "2021-07-13T06:24:31.233264Z",
     "shell.execute_reply.started": "2021-07-13T05:58:15.965858Z"
    },
    "papermill": {
     "duration": 36.47376,
     "end_time": "2021-07-13T06:24:31.233564",
     "exception": false,
     "start_time": "2021-07-13T06:23:54.759804",
     "status": "completed"
    },
    "tags": []
   },
   "outputs": [
    {
     "name": "stdout",
     "output_type": "stream",
     "text": [
      "Requirement already satisfied: pip in /opt/conda/lib/python3.7/site-packages (21.1.2)\r\n",
      "Collecting pip\r\n",
      "  Downloading pip-21.1.3-py3-none-any.whl (1.5 MB)\r\n",
      "\u001b[K     |████████████████████████████████| 1.5 MB 862 kB/s \r\n",
      "\u001b[?25hInstalling collected packages: pip\r\n",
      "  Attempting uninstall: pip\r\n",
      "    Found existing installation: pip 21.1.2\r\n",
      "    Uninstalling pip-21.1.2:\r\n",
      "      Successfully uninstalled pip-21.1.2\r\n",
      "Successfully installed pip-21.1.3\r\n",
      "\u001b[33mWARNING: Running pip as root will break packages and permissions. You should install packages reliably by using venv: https://pip.pypa.io/warnings/venv\u001b[0m\r\n",
      "Requirement already satisfied: datatable in /opt/conda/lib/python3.7/site-packages (1.0.0)\r\n",
      "\u001b[33mWARNING: Running pip as the 'root' user can result in broken permissions and conflicting behaviour with the system package manager. It is recommended to use a virtual environment instead: https://pip.pypa.io/warnings/venv\u001b[0m\r\n",
      "--2021-07-13 06:24:30--  https://www.openml.org/data/get_csv/16826755/titanic.csv\r\n",
      "Resolving www.openml.org (www.openml.org)... 131.155.11.11\r\n",
      "Connecting to www.openml.org (www.openml.org)|131.155.11.11|:443... connected.\r\n",
      "HTTP request sent, awaiting response... 200 OK\r\n",
      "Length: unspecified [text/plain]\r\n",
      "Saving to: ‘titanic.csv’\r\n",
      "\r\n",
      "titanic.csv             [ <=>                ] 114.98K  --.-KB/s    in 0.02s   \r\n",
      "\r\n",
      "2021-07-13 06:24:31 (5.87 MB/s) - ‘titanic.csv’ saved [117743]\r\n",
      "\r\n"
     ]
    }
   ],
   "source": [
    "!python3 -m pip install -U pip\n",
    "!python3 -m pip install -U datatable\n",
    "!wget https://www.openml.org/data/get_csv/16826755/titanic.csv"
   ]
  },
  {
   "cell_type": "code",
   "execution_count": 2,
   "id": "04faaf68",
   "metadata": {
    "execution": {
     "iopub.execute_input": "2021-07-13T06:24:31.282542Z",
     "iopub.status.busy": "2021-07-13T06:24:31.282030Z",
     "iopub.status.idle": "2021-07-13T06:24:31.494987Z",
     "shell.execute_reply": "2021-07-13T06:24:31.494410Z",
     "shell.execute_reply.started": "2021-07-13T05:58:26.396318Z"
    },
    "papermill": {
     "duration": 0.240063,
     "end_time": "2021-07-13T06:24:31.495101",
     "exception": false,
     "start_time": "2021-07-13T06:24:31.255038",
     "status": "completed"
    },
    "tags": []
   },
   "outputs": [
    {
     "data": {
      "text/html": [
       "<style type='text/css'>\n",
       ".datatable table.frame { margin-bottom: 0; }\n",
       ".datatable table.frame thead { border-bottom: none; }\n",
       ".datatable table.frame tr.coltypes td {  color: #FFFFFF;  line-height: 6px;  padding: 0 0.5em;}\n",
       ".datatable .bool    { background: #DDDD99; }\n",
       ".datatable .object  { background: #565656; }\n",
       ".datatable .int     { background: #5D9E5D; }\n",
       ".datatable .float   { background: #4040CC; }\n",
       ".datatable .str     { background: #CC4040; }\n",
       ".datatable .time    { background: #40CC40; }\n",
       ".datatable .row_index {  background: var(--jp-border-color3);  border-right: 1px solid var(--jp-border-color0);  color: var(--jp-ui-font-color3);  font-size: 9px;}\n",
       ".datatable .frame tbody td { text-align: left; }\n",
       ".datatable .frame tr.coltypes .row_index {  background: var(--jp-border-color0);}\n",
       ".datatable th:nth-child(2) { padding-left: 12px; }\n",
       ".datatable .hellipsis {  color: var(--jp-cell-editor-border-color);}\n",
       ".datatable .vellipsis {  background: var(--jp-layout-color0);  color: var(--jp-cell-editor-border-color);}\n",
       ".datatable .na {  color: var(--jp-cell-editor-border-color);  font-size: 80%;}\n",
       ".datatable .sp {  opacity: 0.25;}\n",
       ".datatable .footer { font-size: 9px; }\n",
       ".datatable .frame_dimensions {  background: var(--jp-border-color3);  border-top: 1px solid var(--jp-border-color0);  color: var(--jp-ui-font-color3);  display: inline-block;  opacity: 0.6;  padding: 1px 10px 1px 5px;}\n",
       "</style>\n"
      ],
      "text/plain": [
       "<IPython.core.display.HTML object>"
      ]
     },
     "metadata": {},
     "output_type": "display_data"
    },
    {
     "data": {
      "text/html": [
       "<div class='datatable'>\n",
       "  <table class='frame'>\n",
       "  <thead>\n",
       "    <tr class='colnames'><td class='row_index'></td><th>pclass</th><th>survived</th><th>name</th><th>sex</th><th>age</th><th>sibsp</th><th>parch</th><th>ticket</th><th>fare</th><th>cabin</th><th>embarked</th><th>boat</th><th>body</th><th>home.dest</th></tr>\n",
       "    <tr class='coltypes'><td class='row_index'></td><td class='int' title='int32'>&#x25AA;&#x25AA;&#x25AA;&#x25AA;</td><td class='bool' title='bool8'>&#x25AA;</td><td class='str' title='str32'>&#x25AA;&#x25AA;&#x25AA;&#x25AA;</td><td class='str' title='str32'>&#x25AA;&#x25AA;&#x25AA;&#x25AA;</td><td class='str' title='str32'>&#x25AA;&#x25AA;&#x25AA;&#x25AA;</td><td class='int' title='int32'>&#x25AA;&#x25AA;&#x25AA;&#x25AA;</td><td class='int' title='int32'>&#x25AA;&#x25AA;&#x25AA;&#x25AA;</td><td class='str' title='str32'>&#x25AA;&#x25AA;&#x25AA;&#x25AA;</td><td class='str' title='str32'>&#x25AA;&#x25AA;&#x25AA;&#x25AA;</td><td class='str' title='str32'>&#x25AA;&#x25AA;&#x25AA;&#x25AA;</td><td class='str' title='str32'>&#x25AA;&#x25AA;&#x25AA;&#x25AA;</td><td class='str' title='str32'>&#x25AA;&#x25AA;&#x25AA;&#x25AA;</td><td class='str' title='str32'>&#x25AA;&#x25AA;&#x25AA;&#x25AA;</td><td class='str' title='str32'>&#x25AA;&#x25AA;&#x25AA;&#x25AA;</td></tr>\n",
       "  </thead>\n",
       "  <tbody>\n",
       "    <tr><td class='row_index'>0</td><td>1</td><td>1</td><td>Allen, Miss. Elisabeth Walton</td><td>female</td><td>29</td><td>0</td><td>0</td><td>24160</td><td>211.3375</td><td>B5</td><td>S</td><td>2</td><td>?</td><td>St Louis, MO</td></tr>\n",
       "    <tr><td class='row_index'>1</td><td>1</td><td>1</td><td>Allison, Master. Hudson Trevor</td><td>male</td><td>0.9167</td><td>1</td><td>2</td><td>113781</td><td>151.55</td><td>C22 C26</td><td>S</td><td>11</td><td>?</td><td>Montreal, PQ / Chesterville, ON</td></tr>\n",
       "    <tr><td class='row_index'>2</td><td>1</td><td>0</td><td>Allison, Miss. Helen Loraine</td><td>female</td><td>2</td><td>1</td><td>2</td><td>113781</td><td>151.55</td><td>C22 C26</td><td>S</td><td>?</td><td>?</td><td>Montreal, PQ / Chesterville, ON</td></tr>\n",
       "    <tr><td class='row_index'>3</td><td>1</td><td>0</td><td>Allison, Mr. Hudson Joshua Creighton</td><td>male</td><td>30</td><td>1</td><td>2</td><td>113781</td><td>151.55</td><td>C22 C26</td><td>S</td><td>?</td><td>135</td><td>Montreal, PQ / Chesterville, ON</td></tr>\n",
       "    <tr><td class='row_index'>4</td><td>1</td><td>0</td><td>Allison, Mrs. Hudson J C (Bessie Waldo Daniels)</td><td>female</td><td>25</td><td>1</td><td>2</td><td>113781</td><td>151.55</td><td>C22 C26</td><td>S</td><td>?</td><td>?</td><td>Montreal, PQ / Chesterville, ON</td></tr>\n",
       "    <tr><td class='row_index'>5</td><td>1</td><td>1</td><td>Anderson, Mr. Harry</td><td>male</td><td>48</td><td>0</td><td>0</td><td>19952</td><td>26.55</td><td>E12</td><td>S</td><td>3</td><td>?</td><td>New York, NY</td></tr>\n",
       "    <tr><td class='row_index'>6</td><td>1</td><td>1</td><td>Andrews, Miss. Kornelia Theodosia</td><td>female</td><td>63</td><td>1</td><td>0</td><td>13502</td><td>77.9583</td><td>D7</td><td>S</td><td>10</td><td>?</td><td>Hudson, NY</td></tr>\n",
       "    <tr><td class='row_index'>7</td><td>1</td><td>0</td><td>Andrews, Mr. Thomas Jr</td><td>male</td><td>39</td><td>0</td><td>0</td><td>112050</td><td>0</td><td>A36</td><td>S</td><td>?</td><td>?</td><td>Belfast, NI</td></tr>\n",
       "    <tr><td class='row_index'>8</td><td>1</td><td>1</td><td>Appleton, Mrs. Edward Dale (Charlotte Lamson)</td><td>female</td><td>53</td><td>2</td><td>0</td><td>11769</td><td>51.4792</td><td>C101</td><td>S</td><td>D</td><td>?</td><td>Bayside, Queens, NY</td></tr>\n",
       "    <tr><td class='row_index'>9</td><td>1</td><td>0</td><td>Artagaveytia, Mr. Ramon</td><td>male</td><td>71</td><td>0</td><td>0</td><td>PC 17609</td><td>49.5042</td><td>?</td><td>C</td><td>?</td><td>22</td><td>Montevideo, Uruguay</td></tr>\n",
       "  </tbody>\n",
       "  </table>\n",
       "  <div class='footer'>\n",
       "    <div class='frame_dimensions'>10 rows &times; 14 columns</div>\n",
       "  </div>\n",
       "</div>\n"
      ],
      "text/plain": [
       "<Frame#7f66909d0d80 10x14>"
      ]
     },
     "execution_count": 2,
     "metadata": {},
     "output_type": "execute_result"
    }
   ],
   "source": [
    "import datatable as dt\n",
    "\n",
    "data = dt.fread('titanic.csv')\n",
    "data.head()"
   ]
  },
  {
   "cell_type": "markdown",
   "id": "4ecc10f2",
   "metadata": {
    "execution": {
     "iopub.execute_input": "2021-07-12T10:35:52.5097Z",
     "iopub.status.busy": "2021-07-12T10:35:52.509278Z",
     "iopub.status.idle": "2021-07-12T10:35:52.517897Z",
     "shell.execute_reply": "2021-07-12T10:35:52.51596Z",
     "shell.execute_reply.started": "2021-07-12T10:35:52.509666Z"
    },
    "papermill": {
     "duration": 0.022757,
     "end_time": "2021-07-13T06:24:31.541011",
     "exception": false,
     "start_time": "2021-07-13T06:24:31.518254",
     "status": "completed"
    },
    "tags": []
   },
   "source": [
    "**Exercise 31: Print all the column names and column types of `data` in `column-name : column-type` format**"
   ]
  },
  {
   "cell_type": "code",
   "execution_count": null,
   "id": "84b5417c",
   "metadata": {
    "execution": {
     "iopub.execute_input": "2021-07-13T06:02:02.931635Z",
     "iopub.status.busy": "2021-07-13T06:02:02.930446Z",
     "iopub.status.idle": "2021-07-13T06:02:02.935748Z",
     "shell.execute_reply": "2021-07-13T06:02:02.93618Z",
     "shell.execute_reply.started": "2021-07-13T05:58:26.63898Z"
    },
    "papermill": {
     "duration": 0.022595,
     "end_time": "2021-07-13T06:24:31.586296",
     "exception": false,
     "start_time": "2021-07-13T06:24:31.563701",
     "status": "completed"
    },
    "tags": []
   },
   "outputs": [],
   "source": []
  },
  {
   "cell_type": "markdown",
   "id": "6a439496",
   "metadata": {
    "papermill": {
     "duration": 0.022794,
     "end_time": "2021-07-13T06:24:31.632068",
     "exception": false,
     "start_time": "2021-07-13T06:24:31.609274",
     "status": "completed"
    },
    "tags": []
   },
   "source": [
    "**Exercise 32: Convert the type of column `age` in `data` from `str32` to `float`**"
   ]
  },
  {
   "cell_type": "code",
   "execution_count": null,
   "id": "c7830ad9",
   "metadata": {
    "execution": {
     "iopub.execute_input": "2021-07-13T06:02:03.010699Z",
     "iopub.status.busy": "2021-07-13T06:02:03.009792Z",
     "iopub.status.idle": "2021-07-13T06:02:03.013893Z",
     "shell.execute_reply": "2021-07-13T06:02:03.013329Z",
     "shell.execute_reply.started": "2021-07-13T05:58:32.942534Z"
    },
    "papermill": {
     "duration": 0.023142,
     "end_time": "2021-07-13T06:24:31.678280",
     "exception": false,
     "start_time": "2021-07-13T06:24:31.655138",
     "status": "completed"
    },
    "tags": []
   },
   "outputs": [],
   "source": []
  },
  {
   "cell_type": "markdown",
   "id": "7987e38d",
   "metadata": {
    "papermill": {
     "duration": 0.023435,
     "end_time": "2021-07-13T06:24:31.724901",
     "exception": false,
     "start_time": "2021-07-13T06:24:31.701466",
     "status": "completed"
    },
    "tags": []
   },
   "source": [
    "**Exercise 33: Rename the column `home.dest` in `data` to `address`**"
   ]
  },
  {
   "cell_type": "code",
   "execution_count": null,
   "id": "fff9d190",
   "metadata": {
    "execution": {
     "iopub.execute_input": "2021-07-13T06:02:03.087524Z",
     "iopub.status.busy": "2021-07-13T06:02:03.086771Z",
     "iopub.status.idle": "2021-07-13T06:02:03.090538Z",
     "shell.execute_reply": "2021-07-13T06:02:03.089852Z",
     "shell.execute_reply.started": "2021-07-13T05:58:34.027487Z"
    },
    "papermill": {
     "duration": 0.022347,
     "end_time": "2021-07-13T06:24:31.770111",
     "exception": false,
     "start_time": "2021-07-13T06:24:31.747764",
     "status": "completed"
    },
    "tags": []
   },
   "outputs": [],
   "source": []
  },
  {
   "cell_type": "markdown",
   "id": "e4458f53",
   "metadata": {
    "papermill": {
     "duration": 0.022478,
     "end_time": "2021-07-13T06:24:31.815511",
     "exception": false,
     "start_time": "2021-07-13T06:24:31.793033",
     "status": "completed"
    },
    "tags": []
   },
   "source": [
    "**Exercise 34: Sort `data` in descending order of `fare`**"
   ]
  },
  {
   "cell_type": "code",
   "execution_count": null,
   "id": "a5f42b5d",
   "metadata": {
    "execution": {
     "iopub.execute_input": "2021-07-13T06:02:03.191376Z",
     "iopub.status.busy": "2021-07-13T06:02:03.190691Z",
     "iopub.status.idle": "2021-07-13T06:02:03.19778Z",
     "shell.execute_reply": "2021-07-13T06:02:03.198235Z",
     "shell.execute_reply.started": "2021-07-13T05:59:43.688133Z"
    },
    "papermill": {
     "duration": 0.021631,
     "end_time": "2021-07-13T06:24:31.858853",
     "exception": false,
     "start_time": "2021-07-13T06:24:31.837222",
     "status": "completed"
    },
    "tags": []
   },
   "outputs": [],
   "source": []
  },
  {
   "cell_type": "markdown",
   "id": "c72db844",
   "metadata": {
    "papermill": {
     "duration": 0.021467,
     "end_time": "2021-07-13T06:24:31.902135",
     "exception": false,
     "start_time": "2021-07-13T06:24:31.880668",
     "status": "completed"
    },
    "tags": []
   },
   "source": [
    "**Exercise 35: Create a column `deck` in `data` containing only the first character of `cabin`**"
   ]
  },
  {
   "cell_type": "code",
   "execution_count": null,
   "id": "1af12d7f",
   "metadata": {
    "execution": {
     "iopub.execute_input": "2021-07-13T06:02:03.285646Z",
     "iopub.status.busy": "2021-07-13T06:02:03.284773Z",
     "iopub.status.idle": "2021-07-13T06:02:03.289028Z",
     "shell.execute_reply": "2021-07-13T06:02:03.288479Z",
     "shell.execute_reply.started": "2021-07-13T04:28:11.055227Z"
    },
    "papermill": {
     "duration": 0.022199,
     "end_time": "2021-07-13T06:24:31.947035",
     "exception": false,
     "start_time": "2021-07-13T06:24:31.924836",
     "status": "completed"
    },
    "tags": []
   },
   "outputs": [],
   "source": []
  },
  {
   "cell_type": "markdown",
   "id": "d5c21410",
   "metadata": {
    "papermill": {
     "duration": 0.022106,
     "end_time": "2021-07-13T06:24:31.991129",
     "exception": false,
     "start_time": "2021-07-13T06:24:31.969023",
     "status": "completed"
    },
    "tags": []
   },
   "source": [
    "**Exercise 36: Create a column `family` in `data` which is the sum of two columns `sibsp` and `parch`**"
   ]
  },
  {
   "cell_type": "code",
   "execution_count": null,
   "id": "88ae0ae7",
   "metadata": {
    "execution": {
     "iopub.execute_input": "2021-07-13T06:02:03.366932Z",
     "iopub.status.busy": "2021-07-13T06:02:03.366062Z",
     "iopub.status.idle": "2021-07-13T06:02:03.370352Z",
     "shell.execute_reply": "2021-07-13T06:02:03.369884Z",
     "shell.execute_reply.started": "2021-07-13T04:28:36.35308Z"
    },
    "papermill": {
     "duration": 0.0227,
     "end_time": "2021-07-13T06:24:32.036464",
     "exception": false,
     "start_time": "2021-07-13T06:24:32.013764",
     "status": "completed"
    },
    "tags": []
   },
   "outputs": [],
   "source": []
  },
  {
   "cell_type": "markdown",
   "id": "e102193d",
   "metadata": {
    "papermill": {
     "duration": 0.022867,
     "end_time": "2021-07-13T06:24:32.082662",
     "exception": false,
     "start_time": "2021-07-13T06:24:32.059795",
     "status": "completed"
    },
    "tags": []
   },
   "source": [
    "**Exercise 37: Create a column `total_passengers` in `data` which is the sum of `family` and the passenger included and round the values of column `age` in `data` to the nearest integer, both together using a single inplace operation**"
   ]
  },
  {
   "cell_type": "code",
   "execution_count": null,
   "id": "87ae00c1",
   "metadata": {
    "execution": {
     "iopub.execute_input": "2021-07-13T06:02:03.451625Z",
     "iopub.status.busy": "2021-07-13T06:02:03.450824Z",
     "iopub.status.idle": "2021-07-13T06:02:03.455029Z",
     "shell.execute_reply": "2021-07-13T06:02:03.454611Z",
     "shell.execute_reply.started": "2021-07-13T04:28:58.075163Z"
    },
    "papermill": {
     "duration": 0.022468,
     "end_time": "2021-07-13T06:24:32.128401",
     "exception": false,
     "start_time": "2021-07-13T06:24:32.105933",
     "status": "completed"
    },
    "tags": []
   },
   "outputs": [],
   "source": []
  },
  {
   "cell_type": "markdown",
   "id": "482a689f",
   "metadata": {
    "papermill": {
     "duration": 0.023432,
     "end_time": "2021-07-13T06:24:32.176300",
     "exception": false,
     "start_time": "2021-07-13T06:24:32.152868",
     "status": "completed"
    },
    "tags": []
   },
   "source": [
    "**Exercise 38: Delete the used columns `sibsp` and `parch` and the outlier rows first and last from `data`**"
   ]
  },
  {
   "cell_type": "code",
   "execution_count": null,
   "id": "3524cf0c",
   "metadata": {
    "execution": {
     "iopub.execute_input": "2021-07-13T06:02:03.535125Z",
     "iopub.status.busy": "2021-07-13T06:02:03.534354Z",
     "iopub.status.idle": "2021-07-13T06:02:03.538255Z",
     "shell.execute_reply": "2021-07-13T06:02:03.537805Z",
     "shell.execute_reply.started": "2021-07-13T06:01:00.084112Z"
    },
    "papermill": {
     "duration": 0.022618,
     "end_time": "2021-07-13T06:24:32.221911",
     "exception": false,
     "start_time": "2021-07-13T06:24:32.199293",
     "status": "completed"
    },
    "tags": []
   },
   "outputs": [],
   "source": []
  },
  {
   "cell_type": "code",
   "execution_count": null,
   "id": "9ef167cf",
   "metadata": {
    "execution": {
     "iopub.execute_input": "2021-07-13T06:02:03.591109Z",
     "iopub.status.busy": "2021-07-13T06:02:03.59045Z",
     "iopub.status.idle": "2021-07-13T06:02:03.594989Z",
     "shell.execute_reply": "2021-07-13T06:02:03.595461Z",
     "shell.execute_reply.started": "2021-07-13T06:01:01.120639Z"
    },
    "papermill": {
     "duration": 0.022283,
     "end_time": "2021-07-13T06:24:32.267251",
     "exception": false,
     "start_time": "2021-07-13T06:24:32.244968",
     "status": "completed"
    },
    "tags": []
   },
   "outputs": [],
   "source": []
  },
  {
   "cell_type": "markdown",
   "id": "d0d5562b",
   "metadata": {
    "papermill": {
     "duration": 0.022658,
     "end_time": "2021-07-13T06:24:32.313885",
     "exception": false,
     "start_time": "2021-07-13T06:24:32.291227",
     "status": "completed"
    },
    "tags": []
   },
   "source": [
    "**Exercise 39: Replace all `'?'` values with `NA` or `null` as missing values in `data`**"
   ]
  },
  {
   "cell_type": "code",
   "execution_count": null,
   "id": "6c439e64",
   "metadata": {
    "execution": {
     "iopub.execute_input": "2021-07-13T06:02:03.682069Z",
     "iopub.status.busy": "2021-07-13T06:02:03.681192Z",
     "iopub.status.idle": "2021-07-13T06:02:03.685071Z",
     "shell.execute_reply": "2021-07-13T06:02:03.684538Z",
     "shell.execute_reply.started": "2021-07-13T06:01:04.01253Z"
    },
    "papermill": {
     "duration": 0.022263,
     "end_time": "2021-07-13T06:24:32.358223",
     "exception": false,
     "start_time": "2021-07-13T06:24:32.335960",
     "status": "completed"
    },
    "tags": []
   },
   "outputs": [],
   "source": []
  },
  {
   "cell_type": "markdown",
   "id": "ceadbca5",
   "metadata": {
    "papermill": {
     "duration": 0.022139,
     "end_time": "2021-07-13T06:24:32.402435",
     "exception": false,
     "start_time": "2021-07-13T06:24:32.380296",
     "status": "completed"
    },
    "tags": []
   },
   "source": [
    "**Exercise 40: Impute all the missing values in `data` with `-1` for numeric columns and `'unknown'` for string columns**"
   ]
  },
  {
   "cell_type": "code",
   "execution_count": null,
   "id": "f95481d7",
   "metadata": {
    "execution": {
     "iopub.execute_input": "2021-07-13T06:02:03.776593Z",
     "iopub.status.busy": "2021-07-13T06:02:03.775903Z",
     "iopub.status.idle": "2021-07-13T06:02:03.780163Z",
     "shell.execute_reply": "2021-07-13T06:02:03.780701Z",
     "shell.execute_reply.started": "2021-07-13T04:29:25.784011Z"
    },
    "papermill": {
     "duration": 0.021999,
     "end_time": "2021-07-13T06:24:32.446747",
     "exception": false,
     "start_time": "2021-07-13T06:24:32.424748",
     "status": "completed"
    },
    "tags": []
   },
   "outputs": [],
   "source": []
  },
  {
   "cell_type": "markdown",
   "id": "6658b793",
   "metadata": {
    "papermill": {
     "duration": 0.02187,
     "end_time": "2021-07-13T06:24:32.490670",
     "exception": false,
     "start_time": "2021-07-13T06:24:32.468800",
     "status": "completed"
    },
    "tags": []
   },
   "source": [
    "<center>\n",
    "    ✅ This completes Set 4: Frame Operations (Exercises 31-40) of <b>DatatableTon</b>: <i>💯 datatable exercises</i>\n",
    "    <br>\n",
    "    Set 5 is coming soon!\n",
    "    <br>\n",
    "    <br>\n",
    "    You can find all the exercises and solutions on <a href=\"https://github.com/vopani/datatableton#exercises-\">GitHub</a>\n",
    "</center>"
   ]
  }
 ],
 "metadata": {
  "kernelspec": {
   "display_name": "Python 3",
   "language": "python",
   "name": "python3"
  },
  "language_info": {
   "codemirror_mode": {
    "name": "ipython",
    "version": 3
   },
   "file_extension": ".py",
   "mimetype": "text/x-python",
   "name": "python",
   "nbconvert_exporter": "python",
   "pygments_lexer": "ipython3",
   "version": "3.7.10"
  },
  "papermill": {
   "default_parameters": {},
   "duration": 46.924527,
   "end_time": "2021-07-13T06:24:34.145964",
   "environment_variables": {},
   "exception": null,
   "input_path": "__notebook__.ipynb",
   "output_path": "__notebook__.ipynb",
   "parameters": {},
   "start_time": "2021-07-13T06:23:47.221437",
   "version": "2.3.3"
  }
 },
 "nbformat": 4,
 "nbformat_minor": 5
}
