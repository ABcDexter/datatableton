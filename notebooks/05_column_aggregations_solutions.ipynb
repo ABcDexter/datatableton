{
 "cells": [
  {
   "cell_type": "markdown",
   "id": "40a7adca",
   "metadata": {
    "_cell_guid": "b1076dfc-b9ad-4769-8c92-a6c4dae69d19",
    "_uuid": "8f2839f25d086af736a60e9eeb907d3b93b6e0e5",
    "papermill": {
     "duration": 0.016484,
     "end_time": "2021-07-15T18:07:51.008441",
     "exception": false,
     "start_time": "2021-07-15T18:07:50.991957",
     "status": "completed"
    },
    "tags": []
   },
   "source": [
    "<center>\n",
    "    <h1>DatatableTon</h1>\n",
    "    💯 datatable exercises\n",
    "    <br>\n",
    "    <br>\n",
    "    <a href='https://github.com/vopani/datatableton/blob/master/LICENSE'>\n",
    "        <img src='https://img.shields.io/badge/license-Apache%202.0-blue.svg?logo=apache'>\n",
    "    </a>\n",
    "    <a href='https://github.com/vopani/datatableton'>\n",
    "        <img src='https://img.shields.io/github/stars/vopani/datatableton?color=yellowgreen&logo=github'>\n",
    "    </a>\n",
    "    <a href='https://twitter.com/vopani'>\n",
    "        <img src='https://img.shields.io/twitter/follow/vopani'>\n",
    "    </a>\n",
    "</center>"
   ]
  },
  {
   "cell_type": "markdown",
   "id": "32837d75",
   "metadata": {
    "papermill": {
     "duration": 0.015282,
     "end_time": "2021-07-15T18:07:51.039642",
     "exception": false,
     "start_time": "2021-07-15T18:07:51.024360",
     "status": "completed"
    },
    "tags": []
   },
   "source": [
    "<center>\n",
    "    This is Set 5: Column Aggregations (Exercises 41-50) of <b>DatatableTon</b>: <i>💯 datatable exercises</i>\n",
    "    <br>\n",
    "    You can find all the exercises and solutions on <a href=\"https://github.com/vopani/datatableton#exercises-\">GitHub</a>\n",
    "</center>"
   ]
  },
  {
   "cell_type": "markdown",
   "id": "465f0810",
   "metadata": {
    "papermill": {
     "duration": 0.015106,
     "end_time": "2021-07-15T18:07:51.070410",
     "exception": false,
     "start_time": "2021-07-15T18:07:51.055304",
     "status": "completed"
    },
    "tags": []
   },
   "source": [
    "**Prerequisites**\n",
    "* The `datatable` package should be upgraded to the latest version (or v1.0.0+).\n",
    "* The sample dataset [wine](https://scikit-learn.org/stable/modules/generated/sklearn.datasets.load_wine.html) from sklearn will be used for the exercises."
   ]
  },
  {
   "cell_type": "code",
   "execution_count": 1,
   "id": "b7a5dc3f",
   "metadata": {
    "_kg_hide-output": true,
    "execution": {
     "iopub.execute_input": "2021-07-15T18:07:51.104802Z",
     "iopub.status.busy": "2021-07-15T18:07:51.103969Z",
     "iopub.status.idle": "2021-07-15T18:08:27.587722Z",
     "shell.execute_reply": "2021-07-15T18:08:27.586794Z",
     "shell.execute_reply.started": "2021-07-15T18:00:49.903147Z"
    },
    "papermill": {
     "duration": 36.501885,
     "end_time": "2021-07-15T18:08:27.587876",
     "exception": false,
     "start_time": "2021-07-15T18:07:51.085991",
     "status": "completed"
    },
    "tags": []
   },
   "outputs": [
    {
     "name": "stdout",
     "output_type": "stream",
     "text": [
      "Requirement already satisfied: pip in /opt/conda/lib/python3.7/site-packages (21.1.2)\r\n",
      "Collecting pip\r\n",
      "  Downloading pip-21.1.3-py3-none-any.whl (1.5 MB)\r\n",
      "\u001b[K     |████████████████████████████████| 1.5 MB 831 kB/s \r\n",
      "\u001b[?25hInstalling collected packages: pip\r\n",
      "  Attempting uninstall: pip\r\n",
      "    Found existing installation: pip 21.1.2\r\n",
      "    Uninstalling pip-21.1.2:\r\n",
      "      Successfully uninstalled pip-21.1.2\r\n",
      "Successfully installed pip-21.1.3\r\n",
      "\u001b[33mWARNING: Running pip as root will break packages and permissions. You should install packages reliably by using venv: https://pip.pypa.io/warnings/venv\u001b[0m\r\n",
      "Requirement already satisfied: datatable in /opt/conda/lib/python3.7/site-packages (1.0.0)\r\n",
      "\u001b[33mWARNING: Running pip as the 'root' user can result in broken permissions and conflicting behaviour with the system package manager. It is recommended to use a virtual environment instead: https://pip.pypa.io/warnings/venv\u001b[0m\r\n",
      "Requirement already satisfied: scikit-learn in /opt/conda/lib/python3.7/site-packages (0.23.2)\r\n",
      "Requirement already satisfied: scipy>=0.19.1 in /opt/conda/lib/python3.7/site-packages (from scikit-learn) (1.6.3)\r\n",
      "Requirement already satisfied: joblib>=0.11 in /opt/conda/lib/python3.7/site-packages (from scikit-learn) (1.0.1)\r\n",
      "Requirement already satisfied: threadpoolctl>=2.0.0 in /opt/conda/lib/python3.7/site-packages (from scikit-learn) (2.1.0)\r\n",
      "Requirement already satisfied: numpy>=1.13.3 in /opt/conda/lib/python3.7/site-packages (from scikit-learn) (1.19.5)\r\n",
      "\u001b[33mWARNING: Running pip as the 'root' user can result in broken permissions and conflicting behaviour with the system package manager. It is recommended to use a virtual environment instead: https://pip.pypa.io/warnings/venv\u001b[0m\r\n"
     ]
    }
   ],
   "source": [
    "!python3 -m pip install -U pip\n",
    "!python3 -m pip install -U datatable\n",
    "!python3 -m pip install scikit-learn"
   ]
  },
  {
   "cell_type": "code",
   "execution_count": 2,
   "id": "c53dca92",
   "metadata": {
    "execution": {
     "iopub.execute_input": "2021-07-15T18:08:27.657799Z",
     "iopub.status.busy": "2021-07-15T18:08:27.657064Z",
     "iopub.status.idle": "2021-07-15T18:08:28.690859Z",
     "shell.execute_reply": "2021-07-15T18:08:28.690454Z",
     "shell.execute_reply.started": "2021-07-15T18:01:29.329039Z"
    },
    "papermill": {
     "duration": 1.070604,
     "end_time": "2021-07-15T18:08:28.690989",
     "exception": false,
     "start_time": "2021-07-15T18:08:27.620385",
     "status": "completed"
    },
    "tags": []
   },
   "outputs": [
    {
     "data": {
      "text/html": [
       "<style type='text/css'>\n",
       ".datatable table.frame { margin-bottom: 0; }\n",
       ".datatable table.frame thead { border-bottom: none; }\n",
       ".datatable table.frame tr.coltypes td {  color: #FFFFFF;  line-height: 6px;  padding: 0 0.5em;}\n",
       ".datatable .bool    { background: #DDDD99; }\n",
       ".datatable .object  { background: #565656; }\n",
       ".datatable .int     { background: #5D9E5D; }\n",
       ".datatable .float   { background: #4040CC; }\n",
       ".datatable .str     { background: #CC4040; }\n",
       ".datatable .time    { background: #40CC40; }\n",
       ".datatable .row_index {  background: var(--jp-border-color3);  border-right: 1px solid var(--jp-border-color0);  color: var(--jp-ui-font-color3);  font-size: 9px;}\n",
       ".datatable .frame tbody td { text-align: left; }\n",
       ".datatable .frame tr.coltypes .row_index {  background: var(--jp-border-color0);}\n",
       ".datatable th:nth-child(2) { padding-left: 12px; }\n",
       ".datatable .hellipsis {  color: var(--jp-cell-editor-border-color);}\n",
       ".datatable .vellipsis {  background: var(--jp-layout-color0);  color: var(--jp-cell-editor-border-color);}\n",
       ".datatable .na {  color: var(--jp-cell-editor-border-color);  font-size: 80%;}\n",
       ".datatable .sp {  opacity: 0.25;}\n",
       ".datatable .footer { font-size: 9px; }\n",
       ".datatable .frame_dimensions {  background: var(--jp-border-color3);  border-top: 1px solid var(--jp-border-color0);  color: var(--jp-ui-font-color3);  display: inline-block;  opacity: 0.6;  padding: 1px 10px 1px 5px;}\n",
       "</style>\n"
      ],
      "text/plain": [
       "<IPython.core.display.HTML object>"
      ]
     },
     "metadata": {},
     "output_type": "display_data"
    },
    {
     "data": {
      "text/html": [
       "<div class='datatable'>\n",
       "  <table class='frame'>\n",
       "  <thead>\n",
       "    <tr class='colnames'><td class='row_index'></td><th>alcohol</th><th>malic_acid</th><th>ash</th><th>alcalinity_of_ash</th><th>magnesium</th><th>total_phenols</th><th>flavanoids</th><th>nonflavanoid_phenols</th><th>proanthocyanins</th><th>color_intensity</th><th>hue</th><th>od280/od315_of_diluted_wines</th><th>proline</th><th>target</th></tr>\n",
       "    <tr class='coltypes'><td class='row_index'></td><td class='float' title='float64'>&#x25AA;&#x25AA;&#x25AA;&#x25AA;&#x25AA;&#x25AA;&#x25AA;&#x25AA;</td><td class='float' title='float64'>&#x25AA;&#x25AA;&#x25AA;&#x25AA;&#x25AA;&#x25AA;&#x25AA;&#x25AA;</td><td class='float' title='float64'>&#x25AA;&#x25AA;&#x25AA;&#x25AA;&#x25AA;&#x25AA;&#x25AA;&#x25AA;</td><td class='float' title='float64'>&#x25AA;&#x25AA;&#x25AA;&#x25AA;&#x25AA;&#x25AA;&#x25AA;&#x25AA;</td><td class='float' title='float64'>&#x25AA;&#x25AA;&#x25AA;&#x25AA;&#x25AA;&#x25AA;&#x25AA;&#x25AA;</td><td class='float' title='float64'>&#x25AA;&#x25AA;&#x25AA;&#x25AA;&#x25AA;&#x25AA;&#x25AA;&#x25AA;</td><td class='float' title='float64'>&#x25AA;&#x25AA;&#x25AA;&#x25AA;&#x25AA;&#x25AA;&#x25AA;&#x25AA;</td><td class='float' title='float64'>&#x25AA;&#x25AA;&#x25AA;&#x25AA;&#x25AA;&#x25AA;&#x25AA;&#x25AA;</td><td class='float' title='float64'>&#x25AA;&#x25AA;&#x25AA;&#x25AA;&#x25AA;&#x25AA;&#x25AA;&#x25AA;</td><td class='float' title='float64'>&#x25AA;&#x25AA;&#x25AA;&#x25AA;&#x25AA;&#x25AA;&#x25AA;&#x25AA;</td><td class='float' title='float64'>&#x25AA;&#x25AA;&#x25AA;&#x25AA;&#x25AA;&#x25AA;&#x25AA;&#x25AA;</td><td class='float' title='float64'>&#x25AA;&#x25AA;&#x25AA;&#x25AA;&#x25AA;&#x25AA;&#x25AA;&#x25AA;</td><td class='float' title='float64'>&#x25AA;&#x25AA;&#x25AA;&#x25AA;&#x25AA;&#x25AA;&#x25AA;&#x25AA;</td><td class='int' title='int64'>&#x25AA;&#x25AA;&#x25AA;&#x25AA;&#x25AA;&#x25AA;&#x25AA;&#x25AA;</td></tr>\n",
       "  </thead>\n",
       "  <tbody>\n",
       "    <tr><td class='row_index'>0</td><td>14.23</td><td>1.71</td><td>2.43</td><td>15.6</td><td>127</td><td>2.8</td><td>3.06</td><td>0.28</td><td>2.29</td><td>5.64</td><td>1.04</td><td>3.92</td><td>1065</td><td>0</td></tr>\n",
       "    <tr><td class='row_index'>1</td><td>13.2</td><td>1.78</td><td>2.14</td><td>11.2</td><td>100</td><td>2.65</td><td>2.76</td><td>0.26</td><td>1.28</td><td>4.38</td><td>1.05</td><td>3.4</td><td>1050</td><td>0</td></tr>\n",
       "    <tr><td class='row_index'>2</td><td>13.16</td><td>2.36</td><td>2.67</td><td>18.6</td><td>101</td><td>2.8</td><td>3.24</td><td>0.3</td><td>2.81</td><td>5.68</td><td>1.03</td><td>3.17</td><td>1185</td><td>0</td></tr>\n",
       "    <tr><td class='row_index'>3</td><td>14.37</td><td>1.95</td><td>2.5</td><td>16.8</td><td>113</td><td>3.85</td><td>3.49</td><td>0.24</td><td>2.18</td><td>7.8</td><td>0.86</td><td>3.45</td><td>1480</td><td>0</td></tr>\n",
       "    <tr><td class='row_index'>4</td><td>13.24</td><td>2.59</td><td>2.87</td><td>21</td><td>118</td><td>2.8</td><td>2.69</td><td>0.39</td><td>1.82</td><td>4.32</td><td>1.04</td><td>2.93</td><td>735</td><td>0</td></tr>\n",
       "    <tr><td class='row_index'>5</td><td>14.2</td><td>1.76</td><td>2.45</td><td>15.2</td><td>112</td><td>3.27</td><td>3.39</td><td>0.34</td><td>1.97</td><td>6.75</td><td>1.05</td><td>2.85</td><td>1450</td><td>0</td></tr>\n",
       "    <tr><td class='row_index'>6</td><td>14.39</td><td>1.87</td><td>2.45</td><td>14.6</td><td>96</td><td>2.5</td><td>2.52</td><td>0.3</td><td>1.98</td><td>5.25</td><td>1.02</td><td>3.58</td><td>1290</td><td>0</td></tr>\n",
       "    <tr><td class='row_index'>7</td><td>14.06</td><td>2.15</td><td>2.61</td><td>17.6</td><td>121</td><td>2.6</td><td>2.51</td><td>0.31</td><td>1.25</td><td>5.05</td><td>1.06</td><td>3.58</td><td>1295</td><td>0</td></tr>\n",
       "    <tr><td class='row_index'>8</td><td>14.83</td><td>1.64</td><td>2.17</td><td>14</td><td>97</td><td>2.8</td><td>2.98</td><td>0.29</td><td>1.98</td><td>5.2</td><td>1.08</td><td>2.85</td><td>1045</td><td>0</td></tr>\n",
       "    <tr><td class='row_index'>9</td><td>13.86</td><td>1.35</td><td>2.27</td><td>16</td><td>98</td><td>2.98</td><td>3.15</td><td>0.22</td><td>1.85</td><td>7.22</td><td>1.01</td><td>3.55</td><td>1045</td><td>0</td></tr>\n",
       "  </tbody>\n",
       "  </table>\n",
       "  <div class='footer'>\n",
       "    <div class='frame_dimensions'>10 rows &times; 14 columns</div>\n",
       "  </div>\n",
       "</div>\n"
      ],
      "text/plain": [
       "<Frame#7f2d3c7f1420 10x14>"
      ]
     },
     "execution_count": 2,
     "metadata": {},
     "output_type": "execute_result"
    }
   ],
   "source": [
    "import datatable as dt\n",
    "from sklearn.datasets import load_wine\n",
    "\n",
    "data=dt.Frame(load_wine(as_frame=True).frame)\n",
    "data.head()"
   ]
  },
  {
   "cell_type": "markdown",
   "id": "2dc7992a",
   "metadata": {
    "papermill": {
     "duration": 0.02159,
     "end_time": "2021-07-15T18:08:28.734624",
     "exception": false,
     "start_time": "2021-07-15T18:08:28.713034",
     "status": "completed"
    },
    "tags": []
   },
   "source": [
    "**Exercise 41: Calculate the sum of column `ash` in `data`**"
   ]
  },
  {
   "cell_type": "code",
   "execution_count": 3,
   "id": "a913a283",
   "metadata": {
    "execution": {
     "iopub.execute_input": "2021-07-15T18:08:28.783241Z",
     "iopub.status.busy": "2021-07-15T18:08:28.782719Z",
     "iopub.status.idle": "2021-07-15T18:08:28.787714Z",
     "shell.execute_reply": "2021-07-15T18:08:28.787282Z",
     "shell.execute_reply.started": "2021-07-15T18:01:30.387942Z"
    },
    "papermill": {
     "duration": 0.031479,
     "end_time": "2021-07-15T18:08:28.787825",
     "exception": false,
     "start_time": "2021-07-15T18:08:28.756346",
     "status": "completed"
    },
    "tags": []
   },
   "outputs": [
    {
     "data": {
      "text/plain": [
       "421.2400000000002"
      ]
     },
     "execution_count": 3,
     "metadata": {},
     "output_type": "execute_result"
    }
   ],
   "source": [
    "data['ash'].sum1()"
   ]
  },
  {
   "cell_type": "markdown",
   "id": "3c2e3250",
   "metadata": {
    "papermill": {
     "duration": 0.025946,
     "end_time": "2021-07-15T18:08:28.839720",
     "exception": false,
     "start_time": "2021-07-15T18:08:28.813774",
     "status": "completed"
    },
    "tags": []
   },
   "source": [
    "**Exercise 42: Calculate the average value of each column in `data`**"
   ]
  },
  {
   "cell_type": "code",
   "execution_count": 4,
   "id": "06855674",
   "metadata": {
    "execution": {
     "iopub.execute_input": "2021-07-15T18:08:28.915922Z",
     "iopub.status.busy": "2021-07-15T18:08:28.915281Z",
     "iopub.status.idle": "2021-07-15T18:08:28.917878Z",
     "shell.execute_reply": "2021-07-15T18:08:28.916413Z",
     "shell.execute_reply.started": "2021-07-15T18:01:30.396605Z"
    },
    "papermill": {
     "duration": 0.042973,
     "end_time": "2021-07-15T18:08:28.918015",
     "exception": false,
     "start_time": "2021-07-15T18:08:28.875042",
     "status": "completed"
    },
    "tags": []
   },
   "outputs": [
    {
     "data": {
      "text/html": [
       "<div class='datatable'>\n",
       "  <table class='frame'>\n",
       "  <thead>\n",
       "    <tr class='colnames'><td class='row_index'></td><th>alcohol</th><th>malic_acid</th><th>ash</th><th>alcalinity_of_ash</th><th>magnesium</th><th>total_phenols</th><th>flavanoids</th><th>nonflavanoid_phenols</th><th>proanthocyanins</th><th>color_intensity</th><th>hue</th><th>od280/od315_of_diluted_wines</th><th>proline</th><th>target</th></tr>\n",
       "    <tr class='coltypes'><td class='row_index'></td><td class='float' title='float64'>&#x25AA;&#x25AA;&#x25AA;&#x25AA;&#x25AA;&#x25AA;&#x25AA;&#x25AA;</td><td class='float' title='float64'>&#x25AA;&#x25AA;&#x25AA;&#x25AA;&#x25AA;&#x25AA;&#x25AA;&#x25AA;</td><td class='float' title='float64'>&#x25AA;&#x25AA;&#x25AA;&#x25AA;&#x25AA;&#x25AA;&#x25AA;&#x25AA;</td><td class='float' title='float64'>&#x25AA;&#x25AA;&#x25AA;&#x25AA;&#x25AA;&#x25AA;&#x25AA;&#x25AA;</td><td class='float' title='float64'>&#x25AA;&#x25AA;&#x25AA;&#x25AA;&#x25AA;&#x25AA;&#x25AA;&#x25AA;</td><td class='float' title='float64'>&#x25AA;&#x25AA;&#x25AA;&#x25AA;&#x25AA;&#x25AA;&#x25AA;&#x25AA;</td><td class='float' title='float64'>&#x25AA;&#x25AA;&#x25AA;&#x25AA;&#x25AA;&#x25AA;&#x25AA;&#x25AA;</td><td class='float' title='float64'>&#x25AA;&#x25AA;&#x25AA;&#x25AA;&#x25AA;&#x25AA;&#x25AA;&#x25AA;</td><td class='float' title='float64'>&#x25AA;&#x25AA;&#x25AA;&#x25AA;&#x25AA;&#x25AA;&#x25AA;&#x25AA;</td><td class='float' title='float64'>&#x25AA;&#x25AA;&#x25AA;&#x25AA;&#x25AA;&#x25AA;&#x25AA;&#x25AA;</td><td class='float' title='float64'>&#x25AA;&#x25AA;&#x25AA;&#x25AA;&#x25AA;&#x25AA;&#x25AA;&#x25AA;</td><td class='float' title='float64'>&#x25AA;&#x25AA;&#x25AA;&#x25AA;&#x25AA;&#x25AA;&#x25AA;&#x25AA;</td><td class='float' title='float64'>&#x25AA;&#x25AA;&#x25AA;&#x25AA;&#x25AA;&#x25AA;&#x25AA;&#x25AA;</td><td class='float' title='float64'>&#x25AA;&#x25AA;&#x25AA;&#x25AA;&#x25AA;&#x25AA;&#x25AA;&#x25AA;</td></tr>\n",
       "  </thead>\n",
       "  <tbody>\n",
       "    <tr><td class='row_index'>0</td><td>13.0006</td><td>2.33635</td><td>2.36652</td><td>19.4949</td><td>99.7416</td><td>2.29511</td><td>2.02927</td><td>0.361854</td><td>1.5909</td><td>5.05809</td><td>0.957449</td><td>2.61169</td><td>746.893</td><td>0.938202</td></tr>\n",
       "  </tbody>\n",
       "  </table>\n",
       "  <div class='footer'>\n",
       "    <div class='frame_dimensions'>1 row &times; 14 columns</div>\n",
       "  </div>\n",
       "</div>\n"
      ],
      "text/plain": [
       "<Frame#7f2d3c82d6c0 1x14>"
      ]
     },
     "execution_count": 4,
     "metadata": {},
     "output_type": "execute_result"
    }
   ],
   "source": [
    "data.mean()"
   ]
  },
  {
   "cell_type": "markdown",
   "id": "90146d1c",
   "metadata": {
    "papermill": {
     "duration": 0.026086,
     "end_time": "2021-07-15T18:08:28.970993",
     "exception": false,
     "start_time": "2021-07-15T18:08:28.944907",
     "status": "completed"
    },
    "tags": []
   },
   "source": [
    "**Exercise 43: Calculate the minimum value and maximum value of each column in `data` where `target` is 1**"
   ]
  },
  {
   "cell_type": "code",
   "execution_count": 5,
   "id": "5f336840",
   "metadata": {
    "execution": {
     "iopub.execute_input": "2021-07-15T18:08:29.025432Z",
     "iopub.status.busy": "2021-07-15T18:08:29.024906Z",
     "iopub.status.idle": "2021-07-15T18:08:29.028274Z",
     "shell.execute_reply": "2021-07-15T18:08:29.028647Z",
     "shell.execute_reply.started": "2021-07-15T18:01:30.420130Z"
    },
    "papermill": {
     "duration": 0.034604,
     "end_time": "2021-07-15T18:08:29.028786",
     "exception": false,
     "start_time": "2021-07-15T18:08:28.994182",
     "status": "completed"
    },
    "tags": []
   },
   "outputs": [
    {
     "data": {
      "text/html": [
       "<div class='datatable'>\n",
       "  <table class='frame'>\n",
       "  <thead>\n",
       "    <tr class='colnames'><td class='row_index'></td><th>alcohol</th><th>malic_acid</th><th>ash</th><th>alcalinity_of_ash</th><th>magnesium</th><th>total_phenols</th><th>flavanoids</th><th>nonflavanoid_phenols</th><th>proanthocyanins</th><th>color_intensity</th><th>hue</th><th>od280/od315_of_diluted_wines</th><th>proline</th><th>target</th></tr>\n",
       "    <tr class='coltypes'><td class='row_index'></td><td class='float' title='float64'>&#x25AA;&#x25AA;&#x25AA;&#x25AA;&#x25AA;&#x25AA;&#x25AA;&#x25AA;</td><td class='float' title='float64'>&#x25AA;&#x25AA;&#x25AA;&#x25AA;&#x25AA;&#x25AA;&#x25AA;&#x25AA;</td><td class='float' title='float64'>&#x25AA;&#x25AA;&#x25AA;&#x25AA;&#x25AA;&#x25AA;&#x25AA;&#x25AA;</td><td class='float' title='float64'>&#x25AA;&#x25AA;&#x25AA;&#x25AA;&#x25AA;&#x25AA;&#x25AA;&#x25AA;</td><td class='float' title='float64'>&#x25AA;&#x25AA;&#x25AA;&#x25AA;&#x25AA;&#x25AA;&#x25AA;&#x25AA;</td><td class='float' title='float64'>&#x25AA;&#x25AA;&#x25AA;&#x25AA;&#x25AA;&#x25AA;&#x25AA;&#x25AA;</td><td class='float' title='float64'>&#x25AA;&#x25AA;&#x25AA;&#x25AA;&#x25AA;&#x25AA;&#x25AA;&#x25AA;</td><td class='float' title='float64'>&#x25AA;&#x25AA;&#x25AA;&#x25AA;&#x25AA;&#x25AA;&#x25AA;&#x25AA;</td><td class='float' title='float64'>&#x25AA;&#x25AA;&#x25AA;&#x25AA;&#x25AA;&#x25AA;&#x25AA;&#x25AA;</td><td class='float' title='float64'>&#x25AA;&#x25AA;&#x25AA;&#x25AA;&#x25AA;&#x25AA;&#x25AA;&#x25AA;</td><td class='float' title='float64'>&#x25AA;&#x25AA;&#x25AA;&#x25AA;&#x25AA;&#x25AA;&#x25AA;&#x25AA;</td><td class='float' title='float64'>&#x25AA;&#x25AA;&#x25AA;&#x25AA;&#x25AA;&#x25AA;&#x25AA;&#x25AA;</td><td class='float' title='float64'>&#x25AA;&#x25AA;&#x25AA;&#x25AA;&#x25AA;&#x25AA;&#x25AA;&#x25AA;</td><td class='int' title='int64'>&#x25AA;&#x25AA;&#x25AA;&#x25AA;&#x25AA;&#x25AA;&#x25AA;&#x25AA;</td></tr>\n",
       "  </thead>\n",
       "  <tbody>\n",
       "    <tr><td class='row_index'>0</td><td>11.03</td><td>0.74</td><td>1.36</td><td>10.6</td><td>70</td><td>1.1</td><td>0.57</td><td>0.13</td><td>0.41</td><td>1.28</td><td>0.69</td><td>1.59</td><td>278</td><td>1</td></tr>\n",
       "  </tbody>\n",
       "  </table>\n",
       "  <div class='footer'>\n",
       "    <div class='frame_dimensions'>1 row &times; 14 columns</div>\n",
       "  </div>\n",
       "</div>\n"
      ],
      "text/plain": [
       "<Frame#7f2d2ebab210 1x14>"
      ]
     },
     "execution_count": 5,
     "metadata": {},
     "output_type": "execute_result"
    }
   ],
   "source": [
    "data[dt.f.target == 1, :].min()"
   ]
  },
  {
   "cell_type": "code",
   "execution_count": 6,
   "id": "b4104740",
   "metadata": {
    "execution": {
     "iopub.execute_input": "2021-07-15T18:08:29.090301Z",
     "iopub.status.busy": "2021-07-15T18:08:29.089774Z",
     "iopub.status.idle": "2021-07-15T18:08:29.093112Z",
     "shell.execute_reply": "2021-07-15T18:08:29.093485Z",
     "shell.execute_reply.started": "2021-07-15T18:01:30.433621Z"
    },
    "papermill": {
     "duration": 0.038021,
     "end_time": "2021-07-15T18:08:29.093625",
     "exception": false,
     "start_time": "2021-07-15T18:08:29.055604",
     "status": "completed"
    },
    "tags": []
   },
   "outputs": [
    {
     "data": {
      "text/html": [
       "<div class='datatable'>\n",
       "  <table class='frame'>\n",
       "  <thead>\n",
       "    <tr class='colnames'><td class='row_index'></td><th>alcohol</th><th>malic_acid</th><th>ash</th><th>alcalinity_of_ash</th><th>magnesium</th><th>total_phenols</th><th>flavanoids</th><th>nonflavanoid_phenols</th><th>proanthocyanins</th><th>color_intensity</th><th>hue</th><th>od280/od315_of_diluted_wines</th><th>proline</th><th>target</th></tr>\n",
       "    <tr class='coltypes'><td class='row_index'></td><td class='float' title='float64'>&#x25AA;&#x25AA;&#x25AA;&#x25AA;&#x25AA;&#x25AA;&#x25AA;&#x25AA;</td><td class='float' title='float64'>&#x25AA;&#x25AA;&#x25AA;&#x25AA;&#x25AA;&#x25AA;&#x25AA;&#x25AA;</td><td class='float' title='float64'>&#x25AA;&#x25AA;&#x25AA;&#x25AA;&#x25AA;&#x25AA;&#x25AA;&#x25AA;</td><td class='float' title='float64'>&#x25AA;&#x25AA;&#x25AA;&#x25AA;&#x25AA;&#x25AA;&#x25AA;&#x25AA;</td><td class='float' title='float64'>&#x25AA;&#x25AA;&#x25AA;&#x25AA;&#x25AA;&#x25AA;&#x25AA;&#x25AA;</td><td class='float' title='float64'>&#x25AA;&#x25AA;&#x25AA;&#x25AA;&#x25AA;&#x25AA;&#x25AA;&#x25AA;</td><td class='float' title='float64'>&#x25AA;&#x25AA;&#x25AA;&#x25AA;&#x25AA;&#x25AA;&#x25AA;&#x25AA;</td><td class='float' title='float64'>&#x25AA;&#x25AA;&#x25AA;&#x25AA;&#x25AA;&#x25AA;&#x25AA;&#x25AA;</td><td class='float' title='float64'>&#x25AA;&#x25AA;&#x25AA;&#x25AA;&#x25AA;&#x25AA;&#x25AA;&#x25AA;</td><td class='float' title='float64'>&#x25AA;&#x25AA;&#x25AA;&#x25AA;&#x25AA;&#x25AA;&#x25AA;&#x25AA;</td><td class='float' title='float64'>&#x25AA;&#x25AA;&#x25AA;&#x25AA;&#x25AA;&#x25AA;&#x25AA;&#x25AA;</td><td class='float' title='float64'>&#x25AA;&#x25AA;&#x25AA;&#x25AA;&#x25AA;&#x25AA;&#x25AA;&#x25AA;</td><td class='float' title='float64'>&#x25AA;&#x25AA;&#x25AA;&#x25AA;&#x25AA;&#x25AA;&#x25AA;&#x25AA;</td><td class='int' title='int64'>&#x25AA;&#x25AA;&#x25AA;&#x25AA;&#x25AA;&#x25AA;&#x25AA;&#x25AA;</td></tr>\n",
       "  </thead>\n",
       "  <tbody>\n",
       "    <tr><td class='row_index'>0</td><td>13.86</td><td>5.8</td><td>3.23</td><td>30</td><td>162</td><td>3.52</td><td>5.08</td><td>0.66</td><td>3.58</td><td>6</td><td>1.71</td><td>3.69</td><td>985</td><td>1</td></tr>\n",
       "  </tbody>\n",
       "  </table>\n",
       "  <div class='footer'>\n",
       "    <div class='frame_dimensions'>1 row &times; 14 columns</div>\n",
       "  </div>\n",
       "</div>\n"
      ],
      "text/plain": [
       "<Frame#7f2d2ebabba0 1x14>"
      ]
     },
     "execution_count": 6,
     "metadata": {},
     "output_type": "execute_result"
    }
   ],
   "source": [
    "data[dt.f.target == 1, :].max()"
   ]
  },
  {
   "cell_type": "markdown",
   "id": "6173b1c2",
   "metadata": {
    "papermill": {
     "duration": 0.025198,
     "end_time": "2021-07-15T18:08:29.146071",
     "exception": false,
     "start_time": "2021-07-15T18:08:29.120873",
     "status": "completed"
    },
    "tags": []
   },
   "source": [
    "**Exercise 44: Calculate the median value of columns `flavanoids`, `hue` and `magnesium` in `data`**"
   ]
  },
  {
   "cell_type": "code",
   "execution_count": 7,
   "id": "11aa2d14",
   "metadata": {
    "execution": {
     "iopub.execute_input": "2021-07-15T18:08:29.201209Z",
     "iopub.status.busy": "2021-07-15T18:08:29.200516Z",
     "iopub.status.idle": "2021-07-15T18:08:29.203151Z",
     "shell.execute_reply": "2021-07-15T18:08:29.201665Z",
     "shell.execute_reply.started": "2021-07-15T18:01:30.447166Z"
    },
    "papermill": {
     "duration": 0.033189,
     "end_time": "2021-07-15T18:08:29.203271",
     "exception": false,
     "start_time": "2021-07-15T18:08:29.170082",
     "status": "completed"
    },
    "tags": []
   },
   "outputs": [
    {
     "data": {
      "text/html": [
       "<div class='datatable'>\n",
       "  <table class='frame'>\n",
       "  <thead>\n",
       "    <tr class='colnames'><td class='row_index'></td><th>flavanoids</th><th>hue</th><th>magnesium</th></tr>\n",
       "    <tr class='coltypes'><td class='row_index'></td><td class='float' title='float64'>&#x25AA;&#x25AA;&#x25AA;&#x25AA;&#x25AA;&#x25AA;&#x25AA;&#x25AA;</td><td class='float' title='float64'>&#x25AA;&#x25AA;&#x25AA;&#x25AA;&#x25AA;&#x25AA;&#x25AA;&#x25AA;</td><td class='float' title='float64'>&#x25AA;&#x25AA;&#x25AA;&#x25AA;&#x25AA;&#x25AA;&#x25AA;&#x25AA;</td></tr>\n",
       "  </thead>\n",
       "  <tbody>\n",
       "    <tr><td class='row_index'>0</td><td>2.135</td><td>0.965</td><td>98</td></tr>\n",
       "  </tbody>\n",
       "  </table>\n",
       "  <div class='footer'>\n",
       "    <div class='frame_dimensions'>1 row &times; 3 columns</div>\n",
       "  </div>\n",
       "</div>\n"
      ],
      "text/plain": [
       "<Frame#7f2d2ebabd50 1x3>"
      ]
     },
     "execution_count": 7,
     "metadata": {},
     "output_type": "execute_result"
    }
   ],
   "source": [
    "data[:, dt.median([dt.f.flavanoids, dt.f.hue, dt.f.magnesium])]"
   ]
  },
  {
   "cell_type": "markdown",
   "id": "01e6e2b6",
   "metadata": {
    "papermill": {
     "duration": 0.027351,
     "end_time": "2021-07-15T18:08:29.258376",
     "exception": false,
     "start_time": "2021-07-15T18:08:29.231025",
     "status": "completed"
    },
    "tags": []
   },
   "source": [
    "**Exercise 45: Calculate the mode of columns `alcohol` and `proline` in `data`**"
   ]
  },
  {
   "cell_type": "code",
   "execution_count": 8,
   "id": "0a64745a",
   "metadata": {
    "execution": {
     "iopub.execute_input": "2021-07-15T18:08:29.316100Z",
     "iopub.status.busy": "2021-07-15T18:08:29.315426Z",
     "iopub.status.idle": "2021-07-15T18:08:29.318066Z",
     "shell.execute_reply": "2021-07-15T18:08:29.316574Z",
     "shell.execute_reply.started": "2021-07-15T18:01:43.963242Z"
    },
    "papermill": {
     "duration": 0.035548,
     "end_time": "2021-07-15T18:08:29.318185",
     "exception": false,
     "start_time": "2021-07-15T18:08:29.282637",
     "status": "completed"
    },
    "tags": []
   },
   "outputs": [
    {
     "data": {
      "text/html": [
       "<div class='datatable'>\n",
       "  <table class='frame'>\n",
       "  <thead>\n",
       "    <tr class='colnames'><td class='row_index'></td><th>alcohol</th><th>proline</th></tr>\n",
       "    <tr class='coltypes'><td class='row_index'></td><td class='float' title='float64'>&#x25AA;&#x25AA;&#x25AA;&#x25AA;&#x25AA;&#x25AA;&#x25AA;&#x25AA;</td><td class='float' title='float64'>&#x25AA;&#x25AA;&#x25AA;&#x25AA;&#x25AA;&#x25AA;&#x25AA;&#x25AA;</td></tr>\n",
       "  </thead>\n",
       "  <tbody>\n",
       "    <tr><td class='row_index'>0</td><td>12.37</td><td>520</td></tr>\n",
       "  </tbody>\n",
       "  </table>\n",
       "  <div class='footer'>\n",
       "    <div class='frame_dimensions'>1 row &times; 2 columns</div>\n",
       "  </div>\n",
       "</div>\n"
      ],
      "text/plain": [
       "<Frame#7f2d2ebab330 1x2>"
      ]
     },
     "execution_count": 8,
     "metadata": {},
     "output_type": "execute_result"
    }
   ],
   "source": [
    "data[:, ['alcohol', 'proline']].mode()"
   ]
  },
  {
   "cell_type": "markdown",
   "id": "7de4c043",
   "metadata": {
    "papermill": {
     "duration": 0.02696,
     "end_time": "2021-07-15T18:08:29.373620",
     "exception": false,
     "start_time": "2021-07-15T18:08:29.346660",
     "status": "completed"
    },
    "tags": []
   },
   "source": [
    "**Exercise 46: Calculate the standard deviation, skewness and excess kurtosis of each column in `data`**"
   ]
  },
  {
   "cell_type": "code",
   "execution_count": 9,
   "id": "cc2f31af",
   "metadata": {
    "execution": {
     "iopub.execute_input": "2021-07-15T18:08:29.427833Z",
     "iopub.status.busy": "2021-07-15T18:08:29.427266Z",
     "iopub.status.idle": "2021-07-15T18:08:29.429796Z",
     "shell.execute_reply": "2021-07-15T18:08:29.430222Z",
     "shell.execute_reply.started": "2021-07-15T18:01:49.729164Z"
    },
    "papermill": {
     "duration": 0.031725,
     "end_time": "2021-07-15T18:08:29.430360",
     "exception": false,
     "start_time": "2021-07-15T18:08:29.398635",
     "status": "completed"
    },
    "tags": []
   },
   "outputs": [
    {
     "data": {
      "text/html": [
       "<div class='datatable'>\n",
       "  <table class='frame'>\n",
       "  <thead>\n",
       "    <tr class='colnames'><td class='row_index'></td><th>alcohol</th><th>malic_acid</th><th>ash</th><th>alcalinity_of_ash</th><th>magnesium</th><th>total_phenols</th><th>flavanoids</th><th>nonflavanoid_phenols</th><th>proanthocyanins</th><th>color_intensity</th><th>hue</th><th>od280/od315_of_diluted_wines</th><th>proline</th><th>target</th></tr>\n",
       "    <tr class='coltypes'><td class='row_index'></td><td class='float' title='float64'>&#x25AA;&#x25AA;&#x25AA;&#x25AA;&#x25AA;&#x25AA;&#x25AA;&#x25AA;</td><td class='float' title='float64'>&#x25AA;&#x25AA;&#x25AA;&#x25AA;&#x25AA;&#x25AA;&#x25AA;&#x25AA;</td><td class='float' title='float64'>&#x25AA;&#x25AA;&#x25AA;&#x25AA;&#x25AA;&#x25AA;&#x25AA;&#x25AA;</td><td class='float' title='float64'>&#x25AA;&#x25AA;&#x25AA;&#x25AA;&#x25AA;&#x25AA;&#x25AA;&#x25AA;</td><td class='float' title='float64'>&#x25AA;&#x25AA;&#x25AA;&#x25AA;&#x25AA;&#x25AA;&#x25AA;&#x25AA;</td><td class='float' title='float64'>&#x25AA;&#x25AA;&#x25AA;&#x25AA;&#x25AA;&#x25AA;&#x25AA;&#x25AA;</td><td class='float' title='float64'>&#x25AA;&#x25AA;&#x25AA;&#x25AA;&#x25AA;&#x25AA;&#x25AA;&#x25AA;</td><td class='float' title='float64'>&#x25AA;&#x25AA;&#x25AA;&#x25AA;&#x25AA;&#x25AA;&#x25AA;&#x25AA;</td><td class='float' title='float64'>&#x25AA;&#x25AA;&#x25AA;&#x25AA;&#x25AA;&#x25AA;&#x25AA;&#x25AA;</td><td class='float' title='float64'>&#x25AA;&#x25AA;&#x25AA;&#x25AA;&#x25AA;&#x25AA;&#x25AA;&#x25AA;</td><td class='float' title='float64'>&#x25AA;&#x25AA;&#x25AA;&#x25AA;&#x25AA;&#x25AA;&#x25AA;&#x25AA;</td><td class='float' title='float64'>&#x25AA;&#x25AA;&#x25AA;&#x25AA;&#x25AA;&#x25AA;&#x25AA;&#x25AA;</td><td class='float' title='float64'>&#x25AA;&#x25AA;&#x25AA;&#x25AA;&#x25AA;&#x25AA;&#x25AA;&#x25AA;</td><td class='float' title='float64'>&#x25AA;&#x25AA;&#x25AA;&#x25AA;&#x25AA;&#x25AA;&#x25AA;&#x25AA;</td></tr>\n",
       "  </thead>\n",
       "  <tbody>\n",
       "    <tr><td class='row_index'>0</td><td>0.811827</td><td>1.11715</td><td>0.274344</td><td>3.33956</td><td>14.2825</td><td>0.625851</td><td>0.998859</td><td>0.124453</td><td>0.572359</td><td>2.31829</td><td>0.228572</td><td>0.70999</td><td>314.907</td><td>0.775035</td></tr>\n",
       "  </tbody>\n",
       "  </table>\n",
       "  <div class='footer'>\n",
       "    <div class='frame_dimensions'>1 row &times; 14 columns</div>\n",
       "  </div>\n",
       "</div>\n"
      ],
      "text/plain": [
       "<Frame#7f2d2ebab8a0 1x14>"
      ]
     },
     "execution_count": 9,
     "metadata": {},
     "output_type": "execute_result"
    }
   ],
   "source": [
    "data.sd()"
   ]
  },
  {
   "cell_type": "code",
   "execution_count": 10,
   "id": "dc1b7859",
   "metadata": {
    "execution": {
     "iopub.execute_input": "2021-07-15T18:08:29.482792Z",
     "iopub.status.busy": "2021-07-15T18:08:29.482184Z",
     "iopub.status.idle": "2021-07-15T18:08:29.487617Z",
     "shell.execute_reply": "2021-07-15T18:08:29.488012Z",
     "shell.execute_reply.started": "2021-07-15T18:01:50.511123Z"
    },
    "papermill": {
     "duration": 0.032813,
     "end_time": "2021-07-15T18:08:29.488159",
     "exception": false,
     "start_time": "2021-07-15T18:08:29.455346",
     "status": "completed"
    },
    "tags": []
   },
   "outputs": [
    {
     "data": {
      "text/html": [
       "<div class='datatable'>\n",
       "  <table class='frame'>\n",
       "  <thead>\n",
       "    <tr class='colnames'><td class='row_index'></td><th>alcohol</th><th>malic_acid</th><th>ash</th><th>alcalinity_of_ash</th><th>magnesium</th><th>total_phenols</th><th>flavanoids</th><th>nonflavanoid_phenols</th><th>proanthocyanins</th><th>color_intensity</th><th>hue</th><th>od280/od315_of_diluted_wines</th><th>proline</th><th>target</th></tr>\n",
       "    <tr class='coltypes'><td class='row_index'></td><td class='float' title='float64'>&#x25AA;&#x25AA;&#x25AA;&#x25AA;&#x25AA;&#x25AA;&#x25AA;&#x25AA;</td><td class='float' title='float64'>&#x25AA;&#x25AA;&#x25AA;&#x25AA;&#x25AA;&#x25AA;&#x25AA;&#x25AA;</td><td class='float' title='float64'>&#x25AA;&#x25AA;&#x25AA;&#x25AA;&#x25AA;&#x25AA;&#x25AA;&#x25AA;</td><td class='float' title='float64'>&#x25AA;&#x25AA;&#x25AA;&#x25AA;&#x25AA;&#x25AA;&#x25AA;&#x25AA;</td><td class='float' title='float64'>&#x25AA;&#x25AA;&#x25AA;&#x25AA;&#x25AA;&#x25AA;&#x25AA;&#x25AA;</td><td class='float' title='float64'>&#x25AA;&#x25AA;&#x25AA;&#x25AA;&#x25AA;&#x25AA;&#x25AA;&#x25AA;</td><td class='float' title='float64'>&#x25AA;&#x25AA;&#x25AA;&#x25AA;&#x25AA;&#x25AA;&#x25AA;&#x25AA;</td><td class='float' title='float64'>&#x25AA;&#x25AA;&#x25AA;&#x25AA;&#x25AA;&#x25AA;&#x25AA;&#x25AA;</td><td class='float' title='float64'>&#x25AA;&#x25AA;&#x25AA;&#x25AA;&#x25AA;&#x25AA;&#x25AA;&#x25AA;</td><td class='float' title='float64'>&#x25AA;&#x25AA;&#x25AA;&#x25AA;&#x25AA;&#x25AA;&#x25AA;&#x25AA;</td><td class='float' title='float64'>&#x25AA;&#x25AA;&#x25AA;&#x25AA;&#x25AA;&#x25AA;&#x25AA;&#x25AA;</td><td class='float' title='float64'>&#x25AA;&#x25AA;&#x25AA;&#x25AA;&#x25AA;&#x25AA;&#x25AA;&#x25AA;</td><td class='float' title='float64'>&#x25AA;&#x25AA;&#x25AA;&#x25AA;&#x25AA;&#x25AA;&#x25AA;&#x25AA;</td><td class='float' title='float64'>&#x25AA;&#x25AA;&#x25AA;&#x25AA;&#x25AA;&#x25AA;&#x25AA;&#x25AA;</td></tr>\n",
       "  </thead>\n",
       "  <tbody>\n",
       "    <tr><td class='row_index'>0</td><td>&minus;0.0514823</td><td>1.03965</td><td>&minus;0.176699</td><td>0.213047</td><td>1.09819</td><td>0.0866386</td><td>0.0253436</td><td>0.450151</td><td>0.517137</td><td>0.868585</td><td>0.0210913</td><td>&minus;0.307285</td><td>0.767822</td><td>0.107431</td></tr>\n",
       "  </tbody>\n",
       "  </table>\n",
       "  <div class='footer'>\n",
       "    <div class='frame_dimensions'>1 row &times; 14 columns</div>\n",
       "  </div>\n",
       "</div>\n"
      ],
      "text/plain": [
       "<Frame#7f2d2ebab240 1x14>"
      ]
     },
     "execution_count": 10,
     "metadata": {},
     "output_type": "execute_result"
    }
   ],
   "source": [
    "data.skew()"
   ]
  },
  {
   "cell_type": "code",
   "execution_count": 11,
   "id": "9e692b4d",
   "metadata": {
    "execution": {
     "iopub.execute_input": "2021-07-15T18:08:29.549432Z",
     "iopub.status.busy": "2021-07-15T18:08:29.548957Z",
     "iopub.status.idle": "2021-07-15T18:08:29.552087Z",
     "shell.execute_reply": "2021-07-15T18:08:29.551634Z",
     "shell.execute_reply.started": "2021-07-15T18:01:51.137565Z"
    },
    "papermill": {
     "duration": 0.035339,
     "end_time": "2021-07-15T18:08:29.552197",
     "exception": false,
     "start_time": "2021-07-15T18:08:29.516858",
     "status": "completed"
    },
    "tags": []
   },
   "outputs": [
    {
     "data": {
      "text/html": [
       "<div class='datatable'>\n",
       "  <table class='frame'>\n",
       "  <thead>\n",
       "    <tr class='colnames'><td class='row_index'></td><th>alcohol</th><th>malic_acid</th><th>ash</th><th>alcalinity_of_ash</th><th>magnesium</th><th>total_phenols</th><th>flavanoids</th><th>nonflavanoid_phenols</th><th>proanthocyanins</th><th>color_intensity</th><th>hue</th><th>od280/od315_of_diluted_wines</th><th>proline</th><th>target</th></tr>\n",
       "    <tr class='coltypes'><td class='row_index'></td><td class='float' title='float64'>&#x25AA;&#x25AA;&#x25AA;&#x25AA;&#x25AA;&#x25AA;&#x25AA;&#x25AA;</td><td class='float' title='float64'>&#x25AA;&#x25AA;&#x25AA;&#x25AA;&#x25AA;&#x25AA;&#x25AA;&#x25AA;</td><td class='float' title='float64'>&#x25AA;&#x25AA;&#x25AA;&#x25AA;&#x25AA;&#x25AA;&#x25AA;&#x25AA;</td><td class='float' title='float64'>&#x25AA;&#x25AA;&#x25AA;&#x25AA;&#x25AA;&#x25AA;&#x25AA;&#x25AA;</td><td class='float' title='float64'>&#x25AA;&#x25AA;&#x25AA;&#x25AA;&#x25AA;&#x25AA;&#x25AA;&#x25AA;</td><td class='float' title='float64'>&#x25AA;&#x25AA;&#x25AA;&#x25AA;&#x25AA;&#x25AA;&#x25AA;&#x25AA;</td><td class='float' title='float64'>&#x25AA;&#x25AA;&#x25AA;&#x25AA;&#x25AA;&#x25AA;&#x25AA;&#x25AA;</td><td class='float' title='float64'>&#x25AA;&#x25AA;&#x25AA;&#x25AA;&#x25AA;&#x25AA;&#x25AA;&#x25AA;</td><td class='float' title='float64'>&#x25AA;&#x25AA;&#x25AA;&#x25AA;&#x25AA;&#x25AA;&#x25AA;&#x25AA;</td><td class='float' title='float64'>&#x25AA;&#x25AA;&#x25AA;&#x25AA;&#x25AA;&#x25AA;&#x25AA;&#x25AA;</td><td class='float' title='float64'>&#x25AA;&#x25AA;&#x25AA;&#x25AA;&#x25AA;&#x25AA;&#x25AA;&#x25AA;</td><td class='float' title='float64'>&#x25AA;&#x25AA;&#x25AA;&#x25AA;&#x25AA;&#x25AA;&#x25AA;&#x25AA;</td><td class='float' title='float64'>&#x25AA;&#x25AA;&#x25AA;&#x25AA;&#x25AA;&#x25AA;&#x25AA;&#x25AA;</td><td class='float' title='float64'>&#x25AA;&#x25AA;&#x25AA;&#x25AA;&#x25AA;&#x25AA;&#x25AA;&#x25AA;</td></tr>\n",
       "  </thead>\n",
       "  <tbody>\n",
       "    <tr><td class='row_index'>0</td><td>&minus;0.8525</td><td>0.299207</td><td>1.14398</td><td>0.487942</td><td>2.10499</td><td>&minus;0.835627</td><td>&minus;0.880382</td><td>&minus;0.637191</td><td>0.554649</td><td>0.381522</td><td>&minus;0.344096</td><td>&minus;1.08643</td><td>&minus;0.248403</td><td>&minus;1.32279</td></tr>\n",
       "  </tbody>\n",
       "  </table>\n",
       "  <div class='footer'>\n",
       "    <div class='frame_dimensions'>1 row &times; 14 columns</div>\n",
       "  </div>\n",
       "</div>\n"
      ],
      "text/plain": [
       "<Frame#7f2d2ebabc90 1x14>"
      ]
     },
     "execution_count": 11,
     "metadata": {},
     "output_type": "execute_result"
    }
   ],
   "source": [
    "data.kurt()"
   ]
  },
  {
   "cell_type": "markdown",
   "id": "52970af7",
   "metadata": {
    "papermill": {
     "duration": 0.025391,
     "end_time": "2021-07-15T18:08:29.603379",
     "exception": false,
     "start_time": "2021-07-15T18:08:29.577988",
     "status": "completed"
    },
    "tags": []
   },
   "source": [
    "**Exercise 47: Calculate the number of unique values in each column of `data`**"
   ]
  },
  {
   "cell_type": "code",
   "execution_count": 12,
   "id": "0247535c",
   "metadata": {
    "execution": {
     "iopub.execute_input": "2021-07-15T18:08:29.664543Z",
     "iopub.status.busy": "2021-07-15T18:08:29.656607Z",
     "iopub.status.idle": "2021-07-15T18:08:29.671476Z",
     "shell.execute_reply": "2021-07-15T18:08:29.671881Z",
     "shell.execute_reply.started": "2021-07-15T18:02:28.068775Z"
    },
    "papermill": {
     "duration": 0.043347,
     "end_time": "2021-07-15T18:08:29.672066",
     "exception": false,
     "start_time": "2021-07-15T18:08:29.628719",
     "status": "completed"
    },
    "tags": []
   },
   "outputs": [
    {
     "data": {
      "text/html": [
       "<div class='datatable'>\n",
       "  <table class='frame'>\n",
       "  <thead>\n",
       "    <tr class='colnames'><td class='row_index'></td><th>alcohol</th><th>malic_acid</th><th>ash</th><th>alcalinity_of_ash</th><th>magnesium</th><th>total_phenols</th><th>flavanoids</th><th>nonflavanoid_phenols</th><th>proanthocyanins</th><th>color_intensity</th><th>hue</th><th>od280/od315_of_diluted_wines</th><th>proline</th><th>target</th></tr>\n",
       "    <tr class='coltypes'><td class='row_index'></td><td class='int' title='int64'>&#x25AA;&#x25AA;&#x25AA;&#x25AA;&#x25AA;&#x25AA;&#x25AA;&#x25AA;</td><td class='int' title='int64'>&#x25AA;&#x25AA;&#x25AA;&#x25AA;&#x25AA;&#x25AA;&#x25AA;&#x25AA;</td><td class='int' title='int64'>&#x25AA;&#x25AA;&#x25AA;&#x25AA;&#x25AA;&#x25AA;&#x25AA;&#x25AA;</td><td class='int' title='int64'>&#x25AA;&#x25AA;&#x25AA;&#x25AA;&#x25AA;&#x25AA;&#x25AA;&#x25AA;</td><td class='int' title='int64'>&#x25AA;&#x25AA;&#x25AA;&#x25AA;&#x25AA;&#x25AA;&#x25AA;&#x25AA;</td><td class='int' title='int64'>&#x25AA;&#x25AA;&#x25AA;&#x25AA;&#x25AA;&#x25AA;&#x25AA;&#x25AA;</td><td class='int' title='int64'>&#x25AA;&#x25AA;&#x25AA;&#x25AA;&#x25AA;&#x25AA;&#x25AA;&#x25AA;</td><td class='int' title='int64'>&#x25AA;&#x25AA;&#x25AA;&#x25AA;&#x25AA;&#x25AA;&#x25AA;&#x25AA;</td><td class='int' title='int64'>&#x25AA;&#x25AA;&#x25AA;&#x25AA;&#x25AA;&#x25AA;&#x25AA;&#x25AA;</td><td class='int' title='int64'>&#x25AA;&#x25AA;&#x25AA;&#x25AA;&#x25AA;&#x25AA;&#x25AA;&#x25AA;</td><td class='int' title='int64'>&#x25AA;&#x25AA;&#x25AA;&#x25AA;&#x25AA;&#x25AA;&#x25AA;&#x25AA;</td><td class='int' title='int64'>&#x25AA;&#x25AA;&#x25AA;&#x25AA;&#x25AA;&#x25AA;&#x25AA;&#x25AA;</td><td class='int' title='int64'>&#x25AA;&#x25AA;&#x25AA;&#x25AA;&#x25AA;&#x25AA;&#x25AA;&#x25AA;</td><td class='int' title='int64'>&#x25AA;&#x25AA;&#x25AA;&#x25AA;&#x25AA;&#x25AA;&#x25AA;&#x25AA;</td></tr>\n",
       "  </thead>\n",
       "  <tbody>\n",
       "    <tr><td class='row_index'>0</td><td>126</td><td>133</td><td>79</td><td>63</td><td>53</td><td>97</td><td>132</td><td>39</td><td>101</td><td>132</td><td>78</td><td>122</td><td>121</td><td>3</td></tr>\n",
       "  </tbody>\n",
       "  </table>\n",
       "  <div class='footer'>\n",
       "    <div class='frame_dimensions'>1 row &times; 14 columns</div>\n",
       "  </div>\n",
       "</div>\n"
      ],
      "text/plain": [
       "<Frame#7f2d2eb7e060 1x14>"
      ]
     },
     "execution_count": 12,
     "metadata": {},
     "output_type": "execute_result"
    }
   ],
   "source": [
    "data.nunique()"
   ]
  },
  {
   "cell_type": "markdown",
   "id": "4d77a8e6",
   "metadata": {
    "papermill": {
     "duration": 0.028282,
     "end_time": "2021-07-15T18:08:29.730546",
     "exception": false,
     "start_time": "2021-07-15T18:08:29.702264",
     "status": "completed"
    },
    "tags": []
   },
   "source": [
    "**Exercise 48: Calculate the covariance between columns `alcohol` and `color_intensity` in `data`**"
   ]
  },
  {
   "cell_type": "code",
   "execution_count": 13,
   "id": "0180e1ac",
   "metadata": {
    "execution": {
     "iopub.execute_input": "2021-07-15T18:08:29.787779Z",
     "iopub.status.busy": "2021-07-15T18:08:29.787123Z",
     "iopub.status.idle": "2021-07-15T18:08:29.792056Z",
     "shell.execute_reply": "2021-07-15T18:08:29.791568Z",
     "shell.execute_reply.started": "2021-07-15T18:02:47.522887Z"
    },
    "papermill": {
     "duration": 0.035604,
     "end_time": "2021-07-15T18:08:29.792162",
     "exception": false,
     "start_time": "2021-07-15T18:08:29.756558",
     "status": "completed"
    },
    "tags": []
   },
   "outputs": [
    {
     "data": {
      "text/html": [
       "<div class='datatable'>\n",
       "  <table class='frame'>\n",
       "  <thead>\n",
       "    <tr class='colnames'><td class='row_index'></td><th>C0</th></tr>\n",
       "    <tr class='coltypes'><td class='row_index'></td><td class='float' title='float64'>&#x25AA;&#x25AA;&#x25AA;&#x25AA;&#x25AA;&#x25AA;&#x25AA;&#x25AA;</td></tr>\n",
       "  </thead>\n",
       "  <tbody>\n",
       "    <tr><td class='row_index'>0</td><td>1.02828</td></tr>\n",
       "  </tbody>\n",
       "  </table>\n",
       "  <div class='footer'>\n",
       "    <div class='frame_dimensions'>1 row &times; 1 column</div>\n",
       "  </div>\n",
       "</div>\n"
      ],
      "text/plain": [
       "<Frame#7f2d2eb7e420 1x1>"
      ]
     },
     "execution_count": 13,
     "metadata": {},
     "output_type": "execute_result"
    }
   ],
   "source": [
    "data[:, dt.cov(dt.f.alcohol, dt.f.color_intensity)]"
   ]
  },
  {
   "cell_type": "markdown",
   "id": "bfb6e28a",
   "metadata": {
    "papermill": {
     "duration": 0.025958,
     "end_time": "2021-07-15T18:08:29.843919",
     "exception": false,
     "start_time": "2021-07-15T18:08:29.817961",
     "status": "completed"
    },
    "tags": []
   },
   "source": [
    "**Exercise 49: Calculate the correlation between columns `hue` and `color_intensity` in `data`**"
   ]
  },
  {
   "cell_type": "code",
   "execution_count": 14,
   "id": "66579574",
   "metadata": {
    "execution": {
     "iopub.execute_input": "2021-07-15T18:08:29.899443Z",
     "iopub.status.busy": "2021-07-15T18:08:29.898800Z",
     "iopub.status.idle": "2021-07-15T18:08:29.903317Z",
     "shell.execute_reply": "2021-07-15T18:08:29.902820Z",
     "shell.execute_reply.started": "2021-07-15T18:02:55.436783Z"
    },
    "papermill": {
     "duration": 0.033972,
     "end_time": "2021-07-15T18:08:29.903435",
     "exception": false,
     "start_time": "2021-07-15T18:08:29.869463",
     "status": "completed"
    },
    "tags": []
   },
   "outputs": [
    {
     "data": {
      "text/html": [
       "<div class='datatable'>\n",
       "  <table class='frame'>\n",
       "  <thead>\n",
       "    <tr class='colnames'><td class='row_index'></td><th>C0</th></tr>\n",
       "    <tr class='coltypes'><td class='row_index'></td><td class='float' title='float64'>&#x25AA;&#x25AA;&#x25AA;&#x25AA;&#x25AA;&#x25AA;&#x25AA;&#x25AA;</td></tr>\n",
       "  </thead>\n",
       "  <tbody>\n",
       "    <tr><td class='row_index'>0</td><td>&minus;0.521813</td></tr>\n",
       "  </tbody>\n",
       "  </table>\n",
       "  <div class='footer'>\n",
       "    <div class='frame_dimensions'>1 row &times; 1 column</div>\n",
       "  </div>\n",
       "</div>\n"
      ],
      "text/plain": [
       "<Frame#7f2d3c8dc150 1x1>"
      ]
     },
     "execution_count": 14,
     "metadata": {},
     "output_type": "execute_result"
    }
   ],
   "source": [
    "data[:, dt.corr(dt.f.hue, dt.f.color_intensity)]"
   ]
  },
  {
   "cell_type": "markdown",
   "id": "77b12814",
   "metadata": {
    "papermill": {
     "duration": 0.02728,
     "end_time": "2021-07-15T18:08:29.957096",
     "exception": false,
     "start_time": "2021-07-15T18:08:29.929816",
     "status": "completed"
    },
    "tags": []
   },
   "source": [
    "**Exercise 50: Calculate the correlation matrix between all pairs of columns in `data` and assign it to `corr_matrix`**"
   ]
  },
  {
   "cell_type": "code",
   "execution_count": 15,
   "id": "37a62f7a",
   "metadata": {
    "execution": {
     "iopub.execute_input": "2021-07-15T18:08:30.020496Z",
     "iopub.status.busy": "2021-07-15T18:08:30.019049Z",
     "iopub.status.idle": "2021-07-15T18:08:30.025481Z",
     "shell.execute_reply": "2021-07-15T18:08:30.024928Z",
     "shell.execute_reply.started": "2021-07-15T18:06:32.207309Z"
    },
    "papermill": {
     "duration": 0.041204,
     "end_time": "2021-07-15T18:08:30.025596",
     "exception": false,
     "start_time": "2021-07-15T18:08:29.984392",
     "status": "completed"
    },
    "tags": []
   },
   "outputs": [
    {
     "data": {
      "text/html": [
       "<div class='datatable'>\n",
       "  <table class='frame'>\n",
       "  <thead>\n",
       "    <tr class='colnames'><td class='row_index'></td><th>Columns</th><th>target</th><th>alcohol</th><th>malic_acid</th><th>ash</th><th>alcalinity_of_ash</th><th>magnesium</th><th>total_phenols</th><th>flavanoids</th><th>nonflavanoid_phenols</th><th>proanthocyanins</th><th>color_intensity</th><th>hue</th><th>od280/od315_of_diluted_wines</th><th>proline</th></tr>\n",
       "    <tr class='coltypes'><td class='row_index'></td><td class='str' title='str32'>&#x25AA;&#x25AA;&#x25AA;&#x25AA;</td><td class='float' title='float64'>&#x25AA;&#x25AA;&#x25AA;&#x25AA;&#x25AA;&#x25AA;&#x25AA;&#x25AA;</td><td class='float' title='float64'>&#x25AA;&#x25AA;&#x25AA;&#x25AA;&#x25AA;&#x25AA;&#x25AA;&#x25AA;</td><td class='float' title='float64'>&#x25AA;&#x25AA;&#x25AA;&#x25AA;&#x25AA;&#x25AA;&#x25AA;&#x25AA;</td><td class='float' title='float64'>&#x25AA;&#x25AA;&#x25AA;&#x25AA;&#x25AA;&#x25AA;&#x25AA;&#x25AA;</td><td class='float' title='float64'>&#x25AA;&#x25AA;&#x25AA;&#x25AA;&#x25AA;&#x25AA;&#x25AA;&#x25AA;</td><td class='float' title='float64'>&#x25AA;&#x25AA;&#x25AA;&#x25AA;&#x25AA;&#x25AA;&#x25AA;&#x25AA;</td><td class='float' title='float64'>&#x25AA;&#x25AA;&#x25AA;&#x25AA;&#x25AA;&#x25AA;&#x25AA;&#x25AA;</td><td class='float' title='float64'>&#x25AA;&#x25AA;&#x25AA;&#x25AA;&#x25AA;&#x25AA;&#x25AA;&#x25AA;</td><td class='float' title='float64'>&#x25AA;&#x25AA;&#x25AA;&#x25AA;&#x25AA;&#x25AA;&#x25AA;&#x25AA;</td><td class='float' title='float64'>&#x25AA;&#x25AA;&#x25AA;&#x25AA;&#x25AA;&#x25AA;&#x25AA;&#x25AA;</td><td class='float' title='float64'>&#x25AA;&#x25AA;&#x25AA;&#x25AA;&#x25AA;&#x25AA;&#x25AA;&#x25AA;</td><td class='float' title='float64'>&#x25AA;&#x25AA;&#x25AA;&#x25AA;&#x25AA;&#x25AA;&#x25AA;&#x25AA;</td><td class='float' title='float64'>&#x25AA;&#x25AA;&#x25AA;&#x25AA;&#x25AA;&#x25AA;&#x25AA;&#x25AA;</td><td class='float' title='float64'>&#x25AA;&#x25AA;&#x25AA;&#x25AA;&#x25AA;&#x25AA;&#x25AA;&#x25AA;</td></tr>\n",
       "  </thead>\n",
       "  <tbody>\n",
       "    <tr><td class='row_index'>0</td><td>target</td><td>1</td><td>&minus;0.328222</td><td>0.437776</td><td>&minus;0.0496432</td><td>0.517859</td><td>&minus;0.209179</td><td>&minus;0.719163</td><td>&minus;0.847498</td><td>0.489109</td><td>&minus;0.49913</td><td>0.265668</td><td>&minus;0.617369</td><td>&minus;0.78823</td><td>&minus;0.633717</td></tr>\n",
       "    <tr><td class='row_index'>1</td><td>alcohol</td><td>&minus;0.328222</td><td>1</td><td>0.0943969</td><td>0.211545</td><td>&minus;0.310235</td><td>0.270798</td><td>0.289101</td><td>0.236815</td><td>&minus;0.155929</td><td>0.136698</td><td>0.546364</td><td>&minus;0.0717472</td><td>0.0723432</td><td>0.64372</td></tr>\n",
       "    <tr><td class='row_index'>2</td><td>malic_acid</td><td>0.437776</td><td>0.0943969</td><td>1</td><td>0.164045</td><td>0.2885</td><td>&minus;0.0545751</td><td>&minus;0.335167</td><td>&minus;0.411007</td><td>0.292977</td><td>&minus;0.220746</td><td>0.248985</td><td>&minus;0.561296</td><td>&minus;0.36871</td><td>&minus;0.192011</td></tr>\n",
       "    <tr><td class='row_index'>3</td><td>ash</td><td>&minus;0.0496432</td><td>0.211545</td><td>0.164045</td><td>1</td><td>0.443367</td><td>0.286587</td><td>0.12898</td><td>0.115077</td><td>0.18623</td><td>0.00965194</td><td>0.258887</td><td>&minus;0.0746669</td><td>0.00391123</td><td>0.223626</td></tr>\n",
       "    <tr><td class='row_index'>4</td><td>alcalinity_of_ash</td><td>0.517859</td><td>&minus;0.310235</td><td>0.2885</td><td>0.443367</td><td>1</td><td>&minus;0.0833331</td><td>&minus;0.321113</td><td>&minus;0.35137</td><td>0.361922</td><td>&minus;0.197327</td><td>0.018732</td><td>&minus;0.273955</td><td>&minus;0.276769</td><td>&minus;0.440597</td></tr>\n",
       "    <tr><td class='row_index'>5</td><td>magnesium</td><td>&minus;0.209179</td><td>0.270798</td><td>&minus;0.0545751</td><td>0.286587</td><td>&minus;0.0833331</td><td>1</td><td>0.214401</td><td>0.195784</td><td>&minus;0.256294</td><td>0.236441</td><td>0.19995</td><td>0.0553982</td><td>0.0660039</td><td>0.393351</td></tr>\n",
       "    <tr><td class='row_index'>6</td><td>total_phenols</td><td>&minus;0.719163</td><td>0.289101</td><td>&minus;0.335167</td><td>0.12898</td><td>&minus;0.321113</td><td>0.214401</td><td>1</td><td>0.864564</td><td>&minus;0.449935</td><td>0.612413</td><td>&minus;0.0551364</td><td>0.433681</td><td>0.699949</td><td>0.498115</td></tr>\n",
       "    <tr><td class='row_index'>7</td><td>flavanoids</td><td>&minus;0.847498</td><td>0.236815</td><td>&minus;0.411007</td><td>0.115077</td><td>&minus;0.35137</td><td>0.195784</td><td>0.864564</td><td>1</td><td>&minus;0.5379</td><td>0.652692</td><td>&minus;0.172379</td><td>0.543479</td><td>0.787194</td><td>0.494193</td></tr>\n",
       "    <tr><td class='row_index'>8</td><td>nonflavanoid_phenols</td><td>0.489109</td><td>&minus;0.155929</td><td>0.292977</td><td>0.18623</td><td>0.361922</td><td>&minus;0.256294</td><td>&minus;0.449935</td><td>&minus;0.5379</td><td>1</td><td>&minus;0.365845</td><td>0.139057</td><td>&minus;0.26264</td><td>&minus;0.50327</td><td>&minus;0.311385</td></tr>\n",
       "    <tr><td class='row_index'>9</td><td>proanthocyanins</td><td>&minus;0.49913</td><td>0.136698</td><td>&minus;0.220746</td><td>0.00965194</td><td>&minus;0.197327</td><td>0.236441</td><td>0.612413</td><td>0.652692</td><td>&minus;0.365845</td><td>1</td><td>&minus;0.0252499</td><td>0.295544</td><td>0.519067</td><td>0.330417</td></tr>\n",
       "    <tr><td class='row_index'>10</td><td>color_intensity</td><td>0.265668</td><td>0.546364</td><td>0.248985</td><td>0.258887</td><td>0.018732</td><td>0.19995</td><td>&minus;0.0551364</td><td>&minus;0.172379</td><td>0.139057</td><td>&minus;0.0252499</td><td>1</td><td>&minus;0.521813</td><td>&minus;0.428815</td><td>0.3161</td></tr>\n",
       "    <tr><td class='row_index'>11</td><td>hue</td><td>&minus;0.617369</td><td>&minus;0.0717472</td><td>&minus;0.561296</td><td>&minus;0.0746669</td><td>&minus;0.273955</td><td>0.0553982</td><td>0.433681</td><td>0.543479</td><td>&minus;0.26264</td><td>0.295544</td><td>&minus;0.521813</td><td>1</td><td>0.565468</td><td>0.236183</td></tr>\n",
       "    <tr><td class='row_index'>12</td><td>od280/od315_of_diluted_wines</td><td>&minus;0.78823</td><td>0.0723432</td><td>&minus;0.36871</td><td>0.00391123</td><td>&minus;0.276769</td><td>0.0660039</td><td>0.699949</td><td>0.787194</td><td>&minus;0.50327</td><td>0.519067</td><td>&minus;0.428815</td><td>0.565468</td><td>1</td><td>0.312761</td></tr>\n",
       "    <tr><td class='row_index'>13</td><td>proline</td><td>&minus;0.633717</td><td>0.64372</td><td>&minus;0.192011</td><td>0.223626</td><td>&minus;0.440597</td><td>0.393351</td><td>0.498115</td><td>0.494193</td><td>&minus;0.311385</td><td>0.330417</td><td>0.3161</td><td>0.236183</td><td>0.312761</td><td>1</td></tr>\n",
       "  </tbody>\n",
       "  </table>\n",
       "  <div class='footer'>\n",
       "    <div class='frame_dimensions'>14 rows &times; 15 columns</div>\n",
       "  </div>\n",
       "</div>\n"
      ],
      "text/plain": [
       "<Frame#7f2d2eb7ef00 14x15>"
      ]
     },
     "execution_count": 15,
     "metadata": {},
     "output_type": "execute_result"
    }
   ],
   "source": [
    "numeric_data = data[:, [int, float]]\n",
    "numeric_ncols = numeric_data.ncols\n",
    "numeric_names = list(numeric_data.names)\n",
    "corr_matrix = dt.Frame([[None] * numeric_ncols] * (numeric_ncols + 1), names=['Columns'] + numeric_names)\n",
    "corr_matrix[:, 0] = dt.Frame(numeric_names)\n",
    "\n",
    "for i in range(numeric_data.ncols):\n",
    "    for j in range(i, numeric_data.ncols):\n",
    "        corr_matrix[i, j+1] = numeric_data[:, dt.corr(dt.f[i], dt.f[j])]\n",
    "        corr_matrix[j, i+1] = corr_matrix[i, j+1]\n",
    "\n",
    "corr_matrix"
   ]
  },
  {
   "cell_type": "markdown",
   "id": "707acbaf",
   "metadata": {
    "papermill": {
     "duration": 0.027303,
     "end_time": "2021-07-15T18:08:30.080558",
     "exception": false,
     "start_time": "2021-07-15T18:08:30.053255",
     "status": "completed"
    },
    "tags": []
   },
   "source": [
    "<center>\n",
    "    ✅ This completes Set 5: Column Aggregations (Exercises 41-50) of <b>DatatableTon</b>: <i>💯 datatable exercises</i>\n",
    "    <br>\n",
    "    Set 6 is coming soon!\n",
    "    <br>\n",
    "    <br>\n",
    "    You can find all the exercises and solutions on <a href=\"https://github.com/vopani/datatableton#exercises-\">GitHub</a>\n",
    "</center>"
   ]
  }
 ],
 "metadata": {
  "kernelspec": {
   "display_name": "Python 3",
   "language": "python",
   "name": "python3"
  },
  "language_info": {
   "codemirror_mode": {
    "name": "ipython",
    "version": 3
   },
   "file_extension": ".py",
   "mimetype": "text/x-python",
   "name": "python",
   "nbconvert_exporter": "python",
   "pygments_lexer": "ipython3",
   "version": "3.7.10"
  },
  "papermill": {
   "default_parameters": {},
   "duration": 46.557927,
   "end_time": "2021-07-15T18:08:31.018572",
   "environment_variables": {},
   "exception": null,
   "input_path": "__notebook__.ipynb",
   "output_path": "__notebook__.ipynb",
   "parameters": {},
   "start_time": "2021-07-15T18:07:44.460645",
   "version": "2.3.3"
  }
 },
 "nbformat": 4,
 "nbformat_minor": 5
}
