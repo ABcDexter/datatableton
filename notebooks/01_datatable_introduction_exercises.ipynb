{
 "cells": [
  {
   "cell_type": "markdown",
   "id": "domestic-welsh",
   "metadata": {
    "_cell_guid": "b1076dfc-b9ad-4769-8c92-a6c4dae69d19",
    "_uuid": "8f2839f25d086af736a60e9eeb907d3b93b6e0e5",
    "papermill": {
     "duration": 0.016843,
     "end_time": "2021-07-06T07:45:12.263936",
     "exception": false,
     "start_time": "2021-07-06T07:45:12.247093",
     "status": "completed"
    },
    "tags": []
   },
   "source": [
    "<center>\n",
    "    <h1>DatatableTon</h1>\n",
    "    💯 datatable exercises\n",
    "    <br>\n",
    "    <br>\n",
    "    <a href='https://github.com/vopani/datatableton/blob/master/LICENSE'>\n",
    "        <img src='https://img.shields.io/badge/license-Apache%202.0-blue.svg?logo=apache'>\n",
    "    </a>\n",
    "    <a href='https://github.com/vopani/datatableton'>\n",
    "        <img src='https://img.shields.io/github/stars/vopani/datatableton?color=yellowgreen&logo=github'>\n",
    "    </a>\n",
    "    <a href='https://twitter.com/vopani'>\n",
    "        <img src='https://img.shields.io/twitter/follow/vopani'>\n",
    "    </a>\n",
    "</center>"
   ]
  },
  {
   "cell_type": "markdown",
   "id": "unavailable-bullet",
   "metadata": {
    "papermill": {
     "duration": 0.015522,
     "end_time": "2021-07-06T07:45:12.295472",
     "exception": false,
     "start_time": "2021-07-06T07:45:12.279950",
     "status": "completed"
    },
    "tags": []
   },
   "source": [
    "<center>\n",
    "    This is Set 1: Datatable Introduction (Exercises 1-10) of <b>DatatableTon</b>: <i>💯 datatable exercises</i>\n",
    "    <br>\n",
    "    You can find all the exercises and solutions on <a href=\"https://github.com/vopani/datatableton#exercises-\">GitHub</a>\n",
    "</center>"
   ]
  },
  {
   "cell_type": "markdown",
   "id": "stuck-rebound",
   "metadata": {
    "papermill": {
     "duration": 0.015316,
     "end_time": "2021-07-06T07:45:12.326512",
     "exception": false,
     "start_time": "2021-07-06T07:45:12.311196",
     "status": "completed"
    },
    "tags": []
   },
   "source": [
    "**Exercise 1: Install the latest version of datatable**"
   ]
  },
  {
   "cell_type": "code",
   "execution_count": null,
   "id": "complex-cornwall",
   "metadata": {
    "execution": {
     "iopub.execute_input": "2021-07-06T07:42:07.151750Z",
     "iopub.status.busy": "2021-07-06T07:42:07.139719Z",
     "iopub.status.idle": "2021-07-06T07:42:17.939422Z",
     "shell.execute_reply": "2021-07-06T07:42:17.938760Z",
     "shell.execute_reply.started": "2021-07-06T06:55:17.415955Z"
    },
    "papermill": {
     "duration": 0.015416,
     "end_time": "2021-07-06T07:45:12.357678",
     "exception": false,
     "start_time": "2021-07-06T07:45:12.342262",
     "status": "completed"
    },
    "tags": []
   },
   "outputs": [],
   "source": []
  },
  {
   "cell_type": "markdown",
   "id": "exempt-lecture",
   "metadata": {
    "papermill": {
     "duration": 0.015283,
     "end_time": "2021-07-06T07:45:12.388695",
     "exception": false,
     "start_time": "2021-07-06T07:45:12.373412",
     "status": "completed"
    },
    "tags": []
   },
   "source": [
    "**Exercise 2: Import the datatable package as `dt`**"
   ]
  },
  {
   "cell_type": "code",
   "execution_count": null,
   "id": "extra-message",
   "metadata": {
    "execution": {
     "iopub.execute_input": "2021-07-06T07:42:18.128101Z",
     "iopub.status.busy": "2021-07-06T07:42:18.127468Z",
     "iopub.status.idle": "2021-07-06T07:42:18.152301Z",
     "shell.execute_reply": "2021-07-06T07:42:18.151861Z",
     "shell.execute_reply.started": "2021-07-06T06:55:34.443195Z"
    },
    "papermill": {
     "duration": 0.01544,
     "end_time": "2021-07-06T07:45:12.419926",
     "exception": false,
     "start_time": "2021-07-06T07:45:12.404486",
     "status": "completed"
    },
    "tags": []
   },
   "outputs": [],
   "source": []
  },
  {
   "cell_type": "markdown",
   "id": "favorite-explorer",
   "metadata": {
    "papermill": {
     "duration": 0.015388,
     "end_time": "2021-07-06T07:45:12.451039",
     "exception": false,
     "start_time": "2021-07-06T07:45:12.435651",
     "status": "completed"
    },
    "tags": []
   },
   "source": [
    "**Exercise 3: Print the version of the datatable package**"
   ]
  },
  {
   "cell_type": "code",
   "execution_count": null,
   "id": "aging-notification",
   "metadata": {
    "execution": {
     "iopub.execute_input": "2021-07-06T07:42:18.343295Z",
     "iopub.status.busy": "2021-07-06T07:42:18.342496Z",
     "iopub.status.idle": "2021-07-06T07:42:18.346377Z",
     "shell.execute_reply": "2021-07-06T07:42:18.347022Z",
     "shell.execute_reply.started": "2021-07-06T06:55:34.479286Z"
    },
    "papermill": {
     "duration": 0.015372,
     "end_time": "2021-07-06T07:45:12.482215",
     "exception": false,
     "start_time": "2021-07-06T07:45:12.466843",
     "status": "completed"
    },
    "tags": []
   },
   "outputs": [],
   "source": []
  },
  {
   "cell_type": "markdown",
   "id": "passing-corrections",
   "metadata": {
    "papermill": {
     "duration": 0.015249,
     "end_time": "2021-07-06T07:45:12.513103",
     "exception": false,
     "start_time": "2021-07-06T07:45:12.497854",
     "status": "completed"
    },
    "tags": []
   },
   "source": [
    "**Exercise 4: Create an empty datatable frame and assign it to `data`**"
   ]
  },
  {
   "cell_type": "code",
   "execution_count": null,
   "id": "residential-coupon",
   "metadata": {
    "execution": {
     "iopub.execute_input": "2021-07-06T07:42:18.538848Z",
     "iopub.status.busy": "2021-07-06T07:42:18.537895Z",
     "iopub.status.idle": "2021-07-06T07:42:18.541150Z",
     "shell.execute_reply": "2021-07-06T07:42:18.540603Z",
     "shell.execute_reply.started": "2021-07-06T06:55:34.486231Z"
    },
    "papermill": {
     "duration": 0.015399,
     "end_time": "2021-07-06T07:45:12.544178",
     "exception": false,
     "start_time": "2021-07-06T07:45:12.528779",
     "status": "completed"
    },
    "tags": []
   },
   "outputs": [],
   "source": []
  },
  {
   "cell_type": "markdown",
   "id": "intelligent-delta",
   "metadata": {
    "papermill": {
     "duration": 0.020349,
     "end_time": "2021-07-06T07:45:12.582540",
     "exception": false,
     "start_time": "2021-07-06T07:45:12.562191",
     "status": "completed"
    },
    "tags": []
   },
   "source": [
    "**Exercise 5: Create a frame with a column `v1` with integer values from 0 to 9, a column `v2` with values ['A', 'C', 'C', 'A', 'C', 'B', 'A', 'B', 'C', 'B'] and assign it to `data`**"
   ]
  },
  {
   "cell_type": "code",
   "execution_count": null,
   "id": "chronic-olive",
   "metadata": {
    "execution": {
     "iopub.execute_input": "2021-07-06T07:42:18.726260Z",
     "iopub.status.busy": "2021-07-06T07:42:18.725288Z",
     "iopub.status.idle": "2021-07-06T07:42:18.728278Z",
     "shell.execute_reply": "2021-07-06T07:42:18.728714Z",
     "shell.execute_reply.started": "2021-07-06T07:02:59.472206Z"
    },
    "papermill": {
     "duration": 0.019508,
     "end_time": "2021-07-06T07:45:12.624164",
     "exception": false,
     "start_time": "2021-07-06T07:45:12.604656",
     "status": "completed"
    },
    "tags": []
   },
   "outputs": [],
   "source": []
  },
  {
   "cell_type": "markdown",
   "id": "disciplinary-flood",
   "metadata": {
    "papermill": {
     "duration": 0.015981,
     "end_time": "2021-07-06T07:45:12.664203",
     "exception": false,
     "start_time": "2021-07-06T07:45:12.648222",
     "status": "completed"
    },
    "tags": []
   },
   "source": [
    "**Exercise 6: Display `data`**"
   ]
  },
  {
   "cell_type": "code",
   "execution_count": null,
   "id": "light-antarctica",
   "metadata": {
    "execution": {
     "iopub.execute_input": "2021-07-06T07:42:18.913413Z",
     "iopub.status.busy": "2021-07-06T07:42:18.912871Z",
     "iopub.status.idle": "2021-07-06T07:42:18.916908Z",
     "shell.execute_reply": "2021-07-06T07:42:18.916409Z",
     "shell.execute_reply.started": "2021-07-06T07:03:01.037694Z"
    },
    "papermill": {
     "duration": 0.016854,
     "end_time": "2021-07-06T07:45:12.702534",
     "exception": false,
     "start_time": "2021-07-06T07:45:12.685680",
     "status": "completed"
    },
    "tags": []
   },
   "outputs": [],
   "source": []
  },
  {
   "cell_type": "markdown",
   "id": "biblical-separation",
   "metadata": {
    "papermill": {
     "duration": 0.01526,
     "end_time": "2021-07-06T07:45:12.733453",
     "exception": false,
     "start_time": "2021-07-06T07:45:12.718193",
     "status": "completed"
    },
    "tags": []
   },
   "source": [
    "**Exercise 7: Display the first 5 rows and the last 3 rows of `data`**"
   ]
  },
  {
   "cell_type": "code",
   "execution_count": null,
   "id": "employed-decision",
   "metadata": {
    "execution": {
     "iopub.execute_input": "2021-07-06T07:42:19.104729Z",
     "iopub.status.busy": "2021-07-06T07:42:19.104090Z",
     "iopub.status.idle": "2021-07-06T07:42:19.107390Z",
     "shell.execute_reply": "2021-07-06T07:42:19.106873Z",
     "shell.execute_reply.started": "2021-07-06T07:03:04.153601Z"
    },
    "papermill": {
     "duration": 0.015299,
     "end_time": "2021-07-06T07:45:12.764422",
     "exception": false,
     "start_time": "2021-07-06T07:45:12.749123",
     "status": "completed"
    },
    "tags": []
   },
   "outputs": [],
   "source": []
  },
  {
   "cell_type": "code",
   "execution_count": null,
   "id": "primary-pollution",
   "metadata": {
    "execution": {
     "iopub.execute_input": "2021-07-06T07:42:19.202548Z",
     "iopub.status.busy": "2021-07-06T07:42:19.201936Z",
     "iopub.status.idle": "2021-07-06T07:42:19.205978Z",
     "shell.execute_reply": "2021-07-06T07:42:19.205397Z",
     "shell.execute_reply.started": "2021-07-06T07:03:05.022659Z"
    },
    "papermill": {
     "duration": 0.015331,
     "end_time": "2021-07-06T07:45:12.795497",
     "exception": false,
     "start_time": "2021-07-06T07:45:12.780166",
     "status": "completed"
    },
    "tags": []
   },
   "outputs": [],
   "source": []
  },
  {
   "cell_type": "markdown",
   "id": "amino-iraqi",
   "metadata": {
    "papermill": {
     "duration": 0.015273,
     "end_time": "2021-07-06T07:45:12.826416",
     "exception": false,
     "start_time": "2021-07-06T07:45:12.811143",
     "status": "completed"
    },
    "tags": []
   },
   "source": [
    "**Exercise 8: Display the number of rows and number of columns in `data`**"
   ]
  },
  {
   "cell_type": "code",
   "execution_count": null,
   "id": "beginning-chair",
   "metadata": {
    "execution": {
     "iopub.execute_input": "2021-07-06T07:42:19.390478Z",
     "iopub.status.busy": "2021-07-06T07:42:19.389954Z",
     "iopub.status.idle": "2021-07-06T07:42:19.393487Z",
     "shell.execute_reply": "2021-07-06T07:42:19.392990Z",
     "shell.execute_reply.started": "2021-07-06T07:03:07.529202Z"
    },
    "papermill": {
     "duration": 0.015311,
     "end_time": "2021-07-06T07:45:12.857446",
     "exception": false,
     "start_time": "2021-07-06T07:45:12.842135",
     "status": "completed"
    },
    "tags": []
   },
   "outputs": [],
   "source": []
  },
  {
   "cell_type": "code",
   "execution_count": null,
   "id": "academic-adams",
   "metadata": {
    "execution": {
     "iopub.execute_input": "2021-07-06T07:42:19.490382Z",
     "iopub.status.busy": "2021-07-06T07:42:19.489831Z",
     "iopub.status.idle": "2021-07-06T07:42:19.492889Z",
     "shell.execute_reply": "2021-07-06T07:42:19.492431Z",
     "shell.execute_reply.started": "2021-07-06T07:03:08.103302Z"
    },
    "papermill": {
     "duration": 0.015747,
     "end_time": "2021-07-06T07:45:12.889129",
     "exception": false,
     "start_time": "2021-07-06T07:45:12.873382",
     "status": "completed"
    },
    "tags": []
   },
   "outputs": [],
   "source": []
  },
  {
   "cell_type": "markdown",
   "id": "collectible-feelings",
   "metadata": {
    "papermill": {
     "duration": 0.015456,
     "end_time": "2021-07-06T07:45:12.920485",
     "exception": false,
     "start_time": "2021-07-06T07:45:12.905029",
     "status": "completed"
    },
    "tags": []
   },
   "source": [
    "**Exercise 9: Display the shape of `data`**"
   ]
  },
  {
   "cell_type": "code",
   "execution_count": null,
   "id": "stainless-wagner",
   "metadata": {
    "execution": {
     "iopub.execute_input": "2021-07-06T07:42:19.705529Z",
     "iopub.status.busy": "2021-07-06T07:42:19.704960Z",
     "iopub.status.idle": "2021-07-06T07:42:19.708139Z",
     "shell.execute_reply": "2021-07-06T07:42:19.707719Z",
     "shell.execute_reply.started": "2021-07-06T07:03:09.755932Z"
    },
    "papermill": {
     "duration": 0.015998,
     "end_time": "2021-07-06T07:45:12.952664",
     "exception": false,
     "start_time": "2021-07-06T07:45:12.936666",
     "status": "completed"
    },
    "tags": []
   },
   "outputs": [],
   "source": []
  },
  {
   "cell_type": "markdown",
   "id": "funky-disaster",
   "metadata": {
    "papermill": {
     "duration": 0.015654,
     "end_time": "2021-07-06T07:45:12.984477",
     "exception": false,
     "start_time": "2021-07-06T07:45:12.968823",
     "status": "completed"
    },
    "tags": []
   },
   "source": [
    "**Exercise 10: Display the column names of `data`**"
   ]
  },
  {
   "cell_type": "code",
   "execution_count": null,
   "id": "specific-albuquerque",
   "metadata": {
    "execution": {
     "iopub.execute_input": "2021-07-06T07:42:19.897720Z",
     "iopub.status.busy": "2021-07-06T07:42:19.897087Z",
     "iopub.status.idle": "2021-07-06T07:42:19.902838Z",
     "shell.execute_reply": "2021-07-06T07:42:19.902289Z",
     "shell.execute_reply.started": "2021-07-06T07:03:15.221534Z"
    },
    "papermill": {
     "duration": 0.015898,
     "end_time": "2021-07-06T07:45:13.016689",
     "exception": false,
     "start_time": "2021-07-06T07:45:13.000791",
     "status": "completed"
    },
    "tags": []
   },
   "outputs": [],
   "source": []
  }
 ],
 "metadata": {
  "kernelspec": {
   "display_name": "Python 3",
   "language": "python",
   "name": "python3"
  },
  "language_info": {
   "codemirror_mode": {
    "name": "ipython",
    "version": 3
   },
   "file_extension": ".py",
   "mimetype": "text/x-python",
   "name": "python",
   "nbconvert_exporter": "python",
   "pygments_lexer": "ipython3",
   "version": "3.7.10"
  },
  "papermill": {
   "default_parameters": {},
   "duration": 9.811872,
   "end_time": "2021-07-06T07:45:13.844555",
   "environment_variables": {},
   "exception": null,
   "input_path": "__notebook__.ipynb",
   "output_path": "__notebook__.ipynb",
   "parameters": {},
   "start_time": "2021-07-06T07:45:04.032683",
   "version": "2.3.3"
  }
 },
 "nbformat": 4,
 "nbformat_minor": 5
}
