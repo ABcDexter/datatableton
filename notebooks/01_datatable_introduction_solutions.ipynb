{
 "cells": [
  {
   "cell_type": "markdown",
   "id": "hispanic-charles",
   "metadata": {
    "_cell_guid": "b1076dfc-b9ad-4769-8c92-a6c4dae69d19",
    "_uuid": "8f2839f25d086af736a60e9eeb907d3b93b6e0e5",
    "papermill": {
     "duration": 0.01743,
     "end_time": "2021-07-06T09:19:39.822056",
     "exception": false,
     "start_time": "2021-07-06T09:19:39.804626",
     "status": "completed"
    },
    "tags": []
   },
   "source": [
    "<center>\n",
    "    <h1>DatatableTon</h1>\n",
    "    💯 datatable exercises\n",
    "    <br>\n",
    "    <br>\n",
    "    <a href='https://github.com/vopani/datatableton/blob/master/LICENSE'>\n",
    "        <img src='https://img.shields.io/badge/license-Apache%202.0-blue.svg?logo=apache'>\n",
    "    </a>\n",
    "    <a href='https://github.com/vopani/datatableton'>\n",
    "        <img src='https://img.shields.io/github/stars/vopani/datatableton?color=yellowgreen&logo=github'>\n",
    "    </a>\n",
    "    <a href='https://twitter.com/vopani'>\n",
    "        <img src='https://img.shields.io/twitter/follow/vopani'>\n",
    "    </a>\n",
    "</center>"
   ]
  },
  {
   "cell_type": "markdown",
   "id": "current-flexibility",
   "metadata": {
    "papermill": {
     "duration": 0.015999,
     "end_time": "2021-07-06T09:19:39.854567",
     "exception": false,
     "start_time": "2021-07-06T09:19:39.838568",
     "status": "completed"
    },
    "tags": []
   },
   "source": [
    "<center>\n",
    "    This is Set 1: Datatable Introduction (Exercises 1-10) of <b>DatatableTon</b>: <i>💯 datatable exercises</i>\n",
    "    <br>\n",
    "    You can find all the exercises and solutions on <a href=\"https://github.com/vopani/datatableton#exercises-\">GitHub</a>\n",
    "</center>"
   ]
  },
  {
   "cell_type": "markdown",
   "id": "portable-likelihood",
   "metadata": {
    "papermill": {
     "duration": 0.016155,
     "end_time": "2021-07-06T09:19:39.887298",
     "exception": false,
     "start_time": "2021-07-06T09:19:39.871143",
     "status": "completed"
    },
    "tags": []
   },
   "source": [
    "**Exercise 1: Install the latest version of datatable**"
   ]
  },
  {
   "cell_type": "code",
   "execution_count": 1,
   "id": "nervous-charm",
   "metadata": {
    "execution": {
     "iopub.execute_input": "2021-07-06T09:19:39.931344Z",
     "iopub.status.busy": "2021-07-06T09:19:39.930716Z",
     "iopub.status.idle": "2021-07-06T09:20:19.371371Z",
     "shell.execute_reply": "2021-07-06T09:20:19.371849Z",
     "shell.execute_reply.started": "2021-07-06T07:56:34.451636Z"
    },
    "papermill": {
     "duration": 39.46849,
     "end_time": "2021-07-06T09:20:19.372195",
     "exception": false,
     "start_time": "2021-07-06T09:19:39.903705",
     "status": "completed"
    },
    "tags": []
   },
   "outputs": [
    {
     "name": "stdout",
     "output_type": "stream",
     "text": [
      "Requirement already satisfied: pip in /opt/conda/lib/python3.7/site-packages (21.0.1)\r\n",
      "Collecting pip\r\n",
      "  Downloading pip-21.1.3-py3-none-any.whl (1.5 MB)\r\n",
      "\u001b[K     |████████████████████████████████| 1.5 MB 1.2 MB/s \r\n",
      "\u001b[?25hInstalling collected packages: pip\r\n",
      "  Attempting uninstall: pip\r\n",
      "    Found existing installation: pip 21.0.1\r\n",
      "    Uninstalling pip-21.0.1:\r\n",
      "      Successfully uninstalled pip-21.0.1\r\n",
      "Successfully installed pip-21.1.3\r\n",
      "Requirement already satisfied: datatable in /opt/conda/lib/python3.7/site-packages (0.11.1)\r\n",
      "Collecting datatable\r\n",
      "  Downloading datatable-1.0.0-cp37-cp37m-manylinux_2_12_x86_64.whl (96.9 MB)\r\n",
      "\u001b[K     |████████████████████████████████| 96.9 MB 121 kB/s \r\n",
      "\u001b[?25hInstalling collected packages: datatable\r\n",
      "  Attempting uninstall: datatable\r\n",
      "    Found existing installation: datatable 0.11.1\r\n",
      "    Uninstalling datatable-0.11.1:\r\n",
      "      Successfully uninstalled datatable-0.11.1\r\n",
      "Successfully installed datatable-1.0.0\r\n",
      "\u001b[33mWARNING: Running pip as the 'root' user can result in broken permissions and conflicting behaviour with the system package manager. It is recommended to use a virtual environment instead: https://pip.pypa.io/warnings/venv\u001b[0m\r\n"
     ]
    }
   ],
   "source": [
    "!python3 -m pip install pip --upgrade\n",
    "!python3 -m pip install datatable --upgrade"
   ]
  },
  {
   "cell_type": "markdown",
   "id": "acquired-blast",
   "metadata": {
    "papermill": {
     "duration": 0.074585,
     "end_time": "2021-07-06T09:20:19.521544",
     "exception": false,
     "start_time": "2021-07-06T09:20:19.446959",
     "status": "completed"
    },
    "tags": []
   },
   "source": [
    "**Exercise 2: Import the datatable package as `dt`**"
   ]
  },
  {
   "cell_type": "code",
   "execution_count": 2,
   "id": "suited-drawing",
   "metadata": {
    "execution": {
     "iopub.execute_input": "2021-07-06T09:20:19.673785Z",
     "iopub.status.busy": "2021-07-06T09:20:19.673165Z",
     "iopub.status.idle": "2021-07-06T09:20:19.702287Z",
     "shell.execute_reply": "2021-07-06T09:20:19.702826Z",
     "shell.execute_reply.started": "2021-07-06T06:55:34.443195Z"
    },
    "papermill": {
     "duration": 0.107128,
     "end_time": "2021-07-06T09:20:19.703015",
     "exception": false,
     "start_time": "2021-07-06T09:20:19.595887",
     "status": "completed"
    },
    "tags": []
   },
   "outputs": [
    {
     "data": {
      "text/html": [
       "<style type='text/css'>\n",
       ".datatable table.frame { margin-bottom: 0; }\n",
       ".datatable table.frame thead { border-bottom: none; }\n",
       ".datatable table.frame tr.coltypes td {  color: #FFFFFF;  line-height: 6px;  padding: 0 0.5em;}\n",
       ".datatable .bool    { background: #DDDD99; }\n",
       ".datatable .object  { background: #565656; }\n",
       ".datatable .int     { background: #5D9E5D; }\n",
       ".datatable .float   { background: #4040CC; }\n",
       ".datatable .str     { background: #CC4040; }\n",
       ".datatable .time    { background: #40CC40; }\n",
       ".datatable .row_index {  background: var(--jp-border-color3);  border-right: 1px solid var(--jp-border-color0);  color: var(--jp-ui-font-color3);  font-size: 9px;}\n",
       ".datatable .frame tbody td { text-align: left; }\n",
       ".datatable .frame tr.coltypes .row_index {  background: var(--jp-border-color0);}\n",
       ".datatable th:nth-child(2) { padding-left: 12px; }\n",
       ".datatable .hellipsis {  color: var(--jp-cell-editor-border-color);}\n",
       ".datatable .vellipsis {  background: var(--jp-layout-color0);  color: var(--jp-cell-editor-border-color);}\n",
       ".datatable .na {  color: var(--jp-cell-editor-border-color);  font-size: 80%;}\n",
       ".datatable .sp {  opacity: 0.25;}\n",
       ".datatable .footer { font-size: 9px; }\n",
       ".datatable .frame_dimensions {  background: var(--jp-border-color3);  border-top: 1px solid var(--jp-border-color0);  color: var(--jp-ui-font-color3);  display: inline-block;  opacity: 0.6;  padding: 1px 10px 1px 5px;}\n",
       "</style>\n"
      ],
      "text/plain": [
       "<IPython.core.display.HTML object>"
      ]
     },
     "metadata": {},
     "output_type": "display_data"
    }
   ],
   "source": [
    "import datatable as dt"
   ]
  },
  {
   "cell_type": "markdown",
   "id": "helpful-highway",
   "metadata": {
    "papermill": {
     "duration": 0.070841,
     "end_time": "2021-07-06T09:20:19.847670",
     "exception": false,
     "start_time": "2021-07-06T09:20:19.776829",
     "status": "completed"
    },
    "tags": []
   },
   "source": [
    "**Exercise 3: Print the version of the datatable package**"
   ]
  },
  {
   "cell_type": "code",
   "execution_count": 3,
   "id": "first-celebration",
   "metadata": {
    "execution": {
     "iopub.execute_input": "2021-07-06T09:20:19.995544Z",
     "iopub.status.busy": "2021-07-06T09:20:19.994677Z",
     "iopub.status.idle": "2021-07-06T09:20:19.999073Z",
     "shell.execute_reply": "2021-07-06T09:20:19.998551Z",
     "shell.execute_reply.started": "2021-07-06T06:55:34.479286Z"
    },
    "papermill": {
     "duration": 0.080628,
     "end_time": "2021-07-06T09:20:19.999248",
     "exception": false,
     "start_time": "2021-07-06T09:20:19.918620",
     "status": "completed"
    },
    "tags": []
   },
   "outputs": [
    {
     "name": "stdout",
     "output_type": "stream",
     "text": [
      "1.0.0\n"
     ]
    }
   ],
   "source": [
    "print(dt.__version__)"
   ]
  },
  {
   "cell_type": "markdown",
   "id": "looking-tracy",
   "metadata": {
    "papermill": {
     "duration": 0.072024,
     "end_time": "2021-07-06T09:20:20.143929",
     "exception": false,
     "start_time": "2021-07-06T09:20:20.071905",
     "status": "completed"
    },
    "tags": []
   },
   "source": [
    "**Exercise 4: Create an empty datatable frame and assign it to `data`**"
   ]
  },
  {
   "cell_type": "code",
   "execution_count": 4,
   "id": "executive-johns",
   "metadata": {
    "execution": {
     "iopub.execute_input": "2021-07-06T09:20:20.290453Z",
     "iopub.status.busy": "2021-07-06T09:20:20.289726Z",
     "iopub.status.idle": "2021-07-06T09:20:20.292848Z",
     "shell.execute_reply": "2021-07-06T09:20:20.292177Z",
     "shell.execute_reply.started": "2021-07-06T06:55:34.486231Z"
    },
    "papermill": {
     "duration": 0.078067,
     "end_time": "2021-07-06T09:20:20.293049",
     "exception": false,
     "start_time": "2021-07-06T09:20:20.214982",
     "status": "completed"
    },
    "tags": []
   },
   "outputs": [],
   "source": [
    "data = dt.Frame()"
   ]
  },
  {
   "cell_type": "markdown",
   "id": "suspected-canadian",
   "metadata": {
    "papermill": {
     "duration": 0.075575,
     "end_time": "2021-07-06T09:20:20.443181",
     "exception": false,
     "start_time": "2021-07-06T09:20:20.367606",
     "status": "completed"
    },
    "tags": []
   },
   "source": [
    "**Exercise 5: Create a frame with a column `v1` with integer values from 0 to 9, a column `v2` with values ['A', 'C', 'C', 'A', 'C', 'B', 'A', 'B', 'C', 'B'] and assign it to `data`**"
   ]
  },
  {
   "cell_type": "code",
   "execution_count": 5,
   "id": "vocal-notice",
   "metadata": {
    "execution": {
     "iopub.execute_input": "2021-07-06T09:20:20.597442Z",
     "iopub.status.busy": "2021-07-06T09:20:20.596460Z",
     "iopub.status.idle": "2021-07-06T09:20:20.602093Z",
     "shell.execute_reply": "2021-07-06T09:20:20.602623Z",
     "shell.execute_reply.started": "2021-07-06T07:02:59.472206Z"
    },
    "papermill": {
     "duration": 0.084915,
     "end_time": "2021-07-06T09:20:20.602814",
     "exception": false,
     "start_time": "2021-07-06T09:20:20.517899",
     "status": "completed"
    },
    "tags": []
   },
   "outputs": [],
   "source": [
    "data = dt.Frame(v1=range(10), v2=['A', 'C', 'C', 'A', 'C', 'B', 'A', 'B', 'C', 'B'])"
   ]
  },
  {
   "cell_type": "markdown",
   "id": "significant-report",
   "metadata": {
    "papermill": {
     "duration": 0.073896,
     "end_time": "2021-07-06T09:20:20.752197",
     "exception": false,
     "start_time": "2021-07-06T09:20:20.678301",
     "status": "completed"
    },
    "tags": []
   },
   "source": [
    "**Exercise 6: Display `data`**"
   ]
  },
  {
   "cell_type": "code",
   "execution_count": 6,
   "id": "dedicated-printing",
   "metadata": {
    "execution": {
     "iopub.execute_input": "2021-07-06T09:20:20.905679Z",
     "iopub.status.busy": "2021-07-06T09:20:20.905026Z",
     "iopub.status.idle": "2021-07-06T09:20:20.909583Z",
     "shell.execute_reply": "2021-07-06T09:20:20.910109Z",
     "shell.execute_reply.started": "2021-07-06T07:03:01.037694Z"
    },
    "papermill": {
     "duration": 0.082558,
     "end_time": "2021-07-06T09:20:20.910308",
     "exception": false,
     "start_time": "2021-07-06T09:20:20.827750",
     "status": "completed"
    },
    "tags": []
   },
   "outputs": [
    {
     "data": {
      "text/html": [
       "<div class='datatable'>\n",
       "  <table class='frame'>\n",
       "  <thead>\n",
       "    <tr class='colnames'><td class='row_index'></td><th>v1</th><th>v2</th></tr>\n",
       "    <tr class='coltypes'><td class='row_index'></td><td class='int' title='int32'>&#x25AA;&#x25AA;&#x25AA;&#x25AA;</td><td class='str' title='str32'>&#x25AA;&#x25AA;&#x25AA;&#x25AA;</td></tr>\n",
       "  </thead>\n",
       "  <tbody>\n",
       "    <tr><td class='row_index'>0</td><td>0</td><td>A</td></tr>\n",
       "    <tr><td class='row_index'>1</td><td>1</td><td>C</td></tr>\n",
       "    <tr><td class='row_index'>2</td><td>2</td><td>C</td></tr>\n",
       "    <tr><td class='row_index'>3</td><td>3</td><td>A</td></tr>\n",
       "    <tr><td class='row_index'>4</td><td>4</td><td>C</td></tr>\n",
       "    <tr><td class='row_index'>5</td><td>5</td><td>B</td></tr>\n",
       "    <tr><td class='row_index'>6</td><td>6</td><td>A</td></tr>\n",
       "    <tr><td class='row_index'>7</td><td>7</td><td>B</td></tr>\n",
       "    <tr><td class='row_index'>8</td><td>8</td><td>C</td></tr>\n",
       "    <tr><td class='row_index'>9</td><td>9</td><td>B</td></tr>\n",
       "  </tbody>\n",
       "  </table>\n",
       "  <div class='footer'>\n",
       "    <div class='frame_dimensions'>10 rows &times; 2 columns</div>\n",
       "  </div>\n",
       "</div>\n"
      ],
      "text/plain": [
       "<Frame#7efefedad870 10x2>"
      ]
     },
     "execution_count": 6,
     "metadata": {},
     "output_type": "execute_result"
    }
   ],
   "source": [
    "data"
   ]
  },
  {
   "cell_type": "markdown",
   "id": "artistic-archives",
   "metadata": {
    "papermill": {
     "duration": 0.075842,
     "end_time": "2021-07-06T09:20:21.060385",
     "exception": false,
     "start_time": "2021-07-06T09:20:20.984543",
     "status": "completed"
    },
    "tags": []
   },
   "source": [
    "**Exercise 7: Display the first 5 rows and the last 3 rows of `data`**"
   ]
  },
  {
   "cell_type": "code",
   "execution_count": 7,
   "id": "incorrect-cocktail",
   "metadata": {
    "execution": {
     "iopub.execute_input": "2021-07-06T09:20:21.213311Z",
     "iopub.status.busy": "2021-07-06T09:20:21.212653Z",
     "iopub.status.idle": "2021-07-06T09:20:21.219532Z",
     "shell.execute_reply": "2021-07-06T09:20:21.218960Z",
     "shell.execute_reply.started": "2021-07-06T07:03:04.153601Z"
    },
    "papermill": {
     "duration": 0.083674,
     "end_time": "2021-07-06T09:20:21.219694",
     "exception": false,
     "start_time": "2021-07-06T09:20:21.136020",
     "status": "completed"
    },
    "tags": []
   },
   "outputs": [
    {
     "data": {
      "text/html": [
       "<div class='datatable'>\n",
       "  <table class='frame'>\n",
       "  <thead>\n",
       "    <tr class='colnames'><td class='row_index'></td><th>v1</th><th>v2</th></tr>\n",
       "    <tr class='coltypes'><td class='row_index'></td><td class='int' title='int32'>&#x25AA;&#x25AA;&#x25AA;&#x25AA;</td><td class='str' title='str32'>&#x25AA;&#x25AA;&#x25AA;&#x25AA;</td></tr>\n",
       "  </thead>\n",
       "  <tbody>\n",
       "    <tr><td class='row_index'>0</td><td>0</td><td>A</td></tr>\n",
       "    <tr><td class='row_index'>1</td><td>1</td><td>C</td></tr>\n",
       "    <tr><td class='row_index'>2</td><td>2</td><td>C</td></tr>\n",
       "    <tr><td class='row_index'>3</td><td>3</td><td>A</td></tr>\n",
       "    <tr><td class='row_index'>4</td><td>4</td><td>C</td></tr>\n",
       "  </tbody>\n",
       "  </table>\n",
       "  <div class='footer'>\n",
       "    <div class='frame_dimensions'>5 rows &times; 2 columns</div>\n",
       "  </div>\n",
       "</div>\n"
      ],
      "text/plain": [
       "<Frame#7efefe518720 5x2>"
      ]
     },
     "execution_count": 7,
     "metadata": {},
     "output_type": "execute_result"
    }
   ],
   "source": [
    "data.head(5)"
   ]
  },
  {
   "cell_type": "code",
   "execution_count": 8,
   "id": "popular-nowhere",
   "metadata": {
    "execution": {
     "iopub.execute_input": "2021-07-06T09:20:21.369287Z",
     "iopub.status.busy": "2021-07-06T09:20:21.368612Z",
     "iopub.status.idle": "2021-07-06T09:20:21.371599Z",
     "shell.execute_reply": "2021-07-06T09:20:21.372152Z",
     "shell.execute_reply.started": "2021-07-06T07:03:05.022659Z"
    },
    "papermill": {
     "duration": 0.080183,
     "end_time": "2021-07-06T09:20:21.372327",
     "exception": false,
     "start_time": "2021-07-06T09:20:21.292144",
     "status": "completed"
    },
    "tags": []
   },
   "outputs": [
    {
     "data": {
      "text/html": [
       "<div class='datatable'>\n",
       "  <table class='frame'>\n",
       "  <thead>\n",
       "    <tr class='colnames'><td class='row_index'></td><th>v1</th><th>v2</th></tr>\n",
       "    <tr class='coltypes'><td class='row_index'></td><td class='int' title='int32'>&#x25AA;&#x25AA;&#x25AA;&#x25AA;</td><td class='str' title='str32'>&#x25AA;&#x25AA;&#x25AA;&#x25AA;</td></tr>\n",
       "  </thead>\n",
       "  <tbody>\n",
       "    <tr><td class='row_index'>0</td><td>7</td><td>B</td></tr>\n",
       "    <tr><td class='row_index'>1</td><td>8</td><td>C</td></tr>\n",
       "    <tr><td class='row_index'>2</td><td>9</td><td>B</td></tr>\n",
       "  </tbody>\n",
       "  </table>\n",
       "  <div class='footer'>\n",
       "    <div class='frame_dimensions'>3 rows &times; 2 columns</div>\n",
       "  </div>\n",
       "</div>\n"
      ],
      "text/plain": [
       "<Frame#7efefe518840 3x2>"
      ]
     },
     "execution_count": 8,
     "metadata": {},
     "output_type": "execute_result"
    }
   ],
   "source": [
    "data.tail(3)"
   ]
  },
  {
   "cell_type": "markdown",
   "id": "great-dayton",
   "metadata": {
    "papermill": {
     "duration": 0.072231,
     "end_time": "2021-07-06T09:20:21.518216",
     "exception": false,
     "start_time": "2021-07-06T09:20:21.445985",
     "status": "completed"
    },
    "tags": []
   },
   "source": [
    "**Exercise 8: Display the number of rows and number of columns in `data`**"
   ]
  },
  {
   "cell_type": "code",
   "execution_count": 9,
   "id": "talented-haven",
   "metadata": {
    "execution": {
     "iopub.execute_input": "2021-07-06T09:20:21.668754Z",
     "iopub.status.busy": "2021-07-06T09:20:21.668105Z",
     "iopub.status.idle": "2021-07-06T09:20:21.674529Z",
     "shell.execute_reply": "2021-07-06T09:20:21.674022Z",
     "shell.execute_reply.started": "2021-07-06T07:03:07.529202Z"
    },
    "papermill": {
     "duration": 0.084422,
     "end_time": "2021-07-06T09:20:21.674696",
     "exception": false,
     "start_time": "2021-07-06T09:20:21.590274",
     "status": "completed"
    },
    "tags": []
   },
   "outputs": [
    {
     "data": {
      "text/plain": [
       "10"
      ]
     },
     "execution_count": 9,
     "metadata": {},
     "output_type": "execute_result"
    }
   ],
   "source": [
    "data.nrows"
   ]
  },
  {
   "cell_type": "code",
   "execution_count": 10,
   "id": "functional-witness",
   "metadata": {
    "execution": {
     "iopub.execute_input": "2021-07-06T09:20:21.833540Z",
     "iopub.status.busy": "2021-07-06T09:20:21.832672Z",
     "iopub.status.idle": "2021-07-06T09:20:21.837206Z",
     "shell.execute_reply": "2021-07-06T09:20:21.837669Z",
     "shell.execute_reply.started": "2021-07-06T07:03:08.103302Z"
    },
    "papermill": {
     "duration": 0.087446,
     "end_time": "2021-07-06T09:20:21.837893",
     "exception": false,
     "start_time": "2021-07-06T09:20:21.750447",
     "status": "completed"
    },
    "tags": []
   },
   "outputs": [
    {
     "data": {
      "text/plain": [
       "2"
      ]
     },
     "execution_count": 10,
     "metadata": {},
     "output_type": "execute_result"
    }
   ],
   "source": [
    "data.ncols"
   ]
  },
  {
   "cell_type": "markdown",
   "id": "moral-photograph",
   "metadata": {
    "papermill": {
     "duration": 0.077125,
     "end_time": "2021-07-06T09:20:21.993247",
     "exception": false,
     "start_time": "2021-07-06T09:20:21.916122",
     "status": "completed"
    },
    "tags": []
   },
   "source": [
    "**Exercise 9: Display the shape of `data`**"
   ]
  },
  {
   "cell_type": "code",
   "execution_count": 11,
   "id": "several-promise",
   "metadata": {
    "execution": {
     "iopub.execute_input": "2021-07-06T09:20:22.153070Z",
     "iopub.status.busy": "2021-07-06T09:20:22.152128Z",
     "iopub.status.idle": "2021-07-06T09:20:22.157006Z",
     "shell.execute_reply": "2021-07-06T09:20:22.156420Z",
     "shell.execute_reply.started": "2021-07-06T07:03:09.755932Z"
    },
    "papermill": {
     "duration": 0.086741,
     "end_time": "2021-07-06T09:20:22.157156",
     "exception": false,
     "start_time": "2021-07-06T09:20:22.070415",
     "status": "completed"
    },
    "tags": []
   },
   "outputs": [
    {
     "data": {
      "text/plain": [
       "(10, 2)"
      ]
     },
     "execution_count": 11,
     "metadata": {},
     "output_type": "execute_result"
    }
   ],
   "source": [
    "data.shape"
   ]
  },
  {
   "cell_type": "markdown",
   "id": "canadian-wealth",
   "metadata": {
    "papermill": {
     "duration": 0.073074,
     "end_time": "2021-07-06T09:20:22.304371",
     "exception": false,
     "start_time": "2021-07-06T09:20:22.231297",
     "status": "completed"
    },
    "tags": []
   },
   "source": [
    "**Exercise 10: Display the column names of `data`**"
   ]
  },
  {
   "cell_type": "code",
   "execution_count": 12,
   "id": "multiple-looking",
   "metadata": {
    "execution": {
     "iopub.execute_input": "2021-07-06T09:20:22.456662Z",
     "iopub.status.busy": "2021-07-06T09:20:22.455831Z",
     "iopub.status.idle": "2021-07-06T09:20:22.460463Z",
     "shell.execute_reply": "2021-07-06T09:20:22.460928Z",
     "shell.execute_reply.started": "2021-07-06T07:03:15.221534Z"
    },
    "papermill": {
     "duration": 0.083737,
     "end_time": "2021-07-06T09:20:22.461099",
     "exception": false,
     "start_time": "2021-07-06T09:20:22.377362",
     "status": "completed"
    },
    "tags": []
   },
   "outputs": [
    {
     "data": {
      "text/plain": [
       "('v1', 'v2')"
      ]
     },
     "execution_count": 12,
     "metadata": {},
     "output_type": "execute_result"
    }
   ],
   "source": [
    "data.names"
   ]
  }
 ],
 "metadata": {
  "kernelspec": {
   "display_name": "Python 3",
   "language": "python",
   "name": "python3"
  },
  "language_info": {
   "codemirror_mode": {
    "name": "ipython",
    "version": 3
   },
   "file_extension": ".py",
   "mimetype": "text/x-python",
   "name": "python",
   "nbconvert_exporter": "python",
   "pygments_lexer": "ipython3",
   "version": "3.7.10"
  },
  "papermill": {
   "default_parameters": {},
   "duration": 52.918412,
   "end_time": "2021-07-06T09:20:24.431139",
   "environment_variables": {},
   "exception": null,
   "input_path": "__notebook__.ipynb",
   "output_path": "__notebook__.ipynb",
   "parameters": {},
   "start_time": "2021-07-06T09:19:31.512727",
   "version": "2.3.3"
  }
 },
 "nbformat": 4,
 "nbformat_minor": 5
}
