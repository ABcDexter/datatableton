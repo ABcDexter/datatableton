{
 "cells": [
  {
   "cell_type": "markdown",
   "id": "ideal-clearing",
   "metadata": {
    "_cell_guid": "b1076dfc-b9ad-4769-8c92-a6c4dae69d19",
    "_uuid": "8f2839f25d086af736a60e9eeb907d3b93b6e0e5",
    "papermill": {
     "duration": 0.012578,
     "end_time": "2021-07-06T07:42:07.060435",
     "exception": false,
     "start_time": "2021-07-06T07:42:07.047857",
     "status": "completed"
    },
    "tags": []
   },
   "source": [
    "<center>\n",
    "    <h1>DatatableTon</h1>\n",
    "    💯 datatable exercises\n",
    "    <br>\n",
    "    <br>\n",
    "    <a href='https://github.com/vopani/datatableton/blob/master/LICENSE'>\n",
    "        <img src='https://img.shields.io/badge/license-Apache%202.0-blue.svg?logo=apache'>\n",
    "    </a>\n",
    "    <a href='https://github.com/vopani/datatableton'>\n",
    "        <img src='https://img.shields.io/github/stars/vopani/datatableton?color=yellowgreen&logo=github'>\n",
    "    </a>\n",
    "    <a href='https://twitter.com/vopani'>\n",
    "        <img src='https://img.shields.io/twitter/follow/vopani'>\n",
    "    </a>\n",
    "</center>"
   ]
  },
  {
   "cell_type": "markdown",
   "id": "sound-running",
   "metadata": {
    "papermill": {
     "duration": 0.011805,
     "end_time": "2021-07-06T07:42:07.084154",
     "exception": false,
     "start_time": "2021-07-06T07:42:07.072349",
     "status": "completed"
    },
    "tags": []
   },
   "source": [
    "<center>\n",
    "    This is Set 1: Datatable Introduction (Exercises 1-10) of <b>DatatableTon</b>: <i>💯 datatable exercises</i>\n",
    "    <br>\n",
    "    You can find all the exercises and solutions on <a href=\"https://github.com/vopani/datatableton#exercises-\">GitHub</a>\n",
    "</center>"
   ]
  },
  {
   "cell_type": "markdown",
   "id": "every-relevance",
   "metadata": {
    "papermill": {
     "duration": 0.011476,
     "end_time": "2021-07-06T07:42:07.107320",
     "exception": false,
     "start_time": "2021-07-06T07:42:07.095844",
     "status": "completed"
    },
    "tags": []
   },
   "source": [
    "**Exercise 1: Install the latest version of datatable**"
   ]
  },
  {
   "cell_type": "code",
   "execution_count": 1,
   "id": "constant-damage",
   "metadata": {
    "execution": {
     "iopub.execute_input": "2021-07-06T07:42:07.151750Z",
     "iopub.status.busy": "2021-07-06T07:42:07.139719Z",
     "iopub.status.idle": "2021-07-06T07:42:17.939422Z",
     "shell.execute_reply": "2021-07-06T07:42:17.938760Z",
     "shell.execute_reply.started": "2021-07-06T06:55:17.415955Z"
    },
    "papermill": {
     "duration": 10.81994,
     "end_time": "2021-07-06T07:42:17.939599",
     "exception": false,
     "start_time": "2021-07-06T07:42:07.119659",
     "status": "completed"
    },
    "tags": []
   },
   "outputs": [
    {
     "name": "stdout",
     "output_type": "stream",
     "text": [
      "Requirement already satisfied: datatable in /opt/conda/lib/python3.7/site-packages (0.11.1)\r\n",
      "Collecting datatable\r\n",
      "  Downloading datatable-1.0.0-cp37-cp37m-manylinux_2_12_x86_64.whl (96.9 MB)\r\n",
      "\u001b[K     |████████████████████████████████| 96.9 MB 140 kB/s \r\n",
      "\u001b[?25hInstalling collected packages: datatable\r\n",
      "  Attempting uninstall: datatable\r\n",
      "    Found existing installation: datatable 0.11.1\r\n",
      "    Uninstalling datatable-0.11.1:\r\n",
      "      Successfully uninstalled datatable-0.11.1\r\n",
      "Successfully installed datatable-1.0.0\r\n"
     ]
    }
   ],
   "source": [
    "!pip install datatable --upgrade"
   ]
  },
  {
   "cell_type": "markdown",
   "id": "strong-happiness",
   "metadata": {
    "papermill": {
     "duration": 0.045519,
     "end_time": "2021-07-06T07:42:18.032268",
     "exception": false,
     "start_time": "2021-07-06T07:42:17.986749",
     "status": "completed"
    },
    "tags": []
   },
   "source": [
    "**Exercise 2: Import the datatable package as `dt`**"
   ]
  },
  {
   "cell_type": "code",
   "execution_count": 2,
   "id": "opened-bermuda",
   "metadata": {
    "execution": {
     "iopub.execute_input": "2021-07-06T07:42:18.128101Z",
     "iopub.status.busy": "2021-07-06T07:42:18.127468Z",
     "iopub.status.idle": "2021-07-06T07:42:18.152301Z",
     "shell.execute_reply": "2021-07-06T07:42:18.151861Z",
     "shell.execute_reply.started": "2021-07-06T06:55:34.443195Z"
    },
    "papermill": {
     "duration": 0.075023,
     "end_time": "2021-07-06T07:42:18.152450",
     "exception": false,
     "start_time": "2021-07-06T07:42:18.077427",
     "status": "completed"
    },
    "tags": []
   },
   "outputs": [
    {
     "data": {
      "text/html": [
       "<style type='text/css'>\n",
       ".datatable table.frame { margin-bottom: 0; }\n",
       ".datatable table.frame thead { border-bottom: none; }\n",
       ".datatable table.frame tr.coltypes td {  color: #FFFFFF;  line-height: 6px;  padding: 0 0.5em;}\n",
       ".datatable .bool    { background: #DDDD99; }\n",
       ".datatable .object  { background: #565656; }\n",
       ".datatable .int     { background: #5D9E5D; }\n",
       ".datatable .float   { background: #4040CC; }\n",
       ".datatable .str     { background: #CC4040; }\n",
       ".datatable .time    { background: #40CC40; }\n",
       ".datatable .row_index {  background: var(--jp-border-color3);  border-right: 1px solid var(--jp-border-color0);  color: var(--jp-ui-font-color3);  font-size: 9px;}\n",
       ".datatable .frame tbody td { text-align: left; }\n",
       ".datatable .frame tr.coltypes .row_index {  background: var(--jp-border-color0);}\n",
       ".datatable th:nth-child(2) { padding-left: 12px; }\n",
       ".datatable .hellipsis {  color: var(--jp-cell-editor-border-color);}\n",
       ".datatable .vellipsis {  background: var(--jp-layout-color0);  color: var(--jp-cell-editor-border-color);}\n",
       ".datatable .na {  color: var(--jp-cell-editor-border-color);  font-size: 80%;}\n",
       ".datatable .sp {  opacity: 0.25;}\n",
       ".datatable .footer { font-size: 9px; }\n",
       ".datatable .frame_dimensions {  background: var(--jp-border-color3);  border-top: 1px solid var(--jp-border-color0);  color: var(--jp-ui-font-color3);  display: inline-block;  opacity: 0.6;  padding: 1px 10px 1px 5px;}\n",
       "</style>\n"
      ],
      "text/plain": [
       "<IPython.core.display.HTML object>"
      ]
     },
     "metadata": {},
     "output_type": "display_data"
    }
   ],
   "source": [
    "import datatable as dt"
   ]
  },
  {
   "cell_type": "markdown",
   "id": "early-walter",
   "metadata": {
    "papermill": {
     "duration": 0.046097,
     "end_time": "2021-07-06T07:42:18.245301",
     "exception": false,
     "start_time": "2021-07-06T07:42:18.199204",
     "status": "completed"
    },
    "tags": []
   },
   "source": [
    "**Exercise 3: Print the version of the datatable package**"
   ]
  },
  {
   "cell_type": "code",
   "execution_count": 3,
   "id": "dimensional-oxford",
   "metadata": {
    "execution": {
     "iopub.execute_input": "2021-07-06T07:42:18.343295Z",
     "iopub.status.busy": "2021-07-06T07:42:18.342496Z",
     "iopub.status.idle": "2021-07-06T07:42:18.346377Z",
     "shell.execute_reply": "2021-07-06T07:42:18.347022Z",
     "shell.execute_reply.started": "2021-07-06T06:55:34.479286Z"
    },
    "papermill": {
     "duration": 0.055248,
     "end_time": "2021-07-06T07:42:18.347438",
     "exception": false,
     "start_time": "2021-07-06T07:42:18.292190",
     "status": "completed"
    },
    "tags": []
   },
   "outputs": [
    {
     "name": "stdout",
     "output_type": "stream",
     "text": [
      "1.0.0\n"
     ]
    }
   ],
   "source": [
    "print(dt.__version__)"
   ]
  },
  {
   "cell_type": "markdown",
   "id": "massive-patio",
   "metadata": {
    "papermill": {
     "duration": 0.045733,
     "end_time": "2021-07-06T07:42:18.439298",
     "exception": false,
     "start_time": "2021-07-06T07:42:18.393565",
     "status": "completed"
    },
    "tags": []
   },
   "source": [
    "**Exercise 4: Create an empty datatable frame and assign it to `data`**"
   ]
  },
  {
   "cell_type": "code",
   "execution_count": 4,
   "id": "fleet-buying",
   "metadata": {
    "execution": {
     "iopub.execute_input": "2021-07-06T07:42:18.538848Z",
     "iopub.status.busy": "2021-07-06T07:42:18.537895Z",
     "iopub.status.idle": "2021-07-06T07:42:18.541150Z",
     "shell.execute_reply": "2021-07-06T07:42:18.540603Z",
     "shell.execute_reply.started": "2021-07-06T06:55:34.486231Z"
    },
    "papermill": {
     "duration": 0.055921,
     "end_time": "2021-07-06T07:42:18.541274",
     "exception": false,
     "start_time": "2021-07-06T07:42:18.485353",
     "status": "completed"
    },
    "tags": []
   },
   "outputs": [],
   "source": [
    "data = dt.Frame()"
   ]
  },
  {
   "cell_type": "markdown",
   "id": "other-belle",
   "metadata": {
    "papermill": {
     "duration": 0.044463,
     "end_time": "2021-07-06T07:42:18.631171",
     "exception": false,
     "start_time": "2021-07-06T07:42:18.586708",
     "status": "completed"
    },
    "tags": []
   },
   "source": [
    "**Exercise 5: Create a frame with a column `v1` with integer values from 0 to 9, a column `v2` with values ['A', 'C', 'C', 'A', 'C', 'B', 'A', 'B', 'C', 'B'] and assign it to `data`**"
   ]
  },
  {
   "cell_type": "code",
   "execution_count": 5,
   "id": "divided-composite",
   "metadata": {
    "execution": {
     "iopub.execute_input": "2021-07-06T07:42:18.726260Z",
     "iopub.status.busy": "2021-07-06T07:42:18.725288Z",
     "iopub.status.idle": "2021-07-06T07:42:18.728278Z",
     "shell.execute_reply": "2021-07-06T07:42:18.728714Z",
     "shell.execute_reply.started": "2021-07-06T07:02:59.472206Z"
    },
    "papermill": {
     "duration": 0.052975,
     "end_time": "2021-07-06T07:42:18.728894",
     "exception": false,
     "start_time": "2021-07-06T07:42:18.675919",
     "status": "completed"
    },
    "tags": []
   },
   "outputs": [],
   "source": [
    "data = dt.Frame(v1=range(10), v2=['A', 'C', 'C', 'A', 'C', 'B', 'A', 'B', 'C', 'B'])"
   ]
  },
  {
   "cell_type": "markdown",
   "id": "polished-twelve",
   "metadata": {
    "papermill": {
     "duration": 0.045613,
     "end_time": "2021-07-06T07:42:18.819705",
     "exception": false,
     "start_time": "2021-07-06T07:42:18.774092",
     "status": "completed"
    },
    "tags": []
   },
   "source": [
    "**Exercise 6: Display `data`**"
   ]
  },
  {
   "cell_type": "code",
   "execution_count": 6,
   "id": "spoken-significance",
   "metadata": {
    "execution": {
     "iopub.execute_input": "2021-07-06T07:42:18.913413Z",
     "iopub.status.busy": "2021-07-06T07:42:18.912871Z",
     "iopub.status.idle": "2021-07-06T07:42:18.916908Z",
     "shell.execute_reply": "2021-07-06T07:42:18.916409Z",
     "shell.execute_reply.started": "2021-07-06T07:03:01.037694Z"
    },
    "papermill": {
     "duration": 0.052814,
     "end_time": "2021-07-06T07:42:18.917036",
     "exception": false,
     "start_time": "2021-07-06T07:42:18.864222",
     "status": "completed"
    },
    "tags": []
   },
   "outputs": [
    {
     "data": {
      "text/html": [
       "<div class='datatable'>\n",
       "  <table class='frame'>\n",
       "  <thead>\n",
       "    <tr class='colnames'><td class='row_index'></td><th>v1</th><th>v2</th></tr>\n",
       "    <tr class='coltypes'><td class='row_index'></td><td class='int' title='int32'>&#x25AA;&#x25AA;&#x25AA;&#x25AA;</td><td class='str' title='str32'>&#x25AA;&#x25AA;&#x25AA;&#x25AA;</td></tr>\n",
       "  </thead>\n",
       "  <tbody>\n",
       "    <tr><td class='row_index'>0</td><td>0</td><td>A</td></tr>\n",
       "    <tr><td class='row_index'>1</td><td>1</td><td>C</td></tr>\n",
       "    <tr><td class='row_index'>2</td><td>2</td><td>C</td></tr>\n",
       "    <tr><td class='row_index'>3</td><td>3</td><td>A</td></tr>\n",
       "    <tr><td class='row_index'>4</td><td>4</td><td>C</td></tr>\n",
       "    <tr><td class='row_index'>5</td><td>5</td><td>B</td></tr>\n",
       "    <tr><td class='row_index'>6</td><td>6</td><td>A</td></tr>\n",
       "    <tr><td class='row_index'>7</td><td>7</td><td>B</td></tr>\n",
       "    <tr><td class='row_index'>8</td><td>8</td><td>C</td></tr>\n",
       "    <tr><td class='row_index'>9</td><td>9</td><td>B</td></tr>\n",
       "  </tbody>\n",
       "  </table>\n",
       "  <div class='footer'>\n",
       "    <div class='frame_dimensions'>10 rows &times; 2 columns</div>\n",
       "  </div>\n",
       "</div>\n"
      ],
      "text/plain": [
       "<Frame#7f0c847cd780 10x2>"
      ]
     },
     "execution_count": 6,
     "metadata": {},
     "output_type": "execute_result"
    }
   ],
   "source": [
    "data"
   ]
  },
  {
   "cell_type": "markdown",
   "id": "modular-notification",
   "metadata": {
    "papermill": {
     "duration": 0.046044,
     "end_time": "2021-07-06T07:42:19.009034",
     "exception": false,
     "start_time": "2021-07-06T07:42:18.962990",
     "status": "completed"
    },
    "tags": []
   },
   "source": [
    "**Exercise 7: Display the first 5 rows and the last 3 rows of `data`**"
   ]
  },
  {
   "cell_type": "code",
   "execution_count": 7,
   "id": "interim-apple",
   "metadata": {
    "execution": {
     "iopub.execute_input": "2021-07-06T07:42:19.104729Z",
     "iopub.status.busy": "2021-07-06T07:42:19.104090Z",
     "iopub.status.idle": "2021-07-06T07:42:19.107390Z",
     "shell.execute_reply": "2021-07-06T07:42:19.106873Z",
     "shell.execute_reply.started": "2021-07-06T07:03:04.153601Z"
    },
    "papermill": {
     "duration": 0.052371,
     "end_time": "2021-07-06T07:42:19.107527",
     "exception": false,
     "start_time": "2021-07-06T07:42:19.055156",
     "status": "completed"
    },
    "tags": []
   },
   "outputs": [
    {
     "data": {
      "text/html": [
       "<div class='datatable'>\n",
       "  <table class='frame'>\n",
       "  <thead>\n",
       "    <tr class='colnames'><td class='row_index'></td><th>v1</th><th>v2</th></tr>\n",
       "    <tr class='coltypes'><td class='row_index'></td><td class='int' title='int32'>&#x25AA;&#x25AA;&#x25AA;&#x25AA;</td><td class='str' title='str32'>&#x25AA;&#x25AA;&#x25AA;&#x25AA;</td></tr>\n",
       "  </thead>\n",
       "  <tbody>\n",
       "    <tr><td class='row_index'>0</td><td>0</td><td>A</td></tr>\n",
       "    <tr><td class='row_index'>1</td><td>1</td><td>C</td></tr>\n",
       "    <tr><td class='row_index'>2</td><td>2</td><td>C</td></tr>\n",
       "    <tr><td class='row_index'>3</td><td>3</td><td>A</td></tr>\n",
       "    <tr><td class='row_index'>4</td><td>4</td><td>C</td></tr>\n",
       "  </tbody>\n",
       "  </table>\n",
       "  <div class='footer'>\n",
       "    <div class='frame_dimensions'>5 rows &times; 2 columns</div>\n",
       "  </div>\n",
       "</div>\n"
      ],
      "text/plain": [
       "<Frame#7f0c847cd750 5x2>"
      ]
     },
     "execution_count": 7,
     "metadata": {},
     "output_type": "execute_result"
    }
   ],
   "source": [
    "data.head(5)"
   ]
  },
  {
   "cell_type": "code",
   "execution_count": 8,
   "id": "endangered-pillow",
   "metadata": {
    "execution": {
     "iopub.execute_input": "2021-07-06T07:42:19.202548Z",
     "iopub.status.busy": "2021-07-06T07:42:19.201936Z",
     "iopub.status.idle": "2021-07-06T07:42:19.205978Z",
     "shell.execute_reply": "2021-07-06T07:42:19.205397Z",
     "shell.execute_reply.started": "2021-07-06T07:03:05.022659Z"
    },
    "papermill": {
     "duration": 0.053732,
     "end_time": "2021-07-06T07:42:19.206108",
     "exception": false,
     "start_time": "2021-07-06T07:42:19.152376",
     "status": "completed"
    },
    "tags": []
   },
   "outputs": [
    {
     "data": {
      "text/html": [
       "<div class='datatable'>\n",
       "  <table class='frame'>\n",
       "  <thead>\n",
       "    <tr class='colnames'><td class='row_index'></td><th>v1</th><th>v2</th></tr>\n",
       "    <tr class='coltypes'><td class='row_index'></td><td class='int' title='int32'>&#x25AA;&#x25AA;&#x25AA;&#x25AA;</td><td class='str' title='str32'>&#x25AA;&#x25AA;&#x25AA;&#x25AA;</td></tr>\n",
       "  </thead>\n",
       "  <tbody>\n",
       "    <tr><td class='row_index'>0</td><td>7</td><td>B</td></tr>\n",
       "    <tr><td class='row_index'>1</td><td>8</td><td>C</td></tr>\n",
       "    <tr><td class='row_index'>2</td><td>9</td><td>B</td></tr>\n",
       "  </tbody>\n",
       "  </table>\n",
       "  <div class='footer'>\n",
       "    <div class='frame_dimensions'>3 rows &times; 2 columns</div>\n",
       "  </div>\n",
       "</div>\n"
      ],
      "text/plain": [
       "<Frame#7f0c847cd810 3x2>"
      ]
     },
     "execution_count": 8,
     "metadata": {},
     "output_type": "execute_result"
    }
   ],
   "source": [
    "data.tail(3)"
   ]
  },
  {
   "cell_type": "markdown",
   "id": "grave-trade",
   "metadata": {
    "papermill": {
     "duration": 0.044925,
     "end_time": "2021-07-06T07:42:19.296404",
     "exception": false,
     "start_time": "2021-07-06T07:42:19.251479",
     "status": "completed"
    },
    "tags": []
   },
   "source": [
    "**Exercise 8: Display the number of rows and number of columns in `data`**"
   ]
  },
  {
   "cell_type": "code",
   "execution_count": 9,
   "id": "approximate-action",
   "metadata": {
    "execution": {
     "iopub.execute_input": "2021-07-06T07:42:19.390478Z",
     "iopub.status.busy": "2021-07-06T07:42:19.389954Z",
     "iopub.status.idle": "2021-07-06T07:42:19.393487Z",
     "shell.execute_reply": "2021-07-06T07:42:19.392990Z",
     "shell.execute_reply.started": "2021-07-06T07:03:07.529202Z"
    },
    "papermill": {
     "duration": 0.052119,
     "end_time": "2021-07-06T07:42:19.393629",
     "exception": false,
     "start_time": "2021-07-06T07:42:19.341510",
     "status": "completed"
    },
    "tags": []
   },
   "outputs": [
    {
     "data": {
      "text/plain": [
       "10"
      ]
     },
     "execution_count": 9,
     "metadata": {},
     "output_type": "execute_result"
    }
   ],
   "source": [
    "data.nrows"
   ]
  },
  {
   "cell_type": "code",
   "execution_count": 10,
   "id": "bulgarian-graphic",
   "metadata": {
    "execution": {
     "iopub.execute_input": "2021-07-06T07:42:19.490382Z",
     "iopub.status.busy": "2021-07-06T07:42:19.489831Z",
     "iopub.status.idle": "2021-07-06T07:42:19.492889Z",
     "shell.execute_reply": "2021-07-06T07:42:19.492431Z",
     "shell.execute_reply.started": "2021-07-06T07:03:08.103302Z"
    },
    "papermill": {
     "duration": 0.052868,
     "end_time": "2021-07-06T07:42:19.493011",
     "exception": false,
     "start_time": "2021-07-06T07:42:19.440143",
     "status": "completed"
    },
    "tags": []
   },
   "outputs": [
    {
     "data": {
      "text/plain": [
       "2"
      ]
     },
     "execution_count": 10,
     "metadata": {},
     "output_type": "execute_result"
    }
   ],
   "source": [
    "data.ncols"
   ]
  },
  {
   "cell_type": "markdown",
   "id": "responsible-indication",
   "metadata": {
    "papermill": {
     "duration": 0.060143,
     "end_time": "2021-07-06T07:42:19.607328",
     "exception": false,
     "start_time": "2021-07-06T07:42:19.547185",
     "status": "completed"
    },
    "tags": []
   },
   "source": [
    "**Exercise 9: Display the shape of `data`**"
   ]
  },
  {
   "cell_type": "code",
   "execution_count": 11,
   "id": "posted-edmonton",
   "metadata": {
    "execution": {
     "iopub.execute_input": "2021-07-06T07:42:19.705529Z",
     "iopub.status.busy": "2021-07-06T07:42:19.704960Z",
     "iopub.status.idle": "2021-07-06T07:42:19.708139Z",
     "shell.execute_reply": "2021-07-06T07:42:19.707719Z",
     "shell.execute_reply.started": "2021-07-06T07:03:09.755932Z"
    },
    "papermill": {
     "duration": 0.053413,
     "end_time": "2021-07-06T07:42:19.708276",
     "exception": false,
     "start_time": "2021-07-06T07:42:19.654863",
     "status": "completed"
    },
    "tags": []
   },
   "outputs": [
    {
     "data": {
      "text/plain": [
       "(10, 2)"
      ]
     },
     "execution_count": 11,
     "metadata": {},
     "output_type": "execute_result"
    }
   ],
   "source": [
    "data.shape"
   ]
  },
  {
   "cell_type": "markdown",
   "id": "spanish-voltage",
   "metadata": {
    "papermill": {
     "duration": 0.046213,
     "end_time": "2021-07-06T07:42:19.800827",
     "exception": false,
     "start_time": "2021-07-06T07:42:19.754614",
     "status": "completed"
    },
    "tags": []
   },
   "source": [
    "**Exercise 10: Display the column names of `data`**"
   ]
  },
  {
   "cell_type": "code",
   "execution_count": 12,
   "id": "developed-silver",
   "metadata": {
    "execution": {
     "iopub.execute_input": "2021-07-06T07:42:19.897720Z",
     "iopub.status.busy": "2021-07-06T07:42:19.897087Z",
     "iopub.status.idle": "2021-07-06T07:42:19.902838Z",
     "shell.execute_reply": "2021-07-06T07:42:19.902289Z",
     "shell.execute_reply.started": "2021-07-06T07:03:15.221534Z"
    },
    "papermill": {
     "duration": 0.055878,
     "end_time": "2021-07-06T07:42:19.902976",
     "exception": false,
     "start_time": "2021-07-06T07:42:19.847098",
     "status": "completed"
    },
    "tags": []
   },
   "outputs": [
    {
     "data": {
      "text/plain": [
       "('v1', 'v2')"
      ]
     },
     "execution_count": 12,
     "metadata": {},
     "output_type": "execute_result"
    }
   ],
   "source": [
    "data.names"
   ]
  }
 ],
 "metadata": {
  "kernelspec": {
   "display_name": "Python 3",
   "language": "python",
   "name": "python3"
  },
  "language_info": {
   "codemirror_mode": {
    "name": "ipython",
    "version": 3
   },
   "file_extension": ".py",
   "mimetype": "text/x-python",
   "name": "python",
   "nbconvert_exporter": "python",
   "pygments_lexer": "ipython3",
   "version": "3.7.10"
  },
  "papermill": {
   "default_parameters": {},
   "duration": 20.708894,
   "end_time": "2021-07-06T07:42:20.660063",
   "environment_variables": {},
   "exception": null,
   "input_path": "__notebook__.ipynb",
   "output_path": "__notebook__.ipynb",
   "parameters": {},
   "start_time": "2021-07-06T07:41:59.951169",
   "version": "2.3.3"
  }
 },
 "nbformat": 4,
 "nbformat_minor": 5
}
