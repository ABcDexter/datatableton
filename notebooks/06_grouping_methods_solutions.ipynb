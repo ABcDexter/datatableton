{
 "cells": [
  {
   "cell_type": "markdown",
   "id": "c750acd5",
   "metadata": {
    "_cell_guid": "b1076dfc-b9ad-4769-8c92-a6c4dae69d19",
    "_uuid": "8f2839f25d086af736a60e9eeb907d3b93b6e0e5",
    "papermill": {
     "duration": 0.018362,
     "end_time": "2021-07-18T20:04:05.681123",
     "exception": false,
     "start_time": "2021-07-18T20:04:05.662761",
     "status": "completed"
    },
    "tags": []
   },
   "source": [
    "<center>\n",
    "    <h1>DatatableTon</h1>\n",
    "    💯 datatable exercises\n",
    "    <br>\n",
    "    <br>\n",
    "    <a href='https://github.com/vopani/datatableton/blob/master/LICENSE'>\n",
    "        <img src='https://img.shields.io/badge/license-Apache%202.0-blue.svg?logo=apache'>\n",
    "    </a>\n",
    "    <a href='https://github.com/vopani/datatableton'>\n",
    "        <img src='https://img.shields.io/github/stars/vopani/datatableton?color=yellowgreen&logo=github'>\n",
    "    </a>\n",
    "    <a href='https://twitter.com/vopani'>\n",
    "        <img src='https://img.shields.io/twitter/follow/vopani'>\n",
    "    </a>\n",
    "</center>"
   ]
  },
  {
   "cell_type": "markdown",
   "id": "325edb5e",
   "metadata": {
    "papermill": {
     "duration": 0.016618,
     "end_time": "2021-07-18T20:04:05.715565",
     "exception": false,
     "start_time": "2021-07-18T20:04:05.698947",
     "status": "completed"
    },
    "tags": []
   },
   "source": [
    "<center>\n",
    "    This is Set 6: Grouping Methods (Exercises 51-60) of <b>DatatableTon</b>: <i>💯 datatable exercises</i>\n",
    "    <br>\n",
    "    You can find all the exercises and solutions on <a href=\"https://github.com/vopani/datatableton#exercises-\">GitHub</a>\n",
    "</center>"
   ]
  },
  {
   "cell_type": "markdown",
   "id": "4f0d2e63",
   "metadata": {
    "papermill": {
     "duration": 0.016427,
     "end_time": "2021-07-18T20:04:05.748857",
     "exception": false,
     "start_time": "2021-07-18T20:04:05.732430",
     "status": "completed"
    },
    "tags": []
   },
   "source": [
    "**Prerequisites**\n",
    "* The `datatable` package should be upgraded to the latest version (or v1.0.0+).\n",
    "* The sample dataset [penguins](https://github.com/mwaskom/seaborn-data/blob/master/penguins.csv) from seaborn will be used for the exercises."
   ]
  },
  {
   "cell_type": "code",
   "execution_count": 1,
   "id": "eddad563",
   "metadata": {
    "_kg_hide-output": true,
    "execution": {
     "iopub.execute_input": "2021-07-18T20:04:05.786682Z",
     "iopub.status.busy": "2021-07-18T20:04:05.785504Z",
     "iopub.status.idle": "2021-07-18T20:04:46.866001Z",
     "shell.execute_reply": "2021-07-18T20:04:46.866537Z",
     "shell.execute_reply.started": "2021-07-18T20:00:47.008422Z"
    },
    "papermill": {
     "duration": 41.101224,
     "end_time": "2021-07-18T20:04:46.866869",
     "exception": false,
     "start_time": "2021-07-18T20:04:05.765645",
     "status": "completed"
    },
    "tags": []
   },
   "outputs": [
    {
     "name": "stdout",
     "output_type": "stream",
     "text": [
      "Requirement already satisfied: pip in /opt/conda/lib/python3.7/site-packages (21.1.2)\r\n",
      "Collecting pip\r\n",
      "  Downloading pip-21.1.3-py3-none-any.whl (1.5 MB)\r\n",
      "\u001b[K     |████████████████████████████████| 1.5 MB 407 kB/s \r\n",
      "\u001b[?25hInstalling collected packages: pip\r\n",
      "  Attempting uninstall: pip\r\n",
      "    Found existing installation: pip 21.1.2\r\n",
      "    Uninstalling pip-21.1.2:\r\n",
      "      Successfully uninstalled pip-21.1.2\r\n",
      "Successfully installed pip-21.1.3\r\n",
      "\u001b[33mWARNING: Running pip as root will break packages and permissions. You should install packages reliably by using venv: https://pip.pypa.io/warnings/venv\u001b[0m\r\n",
      "Requirement already satisfied: datatable in /opt/conda/lib/python3.7/site-packages (1.0.0)\r\n",
      "\u001b[33mWARNING: Running pip as the 'root' user can result in broken permissions and conflicting behaviour with the system package manager. It is recommended to use a virtual environment instead: https://pip.pypa.io/warnings/venv\u001b[0m\r\n",
      "Requirement already satisfied: seaborn in /opt/conda/lib/python3.7/site-packages (0.11.1)\r\n",
      "Requirement already satisfied: matplotlib>=2.2 in /opt/conda/lib/python3.7/site-packages (from seaborn) (3.4.2)\r\n",
      "Requirement already satisfied: numpy>=1.15 in /opt/conda/lib/python3.7/site-packages (from seaborn) (1.19.5)\r\n",
      "Requirement already satisfied: scipy>=1.0 in /opt/conda/lib/python3.7/site-packages (from seaborn) (1.6.3)\r\n",
      "Requirement already satisfied: pandas>=0.23 in /opt/conda/lib/python3.7/site-packages (from seaborn) (1.2.4)\r\n",
      "Requirement already satisfied: pillow>=6.2.0 in /opt/conda/lib/python3.7/site-packages (from matplotlib>=2.2->seaborn) (8.2.0)\r\n",
      "Requirement already satisfied: python-dateutil>=2.7 in /opt/conda/lib/python3.7/site-packages (from matplotlib>=2.2->seaborn) (2.8.1)\r\n",
      "Requirement already satisfied: cycler>=0.10 in /opt/conda/lib/python3.7/site-packages (from matplotlib>=2.2->seaborn) (0.10.0)\r\n",
      "Requirement already satisfied: kiwisolver>=1.0.1 in /opt/conda/lib/python3.7/site-packages (from matplotlib>=2.2->seaborn) (1.3.1)\r\n",
      "Requirement already satisfied: pyparsing>=2.2.1 in /opt/conda/lib/python3.7/site-packages (from matplotlib>=2.2->seaborn) (2.4.7)\r\n",
      "Requirement already satisfied: six in /opt/conda/lib/python3.7/site-packages (from cycler>=0.10->matplotlib>=2.2->seaborn) (1.15.0)\r\n",
      "Requirement already satisfied: pytz>=2017.3 in /opt/conda/lib/python3.7/site-packages (from pandas>=0.23->seaborn) (2021.1)\r\n",
      "\u001b[33mWARNING: Running pip as the 'root' user can result in broken permissions and conflicting behaviour with the system package manager. It is recommended to use a virtual environment instead: https://pip.pypa.io/warnings/venv\u001b[0m\r\n"
     ]
    }
   ],
   "source": [
    "!python3 -m pip install -U pip\n",
    "!python3 -m pip install -U datatable\n",
    "!python3 -m pip install seaborn"
   ]
  },
  {
   "cell_type": "code",
   "execution_count": 2,
   "id": "ba85595d",
   "metadata": {
    "execution": {
     "iopub.execute_input": "2021-07-18T20:04:46.924263Z",
     "iopub.status.busy": "2021-07-18T20:04:46.923505Z",
     "iopub.status.idle": "2021-07-18T20:04:50.174500Z",
     "shell.execute_reply": "2021-07-18T20:04:50.173951Z",
     "shell.execute_reply.started": "2021-07-18T20:01:27.079101Z"
    },
    "papermill": {
     "duration": 3.281999,
     "end_time": "2021-07-18T20:04:50.174648",
     "exception": false,
     "start_time": "2021-07-18T20:04:46.892649",
     "status": "completed"
    },
    "tags": []
   },
   "outputs": [
    {
     "data": {
      "text/html": [
       "<style type='text/css'>\n",
       ".datatable table.frame { margin-bottom: 0; }\n",
       ".datatable table.frame thead { border-bottom: none; }\n",
       ".datatable table.frame tr.coltypes td {  color: #FFFFFF;  line-height: 6px;  padding: 0 0.5em;}\n",
       ".datatable .bool    { background: #DDDD99; }\n",
       ".datatable .object  { background: #565656; }\n",
       ".datatable .int     { background: #5D9E5D; }\n",
       ".datatable .float   { background: #4040CC; }\n",
       ".datatable .str     { background: #CC4040; }\n",
       ".datatable .time    { background: #40CC40; }\n",
       ".datatable .row_index {  background: var(--jp-border-color3);  border-right: 1px solid var(--jp-border-color0);  color: var(--jp-ui-font-color3);  font-size: 9px;}\n",
       ".datatable .frame tbody td { text-align: left; }\n",
       ".datatable .frame tr.coltypes .row_index {  background: var(--jp-border-color0);}\n",
       ".datatable th:nth-child(2) { padding-left: 12px; }\n",
       ".datatable .hellipsis {  color: var(--jp-cell-editor-border-color);}\n",
       ".datatable .vellipsis {  background: var(--jp-layout-color0);  color: var(--jp-cell-editor-border-color);}\n",
       ".datatable .na {  color: var(--jp-cell-editor-border-color);  font-size: 80%;}\n",
       ".datatable .sp {  opacity: 0.25;}\n",
       ".datatable .footer { font-size: 9px; }\n",
       ".datatable .frame_dimensions {  background: var(--jp-border-color3);  border-top: 1px solid var(--jp-border-color0);  color: var(--jp-ui-font-color3);  display: inline-block;  opacity: 0.6;  padding: 1px 10px 1px 5px;}\n",
       "</style>\n"
      ],
      "text/plain": [
       "<IPython.core.display.HTML object>"
      ]
     },
     "metadata": {},
     "output_type": "display_data"
    },
    {
     "data": {
      "text/html": [
       "<div class='datatable'>\n",
       "  <table class='frame'>\n",
       "  <thead>\n",
       "    <tr class='colnames'><td class='row_index'></td><th>species</th><th>island</th><th>bill_length_mm</th><th>bill_depth_mm</th><th>flipper_length_mm</th><th>body_mass_g</th><th>sex</th></tr>\n",
       "    <tr class='coltypes'><td class='row_index'></td><td class='str' title='str32'>&#x25AA;&#x25AA;&#x25AA;&#x25AA;</td><td class='str' title='str32'>&#x25AA;&#x25AA;&#x25AA;&#x25AA;</td><td class='float' title='float64'>&#x25AA;&#x25AA;&#x25AA;&#x25AA;&#x25AA;&#x25AA;&#x25AA;&#x25AA;</td><td class='float' title='float64'>&#x25AA;&#x25AA;&#x25AA;&#x25AA;&#x25AA;&#x25AA;&#x25AA;&#x25AA;</td><td class='float' title='float64'>&#x25AA;&#x25AA;&#x25AA;&#x25AA;&#x25AA;&#x25AA;&#x25AA;&#x25AA;</td><td class='float' title='float64'>&#x25AA;&#x25AA;&#x25AA;&#x25AA;&#x25AA;&#x25AA;&#x25AA;&#x25AA;</td><td class='str' title='str32'>&#x25AA;&#x25AA;&#x25AA;&#x25AA;</td></tr>\n",
       "  </thead>\n",
       "  <tbody>\n",
       "    <tr><td class='row_index'>0</td><td>Adelie</td><td>Torgersen</td><td>39.1</td><td>18.7</td><td>181</td><td>3750</td><td>Male</td></tr>\n",
       "    <tr><td class='row_index'>1</td><td>Adelie</td><td>Torgersen</td><td>39.5</td><td>17.4</td><td>186</td><td>3800</td><td>Female</td></tr>\n",
       "    <tr><td class='row_index'>2</td><td>Adelie</td><td>Torgersen</td><td>40.3</td><td>18</td><td>195</td><td>3250</td><td>Female</td></tr>\n",
       "    <tr><td class='row_index'>3</td><td>Adelie</td><td>Torgersen</td><td><span class=na>NA</span></td><td><span class=na>NA</span></td><td><span class=na>NA</span></td><td><span class=na>NA</span></td><td><span class=na>NA</span></td></tr>\n",
       "    <tr><td class='row_index'>4</td><td>Adelie</td><td>Torgersen</td><td>36.7</td><td>19.3</td><td>193</td><td>3450</td><td>Female</td></tr>\n",
       "    <tr><td class='row_index'>5</td><td>Adelie</td><td>Torgersen</td><td>39.3</td><td>20.6</td><td>190</td><td>3650</td><td>Male</td></tr>\n",
       "    <tr><td class='row_index'>6</td><td>Adelie</td><td>Torgersen</td><td>38.9</td><td>17.8</td><td>181</td><td>3625</td><td>Female</td></tr>\n",
       "    <tr><td class='row_index'>7</td><td>Adelie</td><td>Torgersen</td><td>39.2</td><td>19.6</td><td>195</td><td>4675</td><td>Male</td></tr>\n",
       "    <tr><td class='row_index'>8</td><td>Adelie</td><td>Torgersen</td><td>34.1</td><td>18.1</td><td>193</td><td>3475</td><td><span class=na>NA</span></td></tr>\n",
       "    <tr><td class='row_index'>9</td><td>Adelie</td><td>Torgersen</td><td>42</td><td>20.2</td><td>190</td><td>4250</td><td><span class=na>NA</span></td></tr>\n",
       "    <tr><td class='row_index'>10</td><td>Adelie</td><td>Torgersen</td><td>37.8</td><td>17.1</td><td>186</td><td>3300</td><td><span class=na>NA</span></td></tr>\n",
       "    <tr><td class='row_index'>11</td><td>Adelie</td><td>Torgersen</td><td>37.8</td><td>17.3</td><td>180</td><td>3700</td><td><span class=na>NA</span></td></tr>\n",
       "    <tr><td class='row_index'>12</td><td>Adelie</td><td>Torgersen</td><td>41.1</td><td>17.6</td><td>182</td><td>3200</td><td>Female</td></tr>\n",
       "    <tr><td class='row_index'>13</td><td>Adelie</td><td>Torgersen</td><td>38.6</td><td>21.2</td><td>191</td><td>3800</td><td>Male</td></tr>\n",
       "    <tr><td class='row_index'>14</td><td>Adelie</td><td>Torgersen</td><td>34.6</td><td>21.1</td><td>198</td><td>4400</td><td>Male</td></tr>\n",
       "    <tr><td class='row_index'>&#x22EE;</td><td class='hellipsis'>&#x22EE;</td><td class='hellipsis'>&#x22EE;</td><td class='hellipsis'>&#x22EE;</td><td class='hellipsis'>&#x22EE;</td><td class='hellipsis'>&#x22EE;</td><td class='hellipsis'>&#x22EE;</td><td class='hellipsis'>&#x22EE;</td></tr>\n",
       "    <tr><td class='row_index'>339</td><td>Gentoo</td><td>Biscoe</td><td><span class=na>NA</span></td><td><span class=na>NA</span></td><td><span class=na>NA</span></td><td><span class=na>NA</span></td><td><span class=na>NA</span></td></tr>\n",
       "    <tr><td class='row_index'>340</td><td>Gentoo</td><td>Biscoe</td><td>46.8</td><td>14.3</td><td>215</td><td>4850</td><td>Female</td></tr>\n",
       "    <tr><td class='row_index'>341</td><td>Gentoo</td><td>Biscoe</td><td>50.4</td><td>15.7</td><td>222</td><td>5750</td><td>Male</td></tr>\n",
       "    <tr><td class='row_index'>342</td><td>Gentoo</td><td>Biscoe</td><td>45.2</td><td>14.8</td><td>212</td><td>5200</td><td>Female</td></tr>\n",
       "    <tr><td class='row_index'>343</td><td>Gentoo</td><td>Biscoe</td><td>49.9</td><td>16.1</td><td>213</td><td>5400</td><td>Male</td></tr>\n",
       "  </tbody>\n",
       "  </table>\n",
       "  <div class='footer'>\n",
       "    <div class='frame_dimensions'>344 rows &times; 7 columns</div>\n",
       "  </div>\n",
       "</div>\n"
      ],
      "text/plain": [
       "<Frame#7f24c7e627b0 344x7>"
      ]
     },
     "execution_count": 2,
     "metadata": {},
     "output_type": "execute_result"
    }
   ],
   "source": [
    "import datatable as dt\n",
    "from seaborn import load_dataset\n",
    "\n",
    "data = dt.Frame(load_dataset('penguins'))\n",
    "data.replace('NA', None)\n",
    "data"
   ]
  },
  {
   "cell_type": "markdown",
   "id": "a54ad9f0",
   "metadata": {
    "papermill": {
     "duration": 0.027082,
     "end_time": "2021-07-18T20:04:50.229154",
     "exception": false,
     "start_time": "2021-07-18T20:04:50.202072",
     "status": "completed"
    },
    "tags": []
   },
   "source": [
    "**Exercise 51: Calculate the number of rows of each `species` in `data`**"
   ]
  },
  {
   "cell_type": "code",
   "execution_count": 3,
   "id": "a63bd752",
   "metadata": {
    "execution": {
     "iopub.execute_input": "2021-07-18T20:04:50.291777Z",
     "iopub.status.busy": "2021-07-18T20:04:50.290998Z",
     "iopub.status.idle": "2021-07-18T20:04:50.295172Z",
     "shell.execute_reply": "2021-07-18T20:04:50.296065Z",
     "shell.execute_reply.started": "2021-07-18T20:01:44.026272Z"
    },
    "papermill": {
     "duration": 0.039926,
     "end_time": "2021-07-18T20:04:50.296279",
     "exception": false,
     "start_time": "2021-07-18T20:04:50.256353",
     "status": "completed"
    },
    "tags": []
   },
   "outputs": [
    {
     "data": {
      "text/html": [
       "<div class='datatable'>\n",
       "  <table class='frame'>\n",
       "  <thead>\n",
       "    <tr class='colnames'><td class='row_index'></td><th>species</th><th>count</th></tr>\n",
       "    <tr class='coltypes'><td class='row_index'></td><td class='str' title='str32'>&#x25AA;&#x25AA;&#x25AA;&#x25AA;</td><td class='int' title='int64'>&#x25AA;&#x25AA;&#x25AA;&#x25AA;&#x25AA;&#x25AA;&#x25AA;&#x25AA;</td></tr>\n",
       "  </thead>\n",
       "  <tbody>\n",
       "    <tr><td class='row_index'>0</td><td>Adelie</td><td>152</td></tr>\n",
       "    <tr><td class='row_index'>1</td><td>Chinstrap</td><td>68</td></tr>\n",
       "    <tr><td class='row_index'>2</td><td>Gentoo</td><td>124</td></tr>\n",
       "  </tbody>\n",
       "  </table>\n",
       "  <div class='footer'>\n",
       "    <div class='frame_dimensions'>3 rows &times; 2 columns</div>\n",
       "  </div>\n",
       "</div>\n"
      ],
      "text/plain": [
       "<Frame#7f24d434a330 3x2>"
      ]
     },
     "execution_count": 3,
     "metadata": {},
     "output_type": "execute_result"
    }
   ],
   "source": [
    "data[:, dt.count(), dt.by(dt.f.species)]"
   ]
  },
  {
   "cell_type": "markdown",
   "id": "01278763",
   "metadata": {
    "papermill": {
     "duration": 0.02979,
     "end_time": "2021-07-18T20:04:50.360123",
     "exception": false,
     "start_time": "2021-07-18T20:04:50.330333",
     "status": "completed"
    },
    "tags": []
   },
   "source": [
    "**Exercise 52: Calculate the sum of `body_mass_g` by `island` in `data`**"
   ]
  },
  {
   "cell_type": "code",
   "execution_count": 4,
   "id": "ea611d49",
   "metadata": {
    "execution": {
     "iopub.execute_input": "2021-07-18T20:04:50.426347Z",
     "iopub.status.busy": "2021-07-18T20:04:50.425613Z",
     "iopub.status.idle": "2021-07-18T20:04:50.430156Z",
     "shell.execute_reply": "2021-07-18T20:04:50.430685Z",
     "shell.execute_reply.started": "2021-07-18T20:01:51.192248Z"
    },
    "papermill": {
     "duration": 0.043154,
     "end_time": "2021-07-18T20:04:50.430882",
     "exception": false,
     "start_time": "2021-07-18T20:04:50.387728",
     "status": "completed"
    },
    "tags": []
   },
   "outputs": [
    {
     "data": {
      "text/html": [
       "<div class='datatable'>\n",
       "  <table class='frame'>\n",
       "  <thead>\n",
       "    <tr class='colnames'><td class='row_index'></td><th>island</th><th>body_mass_g</th></tr>\n",
       "    <tr class='coltypes'><td class='row_index'></td><td class='str' title='str32'>&#x25AA;&#x25AA;&#x25AA;&#x25AA;</td><td class='float' title='float64'>&#x25AA;&#x25AA;&#x25AA;&#x25AA;&#x25AA;&#x25AA;&#x25AA;&#x25AA;</td></tr>\n",
       "  </thead>\n",
       "  <tbody>\n",
       "    <tr><td class='row_index'>0</td><td>Biscoe</td><td>787575</td></tr>\n",
       "    <tr><td class='row_index'>1</td><td>Dream</td><td>460400</td></tr>\n",
       "    <tr><td class='row_index'>2</td><td>Torgersen</td><td>189025</td></tr>\n",
       "  </tbody>\n",
       "  </table>\n",
       "  <div class='footer'>\n",
       "    <div class='frame_dimensions'>3 rows &times; 2 columns</div>\n",
       "  </div>\n",
       "</div>\n"
      ],
      "text/plain": [
       "<Frame#7f24d434a2a0 3x2>"
      ]
     },
     "execution_count": 4,
     "metadata": {},
     "output_type": "execute_result"
    }
   ],
   "source": [
    "data[:, dt.sum(dt.f.body_mass_g), dt.by(dt.f.island)]"
   ]
  },
  {
   "cell_type": "markdown",
   "id": "9b6fdbfb",
   "metadata": {
    "papermill": {
     "duration": 0.029788,
     "end_time": "2021-07-18T20:04:50.493920",
     "exception": false,
     "start_time": "2021-07-18T20:04:50.464132",
     "status": "completed"
    },
    "tags": []
   },
   "source": [
    "**Exercise 53: Calculate the mean of `body_mass_g` by non-null `sex` in `data`**"
   ]
  },
  {
   "cell_type": "code",
   "execution_count": 5,
   "id": "5e1047c2",
   "metadata": {
    "execution": {
     "iopub.execute_input": "2021-07-18T20:04:50.557979Z",
     "iopub.status.busy": "2021-07-18T20:04:50.557220Z",
     "iopub.status.idle": "2021-07-18T20:04:50.561759Z",
     "shell.execute_reply": "2021-07-18T20:04:50.562283Z",
     "shell.execute_reply.started": "2021-07-18T20:01:57.916365Z"
    },
    "papermill": {
     "duration": 0.041515,
     "end_time": "2021-07-18T20:04:50.562472",
     "exception": false,
     "start_time": "2021-07-18T20:04:50.520957",
     "status": "completed"
    },
    "tags": []
   },
   "outputs": [
    {
     "data": {
      "text/html": [
       "<div class='datatable'>\n",
       "  <table class='frame'>\n",
       "  <thead>\n",
       "    <tr class='colnames'><td class='row_index'></td><th>sex</th><th>body_mass_g</th></tr>\n",
       "    <tr class='coltypes'><td class='row_index'></td><td class='str' title='str32'>&#x25AA;&#x25AA;&#x25AA;&#x25AA;</td><td class='float' title='float64'>&#x25AA;&#x25AA;&#x25AA;&#x25AA;&#x25AA;&#x25AA;&#x25AA;&#x25AA;</td></tr>\n",
       "  </thead>\n",
       "  <tbody>\n",
       "    <tr><td class='row_index'>0</td><td>Female</td><td>3862.27</td></tr>\n",
       "    <tr><td class='row_index'>1</td><td>Male</td><td>4545.68</td></tr>\n",
       "  </tbody>\n",
       "  </table>\n",
       "  <div class='footer'>\n",
       "    <div class='frame_dimensions'>2 rows &times; 2 columns</div>\n",
       "  </div>\n",
       "</div>\n"
      ],
      "text/plain": [
       "<Frame#7f24c79af1e0 2x2>"
      ]
     },
     "execution_count": 5,
     "metadata": {},
     "output_type": "execute_result"
    }
   ],
   "source": [
    "data[dt.f.sex != None, :][:, dt.mean(dt.f.body_mass_g), dt.by(dt.f.sex)]"
   ]
  },
  {
   "cell_type": "markdown",
   "id": "f3c59bbb",
   "metadata": {
    "papermill": {
     "duration": 0.030164,
     "end_time": "2021-07-18T20:04:50.626440",
     "exception": false,
     "start_time": "2021-07-18T20:04:50.596276",
     "status": "completed"
    },
    "tags": []
   },
   "source": [
    "**Exercise 54: Calculate the maximum and minimum of `flipper_length_mm` together by `species` in `data`**"
   ]
  },
  {
   "cell_type": "code",
   "execution_count": 6,
   "id": "9165e971",
   "metadata": {
    "execution": {
     "iopub.execute_input": "2021-07-18T20:04:50.694272Z",
     "iopub.status.busy": "2021-07-18T20:04:50.693451Z",
     "iopub.status.idle": "2021-07-18T20:04:50.698351Z",
     "shell.execute_reply": "2021-07-18T20:04:50.698892Z",
     "shell.execute_reply.started": "2021-07-18T20:02:01.139963Z"
    },
    "papermill": {
     "duration": 0.045207,
     "end_time": "2021-07-18T20:04:50.699103",
     "exception": false,
     "start_time": "2021-07-18T20:04:50.653896",
     "status": "completed"
    },
    "tags": []
   },
   "outputs": [
    {
     "data": {
      "text/html": [
       "<div class='datatable'>\n",
       "  <table class='frame'>\n",
       "  <thead>\n",
       "    <tr class='colnames'><td class='row_index'></td><th>species</th><th>max_flipper_length</th><th>min_flipper_length</th></tr>\n",
       "    <tr class='coltypes'><td class='row_index'></td><td class='str' title='str32'>&#x25AA;&#x25AA;&#x25AA;&#x25AA;</td><td class='float' title='float64'>&#x25AA;&#x25AA;&#x25AA;&#x25AA;&#x25AA;&#x25AA;&#x25AA;&#x25AA;</td><td class='float' title='float64'>&#x25AA;&#x25AA;&#x25AA;&#x25AA;&#x25AA;&#x25AA;&#x25AA;&#x25AA;</td></tr>\n",
       "  </thead>\n",
       "  <tbody>\n",
       "    <tr><td class='row_index'>0</td><td>Adelie</td><td>210</td><td>172</td></tr>\n",
       "    <tr><td class='row_index'>1</td><td>Chinstrap</td><td>212</td><td>178</td></tr>\n",
       "    <tr><td class='row_index'>2</td><td>Gentoo</td><td>231</td><td>203</td></tr>\n",
       "  </tbody>\n",
       "  </table>\n",
       "  <div class='footer'>\n",
       "    <div class='frame_dimensions'>3 rows &times; 3 columns</div>\n",
       "  </div>\n",
       "</div>\n"
      ],
      "text/plain": [
       "<Frame#7f24c79af570 3x3>"
      ]
     },
     "execution_count": 6,
     "metadata": {},
     "output_type": "execute_result"
    }
   ],
   "source": [
    "data[:, {'max_flipper_length': dt.max(dt.f.flipper_length_mm), 'min_flipper_length': dt.min(dt.f.flipper_length_mm)}, dt.by(dt.f.species)]"
   ]
  },
  {
   "cell_type": "markdown",
   "id": "e828e476",
   "metadata": {
    "papermill": {
     "duration": 0.031093,
     "end_time": "2021-07-18T20:04:50.766834",
     "exception": false,
     "start_time": "2021-07-18T20:04:50.735741",
     "status": "completed"
    },
    "tags": []
   },
   "source": [
    "**Exercise 55: Calculate the median of `body_mass_g` by `species` and `sex` in `data`**"
   ]
  },
  {
   "cell_type": "code",
   "execution_count": 7,
   "id": "f8083e9c",
   "metadata": {
    "execution": {
     "iopub.execute_input": "2021-07-18T20:04:50.832599Z",
     "iopub.status.busy": "2021-07-18T20:04:50.831833Z",
     "iopub.status.idle": "2021-07-18T20:04:50.836428Z",
     "shell.execute_reply": "2021-07-18T20:04:50.836931Z",
     "shell.execute_reply.started": "2021-07-18T20:02:09.211297Z"
    },
    "papermill": {
     "duration": 0.041623,
     "end_time": "2021-07-18T20:04:50.837126",
     "exception": false,
     "start_time": "2021-07-18T20:04:50.795503",
     "status": "completed"
    },
    "tags": []
   },
   "outputs": [
    {
     "data": {
      "text/html": [
       "<div class='datatable'>\n",
       "  <table class='frame'>\n",
       "  <thead>\n",
       "    <tr class='colnames'><td class='row_index'></td><th>species</th><th>sex</th><th>body_mass_g</th></tr>\n",
       "    <tr class='coltypes'><td class='row_index'></td><td class='str' title='str32'>&#x25AA;&#x25AA;&#x25AA;&#x25AA;</td><td class='str' title='str32'>&#x25AA;&#x25AA;&#x25AA;&#x25AA;</td><td class='float' title='float64'>&#x25AA;&#x25AA;&#x25AA;&#x25AA;&#x25AA;&#x25AA;&#x25AA;&#x25AA;</td></tr>\n",
       "  </thead>\n",
       "  <tbody>\n",
       "    <tr><td class='row_index'>0</td><td>Adelie</td><td><span class=na>NA</span></td><td>3475</td></tr>\n",
       "    <tr><td class='row_index'>1</td><td>Adelie</td><td>Female</td><td>3400</td></tr>\n",
       "    <tr><td class='row_index'>2</td><td>Adelie</td><td>Male</td><td>4000</td></tr>\n",
       "    <tr><td class='row_index'>3</td><td>Chinstrap</td><td>Female</td><td>3550</td></tr>\n",
       "    <tr><td class='row_index'>4</td><td>Chinstrap</td><td>Male</td><td>3950</td></tr>\n",
       "    <tr><td class='row_index'>5</td><td>Gentoo</td><td><span class=na>NA</span></td><td>4687.5</td></tr>\n",
       "    <tr><td class='row_index'>6</td><td>Gentoo</td><td>Female</td><td>4700</td></tr>\n",
       "    <tr><td class='row_index'>7</td><td>Gentoo</td><td>Male</td><td>5500</td></tr>\n",
       "  </tbody>\n",
       "  </table>\n",
       "  <div class='footer'>\n",
       "    <div class='frame_dimensions'>8 rows &times; 3 columns</div>\n",
       "  </div>\n",
       "</div>\n"
      ],
      "text/plain": [
       "<Frame#7f24c79af2d0 8x3>"
      ]
     },
     "execution_count": 7,
     "metadata": {},
     "output_type": "execute_result"
    }
   ],
   "source": [
    "data[:, dt.median(dt.f.body_mass_g), dt.by([dt.f.species, dt.f.sex])]"
   ]
  },
  {
   "cell_type": "markdown",
   "id": "67554c4b",
   "metadata": {
    "papermill": {
     "duration": 0.030964,
     "end_time": "2021-07-18T20:04:50.903751",
     "exception": false,
     "start_time": "2021-07-18T20:04:50.872787",
     "status": "completed"
    },
    "tags": []
   },
   "source": [
    "**Exercise 56: Calculate the standard deviation of `bill_depth_mm` in cm instead of mm by `island` in `data`**"
   ]
  },
  {
   "cell_type": "code",
   "execution_count": 8,
   "id": "6f337557",
   "metadata": {
    "execution": {
     "iopub.execute_input": "2021-07-18T20:04:50.968839Z",
     "iopub.status.busy": "2021-07-18T20:04:50.968086Z",
     "iopub.status.idle": "2021-07-18T20:04:50.972660Z",
     "shell.execute_reply": "2021-07-18T20:04:50.973169Z",
     "shell.execute_reply.started": "2021-07-18T20:02:15.324200Z"
    },
    "papermill": {
     "duration": 0.041265,
     "end_time": "2021-07-18T20:04:50.973376",
     "exception": false,
     "start_time": "2021-07-18T20:04:50.932111",
     "status": "completed"
    },
    "tags": []
   },
   "outputs": [
    {
     "data": {
      "text/html": [
       "<div class='datatable'>\n",
       "  <table class='frame'>\n",
       "  <thead>\n",
       "    <tr class='colnames'><td class='row_index'></td><th>island</th><th>C0</th></tr>\n",
       "    <tr class='coltypes'><td class='row_index'></td><td class='str' title='str32'>&#x25AA;&#x25AA;&#x25AA;&#x25AA;</td><td class='float' title='float64'>&#x25AA;&#x25AA;&#x25AA;&#x25AA;&#x25AA;&#x25AA;&#x25AA;&#x25AA;</td></tr>\n",
       "  </thead>\n",
       "  <tbody>\n",
       "    <tr><td class='row_index'>0</td><td>Biscoe</td><td>0.182072</td></tr>\n",
       "    <tr><td class='row_index'>1</td><td>Dream</td><td>0.113312</td></tr>\n",
       "    <tr><td class='row_index'>2</td><td>Torgersen</td><td>0.133945</td></tr>\n",
       "  </tbody>\n",
       "  </table>\n",
       "  <div class='footer'>\n",
       "    <div class='frame_dimensions'>3 rows &times; 2 columns</div>\n",
       "  </div>\n",
       "</div>\n"
      ],
      "text/plain": [
       "<Frame#7f24c79af210 3x2>"
      ]
     },
     "execution_count": 8,
     "metadata": {},
     "output_type": "execute_result"
    }
   ],
   "source": [
    "data[:, dt.sd(dt.f.bill_depth_mm / 10), dt.by(dt.f.island)]"
   ]
  },
  {
   "cell_type": "markdown",
   "id": "4ccc1767",
   "metadata": {
    "papermill": {
     "duration": 0.031496,
     "end_time": "2021-07-18T20:04:51.040838",
     "exception": false,
     "start_time": "2021-07-18T20:04:51.009342",
     "status": "completed"
    },
    "tags": []
   },
   "source": [
    "**Exercise 57: Calculate the covariance between `flipper_length_mm` and `body_mass_g` by `species` and `island` in `data`**"
   ]
  },
  {
   "cell_type": "code",
   "execution_count": 9,
   "id": "2830f257",
   "metadata": {
    "execution": {
     "iopub.execute_input": "2021-07-18T20:04:51.108407Z",
     "iopub.status.busy": "2021-07-18T20:04:51.107661Z",
     "iopub.status.idle": "2021-07-18T20:04:51.112348Z",
     "shell.execute_reply": "2021-07-18T20:04:51.112858Z",
     "shell.execute_reply.started": "2021-07-18T20:02:26.850979Z"
    },
    "papermill": {
     "duration": 0.042853,
     "end_time": "2021-07-18T20:04:51.113052",
     "exception": false,
     "start_time": "2021-07-18T20:04:51.070199",
     "status": "completed"
    },
    "tags": []
   },
   "outputs": [
    {
     "data": {
      "text/html": [
       "<div class='datatable'>\n",
       "  <table class='frame'>\n",
       "  <thead>\n",
       "    <tr class='colnames'><td class='row_index'></td><th>species</th><th>island</th><th>C0</th></tr>\n",
       "    <tr class='coltypes'><td class='row_index'></td><td class='str' title='str32'>&#x25AA;&#x25AA;&#x25AA;&#x25AA;</td><td class='str' title='str32'>&#x25AA;&#x25AA;&#x25AA;&#x25AA;</td><td class='float' title='float64'>&#x25AA;&#x25AA;&#x25AA;&#x25AA;&#x25AA;&#x25AA;&#x25AA;&#x25AA;</td></tr>\n",
       "  </thead>\n",
       "  <tbody>\n",
       "    <tr><td class='row_index'>0</td><td>Adelie</td><td>Biscoe</td><td>1727.02</td></tr>\n",
       "    <tr><td class='row_index'>1</td><td>Adelie</td><td>Dream</td><td>1378.65</td></tr>\n",
       "    <tr><td class='row_index'>2</td><td>Adelie</td><td>Torgersen</td><td>1209.23</td></tr>\n",
       "    <tr><td class='row_index'>3</td><td>Chinstrap</td><td>Dream</td><td>1758.54</td></tr>\n",
       "    <tr><td class='row_index'>4</td><td>Gentoo</td><td>Biscoe</td><td>2297.14</td></tr>\n",
       "  </tbody>\n",
       "  </table>\n",
       "  <div class='footer'>\n",
       "    <div class='frame_dimensions'>5 rows &times; 3 columns</div>\n",
       "  </div>\n",
       "</div>\n"
      ],
      "text/plain": [
       "<Frame#7f24c79af5a0 5x3>"
      ]
     },
     "execution_count": 9,
     "metadata": {},
     "output_type": "execute_result"
    }
   ],
   "source": [
    "data[:, dt.cov(dt.f.flipper_length_mm, dt.f.body_mass_g), dt.by(dt.f.species, dt.f.island)]"
   ]
  },
  {
   "cell_type": "markdown",
   "id": "58c91b97",
   "metadata": {
    "papermill": {
     "duration": 0.031335,
     "end_time": "2021-07-18T20:04:51.180679",
     "exception": false,
     "start_time": "2021-07-18T20:04:51.149344",
     "status": "completed"
    },
    "tags": []
   },
   "source": [
    "**Exercise 58: Calculate the absolute correlation between `bill_length_mm` and `bill_depth_mm` by `species` and `sex` in `data`**"
   ]
  },
  {
   "cell_type": "code",
   "execution_count": 10,
   "id": "b89ec251",
   "metadata": {
    "execution": {
     "iopub.execute_input": "2021-07-18T20:04:51.248341Z",
     "iopub.status.busy": "2021-07-18T20:04:51.247612Z",
     "iopub.status.idle": "2021-07-18T20:04:51.252090Z",
     "shell.execute_reply": "2021-07-18T20:04:51.252615Z",
     "shell.execute_reply.started": "2021-07-18T20:03:04.122235Z"
    },
    "papermill": {
     "duration": 0.042948,
     "end_time": "2021-07-18T20:04:51.253009",
     "exception": false,
     "start_time": "2021-07-18T20:04:51.210061",
     "status": "completed"
    },
    "tags": []
   },
   "outputs": [
    {
     "data": {
      "text/html": [
       "<div class='datatable'>\n",
       "  <table class='frame'>\n",
       "  <thead>\n",
       "    <tr class='colnames'><td class='row_index'></td><th>species</th><th>sex</th><th>C0</th></tr>\n",
       "    <tr class='coltypes'><td class='row_index'></td><td class='str' title='str32'>&#x25AA;&#x25AA;&#x25AA;&#x25AA;</td><td class='str' title='str32'>&#x25AA;&#x25AA;&#x25AA;&#x25AA;</td><td class='float' title='float64'>&#x25AA;&#x25AA;&#x25AA;&#x25AA;&#x25AA;&#x25AA;&#x25AA;&#x25AA;</td></tr>\n",
       "  </thead>\n",
       "  <tbody>\n",
       "    <tr><td class='row_index'>0</td><td>Adelie</td><td><span class=na>NA</span></td><td>0.599783</td></tr>\n",
       "    <tr><td class='row_index'>1</td><td>Adelie</td><td>Female</td><td>0.160636</td></tr>\n",
       "    <tr><td class='row_index'>2</td><td>Adelie</td><td>Male</td><td>0.0382472</td></tr>\n",
       "    <tr><td class='row_index'>3</td><td>Chinstrap</td><td>Female</td><td>0.256317</td></tr>\n",
       "    <tr><td class='row_index'>4</td><td>Chinstrap</td><td>Male</td><td>0.44627</td></tr>\n",
       "    <tr><td class='row_index'>5</td><td>Gentoo</td><td><span class=na>NA</span></td><td>0.704794</td></tr>\n",
       "    <tr><td class='row_index'>6</td><td>Gentoo</td><td>Female</td><td>0.430444</td></tr>\n",
       "    <tr><td class='row_index'>7</td><td>Gentoo</td><td>Male</td><td>0.306767</td></tr>\n",
       "  </tbody>\n",
       "  </table>\n",
       "  <div class='footer'>\n",
       "    <div class='frame_dimensions'>8 rows &times; 3 columns</div>\n",
       "  </div>\n",
       "</div>\n"
      ],
      "text/plain": [
       "<Frame#7f24c79af600 8x3>"
      ]
     },
     "execution_count": 10,
     "metadata": {},
     "output_type": "execute_result"
    }
   ],
   "source": [
    "data[:, dt.abs(dt.corr(dt.f.bill_length_mm, dt.f.bill_depth_mm)), dt.by(dt.f.species, dt.f.sex)]"
   ]
  },
  {
   "cell_type": "markdown",
   "id": "ac2f04df",
   "metadata": {
    "papermill": {
     "duration": 0.031866,
     "end_time": "2021-07-18T20:04:51.321616",
     "exception": false,
     "start_time": "2021-07-18T20:04:51.289750",
     "status": "completed"
    },
    "tags": []
   },
   "source": [
    "**Exercise 59: Calculate the number of null values in `sex` by `island` in `data`**"
   ]
  },
  {
   "cell_type": "code",
   "execution_count": 11,
   "id": "7696a912",
   "metadata": {
    "execution": {
     "iopub.execute_input": "2021-07-18T20:04:51.388548Z",
     "iopub.status.busy": "2021-07-18T20:04:51.387705Z",
     "iopub.status.idle": "2021-07-18T20:04:51.390996Z",
     "shell.execute_reply": "2021-07-18T20:04:51.391553Z",
     "shell.execute_reply.started": "2021-07-18T20:03:24.119707Z"
    },
    "papermill": {
     "duration": 0.040466,
     "end_time": "2021-07-18T20:04:51.391741",
     "exception": false,
     "start_time": "2021-07-18T20:04:51.351275",
     "status": "completed"
    },
    "tags": []
   },
   "outputs": [
    {
     "data": {
      "text/html": [
       "<div class='datatable'>\n",
       "  <table class='frame'>\n",
       "  <thead>\n",
       "    <tr class='colnames'><td class='row_index'></td><th>island</th><th>count</th></tr>\n",
       "    <tr class='coltypes'><td class='row_index'></td><td class='str' title='str32'>&#x25AA;&#x25AA;&#x25AA;&#x25AA;</td><td class='int' title='int64'>&#x25AA;&#x25AA;&#x25AA;&#x25AA;&#x25AA;&#x25AA;&#x25AA;&#x25AA;</td></tr>\n",
       "  </thead>\n",
       "  <tbody>\n",
       "    <tr><td class='row_index'>0</td><td>Biscoe</td><td>5</td></tr>\n",
       "    <tr><td class='row_index'>1</td><td>Dream</td><td>1</td></tr>\n",
       "    <tr><td class='row_index'>2</td><td>Torgersen</td><td>5</td></tr>\n",
       "  </tbody>\n",
       "  </table>\n",
       "  <div class='footer'>\n",
       "    <div class='frame_dimensions'>3 rows &times; 2 columns</div>\n",
       "  </div>\n",
       "</div>\n"
      ],
      "text/plain": [
       "<Frame#7f24c79af7b0 3x2>"
      ]
     },
     "execution_count": 11,
     "metadata": {},
     "output_type": "execute_result"
    }
   ],
   "source": [
    "data[dt.f.sex == None, :][:, dt.count(), dt.by(dt.f.island)]"
   ]
  },
  {
   "cell_type": "markdown",
   "id": "2b236d2e",
   "metadata": {
    "papermill": {
     "duration": 0.033404,
     "end_time": "2021-07-18T20:04:51.462218",
     "exception": false,
     "start_time": "2021-07-18T20:04:51.428814",
     "status": "completed"
    },
    "tags": []
   },
   "source": [
    "**Exercise 60: Sort `data` on `bill_depth_mm` grouped by `sex` and assign it to `data_gs`**"
   ]
  },
  {
   "cell_type": "code",
   "execution_count": 12,
   "id": "715c0561",
   "metadata": {
    "execution": {
     "iopub.execute_input": "2021-07-18T20:04:51.539731Z",
     "iopub.status.busy": "2021-07-18T20:04:51.538974Z",
     "iopub.status.idle": "2021-07-18T20:04:51.543738Z",
     "shell.execute_reply": "2021-07-18T20:04:51.544375Z",
     "shell.execute_reply.started": "2021-07-18T20:03:28.055063Z"
    },
    "papermill": {
     "duration": 0.051957,
     "end_time": "2021-07-18T20:04:51.544577",
     "exception": false,
     "start_time": "2021-07-18T20:04:51.492620",
     "status": "completed"
    },
    "tags": []
   },
   "outputs": [
    {
     "data": {
      "text/html": [
       "<div class='datatable'>\n",
       "  <table class='frame'>\n",
       "  <thead>\n",
       "    <tr class='colnames'><td class='row_index'></td><th>sex</th><th>species</th><th>island</th><th>bill_length_mm</th><th>bill_depth_mm</th><th>flipper_length_mm</th><th>body_mass_g</th></tr>\n",
       "    <tr class='coltypes'><td class='row_index'></td><td class='str' title='str32'>&#x25AA;&#x25AA;&#x25AA;&#x25AA;</td><td class='str' title='str32'>&#x25AA;&#x25AA;&#x25AA;&#x25AA;</td><td class='str' title='str32'>&#x25AA;&#x25AA;&#x25AA;&#x25AA;</td><td class='float' title='float64'>&#x25AA;&#x25AA;&#x25AA;&#x25AA;&#x25AA;&#x25AA;&#x25AA;&#x25AA;</td><td class='float' title='float64'>&#x25AA;&#x25AA;&#x25AA;&#x25AA;&#x25AA;&#x25AA;&#x25AA;&#x25AA;</td><td class='float' title='float64'>&#x25AA;&#x25AA;&#x25AA;&#x25AA;&#x25AA;&#x25AA;&#x25AA;&#x25AA;</td><td class='float' title='float64'>&#x25AA;&#x25AA;&#x25AA;&#x25AA;&#x25AA;&#x25AA;&#x25AA;&#x25AA;</td></tr>\n",
       "  </thead>\n",
       "  <tbody>\n",
       "    <tr><td class='row_index'>0</td><td><span class=na>NA</span></td><td>Adelie</td><td>Torgersen</td><td><span class=na>NA</span></td><td><span class=na>NA</span></td><td><span class=na>NA</span></td><td><span class=na>NA</span></td></tr>\n",
       "    <tr><td class='row_index'>1</td><td><span class=na>NA</span></td><td>Gentoo</td><td>Biscoe</td><td><span class=na>NA</span></td><td><span class=na>NA</span></td><td><span class=na>NA</span></td><td><span class=na>NA</span></td></tr>\n",
       "    <tr><td class='row_index'>2</td><td><span class=na>NA</span></td><td>Gentoo</td><td>Biscoe</td><td>47.3</td><td>13.8</td><td>216</td><td>4725</td></tr>\n",
       "    <tr><td class='row_index'>3</td><td><span class=na>NA</span></td><td>Gentoo</td><td>Biscoe</td><td>44.5</td><td>14.3</td><td>216</td><td>4100</td></tr>\n",
       "    <tr><td class='row_index'>4</td><td><span class=na>NA</span></td><td>Gentoo</td><td>Biscoe</td><td>46.2</td><td>14.4</td><td>214</td><td>4650</td></tr>\n",
       "    <tr><td class='row_index'>5</td><td><span class=na>NA</span></td><td>Gentoo</td><td>Biscoe</td><td>44.5</td><td>15.7</td><td>217</td><td>4875</td></tr>\n",
       "    <tr><td class='row_index'>6</td><td><span class=na>NA</span></td><td>Adelie</td><td>Torgersen</td><td>37.8</td><td>17.1</td><td>186</td><td>3300</td></tr>\n",
       "    <tr><td class='row_index'>7</td><td><span class=na>NA</span></td><td>Adelie</td><td>Torgersen</td><td>37.8</td><td>17.3</td><td>180</td><td>3700</td></tr>\n",
       "    <tr><td class='row_index'>8</td><td><span class=na>NA</span></td><td>Adelie</td><td>Torgersen</td><td>34.1</td><td>18.1</td><td>193</td><td>3475</td></tr>\n",
       "    <tr><td class='row_index'>9</td><td><span class=na>NA</span></td><td>Adelie</td><td>Dream</td><td>37.5</td><td>18.9</td><td>179</td><td>2975</td></tr>\n",
       "    <tr><td class='row_index'>10</td><td><span class=na>NA</span></td><td>Adelie</td><td>Torgersen</td><td>42</td><td>20.2</td><td>190</td><td>4250</td></tr>\n",
       "    <tr><td class='row_index'>11</td><td>Female</td><td>Gentoo</td><td>Biscoe</td><td>42.9</td><td>13.1</td><td>215</td><td>5000</td></tr>\n",
       "    <tr><td class='row_index'>12</td><td>Female</td><td>Gentoo</td><td>Biscoe</td><td>46.1</td><td>13.2</td><td>211</td><td>4500</td></tr>\n",
       "    <tr><td class='row_index'>13</td><td>Female</td><td>Gentoo</td><td>Biscoe</td><td>44.9</td><td>13.3</td><td>213</td><td>5100</td></tr>\n",
       "    <tr><td class='row_index'>14</td><td>Female</td><td>Gentoo</td><td>Biscoe</td><td>43.3</td><td>13.4</td><td>209</td><td>4400</td></tr>\n",
       "    <tr><td class='row_index'>&#x22EE;</td><td class='hellipsis'>&#x22EE;</td><td class='hellipsis'>&#x22EE;</td><td class='hellipsis'>&#x22EE;</td><td class='hellipsis'>&#x22EE;</td><td class='hellipsis'>&#x22EE;</td><td class='hellipsis'>&#x22EE;</td><td class='hellipsis'>&#x22EE;</td></tr>\n",
       "    <tr><td class='row_index'>339</td><td>Male</td><td>Adelie</td><td>Dream</td><td>39.2</td><td>21.1</td><td>196</td><td>4150</td></tr>\n",
       "    <tr><td class='row_index'>340</td><td>Male</td><td>Adelie</td><td>Biscoe</td><td>41.3</td><td>21.1</td><td>195</td><td>4400</td></tr>\n",
       "    <tr><td class='row_index'>341</td><td>Male</td><td>Adelie</td><td>Torgersen</td><td>38.6</td><td>21.2</td><td>191</td><td>3800</td></tr>\n",
       "    <tr><td class='row_index'>342</td><td>Male</td><td>Adelie</td><td>Dream</td><td>42.3</td><td>21.2</td><td>191</td><td>4150</td></tr>\n",
       "    <tr><td class='row_index'>343</td><td>Male</td><td>Adelie</td><td>Torgersen</td><td>46</td><td>21.5</td><td>194</td><td>4200</td></tr>\n",
       "  </tbody>\n",
       "  </table>\n",
       "  <div class='footer'>\n",
       "    <div class='frame_dimensions'>344 rows &times; 7 columns</div>\n",
       "  </div>\n",
       "</div>\n"
      ],
      "text/plain": [
       "<Frame#7f24c79afae0 344x7>"
      ]
     },
     "execution_count": 12,
     "metadata": {},
     "output_type": "execute_result"
    }
   ],
   "source": [
    "data_gs = data[:, :, dt.by(dt.f.sex), dt.sort(dt.f.bill_depth_mm)]\n",
    "data_gs"
   ]
  },
  {
   "cell_type": "markdown",
   "id": "882792f7",
   "metadata": {
    "papermill": {
     "duration": 0.044373,
     "end_time": "2021-07-18T20:04:51.629134",
     "exception": false,
     "start_time": "2021-07-18T20:04:51.584761",
     "status": "completed"
    },
    "tags": []
   },
   "source": [
    "<center>\n",
    "    ✅ This completes Set 6: Grouping Methods (Exercises 51-60) of <b>DatatableTon</b>: <i>💯 datatable exercises</i>\n",
    "    <br>\n",
    "    Set 6 is coming soon!\n",
    "    <br>\n",
    "    <br>\n",
    "    You can find all the exercises and solutions on <a href=\"https://github.com/vopani/datatableton#exercises-\">GitHub</a>\n",
    "</center>"
   ]
  }
 ],
 "metadata": {
  "kernelspec": {
   "display_name": "Python 3",
   "language": "python",
   "name": "python3"
  },
  "language_info": {
   "codemirror_mode": {
    "name": "ipython",
    "version": 3
   },
   "file_extension": ".py",
   "mimetype": "text/x-python",
   "name": "python",
   "nbconvert_exporter": "python",
   "pygments_lexer": "ipython3",
   "version": "3.7.10"
  },
  "papermill": {
   "default_parameters": {},
   "duration": 55.833677,
   "end_time": "2021-07-18T20:04:53.254424",
   "environment_variables": {},
   "exception": null,
   "input_path": "__notebook__.ipynb",
   "output_path": "__notebook__.ipynb",
   "parameters": {},
   "start_time": "2021-07-18T20:03:57.420747",
   "version": "2.3.3"
  }
 },
 "nbformat": 4,
 "nbformat_minor": 5
}
