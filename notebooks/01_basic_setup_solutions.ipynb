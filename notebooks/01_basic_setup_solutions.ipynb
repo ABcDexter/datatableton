{
 "cells": [
  {
   "cell_type": "markdown",
   "id": "bizarre-lodge",
   "metadata": {
    "_cell_guid": "b1076dfc-b9ad-4769-8c92-a6c4dae69d19",
    "_uuid": "8f2839f25d086af736a60e9eeb907d3b93b6e0e5",
    "papermill": {
     "duration": 0.015428,
     "end_time": "2021-07-04T20:19:48.303570",
     "exception": false,
     "start_time": "2021-07-04T20:19:48.288142",
     "status": "completed"
    },
    "tags": []
   },
   "source": [
    "<center>\n",
    "    <h1>DatatableTon</h1>\n",
    "    💯 datatable exercises\n",
    "    <br>\n",
    "    <br>\n",
    "    <a href='https://github.com/vopani/datatableton/blob/master/LICENSE'>\n",
    "        <img src='https://img.shields.io/badge/license-Apache%202.0-blue.svg?logo=apache' align='center'>\n",
    "    </a>\n",
    "    <a href='https://github.com/vopani/datatableton'>\n",
    "        <img src='https://img.shields.io/github/stars/vopani/datatableton?color=yellowgreen&logo=github' align='center'>\n",
    "    </a>\n",
    "    <a href='https://twitter.com/vopani'>\n",
    "        <img src='https://img.shields.io/twitter/follow/vopani' align='center'>\n",
    "    </a>\n",
    "</center>"
   ]
  },
  {
   "cell_type": "markdown",
   "id": "friendly-pocket",
   "metadata": {
    "papermill": {
     "duration": 0.014107,
     "end_time": "2021-07-04T20:19:48.332395",
     "exception": false,
     "start_time": "2021-07-04T20:19:48.318288",
     "status": "completed"
    },
    "tags": []
   },
   "source": [
    "<center>\n",
    "    This is Set 1 (Basic Setup) of <b>DatatableTon</b>: <i>💯 datatable exercises</i>\n",
    "    <br>\n",
    "    You can find all the exercises on <a href=\"https://github.com/vopani/datatableton#exercises-\">GitHub</a>\n",
    "</center>"
   ]
  },
  {
   "cell_type": "markdown",
   "id": "friendly-helicopter",
   "metadata": {
    "papermill": {
     "duration": 0.014021,
     "end_time": "2021-07-04T20:19:48.360833",
     "exception": false,
     "start_time": "2021-07-04T20:19:48.346812",
     "status": "completed"
    },
    "tags": []
   },
   "source": [
    "**Exercise 1: Install the latest version of datatable**"
   ]
  },
  {
   "cell_type": "code",
   "execution_count": 1,
   "id": "dutch-might",
   "metadata": {
    "execution": {
     "iopub.execute_input": "2021-07-04T20:19:48.405713Z",
     "iopub.status.busy": "2021-07-04T20:19:48.395018Z",
     "iopub.status.idle": "2021-07-04T20:20:02.723573Z",
     "shell.execute_reply": "2021-07-04T20:20:02.722840Z",
     "shell.execute_reply.started": "2021-07-04T19:31:14.752991Z"
    },
    "papermill": {
     "duration": 14.348487,
     "end_time": "2021-07-04T20:20:02.723741",
     "exception": false,
     "start_time": "2021-07-04T20:19:48.375254",
     "status": "completed"
    },
    "tags": []
   },
   "outputs": [
    {
     "name": "stdout",
     "output_type": "stream",
     "text": [
      "Requirement already satisfied: datatable in /opt/conda/lib/python3.7/site-packages (0.11.1)\r\n",
      "Collecting datatable\r\n",
      "  Downloading datatable-1.0.0-cp37-cp37m-manylinux_2_12_x86_64.whl (96.9 MB)\r\n",
      "\u001b[K     |████████████████████████████████| 96.9 MB 142 kB/s \r\n",
      "\u001b[?25hInstalling collected packages: datatable\r\n",
      "  Attempting uninstall: datatable\r\n",
      "    Found existing installation: datatable 0.11.1\r\n",
      "    Uninstalling datatable-0.11.1:\r\n",
      "      Successfully uninstalled datatable-0.11.1\r\n",
      "Successfully installed datatable-1.0.0\r\n"
     ]
    }
   ],
   "source": [
    "!pip install datatable --upgrade"
   ]
  },
  {
   "cell_type": "markdown",
   "id": "likely-crack",
   "metadata": {
    "papermill": {
     "duration": 0.066347,
     "end_time": "2021-07-04T20:20:02.859475",
     "exception": false,
     "start_time": "2021-07-04T20:20:02.793128",
     "status": "completed"
    },
    "tags": []
   },
   "source": [
    "**Exercise 2: Import the datatable package as `dt`**"
   ]
  },
  {
   "cell_type": "code",
   "execution_count": 2,
   "id": "comfortable-formula",
   "metadata": {
    "execution": {
     "iopub.execute_input": "2021-07-04T20:20:02.998797Z",
     "iopub.status.busy": "2021-07-04T20:20:02.998077Z",
     "iopub.status.idle": "2021-07-04T20:20:03.024755Z",
     "shell.execute_reply": "2021-07-04T20:20:03.024247Z",
     "shell.execute_reply.started": "2021-07-04T19:40:28.514072Z"
    },
    "papermill": {
     "duration": 0.09801,
     "end_time": "2021-07-04T20:20:03.024892",
     "exception": false,
     "start_time": "2021-07-04T20:20:02.926882",
     "status": "completed"
    },
    "tags": []
   },
   "outputs": [
    {
     "data": {
      "text/html": [
       "<style type='text/css'>\n",
       ".datatable table.frame { margin-bottom: 0; }\n",
       ".datatable table.frame thead { border-bottom: none; }\n",
       ".datatable table.frame tr.coltypes td {  color: #FFFFFF;  line-height: 6px;  padding: 0 0.5em;}\n",
       ".datatable .bool    { background: #DDDD99; }\n",
       ".datatable .object  { background: #565656; }\n",
       ".datatable .int     { background: #5D9E5D; }\n",
       ".datatable .float   { background: #4040CC; }\n",
       ".datatable .str     { background: #CC4040; }\n",
       ".datatable .time    { background: #40CC40; }\n",
       ".datatable .row_index {  background: var(--jp-border-color3);  border-right: 1px solid var(--jp-border-color0);  color: var(--jp-ui-font-color3);  font-size: 9px;}\n",
       ".datatable .frame tbody td { text-align: left; }\n",
       ".datatable .frame tr.coltypes .row_index {  background: var(--jp-border-color0);}\n",
       ".datatable th:nth-child(2) { padding-left: 12px; }\n",
       ".datatable .hellipsis {  color: var(--jp-cell-editor-border-color);}\n",
       ".datatable .vellipsis {  background: var(--jp-layout-color0);  color: var(--jp-cell-editor-border-color);}\n",
       ".datatable .na {  color: var(--jp-cell-editor-border-color);  font-size: 80%;}\n",
       ".datatable .sp {  opacity: 0.25;}\n",
       ".datatable .footer { font-size: 9px; }\n",
       ".datatable .frame_dimensions {  background: var(--jp-border-color3);  border-top: 1px solid var(--jp-border-color0);  color: var(--jp-ui-font-color3);  display: inline-block;  opacity: 0.6;  padding: 1px 10px 1px 5px;}\n",
       "</style>\n"
      ],
      "text/plain": [
       "<IPython.core.display.HTML object>"
      ]
     },
     "metadata": {},
     "output_type": "display_data"
    }
   ],
   "source": [
    "import datatable as dt"
   ]
  },
  {
   "cell_type": "markdown",
   "id": "threaded-complex",
   "metadata": {
    "papermill": {
     "duration": 0.066741,
     "end_time": "2021-07-04T20:20:03.159940",
     "exception": false,
     "start_time": "2021-07-04T20:20:03.093199",
     "status": "completed"
    },
    "tags": []
   },
   "source": [
    "**Exercise 3: Print the version of the datatable package**"
   ]
  },
  {
   "cell_type": "code",
   "execution_count": 3,
   "id": "practical-insider",
   "metadata": {
    "execution": {
     "iopub.execute_input": "2021-07-04T20:20:03.298567Z",
     "iopub.status.busy": "2021-07-04T20:20:03.297762Z",
     "iopub.status.idle": "2021-07-04T20:20:03.300921Z",
     "shell.execute_reply": "2021-07-04T20:20:03.301433Z",
     "shell.execute_reply.started": "2021-07-04T19:40:36.977631Z"
    },
    "papermill": {
     "duration": 0.074482,
     "end_time": "2021-07-04T20:20:03.301592",
     "exception": false,
     "start_time": "2021-07-04T20:20:03.227110",
     "status": "completed"
    },
    "tags": []
   },
   "outputs": [
    {
     "name": "stdout",
     "output_type": "stream",
     "text": [
      "1.0.0\n"
     ]
    }
   ],
   "source": [
    "print(dt.__version__)"
   ]
  },
  {
   "cell_type": "markdown",
   "id": "neural-bleeding",
   "metadata": {
    "papermill": {
     "duration": 0.06637,
     "end_time": "2021-07-04T20:20:03.434836",
     "exception": false,
     "start_time": "2021-07-04T20:20:03.368466",
     "status": "completed"
    },
    "tags": []
   },
   "source": [
    "**Exercise 4: Create an empty datatable frame & assign it to `data`**"
   ]
  },
  {
   "cell_type": "code",
   "execution_count": 4,
   "id": "enclosed-falls",
   "metadata": {
    "execution": {
     "iopub.execute_input": "2021-07-04T20:20:03.572408Z",
     "iopub.status.busy": "2021-07-04T20:20:03.571769Z",
     "iopub.status.idle": "2021-07-04T20:20:03.574471Z",
     "shell.execute_reply": "2021-07-04T20:20:03.573851Z",
     "shell.execute_reply.started": "2021-07-04T19:43:38.599644Z"
    },
    "papermill": {
     "duration": 0.073368,
     "end_time": "2021-07-04T20:20:03.574605",
     "exception": false,
     "start_time": "2021-07-04T20:20:03.501237",
     "status": "completed"
    },
    "tags": []
   },
   "outputs": [],
   "source": [
    "data = dt.Frame()"
   ]
  },
  {
   "cell_type": "markdown",
   "id": "coordinate-aaron",
   "metadata": {
    "papermill": {
     "duration": 0.065512,
     "end_time": "2021-07-04T20:20:03.706133",
     "exception": false,
     "start_time": "2021-07-04T20:20:03.640621",
     "status": "completed"
    },
    "tags": []
   },
   "source": [
    "**Exercise 5: Create a frame with a column named `x` with integer values from 0 to 9 & assign it to `data`**"
   ]
  },
  {
   "cell_type": "code",
   "execution_count": 5,
   "id": "nonprofit-business",
   "metadata": {
    "execution": {
     "iopub.execute_input": "2021-07-04T20:20:03.842333Z",
     "iopub.status.busy": "2021-07-04T20:20:03.841707Z",
     "iopub.status.idle": "2021-07-04T20:20:03.843980Z",
     "shell.execute_reply": "2021-07-04T20:20:03.844480Z",
     "shell.execute_reply.started": "2021-07-04T19:46:39.214604Z"
    },
    "papermill": {
     "duration": 0.072904,
     "end_time": "2021-07-04T20:20:03.844640",
     "exception": false,
     "start_time": "2021-07-04T20:20:03.771736",
     "status": "completed"
    },
    "tags": []
   },
   "outputs": [],
   "source": [
    "data = dt.Frame(x=range(10))"
   ]
  },
  {
   "cell_type": "markdown",
   "id": "military-error",
   "metadata": {
    "papermill": {
     "duration": 0.067771,
     "end_time": "2021-07-04T20:20:03.978124",
     "exception": false,
     "start_time": "2021-07-04T20:20:03.910353",
     "status": "completed"
    },
    "tags": []
   },
   "source": [
    "**Exercise 6: Display `data`**"
   ]
  },
  {
   "cell_type": "code",
   "execution_count": 6,
   "id": "aquatic-delicious",
   "metadata": {
    "execution": {
     "iopub.execute_input": "2021-07-04T20:20:04.116828Z",
     "iopub.status.busy": "2021-07-04T20:20:04.116202Z",
     "iopub.status.idle": "2021-07-04T20:20:04.121702Z",
     "shell.execute_reply": "2021-07-04T20:20:04.122200Z",
     "shell.execute_reply.started": "2021-07-04T19:48:50.180350Z"
    },
    "papermill": {
     "duration": 0.076976,
     "end_time": "2021-07-04T20:20:04.122377",
     "exception": false,
     "start_time": "2021-07-04T20:20:04.045401",
     "status": "completed"
    },
    "tags": []
   },
   "outputs": [
    {
     "data": {
      "text/html": [
       "<div class='datatable'>\n",
       "  <table class='frame'>\n",
       "  <thead>\n",
       "    <tr class='colnames'><td class='row_index'></td><th>x</th></tr>\n",
       "    <tr class='coltypes'><td class='row_index'></td><td class='int' title='int32'>&#x25AA;&#x25AA;&#x25AA;&#x25AA;</td></tr>\n",
       "  </thead>\n",
       "  <tbody>\n",
       "    <tr><td class='row_index'>0</td><td>0</td></tr>\n",
       "    <tr><td class='row_index'>1</td><td>1</td></tr>\n",
       "    <tr><td class='row_index'>2</td><td>2</td></tr>\n",
       "    <tr><td class='row_index'>3</td><td>3</td></tr>\n",
       "    <tr><td class='row_index'>4</td><td>4</td></tr>\n",
       "    <tr><td class='row_index'>5</td><td>5</td></tr>\n",
       "    <tr><td class='row_index'>6</td><td>6</td></tr>\n",
       "    <tr><td class='row_index'>7</td><td>7</td></tr>\n",
       "    <tr><td class='row_index'>8</td><td>8</td></tr>\n",
       "    <tr><td class='row_index'>9</td><td>9</td></tr>\n",
       "  </tbody>\n",
       "  </table>\n",
       "  <div class='footer'>\n",
       "    <div class='frame_dimensions'>10 rows &times; 1 column</div>\n",
       "  </div>\n",
       "</div>\n"
      ],
      "text/plain": [
       "<Frame#7ff1dc8e1240 10x1>"
      ]
     },
     "execution_count": 6,
     "metadata": {},
     "output_type": "execute_result"
    }
   ],
   "source": [
    "data"
   ]
  },
  {
   "cell_type": "markdown",
   "id": "initial-essence",
   "metadata": {
    "papermill": {
     "duration": 0.066471,
     "end_time": "2021-07-04T20:20:04.256298",
     "exception": false,
     "start_time": "2021-07-04T20:20:04.189827",
     "status": "completed"
    },
    "tags": []
   },
   "source": [
    "**Exercise 7: Display the first 5 rows of `data`**"
   ]
  },
  {
   "cell_type": "code",
   "execution_count": 7,
   "id": "peripheral-socket",
   "metadata": {
    "execution": {
     "iopub.execute_input": "2021-07-04T20:20:04.395932Z",
     "iopub.status.busy": "2021-07-04T20:20:04.395029Z",
     "iopub.status.idle": "2021-07-04T20:20:04.398825Z",
     "shell.execute_reply": "2021-07-04T20:20:04.399301Z",
     "shell.execute_reply.started": "2021-07-04T19:50:40.838975Z"
    },
    "papermill": {
     "duration": 0.076309,
     "end_time": "2021-07-04T20:20:04.399473",
     "exception": false,
     "start_time": "2021-07-04T20:20:04.323164",
     "status": "completed"
    },
    "tags": []
   },
   "outputs": [
    {
     "data": {
      "text/html": [
       "<div class='datatable'>\n",
       "  <table class='frame'>\n",
       "  <thead>\n",
       "    <tr class='colnames'><td class='row_index'></td><th>x</th></tr>\n",
       "    <tr class='coltypes'><td class='row_index'></td><td class='int' title='int32'>&#x25AA;&#x25AA;&#x25AA;&#x25AA;</td></tr>\n",
       "  </thead>\n",
       "  <tbody>\n",
       "    <tr><td class='row_index'>0</td><td>0</td></tr>\n",
       "    <tr><td class='row_index'>1</td><td>1</td></tr>\n",
       "    <tr><td class='row_index'>2</td><td>2</td></tr>\n",
       "    <tr><td class='row_index'>3</td><td>3</td></tr>\n",
       "    <tr><td class='row_index'>4</td><td>4</td></tr>\n",
       "  </tbody>\n",
       "  </table>\n",
       "  <div class='footer'>\n",
       "    <div class='frame_dimensions'>5 rows &times; 1 column</div>\n",
       "  </div>\n",
       "</div>\n"
      ],
      "text/plain": [
       "<Frame#7ff1dc8e11b0 5x1>"
      ]
     },
     "execution_count": 7,
     "metadata": {},
     "output_type": "execute_result"
    }
   ],
   "source": [
    "data.head(5)"
   ]
  },
  {
   "cell_type": "markdown",
   "id": "frozen-playback",
   "metadata": {
    "papermill": {
     "duration": 0.067666,
     "end_time": "2021-07-04T20:20:04.533872",
     "exception": false,
     "start_time": "2021-07-04T20:20:04.466206",
     "status": "completed"
    },
    "tags": []
   },
   "source": [
    "**Exercise 8: Display the last 3 rows of `data`**"
   ]
  },
  {
   "cell_type": "code",
   "execution_count": 8,
   "id": "accessible-plaza",
   "metadata": {
    "execution": {
     "iopub.execute_input": "2021-07-04T20:20:04.674218Z",
     "iopub.status.busy": "2021-07-04T20:20:04.673594Z",
     "iopub.status.idle": "2021-07-04T20:20:04.677054Z",
     "shell.execute_reply": "2021-07-04T20:20:04.676566Z",
     "shell.execute_reply.started": "2021-07-04T19:50:46.979305Z"
    },
    "papermill": {
     "duration": 0.075477,
     "end_time": "2021-07-04T20:20:04.677191",
     "exception": false,
     "start_time": "2021-07-04T20:20:04.601714",
     "status": "completed"
    },
    "tags": []
   },
   "outputs": [
    {
     "data": {
      "text/html": [
       "<div class='datatable'>\n",
       "  <table class='frame'>\n",
       "  <thead>\n",
       "    <tr class='colnames'><td class='row_index'></td><th>x</th></tr>\n",
       "    <tr class='coltypes'><td class='row_index'></td><td class='int' title='int32'>&#x25AA;&#x25AA;&#x25AA;&#x25AA;</td></tr>\n",
       "  </thead>\n",
       "  <tbody>\n",
       "    <tr><td class='row_index'>0</td><td>7</td></tr>\n",
       "    <tr><td class='row_index'>1</td><td>8</td></tr>\n",
       "    <tr><td class='row_index'>2</td><td>9</td></tr>\n",
       "  </tbody>\n",
       "  </table>\n",
       "  <div class='footer'>\n",
       "    <div class='frame_dimensions'>3 rows &times; 1 column</div>\n",
       "  </div>\n",
       "</div>\n"
      ],
      "text/plain": [
       "<Frame#7ff1dc8e1030 3x1>"
      ]
     },
     "execution_count": 8,
     "metadata": {},
     "output_type": "execute_result"
    }
   ],
   "source": [
    "data.tail(3)"
   ]
  },
  {
   "cell_type": "markdown",
   "id": "burning-closing",
   "metadata": {
    "papermill": {
     "duration": 0.06678,
     "end_time": "2021-07-04T20:20:04.811122",
     "exception": false,
     "start_time": "2021-07-04T20:20:04.744342",
     "status": "completed"
    },
    "tags": []
   },
   "source": [
    "**Exercise 9: Display the number of rows in `data`**"
   ]
  },
  {
   "cell_type": "code",
   "execution_count": 9,
   "id": "wooden-female",
   "metadata": {
    "execution": {
     "iopub.execute_input": "2021-07-04T20:20:04.951148Z",
     "iopub.status.busy": "2021-07-04T20:20:04.950146Z",
     "iopub.status.idle": "2021-07-04T20:20:04.954451Z",
     "shell.execute_reply": "2021-07-04T20:20:04.953944Z",
     "shell.execute_reply.started": "2021-07-04T20:05:47.152002Z"
    },
    "papermill": {
     "duration": 0.076096,
     "end_time": "2021-07-04T20:20:04.954588",
     "exception": false,
     "start_time": "2021-07-04T20:20:04.878492",
     "status": "completed"
    },
    "tags": []
   },
   "outputs": [
    {
     "data": {
      "text/plain": [
       "10"
      ]
     },
     "execution_count": 9,
     "metadata": {},
     "output_type": "execute_result"
    }
   ],
   "source": [
    "data.nrows"
   ]
  },
  {
   "cell_type": "markdown",
   "id": "electric-maria",
   "metadata": {
    "papermill": {
     "duration": 0.084731,
     "end_time": "2021-07-04T20:20:05.123811",
     "exception": false,
     "start_time": "2021-07-04T20:20:05.039080",
     "status": "completed"
    },
    "tags": []
   },
   "source": [
    "**Exercise 10: Display the number of columns in `data`**"
   ]
  },
  {
   "cell_type": "code",
   "execution_count": 10,
   "id": "considered-database",
   "metadata": {
    "execution": {
     "iopub.execute_input": "2021-07-04T20:20:05.279139Z",
     "iopub.status.busy": "2021-07-04T20:20:05.278438Z",
     "iopub.status.idle": "2021-07-04T20:20:05.283199Z",
     "shell.execute_reply": "2021-07-04T20:20:05.284055Z",
     "shell.execute_reply.started": "2021-07-04T20:06:21.662634Z"
    },
    "papermill": {
     "duration": 0.091944,
     "end_time": "2021-07-04T20:20:05.284307",
     "exception": false,
     "start_time": "2021-07-04T20:20:05.192363",
     "status": "completed"
    },
    "tags": []
   },
   "outputs": [
    {
     "data": {
      "text/plain": [
       "1"
      ]
     },
     "execution_count": 10,
     "metadata": {},
     "output_type": "execute_result"
    }
   ],
   "source": [
    "data.ncols"
   ]
  }
 ],
 "metadata": {
  "kernelspec": {
   "display_name": "Python 3",
   "language": "python",
   "name": "python3"
  },
  "language_info": {
   "codemirror_mode": {
    "name": "ipython",
    "version": 3
   },
   "file_extension": ".py",
   "mimetype": "text/x-python",
   "name": "python",
   "nbconvert_exporter": "python",
   "pygments_lexer": "ipython3",
   "version": "3.7.9"
  },
  "papermill": {
   "default_parameters": {},
   "duration": 23.721571,
   "end_time": "2021-07-04T20:20:05.978548",
   "environment_variables": {},
   "exception": null,
   "input_path": "__notebook__.ipynb",
   "output_path": "__notebook__.ipynb",
   "parameters": {},
   "start_time": "2021-07-04T20:19:42.256977",
   "version": "2.3.2"
  }
 },
 "nbformat": 4,
 "nbformat_minor": 5
}
