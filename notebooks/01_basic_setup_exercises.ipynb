{
 "cells": [
  {
   "cell_type": "markdown",
   "id": "vocational-milan",
   "metadata": {
    "_cell_guid": "b1076dfc-b9ad-4769-8c92-a6c4dae69d19",
    "_uuid": "8f2839f25d086af736a60e9eeb907d3b93b6e0e5",
    "papermill": {
     "duration": 0.01839,
     "end_time": "2021-07-04T20:19:45.752325",
     "exception": false,
     "start_time": "2021-07-04T20:19:45.733935",
     "status": "completed"
    },
    "tags": []
   },
   "source": [
    "<center>\n",
    "    <h1>DatatableTon</h1>\n",
    "    💯 datatable exercises\n",
    "    <br>\n",
    "    <br>\n",
    "    <a href='https://github.com/vopani/datatableton/blob/master/LICENSE'>\n",
    "        <img src='https://img.shields.io/badge/license-Apache%202.0-blue.svg?logo=apache' align='center'>\n",
    "    </a>\n",
    "    <a href='https://github.com/vopani/datatableton'>\n",
    "        <img src='https://img.shields.io/github/stars/vopani/datatableton?color=yellowgreen&logo=github' align='center'>\n",
    "    </a>\n",
    "    <a href='https://twitter.com/vopani'>\n",
    "        <img src='https://img.shields.io/twitter/follow/vopani' align='center'>\n",
    "    </a>\n",
    "</center>"
   ]
  },
  {
   "cell_type": "markdown",
   "id": "intimate-keeping",
   "metadata": {
    "papermill": {
     "duration": 0.017311,
     "end_time": "2021-07-04T20:19:45.787549",
     "exception": false,
     "start_time": "2021-07-04T20:19:45.770238",
     "status": "completed"
    },
    "tags": []
   },
   "source": [
    "<center>\n",
    "    This is Set 1 (Basic Setup) of <b>DatatableTon</b>: <i>💯 datatable exercises</i>\n",
    "    <br>\n",
    "    You can find all the exercises on <a href=\"https://github.com/vopani/datatableton#exercises-\">GitHub</a>\n",
    "</center>"
   ]
  },
  {
   "cell_type": "markdown",
   "id": "instant-variable",
   "metadata": {
    "papermill": {
     "duration": 0.017157,
     "end_time": "2021-07-04T20:19:45.822802",
     "exception": false,
     "start_time": "2021-07-04T20:19:45.805645",
     "status": "completed"
    },
    "tags": []
   },
   "source": [
    "**Exercise 1: Install the latest version of datatable**"
   ]
  },
  {
   "cell_type": "code",
   "execution_count": null,
   "id": "prepared-surgery",
   "metadata": {
    "execution": {
     "iopub.execute_input": "2021-07-04T19:31:14.753070Z",
     "iopub.status.busy": "2021-07-04T19:31:14.752683Z",
     "iopub.status.idle": "2021-07-04T19:31:35.770808Z",
     "shell.execute_reply": "2021-07-04T19:31:35.769726Z",
     "shell.execute_reply.started": "2021-07-04T19:31:14.752991Z"
    },
    "papermill": {
     "duration": 0.01703,
     "end_time": "2021-07-04T20:19:45.857051",
     "exception": false,
     "start_time": "2021-07-04T20:19:45.840021",
     "status": "completed"
    },
    "tags": []
   },
   "outputs": [],
   "source": []
  },
  {
   "cell_type": "markdown",
   "id": "defined-henry",
   "metadata": {
    "papermill": {
     "duration": 0.016892,
     "end_time": "2021-07-04T20:19:45.891324",
     "exception": false,
     "start_time": "2021-07-04T20:19:45.874432",
     "status": "completed"
    },
    "tags": []
   },
   "source": [
    "**Exercise 2: Import the datatable package as `dt`**"
   ]
  },
  {
   "cell_type": "code",
   "execution_count": null,
   "id": "blocked-ontario",
   "metadata": {
    "execution": {
     "iopub.execute_input": "2021-07-04T19:40:28.514105Z",
     "iopub.status.busy": "2021-07-04T19:40:28.513716Z",
     "iopub.status.idle": "2021-07-04T19:40:28.519223Z",
     "shell.execute_reply": "2021-07-04T19:40:28.517706Z",
     "shell.execute_reply.started": "2021-07-04T19:40:28.514072Z"
    },
    "papermill": {
     "duration": 0.017102,
     "end_time": "2021-07-04T20:19:45.925909",
     "exception": false,
     "start_time": "2021-07-04T20:19:45.908807",
     "status": "completed"
    },
    "tags": []
   },
   "outputs": [],
   "source": []
  },
  {
   "cell_type": "markdown",
   "id": "vocal-psychiatry",
   "metadata": {
    "papermill": {
     "duration": 0.017249,
     "end_time": "2021-07-04T20:19:45.962094",
     "exception": false,
     "start_time": "2021-07-04T20:19:45.944845",
     "status": "completed"
    },
    "tags": []
   },
   "source": [
    "**Exercise 3: Print the version of the datatable package**"
   ]
  },
  {
   "cell_type": "code",
   "execution_count": null,
   "id": "rental-reduction",
   "metadata": {
    "execution": {
     "iopub.execute_input": "2021-07-04T19:40:36.977659Z",
     "iopub.status.busy": "2021-07-04T19:40:36.977323Z",
     "iopub.status.idle": "2021-07-04T19:40:36.984455Z",
     "shell.execute_reply": "2021-07-04T19:40:36.983278Z",
     "shell.execute_reply.started": "2021-07-04T19:40:36.977631Z"
    },
    "papermill": {
     "duration": 0.016989,
     "end_time": "2021-07-04T20:19:45.996428",
     "exception": false,
     "start_time": "2021-07-04T20:19:45.979439",
     "status": "completed"
    },
    "tags": []
   },
   "outputs": [],
   "source": []
  },
  {
   "cell_type": "markdown",
   "id": "fixed-literacy",
   "metadata": {
    "papermill": {
     "duration": 0.017214,
     "end_time": "2021-07-04T20:19:46.031047",
     "exception": false,
     "start_time": "2021-07-04T20:19:46.013833",
     "status": "completed"
    },
    "tags": []
   },
   "source": [
    "**Exercise 4: Create an empty datatable frame & assign it to `data`**"
   ]
  },
  {
   "cell_type": "code",
   "execution_count": null,
   "id": "active-praise",
   "metadata": {
    "execution": {
     "iopub.execute_input": "2021-07-04T19:43:38.599693Z",
     "iopub.status.busy": "2021-07-04T19:43:38.599121Z",
     "iopub.status.idle": "2021-07-04T19:43:38.604286Z",
     "shell.execute_reply": "2021-07-04T19:43:38.603025Z",
     "shell.execute_reply.started": "2021-07-04T19:43:38.599644Z"
    },
    "papermill": {
     "duration": 0.017127,
     "end_time": "2021-07-04T20:19:46.065549",
     "exception": false,
     "start_time": "2021-07-04T20:19:46.048422",
     "status": "completed"
    },
    "tags": []
   },
   "outputs": [],
   "source": []
  },
  {
   "cell_type": "markdown",
   "id": "published-grave",
   "metadata": {
    "papermill": {
     "duration": 0.017029,
     "end_time": "2021-07-04T20:19:46.100208",
     "exception": false,
     "start_time": "2021-07-04T20:19:46.083179",
     "status": "completed"
    },
    "tags": []
   },
   "source": [
    "**Exercise 5: Create a frame with a column named `x` with integer values from 0 to 9 & assign it to `data`**"
   ]
  },
  {
   "cell_type": "code",
   "execution_count": null,
   "id": "nuclear-somewhere",
   "metadata": {
    "execution": {
     "iopub.execute_input": "2021-07-04T19:46:39.214635Z",
     "iopub.status.busy": "2021-07-04T19:46:39.214272Z",
     "iopub.status.idle": "2021-07-04T19:46:39.219166Z",
     "shell.execute_reply": "2021-07-04T19:46:39.218206Z",
     "shell.execute_reply.started": "2021-07-04T19:46:39.214604Z"
    },
    "papermill": {
     "duration": 0.01733,
     "end_time": "2021-07-04T20:19:46.134953",
     "exception": false,
     "start_time": "2021-07-04T20:19:46.117623",
     "status": "completed"
    },
    "tags": []
   },
   "outputs": [],
   "source": []
  },
  {
   "cell_type": "markdown",
   "id": "growing-interval",
   "metadata": {
    "papermill": {
     "duration": 0.019204,
     "end_time": "2021-07-04T20:19:46.173423",
     "exception": false,
     "start_time": "2021-07-04T20:19:46.154219",
     "status": "completed"
    },
    "tags": []
   },
   "source": [
    "**Exercise 6: Display `data`**"
   ]
  },
  {
   "cell_type": "code",
   "execution_count": null,
   "id": "short-brazilian",
   "metadata": {
    "execution": {
     "iopub.execute_input": "2021-07-04T19:48:50.180382Z",
     "iopub.status.busy": "2021-07-04T19:48:50.180005Z",
     "iopub.status.idle": "2021-07-04T19:48:50.187056Z",
     "shell.execute_reply": "2021-07-04T19:48:50.185867Z",
     "shell.execute_reply.started": "2021-07-04T19:48:50.180350Z"
    },
    "papermill": {
     "duration": 0.019016,
     "end_time": "2021-07-04T20:19:46.212031",
     "exception": false,
     "start_time": "2021-07-04T20:19:46.193015",
     "status": "completed"
    },
    "tags": []
   },
   "outputs": [],
   "source": []
  },
  {
   "cell_type": "markdown",
   "id": "living-richmond",
   "metadata": {
    "papermill": {
     "duration": 0.017023,
     "end_time": "2021-07-04T20:19:46.246683",
     "exception": false,
     "start_time": "2021-07-04T20:19:46.229660",
     "status": "completed"
    },
    "tags": []
   },
   "source": [
    "**Exercise 7: Display the first 5 rows of `data`**"
   ]
  },
  {
   "cell_type": "code",
   "execution_count": null,
   "id": "necessary-collaboration",
   "metadata": {
    "execution": {
     "iopub.execute_input": "2021-07-04T19:50:40.839018Z",
     "iopub.status.busy": "2021-07-04T19:50:40.838519Z",
     "iopub.status.idle": "2021-07-04T19:50:40.844358Z",
     "shell.execute_reply": "2021-07-04T19:50:40.843327Z",
     "shell.execute_reply.started": "2021-07-04T19:50:40.838975Z"
    },
    "papermill": {
     "duration": 0.017782,
     "end_time": "2021-07-04T20:19:46.282688",
     "exception": false,
     "start_time": "2021-07-04T20:19:46.264906",
     "status": "completed"
    },
    "tags": []
   },
   "outputs": [],
   "source": []
  },
  {
   "cell_type": "markdown",
   "id": "chemical-comparative",
   "metadata": {
    "papermill": {
     "duration": 0.017541,
     "end_time": "2021-07-04T20:19:46.318158",
     "exception": false,
     "start_time": "2021-07-04T20:19:46.300617",
     "status": "completed"
    },
    "tags": []
   },
   "source": [
    "**Exercise 8: Display the last 3 rows of `data`**"
   ]
  },
  {
   "cell_type": "code",
   "execution_count": null,
   "id": "greatest-colony",
   "metadata": {
    "execution": {
     "iopub.execute_input": "2021-07-04T19:50:46.979335Z",
     "iopub.status.busy": "2021-07-04T19:50:46.978965Z",
     "iopub.status.idle": "2021-07-04T19:50:46.986131Z",
     "shell.execute_reply": "2021-07-04T19:50:46.985058Z",
     "shell.execute_reply.started": "2021-07-04T19:50:46.979305Z"
    },
    "papermill": {
     "duration": 0.017458,
     "end_time": "2021-07-04T20:19:46.353616",
     "exception": false,
     "start_time": "2021-07-04T20:19:46.336158",
     "status": "completed"
    },
    "tags": []
   },
   "outputs": [],
   "source": []
  },
  {
   "cell_type": "markdown",
   "id": "sought-literacy",
   "metadata": {
    "papermill": {
     "duration": 0.018435,
     "end_time": "2021-07-04T20:19:46.392842",
     "exception": false,
     "start_time": "2021-07-04T20:19:46.374407",
     "status": "completed"
    },
    "tags": []
   },
   "source": [
    "**Exercise 9: Display the number of rows in `data`**"
   ]
  },
  {
   "cell_type": "code",
   "execution_count": null,
   "id": "labeled-detective",
   "metadata": {
    "execution": {
     "iopub.execute_input": "2021-07-04T20:05:47.152030Z",
     "iopub.status.busy": "2021-07-04T20:05:47.151679Z",
     "iopub.status.idle": "2021-07-04T20:05:47.157922Z",
     "shell.execute_reply": "2021-07-04T20:05:47.157055Z",
     "shell.execute_reply.started": "2021-07-04T20:05:47.152002Z"
    },
    "papermill": {
     "duration": 0.01723,
     "end_time": "2021-07-04T20:19:46.427644",
     "exception": false,
     "start_time": "2021-07-04T20:19:46.410414",
     "status": "completed"
    },
    "tags": []
   },
   "outputs": [],
   "source": []
  },
  {
   "cell_type": "markdown",
   "id": "baking-familiar",
   "metadata": {
    "papermill": {
     "duration": 0.018567,
     "end_time": "2021-07-04T20:19:46.463914",
     "exception": false,
     "start_time": "2021-07-04T20:19:46.445347",
     "status": "completed"
    },
    "tags": []
   },
   "source": [
    "**Exercise 10: Display the number of columns in `data`**"
   ]
  },
  {
   "cell_type": "code",
   "execution_count": null,
   "id": "selected-milton",
   "metadata": {
    "execution": {
     "iopub.execute_input": "2021-07-04T20:06:21.662662Z",
     "iopub.status.busy": "2021-07-04T20:06:21.662316Z",
     "iopub.status.idle": "2021-07-04T20:06:21.668578Z",
     "shell.execute_reply": "2021-07-04T20:06:21.667653Z",
     "shell.execute_reply.started": "2021-07-04T20:06:21.662634Z"
    },
    "papermill": {
     "duration": 0.017156,
     "end_time": "2021-07-04T20:19:46.498518",
     "exception": false,
     "start_time": "2021-07-04T20:19:46.481362",
     "status": "completed"
    },
    "tags": []
   },
   "outputs": [],
   "source": []
  }
 ],
 "metadata": {
  "kernelspec": {
   "display_name": "Python 3",
   "language": "python",
   "name": "python3"
  },
  "language_info": {
   "codemirror_mode": {
    "name": "ipython",
    "version": 3
   },
   "file_extension": ".py",
   "mimetype": "text/x-python",
   "name": "python",
   "nbconvert_exporter": "python",
   "pygments_lexer": "ipython3",
   "version": "3.7.9"
  },
  "papermill": {
   "default_parameters": {},
   "duration": 8.285741,
   "end_time": "2021-07-04T20:19:47.125528",
   "environment_variables": {},
   "exception": null,
   "input_path": "__notebook__.ipynb",
   "output_path": "__notebook__.ipynb",
   "parameters": {},
   "start_time": "2021-07-04T20:19:38.839787",
   "version": "2.3.2"
  }
 },
 "nbformat": 4,
 "nbformat_minor": 5
}
